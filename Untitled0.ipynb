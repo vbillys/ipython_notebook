{
 "metadata": {
  "name": "",
  "signature": "sha256:687b082d5ef457355d40556cf7c888ad626599b1854d9ba7bce6b82eaaa087b0"
 },
 "nbformat": 3,
 "nbformat_minor": 0,
 "worksheets": []
}