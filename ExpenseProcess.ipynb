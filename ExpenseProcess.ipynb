{
 "metadata": {
  "name": "",
  "signature": "sha256:85b4fcba6145690865f2f3c502d088a521cd94242796384f500731112f2783ec"
 },
 "nbformat": 3,
 "nbformat_minor": 0,
 "worksheets": [
  {
   "cells": [
    {
     "cell_type": "code",
     "collapsed": false,
     "input": [
      "import json,httplib,urllib"
     ],
     "language": "python",
     "metadata": {},
     "outputs": [],
     "prompt_number": 1
    },
    {
     "cell_type": "code",
     "collapsed": false,
     "input": [
      "connection = httplib.HTTPSConnection('api.parse.com', 443)\n",
      "params = urllib.urlencode({\"order\":\"-createdAt\",\"limit\":10})\n",
      "connection.connect()\n",
      "connection.request('GET', '/1/classes/Expenses?%s' % params, '', {\n",
      "       \"X-Parse-Application-Id\": \"dCxojn2rtpic9RlfY6mjwTqWHNjHqsUOvwzPTl0Y\",\n",
      "       \"X-Parse-REST-API-Key\": \"XzDkpbFjOPkJhW9fBHCPZGZ3mGgwk1C0GHFVeMKb\"\n",
      "     })\n",
      "result = json.loads(connection.getresponse().read())\n",
      "print result"
     ],
     "language": "python",
     "metadata": {},
     "outputs": [
      {
       "output_type": "stream",
       "stream": "stdout",
       "text": [
        "{u'results': [{u'username': u'billy', u'Description': u'test transport', u'objectId': u'4bhqOK48l3', u'Value': 8, u'Saldo': -20, u'Tanggal': {u'iso': u'2015-09-15T14:08:24.176Z', u'__type': u'Date'}, u'updatedAt': u'2015-09-15T14:08:34.174Z', u'Type': u'transport', u'createdAt': u'2015-09-15T14:08:34.174Z'}, {u'username': u'billy', u'Description': u'test lagih', u'objectId': u'M3BzlUC3j4', u'Value': 12, u'Saldo': -12, u'Tanggal': {u'iso': u'2015-09-05T00:00:00.000Z', u'__type': u'Date'}, u'updatedAt': u'2015-09-15T14:07:03.588Z', u'Type': u'correction_minus', u'createdAt': u'2015-09-15T14:07:03.588Z'}, {u'username': u'billy', u'Description': u'test', u'objectId': u'axiiqDr4Qh', u'Value': 7, u'Saldo': -12, u'Tanggal': {u'iso': u'2015-09-15T14:04:43.316Z', u'__type': u'Date'}, u'updatedAt': u'2015-09-15T14:05:13.379Z', u'Type': u'correction_minus', u'createdAt': u'2015-09-15T14:05:13.379Z'}, {u'username': u'feifei', u'Description': u'buah', u'objectId': u'0fA8YLVPvu', u'Value': 11, u'Saldo': -11, u'Tanggal': {u'iso': u'2015-09-15T13:36:28.916Z', u'__type': u'Date'}, u'updatedAt': u'2015-09-15T13:40:10.224Z', u'Type': u'groceries', u'createdAt': u'2015-09-15T13:40:10.224Z'}, {u'username': u'feifei', u'Description': u'buah', u'objectId': u'PDmmVRoiO0', u'Value': 10, u'Saldo': None, u'Tanggal': {u'iso': u'2015-09-15T13:36:10.422Z', u'__type': u'Date'}, u'updatedAt': u'2015-09-15T13:36:29.347Z', u'Type': u'groceries', u'createdAt': u'2015-09-15T13:36:29.347Z'}, {u'username': u'billy', u'Description': u'diner', u'objectId': u'pyBrJWaFJB', u'Value': 5, u'Saldo': -5, u'Tanggal': {u'iso': u'2015-09-15T13:21:43.127Z', u'__type': u'Date'}, u'updatedAt': u'2015-09-15T13:21:53.364Z', u'Type': u'makan', u'createdAt': u'2015-09-15T13:21:53.364Z'}, {u'Description': u'Reset', u'objectId': u'wkMv2lRbsB', u'Value': 41.75, u'Saldo': 0, u'Tanggal': {u'iso': u'2015-09-14T13:29:27.755Z', u'__type': u'Date'}, u'updatedAt': u'2015-09-14T13:31:10.815Z', u'Type': u'correction_minus', u'createdAt': u'2015-09-14T13:31:10.815Z'}, {u'Description': u'hot55', u'objectId': u'FXzLPAB2G0', u'Value': 15, u'Saldo': 41.75, u'Tanggal': {u'iso': u'2015-09-12T00:00:00.000Z', u'__type': u'Date'}, u'updatedAt': u'2015-09-14T13:03:00.079Z', u'Type': u'comm', u'createdAt': u'2015-09-14T13:03:00.079Z'}, {u'Description': u'hot55', u'objectId': u'Zd0r9OaCNg', u'Value': 15, u'Saldo': 41.75, u'Tanggal': {u'iso': u'2015-09-14T13:02:29.819Z', u'__type': u'Date'}, u'updatedAt': u'2015-09-14T13:02:47.882Z', u'Type': u'comm', u'createdAt': u'2015-09-14T13:02:47.882Z'}, {u'Description': u'kentut', u'objectId': u'BM3XLU0yS9', u'Value': 34, u'Saldo': 56.75, u'Tanggal': {u'iso': u'2015-09-04T00:00:00.000Z', u'__type': u'Date'}, u'updatedAt': u'2015-09-14T12:54:04.101Z', u'Type': u'dining', u'createdAt': u'2015-09-14T12:54:04.101Z'}]}\n"
       ]
      }
     ],
     "prompt_number": 2
    },
    {
     "cell_type": "code",
     "collapsed": false,
     "input": [
      "connection = httplib.HTTPSConnection('api.parse.com', 443)\n",
      "params = urllib.urlencode({\"order\":\"-createdAt\",\"limit\":10})\n",
      "connection.connect()\n",
      "connection.request('GET', '/1/classes/Expenses?%s' % params, '', {\n",
      "       \"X-Parse-Application-Id\": \"dCxojn2rtpic9RlfY6mjwTqWHNjHqsUOvwzPTl0Y\",\n",
      "       \"X-Parse-Master-Key\": \"Cu0iTrTWgntiqx4hbKesI25HuuBZKhIaxdKiJyWM\"\n",
      "     })\n",
      "result = json.loads(connection.getresponse().read())\n",
      "print result"
     ],
     "language": "python",
     "metadata": {},
     "outputs": [
      {
       "output_type": "stream",
       "stream": "stdout",
       "text": [
        "{u'results': [{u'username': u'billy', u'Description': u'Ezlink top up', u'objectId': u'mHm3cKTvdw', u'Cash': False, u'Value': 30, u'ACL': {u'Glz7N1JoPa': {u'read': True, u'write': True}}, u'Saldo': 39, u'Tanggal': {u'iso': u'2015-09-25T02:54:35.614Z', u'__type': u'Date'}, u'updatedAt': u'2015-09-25T02:55:00.784Z', u'Type': u'transport', u'createdAt': u'2015-09-25T02:55:00.784Z'}, {u'username': u'billy', u'Description': u'Internet starhub kos', u'objectId': u'NxrUDIrQyh', u'Cash': False, u'Value': 29.9, u'ACL': {u'Glz7N1JoPa': {u'read': True, u'write': True}}, u'Saldo': 39, u'Tanggal': {u'iso': u'2015-09-24T08:28:47.549Z', u'__type': u'Date'}, u'updatedAt': u'2015-09-24T08:29:52.186Z', u'Type': u'comm', u'createdAt': u'2015-09-24T08:29:52.186Z'}, {u'username': u'billy', u'Description': u'Makan waktu libur', u'objectId': u'BUgh9Bt0RQ', u'Cash': True, u'Value': 5, u'ACL': {u'Glz7N1JoPa': {u'read': True, u'write': True}}, u'Saldo': 39, u'Tanggal': {u'iso': u'2015-09-24T08:24:08.170Z', u'__type': u'Date'}, u'updatedAt': u'2015-09-24T08:24:38.013Z', u'Type': u'makan', u'createdAt': u'2015-09-24T08:24:38.013Z'}, {u'username': u'feifei', u'Description': u'Makan malam', u'objectId': u'e5XkUPEYet', u'Cash': True, u'Value': 6, u'ACL': {u'XASf98BKrJ': {u'read': True, u'write': True}}, u'Saldo': 66, u'Tanggal': {u'iso': u'2015-09-23T00:00:00.000Z', u'__type': u'Date'}, u'updatedAt': u'2015-09-24T01:36:25.857Z', u'Type': u'makan', u'createdAt': u'2015-09-24T01:36:25.857Z'}, {u'username': u'billy', u'Description': u'Dinner', u'objectId': u'jNvlnh1f9S', u'Cash': True, u'Value': 3, u'ACL': {u'Glz7N1JoPa': {u'read': True, u'write': True}}, u'Saldo': 44, u'Tanggal': {u'iso': u'2015-09-23T12:42:18.891Z', u'__type': u'Date'}, u'updatedAt': u'2015-09-23T12:42:33.840Z', u'Type': u'makan', u'createdAt': u'2015-09-23T12:42:33.840Z'}, {u'username': u'billy', u'Description': u'Lunch', u'objectId': u'JZUeYiaQH8', u'Cash': True, u'Value': 3, u'ACL': {u'Glz7N1JoPa': {u'read': True, u'write': True}}, u'Saldo': 47, u'Tanggal': {u'iso': u'2015-09-23T08:26:21.146Z', u'__type': u'Date'}, u'updatedAt': u'2015-09-23T08:26:56.318Z', u'Type': u'makan', u'createdAt': u'2015-09-23T08:26:56.318Z'}, {u'username': u'feifei', u'Description': u'Beli roti tawar, keju', u'objectId': u'9wP1Dag8Om', u'Cash': True, u'Value': 8, u'ACL': {u'XASf98BKrJ': {u'read': True, u'write': True}}, u'Saldo': 72, u'Tanggal': {u'iso': u'2015-09-22T14:41:47.401Z', u'__type': u'Date'}, u'updatedAt': u'2015-09-22T15:35:45.345Z', u'Type': u'groceries', u'createdAt': u'2015-09-22T15:35:45.345Z'}, {u'username': u'feifei', u'Description': u'Bayar temen titip makan', u'objectId': u'r4kSD888lx', u'Cash': True, u'Value': 21, u'ACL': {u'XASf98BKrJ': {u'read': True, u'write': True}}, u'Saldo': 80, u'Tanggal': {u'iso': u'2015-09-22T14:40:36.887Z', u'__type': u'Date'}, u'updatedAt': u'2015-09-22T14:31:23.528Z', u'Type': u'makan', u'createdAt': u'2015-09-22T14:31:23.528Z'}, {u'username': u'feifei', u'Description': u'Makan malam', u'objectId': u'XEboGOXHL8', u'Cash': True, u'Value': 5, u'ACL': {u'XASf98BKrJ': {u'read': True, u'write': True}}, u'Saldo': 101, u'Tanggal': {u'iso': u'2015-09-22T14:40:13.225Z', u'__type': u'Date'}, u'updatedAt': u'2015-09-22T14:30:28.431Z', u'Type': u'makan', u'createdAt': u'2015-09-22T14:30:28.431Z'}, {u'username': u'billy', u'Description': u'Lebih di dompet???', u'objectId': u'7BVzoY6yXF', u'Cash': True, u'Value': 10, u'ACL': {u'Glz7N1JoPa': {u'read': True, u'write': True}}, u'Saldo': 50, u'Tanggal': {u'iso': u'2015-09-22T13:42:28.944Z', u'__type': u'Date'}, u'updatedAt': u'2015-09-22T14:02:45.040Z', u'Type': u'correction_plus', u'createdAt': u'2015-09-22T14:02:45.040Z'}]}\n"
       ]
      }
     ],
     "prompt_number": 2
    },
    {
     "cell_type": "code",
     "collapsed": false,
     "input": [
      "connection = httplib.HTTPSConnection('api.parse.com', 443)\n",
      "params = urllib.urlencode({\"where\":json.dumps({\n",
      "       \"objectId\": \"B9K1pfNKM8\"\n",
      "     })})\n",
      "connection.connect()\n",
      "connection.request('GET', '/1/classes/Expenses?%s' % params, '', {\n",
      "       \"X-Parse-Application-Id\": \"dCxojn2rtpic9RlfY6mjwTqWHNjHqsUOvwzPTl0Y\",\n",
      "       \"X-Parse-Master-Key\": \"Cu0iTrTWgntiqx4hbKesI25HuuBZKhIaxdKiJyWM\"\n",
      "     })\n",
      "result = json.loads(connection.getresponse().read())\n",
      "print result"
     ],
     "language": "python",
     "metadata": {},
     "outputs": [
      {
       "output_type": "stream",
       "stream": "stdout",
       "text": [
        "{u'results': [{u'username': u'feifei', u'Description': u'Kaya toast for brekfast', u'objectId': u'B9K1pfNKM8', u'Cash': True, u'Value': 5, u'ACL': {u'XASf98BKrJ': {u'read': True, u'write': True}}, u'Saldo': 30, u'Tanggal': {u'iso': u'2015-09-21T05:25:42.062Z', u'__type': u'Date'}, u'updatedAt': u'2015-09-21T05:16:11.880Z', u'Type': u'makan', u'createdAt': u'2015-09-21T05:16:11.880Z'}]}\n"
       ]
      }
     ],
     "prompt_number": 4
    },
    {
     "cell_type": "code",
     "collapsed": false,
     "input": [
      "connection = httplib.HTTPSConnection('api.parse.com', 443)\n",
      "params = urllib.urlencode({\"where\":json.dumps({\n",
      "       \"createdAt\": {\n",
      "             #\"$gte\": '2015-09-21T05:16:11.880Z'\n",
      "             \"$gte\": '2015-10-03T05:16:11.880Z'\n",
      "       }\n",
      "     })})\n",
      "connection.connect()\n",
      "connection.request('GET', '/1/classes/Expenses?%s' % params, '', {\n",
      "       \"X-Parse-Application-Id\": \"dCxojn2rtpic9RlfY6mjwTqWHNjHqsUOvwzPTl0Y\",\n",
      "       \"X-Parse-Master-Key\": \"Cu0iTrTWgntiqx4hbKesI25HuuBZKhIaxdKiJyWM\"\n",
      "     })\n",
      "result = json.loads(connection.getresponse().read())\n",
      "#print result\n",
      "result = result['results']\n",
      "#print result"
     ],
     "language": "python",
     "metadata": {},
     "outputs": [],
     "prompt_number": 19
    },
    {
     "cell_type": "code",
     "collapsed": false,
     "input": [
      "_keys = []\n",
      "for key in result[0]:\n",
      "    _keys.append(key)\n",
      "str(_keys).replace('u','')"
     ],
     "language": "python",
     "metadata": {},
     "outputs": [
      {
       "metadata": {},
       "output_type": "pyout",
       "prompt_number": 43,
       "text": [
        "\"['sername', 'Description', 'objectId', 'Cash', 'Vale', 'ACL', 'Saldo', 'Tanggal', 'pdatedAt', 'Type', 'createdAt']\""
       ]
      }
     ],
     "prompt_number": 43
    },
    {
     "cell_type": "code",
     "collapsed": false,
     "input": [
      "from collections import namedtuple\n",
      "def convert(dictionary):\n",
      "    return namedtuple('GenericDict', dictionary.keys())(**dictionary)\n",
      "    #_tuple = namedtuple('GenericDict', dictionary.keys())(**dictionary)\n",
      "    #return namedtuple('ExpenseParseData', _tuple._fields+('TanggalDatetime','createdAtDateTime',))\n",
      "tuple_expense_data = namedtuple('ExpenseParseData', ['username', 'Description', 'objectId', 'Cash', 'Value', 'ACL', 'Saldo', 'Tanggal', 'updatedAt', 'Type', 'createdAt', 'tanggal_datetime', 'createdAt_datetime'])"
     ],
     "language": "python",
     "metadata": {},
     "outputs": [],
     "prompt_number": 3
    },
    {
     "cell_type": "code",
     "collapsed": false,
     "input": [
      "result[0]"
     ],
     "language": "python",
     "metadata": {},
     "outputs": [
      {
       "metadata": {},
       "output_type": "pyout",
       "prompt_number": 63,
       "text": [
        "{u'ACL': {u'XASf98BKrJ': {u'read': True, u'write': True}},\n",
        " u'Cash': True,\n",
        " u'Description': u'Kaya toast for brekfast',\n",
        " u'Saldo': 30,\n",
        " u'Tanggal': {u'__type': u'Date', u'iso': u'2015-09-21T05:25:42.062Z'},\n",
        " u'Type': u'makan',\n",
        " u'Value': 5,\n",
        " '_createdAt_datetime': datetime.datetime(2015, 9, 21, 13, 16, 11, 880000, tzinfo=<DstTzInfo 'Asia/Singapore' SGT+8:00:00 STD>),\n",
        " '_tanggal_datetime': datetime.datetime(2015, 9, 21, 13, 25, 42, 62000, tzinfo=<DstTzInfo 'Asia/Singapore' SGT+8:00:00 STD>),\n",
        " u'createdAt': u'2015-09-21T05:16:11.880Z',\n",
        " u'objectId': u'B9K1pfNKM8',\n",
        " u'updatedAt': u'2015-09-21T05:16:11.880Z',\n",
        " u'username': u'feifei'}"
       ]
      }
     ],
     "prompt_number": 63
    },
    {
     "cell_type": "code",
     "collapsed": false,
     "input": [
      "tuple_expense_data(**(result[0]).append( 2*[0]) )"
     ],
     "language": "python",
     "metadata": {},
     "outputs": [
      {
       "ename": "AttributeError",
       "evalue": "'dict' object has no attribute 'append'",
       "output_type": "pyerr",
       "traceback": [
        "\u001b[1;31m---------------------------------------------------------------------------\u001b[0m\n\u001b[1;31mAttributeError\u001b[0m                            Traceback (most recent call last)",
        "\u001b[1;32m<ipython-input-59-e263a5113e3c>\u001b[0m in \u001b[0;36m<module>\u001b[1;34m()\u001b[0m\n\u001b[1;32m----> 1\u001b[1;33m \u001b[0mtuple_expense_data\u001b[0m\u001b[1;33m(\u001b[0m\u001b[1;33m**\u001b[0m\u001b[1;33m(\u001b[0m\u001b[0mresult\u001b[0m\u001b[1;33m[\u001b[0m\u001b[1;36m0\u001b[0m\u001b[1;33m]\u001b[0m\u001b[1;33m)\u001b[0m\u001b[1;33m.\u001b[0m\u001b[0mappend\u001b[0m\u001b[1;33m(\u001b[0m \u001b[1;36m2\u001b[0m\u001b[1;33m*\u001b[0m\u001b[1;33m[\u001b[0m\u001b[1;36m0\u001b[0m\u001b[1;33m]\u001b[0m\u001b[1;33m)\u001b[0m \u001b[1;33m)\u001b[0m\u001b[1;33m\u001b[0m\u001b[0m\n\u001b[0m",
        "\u001b[1;31mAttributeError\u001b[0m: 'dict' object has no attribute 'append'"
       ]
      }
     ],
     "prompt_number": 59
    },
    {
     "cell_type": "code",
     "collapsed": false,
     "input": [
      "import datetime\n",
      "import pytz\n",
      "import dateutil.parser\n",
      "\n",
      "tz =  pytz.timezone('Asia/Singapore')\n",
      "\n",
      "for item in result:\n",
      "    #_when = dateutil.parser.parse(item.Tanggal)\n",
      "    #item.Tanggal = _when.astimezone(tz)\n",
      "    item['tanggal_datetime'] = dateutil.parser.parse(item['Tanggal']['iso']).astimezone(tz)\n",
      "    item['createdAt_datetime'] = dateutil.parser.parse(item['createdAt']).astimezone(tz)\n",
      "    "
     ],
     "language": "python",
     "metadata": {},
     "outputs": [],
     "prompt_number": 21
    },
    {
     "cell_type": "code",
     "collapsed": false,
     "input": [
      "#_result = [convert(item) for item in result]\n",
      "_result = [tuple_expense_data(**item) for item in result]\n",
      "result = _result\n",
      "#print result"
     ],
     "language": "python",
     "metadata": {},
     "outputs": [],
     "prompt_number": 22
    },
    {
     "cell_type": "code",
     "collapsed": false,
     "input": [
      "type(item.Type)"
     ],
     "language": "python",
     "metadata": {},
     "outputs": [
      {
       "metadata": {},
       "output_type": "pyout",
       "prompt_number": 25,
       "text": [
        "unicode"
       ]
      }
     ],
     "prompt_number": 25
    },
    {
     "cell_type": "code",
     "collapsed": false,
     "input": [
      "for item in result:\n",
      "    #print item.username, item.Description, item.Cash, item.Value, item.Saldo, item.tanggal_datetime, item.Type, item.createdAt_datetime\n",
      "    print item.tanggal_datetime, item.createdAt_datetime, item.username, item.Description, item.Cash, item.Value, item.Saldo, item.Type"
     ],
     "language": "python",
     "metadata": {},
     "outputs": [
      {
       "ename": "AttributeError",
       "evalue": "'dict' object has no attribute 'tanggal_datetime'",
       "output_type": "pyerr",
       "traceback": [
        "\u001b[1;31m---------------------------------------------------------------------------\u001b[0m\n\u001b[1;31mAttributeError\u001b[0m                            Traceback (most recent call last)",
        "\u001b[1;32m<ipython-input-11-c3d0953ddc0d>\u001b[0m in \u001b[0;36m<module>\u001b[1;34m()\u001b[0m\n\u001b[0;32m      1\u001b[0m \u001b[1;32mfor\u001b[0m \u001b[0mitem\u001b[0m \u001b[1;32min\u001b[0m \u001b[0mresult\u001b[0m\u001b[1;33m:\u001b[0m\u001b[1;33m\u001b[0m\u001b[0m\n\u001b[0;32m      2\u001b[0m     \u001b[1;31m#print item.username, item.Description, item.Cash, item.Value, item.Saldo, item.tanggal_datetime, item.Type, item.createdAt_datetime\u001b[0m\u001b[1;33m\u001b[0m\u001b[1;33m\u001b[0m\u001b[0m\n\u001b[1;32m----> 3\u001b[1;33m     \u001b[1;32mprint\u001b[0m \u001b[0mitem\u001b[0m\u001b[1;33m.\u001b[0m\u001b[0mtanggal_datetime\u001b[0m\u001b[1;33m,\u001b[0m \u001b[0mitem\u001b[0m\u001b[1;33m.\u001b[0m\u001b[0mcreatedAt_datetime\u001b[0m\u001b[1;33m,\u001b[0m \u001b[0mitem\u001b[0m\u001b[1;33m.\u001b[0m\u001b[0musername\u001b[0m\u001b[1;33m,\u001b[0m \u001b[0mitem\u001b[0m\u001b[1;33m.\u001b[0m\u001b[0mDescription\u001b[0m\u001b[1;33m,\u001b[0m \u001b[0mitem\u001b[0m\u001b[1;33m.\u001b[0m\u001b[0mCash\u001b[0m\u001b[1;33m,\u001b[0m \u001b[0mitem\u001b[0m\u001b[1;33m.\u001b[0m\u001b[0mValue\u001b[0m\u001b[1;33m,\u001b[0m \u001b[0mitem\u001b[0m\u001b[1;33m.\u001b[0m\u001b[0mSaldo\u001b[0m\u001b[1;33m,\u001b[0m \u001b[0mitem\u001b[0m\u001b[1;33m.\u001b[0m\u001b[0mType\u001b[0m\u001b[1;33m\u001b[0m\u001b[0m\n\u001b[0m",
        "\u001b[1;31mAttributeError\u001b[0m: 'dict' object has no attribute 'tanggal_datetime'"
       ]
      }
     ],
     "prompt_number": 11
    },
    {
     "cell_type": "code",
     "collapsed": false,
     "input": [
      "import openpyxl\n",
      "wb = openpyxl.load_workbook('test_py_styles.xlsx')\n",
      "wb_data = openpyxl.load_workbook('test_py_styles.xlsx', data_only = True)\n",
      "#sheet = wb.get_sheet_by_name('Sheet')\n",
      "#sheet_data = wb_data.get_sheet_by_name('Sheet')\n",
      "#sheet = wb.get_sheet_by_name('MingguanParseFeiSept')\n",
      "#sheet_data = wb_data.get_sheet_by_name('MingguanParseFeiSept')\n",
      "sheet = wb.get_sheet_by_name('MingguanParseBillySept')\n",
      "sheet_data = wb_data.get_sheet_by_name('MingguanParseBillySept')\n"
     ],
     "language": "python",
     "metadata": {},
     "outputs": [],
     "prompt_number": 5
    },
    {
     "cell_type": "code",
     "collapsed": false,
     "input": [
      "new_work_sheet = wb.create_sheet()\n",
      "#new_work_sheet.title = \"MingguanParseFeiSept\"\n",
      "new_work_sheet.title = \"MingguanParseBillySept\""
     ],
     "language": "python",
     "metadata": {},
     "outputs": [],
     "prompt_number": 63
    },
    {
     "cell_type": "code",
     "collapsed": false,
     "input": [
      "wb.remove_sheet(new_work_sheet)"
     ],
     "language": "python",
     "metadata": {},
     "outputs": [],
     "prompt_number": 55
    },
    {
     "cell_type": "code",
     "collapsed": false,
     "input": [
      "wb.save('test_py_styles.xlsx')"
     ],
     "language": "python",
     "metadata": {},
     "outputs": [],
     "prompt_number": 30
    },
    {
     "cell_type": "code",
     "collapsed": false,
     "input": [
      "new_work_sheet = sheet"
     ],
     "language": "python",
     "metadata": {},
     "outputs": [],
     "prompt_number": 7
    },
    {
     "cell_type": "code",
     "collapsed": false,
     "input": [
      "#titles = ['Date','InputDate','User','Keterangan','CashYa?','Value','Saldo','Category']\n",
      "titles = ['Date','InputDate','Keterangan','CashYa?','Value','Saldo','Category','makan','dining','groceries','transport','comm','giving','other','recurr','atm','indo','big','saving','correction_plus','correction_minus']\n",
      "column_index = 1\n",
      "for string in titles:\n",
      "    new_work_sheet.cell(column=column_index,row=37).value = string\n",
      "    column_index = column_index + 1"
     ],
     "language": "python",
     "metadata": {},
     "outputs": [],
     "prompt_number": 8
    },
    {
     "cell_type": "code",
     "collapsed": false,
     "input": [
      "titles_column = dict(zip(titles,range(1,22)))\n",
      "titles_column"
     ],
     "language": "python",
     "metadata": {},
     "outputs": [
      {
       "metadata": {},
       "output_type": "pyout",
       "prompt_number": 9,
       "text": [
        "{'CashYa?': 4,\n",
        " 'Category': 7,\n",
        " 'Date': 1,\n",
        " 'InputDate': 2,\n",
        " 'Keterangan': 3,\n",
        " 'Saldo': 6,\n",
        " 'Value': 5,\n",
        " 'atm': 16,\n",
        " 'big': 18,\n",
        " 'comm': 12,\n",
        " 'correction_minus': 21,\n",
        " 'correction_plus': 20,\n",
        " 'dining': 9,\n",
        " 'giving': 13,\n",
        " 'groceries': 10,\n",
        " 'indo': 17,\n",
        " 'makan': 8,\n",
        " 'other': 14,\n",
        " 'recurr': 15,\n",
        " 'saving': 19,\n",
        " 'transport': 11}"
       ]
      }
     ],
     "prompt_number": 9
    },
    {
     "cell_type": "code",
     "collapsed": false,
     "input": [
      "from openpyxl.styles import PatternFill, Border, Side, Alignment, Protection, Font, Style, Color\n",
      "from openpyxl.cell import coordinate_from_string, column_index_from_string, get_column_letter\n",
      "\n",
      "row_index = 38\n",
      "for item in result:\n",
      "    if item.username == 'feifei' and item.tanggal_datetime.day>4 and item.tanggal_datetime.day<12 and item.tanggal_datetime.month==10:\n",
      "    #if item.username == 'billy' and item.tanggal_datetime.day>4 and item.tanggal_datetime.day<12 and item.tanggal_datetime.month==10:\n",
      "    #if item.username == 'feifei' and ((item.tanggal_datetime.day>27 and item.tanggal_datetime.month==9) or ((item.tanggal_datetime.day<5 and item.tanggal_datetime.month==10))):\n",
      "    #if item.username == 'billy' and ((item.tanggal_datetime.day>27 and item.tanggal_datetime.month==9) or ((item.tanggal_datetime.day<5 and item.tanggal_datetime.month==10))):\n",
      "        if row_index == 38:\n",
      "            for i in range (8,22): \n",
      "                new_work_sheet.cell(column=i,row=row_index).value = 0\n",
      "            if item.Cash:\n",
      "                new_work_sheet.cell(column=titles_column[item.Type],row=row_index).value = item.Value\n",
      "        else:\n",
      "            for i in range (8,22): \n",
      "                new_work_sheet.cell(column=i,row=row_index).value = new_work_sheet.cell(column=i,row=row_index-1).value\n",
      "            if item.Cash:\n",
      "                new_work_sheet.cell(column=titles_column[item.Type],row=row_index).value = item.Value+\\\n",
      "                  new_work_sheet.cell(column=titles_column[item.Type],row=row_index-1).value\n",
      "        \n",
      "        new_work_sheet.cell(column=titles_column['Keterangan'],row=row_index).value = item.Description\n",
      "        new_work_sheet.cell(column=titles_column['CashYa?'],row=row_index).value = item.Cash\n",
      "        new_work_sheet.cell(column=titles_column['Value'],row=row_index).value = item.Value\n",
      "        new_work_sheet.cell(column=titles_column['Saldo'],row=row_index).value = item.Saldo\n",
      "        new_work_sheet.cell(column=titles_column['Category'],row=row_index).value = item.Type\n",
      "        \n",
      "        new_work_sheet[get_column_letter(titles_column['Date'])+str(row_index)] = item.tanggal_datetime\n",
      "        new_work_sheet[get_column_letter(titles_column['Date'])+str(row_index)].number_format='[$-F800]dddd\\\\,\\\\ mmmm\\\\ dd\\\\,\\\\ yyyy'\n",
      "        new_work_sheet[get_column_letter(titles_column['InputDate'])+str(row_index)] = item.createdAt_datetime\n",
      "        new_work_sheet[get_column_letter(titles_column['InputDate'])+str(row_index)].number_format='[$-F800]dddd\\\\,\\\\ mmmm\\\\ dd\\\\,\\\\ yyyy'\n",
      "        row_index = row_index + 1\n"
     ],
     "language": "python",
     "metadata": {},
     "outputs": [],
     "prompt_number": 28
    },
    {
     "cell_type": "code",
     "collapsed": false,
     "input": [
      "new_work_sheet.column_dimensions['A'].width = 32\n",
      "new_work_sheet.column_dimensions['B'].width = 32\n",
      "new_work_sheet.column_dimensions['C'].width = 25\n"
     ],
     "language": "python",
     "metadata": {},
     "outputs": [],
     "prompt_number": 68
    },
    {
     "cell_type": "code",
     "collapsed": false,
     "input": [
      "for item in result:\n",
      "    #if item.username == 'feifei' and item.tanggal_datetime.day>20 and item.tanggal_datetime.day<28 and item.tanggal_datetime.month==9:\n",
      "    if item.username == 'billy' and item.tanggal_datetime.day>4 and item.tanggal_datetime.day<12 and item.tanggal_datetime.month==10:\n",
      "    #if item.username == 'billy' and item.tanggal_datetime.day>4 and item.tanggal_datetime.month==10:\n",
      "        print item.tanggal_datetime, item.createdAt_datetime, item.username, item.Description, item.Cash, item.Value, item.Saldo, item.Type"
     ],
     "language": "python",
     "metadata": {},
     "outputs": [
      {
       "output_type": "stream",
       "stream": "stdout",
       "text": [
        "2015-10-05 12:30:40.533000+08:00 2015-10-05 12:31:03.256000+08:00 billy Lunch True 5 14 makan\n",
        "2015-10-05 12:31:02.761000+08:00 2015-10-05 15:03:13.029000+08:00 billy Pagi 2 di pioneer True 100 114 atm\n",
        "2015-10-05 19:43:14.238000+08:00 2015-10-05 19:43:34.744000+08:00 billy Dinner True 5 109 makan\n",
        "2015-10-05 19:43:33.811000+08:00 2015-10-05 19:45:02.002000+08:00 billy Error True 1 110 correction_plus\n",
        "2015-10-07 19:03:39.133000+08:00 2015-10-07 19:04:02.807000+08:00 billy Roti pagi True 2 108 makan\n",
        "2015-10-07 19:03:59.938000+08:00 2015-10-07 19:05:28.786000+08:00 billy Lunch True 4 104 makan\n",
        "2015-10-07 19:05:25.794000+08:00 2015-10-07 19:09:11.065000+08:00 billy Dinner True 5 99 makan\n",
        "2015-10-08 15:11:03.150000+08:00 2015-10-08 15:11:23.074000+08:00 billy Eat True 11 88 makan\n",
        "2015-10-09 19:09:40.033000+08:00 2015-10-09 19:09:52.715000+08:00 billy Breakfast and lunch True 12 76 makan\n",
        "2015-10-09 19:09:51.158000+08:00 2015-10-09 20:34:16.318000+08:00 billy Dinner at mcd True 6 70 makan\n",
        "2015-10-10 20:53:57.638000+08:00 2015-10-10 20:54:13.124000+08:00 billy Sehari True 20 50 makan\n",
        "2015-10-11 20:05:15.252000+08:00 2015-10-11 20:05:29.291000+08:00 billy Dinner True 4 46 makan\n"
       ]
      }
     ],
     "prompt_number": 24
    },
    {
     "cell_type": "code",
     "collapsed": false,
     "input": [
      "titles = ['makan','dining','groceries','transport','comm','giving','other','recurr','atm','indo','big','saving','correction_plus','correction_minus']\n",
      "column_index = 8\n",
      "for string in titles:\n",
      "    new_work_sheet.cell(column=column_index,row=20).value = string\n",
      "    column_index = column_index + 1\n",
      "titles_column = dict(zip(titles,range(8,22)))\n",
      "titles_column"
     ],
     "language": "python",
     "metadata": {},
     "outputs": [
      {
       "metadata": {},
       "output_type": "pyout",
       "prompt_number": 25,
       "text": [
        "{'atm': 16,\n",
        " 'big': 18,\n",
        " 'comm': 12,\n",
        " 'correction_minus': 21,\n",
        " 'correction_plus': 20,\n",
        " 'dining': 9,\n",
        " 'giving': 13,\n",
        " 'groceries': 10,\n",
        " 'indo': 17,\n",
        " 'makan': 8,\n",
        " 'other': 14,\n",
        " 'recurr': 15,\n",
        " 'saving': 19,\n",
        " 'transport': 11}"
       ]
      }
     ],
     "prompt_number": 25
    },
    {
     "cell_type": "code",
     "collapsed": false,
     "input": [
      "print result[\"results\"][0][\"createdAt\"]"
     ],
     "language": "python",
     "metadata": {},
     "outputs": [
      {
       "output_type": "stream",
       "stream": "stdout",
       "text": [
        "2015-09-14T12:10:00.793Z\n"
       ]
      }
     ],
     "prompt_number": 5
    },
    {
     "cell_type": "code",
     "collapsed": false,
     "input": [
      "connection = httplib.HTTPSConnection('api.parse.com', 443)\n",
      "params = urllib.urlencode({\"where\":json.dumps({\n",
      "       \"createdAt\": {\n",
      "             \"$gte\": '2015-09-14T12:42:52.441Z'\n",
      "       }\n",
      "     })})\n",
      "connection.connect()\n",
      "connection.request('GET', '/1/classes/Expenses?%s' % params, '', {\n",
      "       \"X-Parse-Application-Id\": \"dCxojn2rtpic9RlfY6mjwTqWHNjHqsUOvwzPTl0Y\",\n",
      "       \"X-Parse-REST-API-Key\": \"XzDkpbFjOPkJhW9fBHCPZGZ3mGgwk1C0GHFVeMKb\"\n",
      "     })\n",
      "result = json.loads(connection.getresponse().read())\n",
      "print result"
     ],
     "language": "python",
     "metadata": {},
     "outputs": [
      {
       "output_type": "stream",
       "stream": "stdout",
       "text": [
        "{u'results': [{u'Description': u'dinner', u'objectId': u'9YC72WDkjy', u'Value': 3.84, u'Saldo': 0, u'Tanggal': {u'iso': u'2015-09-14T12:42:40.442Z', u'__type': u'Date'}, u'updatedAt': u'2015-09-14T12:42:52.441Z', u'Type': u'makan', u'createdAt': u'2015-09-14T12:42:52.441Z'}]}\n"
       ]
      }
     ],
     "prompt_number": 19
    },
    {
     "cell_type": "code",
     "collapsed": false,
     "input": [
      "len(result['results'])"
     ],
     "language": "python",
     "metadata": {},
     "outputs": [
      {
       "metadata": {},
       "output_type": "pyout",
       "prompt_number": 20,
       "text": [
        "1"
       ]
      }
     ],
     "prompt_number": 20
    },
    {
     "cell_type": "code",
     "collapsed": false,
     "input": [
      "import datetime\n",
      "import pytz\n",
      "import dateutil.parser\n",
      "\n",
      "tz =  pytz.timezone('Asia/Singapore')\n",
      "\n",
      "when = '2015-09-14T12:42:52.441Z'\n",
      "\n",
      "_when = dateutil.parser.parse(when)\n",
      "\n",
      "if not _when.tzinfo:\n",
      "  _when = tz.localize(_when)\n",
      "print _when"
     ],
     "language": "python",
     "metadata": {},
     "outputs": [
      {
       "output_type": "stream",
       "stream": "stdout",
       "text": [
        "2015-09-14 12:42:52.441000+00:00\n"
       ]
      }
     ],
     "prompt_number": 1
    },
    {
     "cell_type": "code",
     "collapsed": false,
     "input": [
      "_when"
     ],
     "language": "python",
     "metadata": {},
     "outputs": [
      {
       "metadata": {},
       "output_type": "pyout",
       "prompt_number": 15,
       "text": [
        "datetime.datetime(2015, 9, 14, 12, 8, 15, 618000, tzinfo=tzutc())"
       ]
      }
     ],
     "prompt_number": 15
    },
    {
     "cell_type": "code",
     "collapsed": false,
     "input": [
      "tz"
     ],
     "language": "python",
     "metadata": {},
     "outputs": [
      {
       "metadata": {},
       "output_type": "pyout",
       "prompt_number": 16,
       "text": [
        "<DstTzInfo 'Asia/Singapore' LMT+6:55:00 STD>"
       ]
      }
     ],
     "prompt_number": 16
    },
    {
     "cell_type": "code",
     "collapsed": false,
     "input": [
      "print _when.astimezone(tz)"
     ],
     "language": "python",
     "metadata": {},
     "outputs": [
      {
       "output_type": "stream",
       "stream": "stdout",
       "text": [
        "2015-09-14 20:42:52.441000+08:00\n"
       ]
      }
     ],
     "prompt_number": 22
    },
    {
     "cell_type": "code",
     "collapsed": false,
     "input": [
      "__when = _when.astimezone(tz)"
     ],
     "language": "python",
     "metadata": {},
     "outputs": [],
     "prompt_number": 3
    },
    {
     "cell_type": "code",
     "collapsed": false,
     "input": [
      "__when"
     ],
     "language": "python",
     "metadata": {},
     "outputs": [
      {
       "metadata": {},
       "output_type": "pyout",
       "prompt_number": 4,
       "text": [
        "datetime.datetime(2015, 9, 14, 20, 42, 52, 441000, tzinfo=<DstTzInfo 'Asia/Singapore' SGT+8:00:00 STD>)"
       ]
      }
     ],
     "prompt_number": 4
    },
    {
     "cell_type": "code",
     "collapsed": false,
     "input": [
      "print __when > _when\n",
      "print __when < _when\n",
      "print __when == _when\n"
     ],
     "language": "python",
     "metadata": {},
     "outputs": [
      {
       "output_type": "stream",
       "stream": "stdout",
       "text": [
        "False\n",
        "False\n",
        "True\n"
       ]
      }
     ],
     "prompt_number": 6
    },
    {
     "cell_type": "code",
     "collapsed": false,
     "input": [
      "__when.hour, __when.minute, __when.second, __when.microsecond"
     ],
     "language": "python",
     "metadata": {},
     "outputs": [
      {
       "metadata": {},
       "output_type": "pyout",
       "prompt_number": 11,
       "text": [
        "(20, 42, 52, 441000)"
       ]
      }
     ],
     "prompt_number": 11
    },
    {
     "cell_type": "code",
     "collapsed": false,
     "input": [
      "__when.day, __when.year, __when.month"
     ],
     "language": "python",
     "metadata": {},
     "outputs": [
      {
       "metadata": {},
       "output_type": "pyout",
       "prompt_number": 13,
       "text": [
        "(14, 2015, 9)"
       ]
      }
     ],
     "prompt_number": 13
    },
    {
     "cell_type": "code",
     "collapsed": false,
     "input": [
      "import sys,csv"
     ],
     "language": "python",
     "metadata": {},
     "outputs": [],
     "prompt_number": 1
    },
    {
     "cell_type": "code",
     "collapsed": false,
     "input": [
      "f = open('TransactionHistory_20150920092712.csv', 'rt')\n",
      "try:\n",
      "    reader = csv.reader(f)\n",
      "    for row in reader:\n",
      "        print row\n",
      "        if (len(row) == 2) and row[0] == 'Available ':\n",
      "            _saldo_ocbc = float(row[1].replace(',',''))\n",
      "            print 'got saldo ', _saldo_ocbc\n",
      "finally:\n",
      "    f.close()"
     ],
     "language": "python",
     "metadata": {},
     "outputs": [
      {
       "output_type": "stream",
       "stream": "stdout",
       "text": [
        "['Account details for:', 'Savings Account 622-7-109128']\n",
        "['Available ', '5,982.19']\n",
        "got saldo  5982.19\n",
        "['Balance', '5,982.19']\n",
        "[]\n",
        "['Transaction History ']\n",
        "['Transaction date', 'Value date', 'Description', 'Withdrawals (SGD)', 'Deposits (SGD)']\n",
        "['18/09/2015', '18/09/2015', 'PURCHASE        NETS', '30.00', '']\n",
        "['', '', 'THANK YOU                CITY HALL  SMRT - CTH ']\n",
        "['18/09/2015', '18/09/2015', 'PURCHASE        NETS', '1,010.00', '']\n",
        "['', '', 'THANK YOU                ROBINSON  SINGPOST ']\n",
        "['17/09/2015', '17/09/2015', 'FAST PAYMENT', '970.00', '']\n",
        "['', '', 'Transferred from OCBC UOVB 3693749407 OTHR Uncle Jeff ']\n",
        "['17/09/2015', '17/09/2015', '3RD PTY TRANSFER', '300.00', '']\n",
        "['', '', 'VBS']\n",
        "['17/09/2015', '17/09/2015', 'FAST PAYMENT', '1,000.00', '']\n",
        "['', '', 'Transferred from OCBC DBSS 0204069022 OTHR Billy Saputra ']\n",
        "['17/09/2015', '17/09/2015', 'PURCHASE        NETS', '20.25', '']\n",
        "['', '', 'COMFORT TAXIS            THANK YOU  COMFORT TR ']\n",
        "['16/09/2015', '16/09/2015', 'CASH WITHDRAWAL  ATM', '100.00', '']\n",
        "['', '', 'OCBC-AMOY ST FOOD CENTRE SINGAPORE']\n",
        "['15/09/2015', '15/09/2015', 'PURCHASE        NETS', '12.70', '']\n",
        "['', '', 'HAVE A NCIE DAY!         GUARDIAN  GUARDIAN H ']\n",
        "['14/09/2015', '14/09/2015', 'GIRO - SALARY', '', '5,083.00']\n",
        "['', '', '000001053295 INSTITUTE FOR INFOC SALA ']\n",
        "['09/09/2015', '09/09/2015', 'CASH WITHDRAWAL  ATM', '100.00', '']\n",
        "['', '', 'OCBC-31 JURONG WEST ST 63SINGAPORE']\n",
        "['09/09/2015', '09/09/2015', 'PURCHASE        NETS', '30.00', '']\n",
        "['', '', 'THANK YOU                ORCHARD  SMRT-ORC ']\n",
        "['08/09/2015', '08/09/2015', 'PURCHASE        NETS', '24.60', '']\n",
        "['', '', 'COMFORT TAXIS            THANK YOU  COMFORT TR ']\n",
        "['07/09/2015', '07/09/2015', 'PURCHASE        NETS', '37.10', '']\n",
        "['', '', 'THANK YOU                BRAS BASA  0481431MLC ']\n",
        "['02/09/2015', '02/09/2015', 'PURCHASE        NETS', '30.00', '']\n",
        "['', '', 'THANK YOU                PNR  TRANSIT LI ']\n",
        "['01/09/2015', '31/08/2015', 'INTEREST CREDIT', '', '0.25']\n",
        "['01/09/2015', '01/09/2015', 'IBG GIRO', '462.68', '']\n",
        "['', '', '88854193 *PRUDENTIAL A CO NO COLL 88854193 ']\n",
        "['01/09/2015', '01/09/2015', 'IBG GIRO', '405.93', '']\n",
        "['', '', '88854193 *PRUDENTIAL A CO NO COLL 88854193 ']\n",
        "['28/08/2015', '28/08/2015', 'CASH WITHDRAWAL  ATM', '100.00', '']\n",
        "['', '', 'OCBC-31 JURONG WEST ST 63SINGAPORE']\n",
        "['24/08/2015', '24/08/2015', 'CASH WITHDRAWAL  ATM', '100.00', '']\n",
        "['', '', 'OCBC-RAFFLES MRT B1-50   SINGAPORE']\n",
        "['23/08/2015', '24/08/2015', 'TOP UP', '30.00', '']\n",
        "['', '', 'OCBC-JURONG POINT        SINGAPORE EZ-LINK TOP UP 1000140012356929 ']\n",
        "['23/08/2015', '24/08/2015', 'SERVICE CHARGE', '0.20', '']\n",
        "['', '', 'OCBC-JURONG POINT        SINGAPORE EZ-LINK TOP UP 1000140012356929 ']\n",
        "['21/08/2015', '21/08/2015', 'FAST PAYMENT', '900.00', '']\n",
        "['', '', 'Transferred from OCBC UOVB 3693749407 OTHR Uncle Jeff ']\n",
        "['21/08/2015', '21/08/2015', 'FAST PAYMENT', '347.41', '']\n",
        "['', '', 'Transferred from OCBC DBSS 0204069022 OTHR Billy Saputra ']\n",
        "['21/08/2015', '21/08/2015', 'FAST PAYMENT', '90.00', '']\n",
        "['', '', 'Transferred from OCBC UOVB 3693749407 OTHR Uncle Jeff ']\n",
        "['21/08/2015', '21/08/2015', '3RD PTY TRANSFER', '300.00', '']\n",
        "['', '', 'VBS']\n",
        "[]\n"
       ]
      }
     ],
     "prompt_number": 2
    },
    {
     "cell_type": "code",
     "collapsed": false,
     "input": [
      "f = open('acb5e3dd9227f4b749d58dc810ed7059.P000000011915007.csv', 'rt')\n",
      "try:\n",
      "    reader = csv.reader(f)\n",
      "    for row in reader:\n",
      "        print row\n",
      "        if (len(row) == 2) and row[0] == 'Available Balance:':\n",
      "            _saldo_dbs = float(row[1].replace(',',''))\n",
      "            print 'got saldo ', _saldo_dbs\n",
      "finally:\n",
      "    f.close()"
     ],
     "language": "python",
     "metadata": {},
     "outputs": [
      {
       "output_type": "stream",
       "stream": "stdout",
       "text": [
        "[]\n",
        "[]\n",
        "[]\n",
        "[]\n",
        "[]\n",
        "[]\n",
        "[]\n",
        "[]\n",
        "[]\n",
        "[]\n",
        "['Account Details For:', 'DBS Savings Plus Account 020-4-069022']\n",
        "['Statement as at:', '20 Sep 2015 ']\n",
        "[]\n",
        "['Available Balance:', '1017.28']\n",
        "got saldo  1017.28\n",
        "['Ledger Balance:', '1070.78']\n",
        "[]\n",
        "['Transaction Date', 'Reference', 'Debit Amount', 'Credit Amount', 'Transaction Ref1', 'Transaction Ref2', 'Transaction Ref3']\n",
        "[]\n",
        "[]\n",
        "['20 Sep 2015', 'POS', ' 89.00', ' ', 'COURTS', '', '', '']\n",
        "['20 Sep 2015', 'POS', ' 19.35', ' ', 'NTUC FP', '', '', '']\n",
        "['18 Sep 2015', 'D2P', ' 43.22', ' ', 'AXS           20150918205056730', '', '', '']\n",
        "['18 Sep 2015', 'AWL', ' 100.00', ' ', '70252266', 'PIONEER MRT 2', '', '', '']\n",
        "['17 Sep 2015', 'POS', ' 20.00', ' ', 'TRANSIT LI', '', '', '']\n",
        "['17 Sep 2015', 'ICT', ' ', ' 1000.00', 'Transferred from OCBC', 'Z621611509170929251557150917092925', 'OTHR', '']\n",
        "['13 Sep 2015', 'D2P', ' 15.00', ' ', 'AXS           20150913142305651', '', '', '']\n",
        "['12 Sep 2015', 'AWL', ' 100.00', ' ', '70252266', 'NTUC CLEM MALL', '', '', '']\n",
        "['12 Sep 2015', 'POS', ' 10.95', ' ', 'NTUC FAIRP', '', '', '']\n",
        "['10 Sep 2015', 'MST', ' 13.80', ' ', 'PAYPAL *MICROSOFTRE OF 40 29 07SEP', '5548-2740-7025-2266', '', '']\n",
        "['09 Sep 2015', 'MST', ' 1.80', ' ', 'PAYPAL *DNREGISTRAR    40 29 07SEP', '5548-2740-7025-2266', '', '']\n",
        "['06 Sep 2015', 'POS', ' 27.07', ' ', 'ETERNAL HA', '', '', '']\n",
        "['04 Sep 2015', 'AWL', ' 100.00', ' ', '70252266', 'PIONEER MRT 2', '', '', '']\n",
        "['04 Sep 2015', 'MST', ' 48.60', ' ', 'WWF-DONATION           SI NG 03SEP', '5548-2740-7025-2266', '', '']\n",
        "['04 Sep 2015', 'MST', ' 9.11', ' ', 'PAYPAL *NETFLIX.COM    40 29 02SEP', '5548-2740-7025-2266', '', '']\n",
        "['02 Sep 2015', 'POS', ' 30.00', ' ', 'TRANSIT LI', '', '', '']\n",
        "['01 Sep 2015', 'POS', ' 15.00', ' ', 'DPAY', 'AXS STATION', '', '', '']\n",
        "['31 Aug 2015', 'INT', ' ', ' 0.04', '', '', '', '']\n",
        "['25 Aug 2015', 'AWL', ' 100.00', ' ', '70252266', 'BUONAVISTA MRT', '', '', '']\n",
        "['25 Aug 2015', 'MST', ' 27.50', ' ', 'PAYPAL *CATHAYCINEP    40 29 22AUG', '5548-2740-7025-2266', '', '']\n",
        "['22 Aug 2015', 'MST', ' 347.41', ' ', 'WP-CITY HARVEST CH     SI NG 20AUG', '5548-2740-7025-2266', '', '']\n",
        "['21 Aug 2015', 'D2P', ' 39.91', ' ', 'AXS           20150821195313763', '', '', '']\n",
        "['21 Aug 2015', 'POS', ' 30.00', ' ', 'TRANSIT LI', '', '', '']\n",
        "['20 Aug 2015', 'ICT', ' ', ' 347.41', 'Transferred from OCBC', 'X621611508202211292831150820221129', 'OTHR', '']\n",
        "['09 Aug 2015', 'MST', ' 13.80', ' ', 'PAYPAL *MICROSOFTRE    40 29 07AUG', '5548-2740-7025-2266', '', '']\n",
        "['09 Aug 2015', 'MST', ' 66.42', ' ', 'JETSTARASFJ3KNR        IN DO 04AUG', '5548-2740-7025-2266 IDR628900.00', '', '']\n",
        "['07 Aug 2015', 'MST', ' 57.84', ' ', 'GARUDA INDONESIA       JA KA 04AUG', '5548-2740-7025-2266 IDR547000.00', '', '']\n",
        "['06 Aug 2015', 'AWL', ' 100.00', ' ', '70252266', 'AIRPORT T1/B1', '', '', '']\n",
        "['05 Aug 2015', 'MST', ' 48.60', ' ', 'WWF-DONATION           SI NG 04AUG', '5548-2740-7025-2266', '', '']\n",
        "['04 Aug 2015', 'ICT', ' ', ' 500.00', 'Transferred from OCBC', 'X621621508042306041038150804230604', 'OTHR', '']\n",
        "['04 Aug 2015', 'MST', ' 8.76', ' ', 'PAYPAL *NETFLIX.COM    40 29 02AUG', '5548-2740-7025-2266', '', '']\n",
        "['04 Aug 2015', 'MST', ' 24.50', ' ', 'GOLDEN VILLAGE MULTIPL SI NG 31JUL', '5548-2740-7025-2266', '', '']\n",
        "['01 Aug 2015', 'POS', ' 30.00', ' ', 'TRANSIT LI', '', '', '']\n",
        "['01 Aug 2015', 'D2P', ' 15.00', ' ', 'AXS           20150801132935936', '', '', '']\n",
        "[]\n",
        "[]\n",
        "[]\n",
        "[]\n",
        "[]\n"
       ]
      }
     ],
     "prompt_number": 3
    },
    {
     "cell_type": "code",
     "collapsed": false,
     "input": [
      "import datetime\n",
      "import re\n",
      "\n",
      "def valid_date(datestring):\n",
      "        try:\n",
      "                mat=re.match('(\\d{2})[/.-](\\d{2})[/.-](\\d{4})$', datestring)\n",
      "                if mat is not None:\n",
      "                        datetime.datetime(*(map(int, mat.groups()[-1::-1])))\n",
      "                        return True\n",
      "        except: # ValueError:\n",
      "                pass\n",
      "        return False"
     ],
     "language": "python",
     "metadata": {},
     "outputs": [],
     "prompt_number": 74
    },
    {
     "cell_type": "code",
     "collapsed": false,
     "input": [
      "import datetime\n",
      "import re\n",
      "\n",
      "def get_valid_date(datestring):\n",
      "        try:\n",
      "                mat=re.match('(\\d{2})[/.-](\\d{2})[/.-](\\d{4})$', datestring)\n",
      "                #print mat\n",
      "                if mat is not None:\n",
      "                        date = datetime.datetime(*(map(int, mat.groups()[-1::-1])))\n",
      "                        print date\n",
      "                        return date\n",
      "        except: # ValueError:\n",
      "                pass\n",
      "        return None"
     ],
     "language": "python",
     "metadata": {},
     "outputs": [],
     "prompt_number": 75
    },
    {
     "cell_type": "code",
     "collapsed": false,
     "input": [
      "def get_first(iterable, default=None):\n",
      "    if iterable:\n",
      "        for item in iterable:\n",
      "            return item\n",
      "    return default"
     ],
     "language": "python",
     "metadata": {},
     "outputs": [],
     "prompt_number": 76
    },
    {
     "cell_type": "code",
     "collapsed": false,
     "input": [
      "f = open('TransactionHistory_20150920092712.csv', 'rt')\n",
      "old_line = []\n",
      "filtered_lines = []\n",
      "g_first = True\n",
      "try:\n",
      "    reader = csv.reader(f)\n",
      "    for line in reader:\n",
      "        if valid_date(get_first(line)):\n",
      "            #print old_line\n",
      "            if (False == g_first):\n",
      "                filtered_lines.append(old_line)\n",
      "            else:\n",
      "                g_first = False    \n",
      "            old_line = line\n",
      "        else:\n",
      "            old_line= old_line + line\n",
      "            \n",
      "finally:\n",
      "    f.close()\n",
      "    for item in filtered_lines:\n",
      "        print item"
     ],
     "language": "python",
     "metadata": {},
     "outputs": [
      {
       "output_type": "stream",
       "stream": "stdout",
       "text": [
        "['18/09/2015', '18/09/2015', 'PURCHASE        NETS', '30.00', '', '', '', 'THANK YOU                CITY HALL  SMRT - CTH ']\n",
        "['18/09/2015', '18/09/2015', 'PURCHASE        NETS', '1,010.00', '', '', '', 'THANK YOU                ROBINSON  SINGPOST ']\n",
        "['17/09/2015', '17/09/2015', 'FAST PAYMENT', '970.00', '', '', '', 'Transferred from OCBC UOVB 3693749407 OTHR Uncle Jeff ']\n",
        "['17/09/2015', '17/09/2015', '3RD PTY TRANSFER', '300.00', '', '', '', 'VBS']\n",
        "['17/09/2015', '17/09/2015', 'FAST PAYMENT', '1,000.00', '', '', '', 'Transferred from OCBC DBSS 0204069022 OTHR Billy Saputra ']\n",
        "['17/09/2015', '17/09/2015', 'PURCHASE        NETS', '20.25', '', '', '', 'COMFORT TAXIS            THANK YOU  COMFORT TR ']\n",
        "['16/09/2015', '16/09/2015', 'CASH WITHDRAWAL  ATM', '100.00', '', '', '', 'OCBC-AMOY ST FOOD CENTRE SINGAPORE']\n",
        "['15/09/2015', '15/09/2015', 'PURCHASE        NETS', '12.70', '', '', '', 'HAVE A NCIE DAY!         GUARDIAN  GUARDIAN H ']\n",
        "['14/09/2015', '14/09/2015', 'GIRO - SALARY', '', '5,083.00', '', '', '000001053295 INSTITUTE FOR INFOC SALA ']\n",
        "['09/09/2015', '09/09/2015', 'CASH WITHDRAWAL  ATM', '100.00', '', '', '', 'OCBC-31 JURONG WEST ST 63SINGAPORE']\n",
        "['09/09/2015', '09/09/2015', 'PURCHASE        NETS', '30.00', '', '', '', 'THANK YOU                ORCHARD  SMRT-ORC ']\n",
        "['08/09/2015', '08/09/2015', 'PURCHASE        NETS', '24.60', '', '', '', 'COMFORT TAXIS            THANK YOU  COMFORT TR ']\n",
        "['07/09/2015', '07/09/2015', 'PURCHASE        NETS', '37.10', '', '', '', 'THANK YOU                BRAS BASA  0481431MLC ']\n",
        "['02/09/2015', '02/09/2015', 'PURCHASE        NETS', '30.00', '', '', '', 'THANK YOU                PNR  TRANSIT LI ']\n",
        "['01/09/2015', '31/08/2015', 'INTEREST CREDIT', '', '0.25']\n",
        "['01/09/2015', '01/09/2015', 'IBG GIRO', '462.68', '', '', '', '88854193 *PRUDENTIAL A CO NO COLL 88854193 ']\n",
        "['01/09/2015', '01/09/2015', 'IBG GIRO', '405.93', '', '', '', '88854193 *PRUDENTIAL A CO NO COLL 88854193 ']\n",
        "['28/08/2015', '28/08/2015', 'CASH WITHDRAWAL  ATM', '100.00', '', '', '', 'OCBC-31 JURONG WEST ST 63SINGAPORE']\n",
        "['24/08/2015', '24/08/2015', 'CASH WITHDRAWAL  ATM', '100.00', '', '', '', 'OCBC-RAFFLES MRT B1-50   SINGAPORE']\n",
        "['23/08/2015', '24/08/2015', 'TOP UP', '30.00', '', '', '', 'OCBC-JURONG POINT        SINGAPORE EZ-LINK TOP UP 1000140012356929 ']\n",
        "['23/08/2015', '24/08/2015', 'SERVICE CHARGE', '0.20', '', '', '', 'OCBC-JURONG POINT        SINGAPORE EZ-LINK TOP UP 1000140012356929 ']\n",
        "['21/08/2015', '21/08/2015', 'FAST PAYMENT', '900.00', '', '', '', 'Transferred from OCBC UOVB 3693749407 OTHR Uncle Jeff ']\n",
        "['21/08/2015', '21/08/2015', 'FAST PAYMENT', '347.41', '', '', '', 'Transferred from OCBC DBSS 0204069022 OTHR Billy Saputra ']\n",
        "['21/08/2015', '21/08/2015', 'FAST PAYMENT', '90.00', '', '', '', 'Transferred from OCBC UOVB 3693749407 OTHR Uncle Jeff ']\n"
       ]
      }
     ],
     "prompt_number": 77
    },
    {
     "cell_type": "code",
     "collapsed": false,
     "input": [
      "import datetime\n",
      "import pytz\n",
      "\n",
      "tz =  pytz.timezone('Asia/Singapore')\n",
      "\n",
      "from datetime import datetime\n",
      "\n",
      "for item in filtered_lines:\n",
      "    #print get_first(item)\n",
      "    #_when = get_valid_date(get_first(item))\n",
      "    _when = datetime.strptime(get_first(item), \"%d/%m/%Y\")\n",
      "    _when2 = datetime.strptime(item[1], \"%d/%m/%Y\")\n",
      "    if not _when.tzinfo:\n",
      "      _when = tz.localize(_when)\n",
      "    if not _when2.tzinfo:\n",
      "      _when2 = tz.localize(_when2)\n",
      "    info_string = ''\n",
      "    for info in item[2::]:\n",
      "        try:\n",
      "            _tval = float(info)\n",
      "        except:\n",
      "            info_string = info_string + ' ' + info\n",
      "    print _when , _when2, _tval, info_string"
     ],
     "language": "python",
     "metadata": {},
     "outputs": [
      {
       "output_type": "stream",
       "stream": "stdout",
       "text": [
        "2015-09-18 00:00:00+08:00 2015-09-18 00:00:00+08:00 30.0  PURCHASE        NETS    THANK YOU                CITY HALL  SMRT - CTH \n",
        "2015-09-18 00:00:00+08:00 2015-09-18 00:00:00+08:00 30.0  PURCHASE        NETS 1,010.00    THANK YOU                ROBINSON  SINGPOST \n",
        "2015-09-17 00:00:00+08:00 2015-09-17 00:00:00+08:00 970.0  FAST PAYMENT    Transferred from OCBC UOVB 3693749407 OTHR Uncle Jeff \n",
        "2015-09-17 00:00:00+08:00 2015-09-17 00:00:00+08:00 300.0  3RD PTY TRANSFER    VBS\n",
        "2015-09-17 00:00:00+08:00 2015-09-17 00:00:00+08:00 300.0  FAST PAYMENT 1,000.00    Transferred from OCBC DBSS 0204069022 OTHR Billy Saputra \n",
        "2015-09-17 00:00:00+08:00 2015-09-17 00:00:00+08:00 20.25  PURCHASE        NETS    COMFORT TAXIS            THANK YOU  COMFORT TR \n",
        "2015-09-16 00:00:00+08:00 2015-09-16 00:00:00+08:00 100.0  CASH WITHDRAWAL  ATM    OCBC-AMOY ST FOOD CENTRE SINGAPORE\n",
        "2015-09-15 00:00:00+08:00 2015-09-15 00:00:00+08:00 12.7  PURCHASE        NETS    HAVE A NCIE DAY!         GUARDIAN  GUARDIAN H \n",
        "2015-09-14 00:00:00+08:00 2015-09-14 00:00:00+08:00 12.7  GIRO - SALARY  5,083.00   000001053295 INSTITUTE FOR INFOC SALA \n",
        "2015-09-09 00:00:00+08:00 2015-09-09 00:00:00+08:00 100.0  CASH WITHDRAWAL  ATM    OCBC-31 JURONG WEST ST 63SINGAPORE\n",
        "2015-09-09 00:00:00+08:00 2015-09-09 00:00:00+08:00 30.0  PURCHASE        NETS    THANK YOU                ORCHARD  SMRT-ORC \n",
        "2015-09-08 00:00:00+08:00 2015-09-08 00:00:00+08:00 24.6  PURCHASE        NETS    COMFORT TAXIS            THANK YOU  COMFORT TR \n",
        "2015-09-07 00:00:00+08:00 2015-09-07 00:00:00+08:00 37.1  PURCHASE        NETS    THANK YOU                BRAS BASA  0481431MLC \n",
        "2015-09-02 00:00:00+08:00 2015-09-02 00:00:00+08:00 30.0  PURCHASE        NETS    THANK YOU                PNR  TRANSIT LI \n",
        "2015-09-01 00:00:00+08:00 2015-08-31 00:00:00+08:00 0.25  INTEREST CREDIT \n",
        "2015-09-01 00:00:00+08:00 2015-09-01 00:00:00+08:00 462.68  IBG GIRO    88854193 *PRUDENTIAL A CO NO COLL 88854193 \n",
        "2015-09-01 00:00:00+08:00 2015-09-01 00:00:00+08:00 405.93  IBG GIRO    88854193 *PRUDENTIAL A CO NO COLL 88854193 \n",
        "2015-08-28 00:00:00+08:00 2015-08-28 00:00:00+08:00 100.0  CASH WITHDRAWAL  ATM    OCBC-31 JURONG WEST ST 63SINGAPORE\n",
        "2015-08-24 00:00:00+08:00 2015-08-24 00:00:00+08:00 100.0  CASH WITHDRAWAL  ATM    OCBC-RAFFLES MRT B1-50   SINGAPORE\n",
        "2015-08-23 00:00:00+08:00 2015-08-24 00:00:00+08:00 30.0  TOP UP    OCBC-JURONG POINT        SINGAPORE EZ-LINK TOP UP 1000140012356929 \n",
        "2015-08-23 00:00:00+08:00 2015-08-24 00:00:00+08:00 0.2  SERVICE CHARGE    OCBC-JURONG POINT        SINGAPORE EZ-LINK TOP UP 1000140012356929 \n",
        "2015-08-21 00:00:00+08:00 2015-08-21 00:00:00+08:00 900.0  FAST PAYMENT    Transferred from OCBC UOVB 3693749407 OTHR Uncle Jeff \n",
        "2015-08-21 00:00:00+08:00 2015-08-21 00:00:00+08:00 347.41  FAST PAYMENT    Transferred from OCBC DBSS 0204069022 OTHR Billy Saputra \n",
        "2015-08-21 00:00:00+08:00 2015-08-21 00:00:00+08:00 90.0  FAST PAYMENT    Transferred from OCBC UOVB 3693749407 OTHR Uncle Jeff \n"
       ]
      }
     ],
     "prompt_number": 78
    },
    {
     "cell_type": "code",
     "collapsed": false,
     "input": [
      "mod_list = []\n",
      "count = 1\n",
      "f = open('TransactionHistory_20150920092712.csv', 'rt')\n",
      "try:\n",
      "    reader = csv.reader(f)\n",
      "    for line in reader:\n",
      "#for line in file(filename):\n",
      "    # strip ending whitespaces including newline char\n",
      "      #line = line.rstrip()\n",
      "    # concatenate every two lines\n",
      "      if count % 2 == 0:\n",
      "        #mod_list.append(old_line+line)\n",
      "        old_line= old_line + line\n",
      "        print old_line\n",
      "      else:\n",
      "        old_line = line\n",
      "      count += 1\n",
      "    #print(mod_list)\n",
      "finally:\n",
      "    f.close()"
     ],
     "language": "python",
     "metadata": {},
     "outputs": [
      {
       "output_type": "stream",
       "stream": "stdout",
       "text": [
        "['Account details for:', 'Savings Account 622-7-109128', 'Available ', '5,982.19']\n",
        "['Balance', '5,982.19']\n",
        "['Transaction History ', 'Transaction date', 'Value date', 'Description', 'Withdrawals (SGD)', 'Deposits (SGD)']\n",
        "['18/09/2015', '18/09/2015', 'PURCHASE        NETS', '30.00', '', '', '', 'THANK YOU                CITY HALL  SMRT - CTH ']\n",
        "['18/09/2015', '18/09/2015', 'PURCHASE        NETS', '1,010.00', '', '', '', 'THANK YOU                ROBINSON  SINGPOST ']\n",
        "['17/09/2015', '17/09/2015', 'FAST PAYMENT', '970.00', '', '', '', 'Transferred from OCBC UOVB 3693749407 OTHR Uncle Jeff ']\n",
        "['17/09/2015', '17/09/2015', '3RD PTY TRANSFER', '300.00', '', '', '', 'VBS']\n",
        "['17/09/2015', '17/09/2015', 'FAST PAYMENT', '1,000.00', '', '', '', 'Transferred from OCBC DBSS 0204069022 OTHR Billy Saputra ']\n",
        "['17/09/2015', '17/09/2015', 'PURCHASE        NETS', '20.25', '', '', '', 'COMFORT TAXIS            THANK YOU  COMFORT TR ']\n",
        "['16/09/2015', '16/09/2015', 'CASH WITHDRAWAL  ATM', '100.00', '', '', '', 'OCBC-AMOY ST FOOD CENTRE SINGAPORE']\n",
        "['15/09/2015', '15/09/2015', 'PURCHASE        NETS', '12.70', '', '', '', 'HAVE A NCIE DAY!         GUARDIAN  GUARDIAN H ']\n",
        "['14/09/2015', '14/09/2015', 'GIRO - SALARY', '', '5,083.00', '', '', '000001053295 INSTITUTE FOR INFOC SALA ']\n",
        "['09/09/2015', '09/09/2015', 'CASH WITHDRAWAL  ATM', '100.00', '', '', '', 'OCBC-31 JURONG WEST ST 63SINGAPORE']\n",
        "['09/09/2015', '09/09/2015', 'PURCHASE        NETS', '30.00', '', '', '', 'THANK YOU                ORCHARD  SMRT-ORC ']\n",
        "['08/09/2015', '08/09/2015', 'PURCHASE        NETS', '24.60', '', '', '', 'COMFORT TAXIS            THANK YOU  COMFORT TR ']\n",
        "['07/09/2015', '07/09/2015', 'PURCHASE        NETS', '37.10', '', '', '', 'THANK YOU                BRAS BASA  0481431MLC ']\n",
        "['02/09/2015', '02/09/2015', 'PURCHASE        NETS', '30.00', '', '', '', 'THANK YOU                PNR  TRANSIT LI ']\n",
        "['01/09/2015', '31/08/2015', 'INTEREST CREDIT', '', '0.25', '01/09/2015', '01/09/2015', 'IBG GIRO', '462.68', '']\n",
        "['', '', '88854193 *PRUDENTIAL A CO NO COLL 88854193 ', '01/09/2015', '01/09/2015', 'IBG GIRO', '405.93', '']\n",
        "['', '', '88854193 *PRUDENTIAL A CO NO COLL 88854193 ', '28/08/2015', '28/08/2015', 'CASH WITHDRAWAL  ATM', '100.00', '']\n",
        "['', '', 'OCBC-31 JURONG WEST ST 63SINGAPORE', '24/08/2015', '24/08/2015', 'CASH WITHDRAWAL  ATM', '100.00', '']\n",
        "['', '', 'OCBC-RAFFLES MRT B1-50   SINGAPORE', '23/08/2015', '24/08/2015', 'TOP UP', '30.00', '']\n",
        "['', '', 'OCBC-JURONG POINT        SINGAPORE EZ-LINK TOP UP 1000140012356929 ', '23/08/2015', '24/08/2015', 'SERVICE CHARGE', '0.20', '']\n",
        "['', '', 'OCBC-JURONG POINT        SINGAPORE EZ-LINK TOP UP 1000140012356929 ', '21/08/2015', '21/08/2015', 'FAST PAYMENT', '900.00', '']\n",
        "['', '', 'Transferred from OCBC UOVB 3693749407 OTHR Uncle Jeff ', '21/08/2015', '21/08/2015', 'FAST PAYMENT', '347.41', '']\n",
        "['', '', 'Transferred from OCBC DBSS 0204069022 OTHR Billy Saputra ', '21/08/2015', '21/08/2015', 'FAST PAYMENT', '90.00', '']\n",
        "['', '', 'Transferred from OCBC UOVB 3693749407 OTHR Uncle Jeff ', '21/08/2015', '21/08/2015', '3RD PTY TRANSFER', '300.00', '']\n",
        "['', '', 'VBS']\n"
       ]
      }
     ],
     "prompt_number": 6
    },
    {
     "cell_type": "code",
     "collapsed": false,
     "input": [],
     "language": "python",
     "metadata": {},
     "outputs": []
    },
    {
     "cell_type": "code",
     "collapsed": false,
     "input": [
      "import re\n",
      "\n",
      "def valid_date_DBS(datestring):\n",
      "        try:\n",
      "                mat=re.match('^((([0-9])|([0-2][0-9])|([3][0-1]))\\ (Jan|Feb|Mar|Apr|May|Jun|Jul|Aug|Sep|Oct|Nov|Dec)\\ \\d{4})|(T\\+[0-9]+)$', datestring)\n",
      "                #mat=re.match('^[01][0-9] (Jan|Feb|Mar|Apr|May|Jun|Jul|Aug|Sep|Oct|Nov|Dec) \\d{4}$', datestring)\n",
      "                if mat is not None:\n",
      "                        return True\n",
      "        except: # ValueError:\n",
      "                pass\n",
      "        return False"
     ],
     "language": "python",
     "metadata": {},
     "outputs": [],
     "prompt_number": 79
    },
    {
     "cell_type": "code",
     "collapsed": false,
     "input": [
      "f = open('acb5e3dd9227f4b749d58dc810ed7059.P000000011915007.csv', 'rt')\n",
      "old_line = []\n",
      "filtered_lines = []\n",
      "try:\n",
      "    reader = csv.reader(f)\n",
      "    for line in reader:\n",
      "        if valid_date_DBS(get_first(line)):\n",
      "            #print old_line\n",
      "            #old_line = line\n",
      "            #print line\n",
      "            filtered_lines.append(line)\n",
      "        #else:\n",
      "            #old_line= old_line + line\n",
      "finally:\n",
      "    f.close()\n",
      "    for item in filtered_lines:\n",
      "        print item"
     ],
     "language": "python",
     "metadata": {},
     "outputs": [
      {
       "output_type": "stream",
       "stream": "stdout",
       "text": [
        "['20 Sep 2015', 'POS', ' 89.00', ' ', 'COURTS', '', '', '']\n",
        "['20 Sep 2015', 'POS', ' 19.35', ' ', 'NTUC FP', '', '', '']\n",
        "['18 Sep 2015', 'D2P', ' 43.22', ' ', 'AXS           20150918205056730', '', '', '']\n",
        "['18 Sep 2015', 'AWL', ' 100.00', ' ', '70252266', 'PIONEER MRT 2', '', '', '']\n",
        "['17 Sep 2015', 'POS', ' 20.00', ' ', 'TRANSIT LI', '', '', '']\n",
        "['17 Sep 2015', 'ICT', ' ', ' 1000.00', 'Transferred from OCBC', 'Z621611509170929251557150917092925', 'OTHR', '']\n",
        "['13 Sep 2015', 'D2P', ' 15.00', ' ', 'AXS           20150913142305651', '', '', '']\n",
        "['12 Sep 2015', 'AWL', ' 100.00', ' ', '70252266', 'NTUC CLEM MALL', '', '', '']\n",
        "['12 Sep 2015', 'POS', ' 10.95', ' ', 'NTUC FAIRP', '', '', '']\n",
        "['10 Sep 2015', 'MST', ' 13.80', ' ', 'PAYPAL *MICROSOFTRE OF 40 29 07SEP', '5548-2740-7025-2266', '', '']\n",
        "['09 Sep 2015', 'MST', ' 1.80', ' ', 'PAYPAL *DNREGISTRAR    40 29 07SEP', '5548-2740-7025-2266', '', '']\n",
        "['06 Sep 2015', 'POS', ' 27.07', ' ', 'ETERNAL HA', '', '', '']\n",
        "['04 Sep 2015', 'AWL', ' 100.00', ' ', '70252266', 'PIONEER MRT 2', '', '', '']\n",
        "['04 Sep 2015', 'MST', ' 48.60', ' ', 'WWF-DONATION           SI NG 03SEP', '5548-2740-7025-2266', '', '']\n",
        "['04 Sep 2015', 'MST', ' 9.11', ' ', 'PAYPAL *NETFLIX.COM    40 29 02SEP', '5548-2740-7025-2266', '', '']\n",
        "['02 Sep 2015', 'POS', ' 30.00', ' ', 'TRANSIT LI', '', '', '']\n",
        "['01 Sep 2015', 'POS', ' 15.00', ' ', 'DPAY', 'AXS STATION', '', '', '']\n",
        "['31 Aug 2015', 'INT', ' ', ' 0.04', '', '', '', '']\n",
        "['25 Aug 2015', 'AWL', ' 100.00', ' ', '70252266', 'BUONAVISTA MRT', '', '', '']\n",
        "['25 Aug 2015', 'MST', ' 27.50', ' ', 'PAYPAL *CATHAYCINEP    40 29 22AUG', '5548-2740-7025-2266', '', '']\n",
        "['22 Aug 2015', 'MST', ' 347.41', ' ', 'WP-CITY HARVEST CH     SI NG 20AUG', '5548-2740-7025-2266', '', '']\n",
        "['21 Aug 2015', 'D2P', ' 39.91', ' ', 'AXS           20150821195313763', '', '', '']\n",
        "['21 Aug 2015', 'POS', ' 30.00', ' ', 'TRANSIT LI', '', '', '']\n",
        "['20 Aug 2015', 'ICT', ' ', ' 347.41', 'Transferred from OCBC', 'X621611508202211292831150820221129', 'OTHR', '']\n",
        "['09 Aug 2015', 'MST', ' 13.80', ' ', 'PAYPAL *MICROSOFTRE    40 29 07AUG', '5548-2740-7025-2266', '', '']\n",
        "['09 Aug 2015', 'MST', ' 66.42', ' ', 'JETSTARASFJ3KNR        IN DO 04AUG', '5548-2740-7025-2266 IDR628900.00', '', '']\n",
        "['07 Aug 2015', 'MST', ' 57.84', ' ', 'GARUDA INDONESIA       JA KA 04AUG', '5548-2740-7025-2266 IDR547000.00', '', '']\n",
        "['06 Aug 2015', 'AWL', ' 100.00', ' ', '70252266', 'AIRPORT T1/B1', '', '', '']\n",
        "['05 Aug 2015', 'MST', ' 48.60', ' ', 'WWF-DONATION           SI NG 04AUG', '5548-2740-7025-2266', '', '']\n",
        "['04 Aug 2015', 'ICT', ' ', ' 500.00', 'Transferred from OCBC', 'X621621508042306041038150804230604', 'OTHR', '']\n",
        "['04 Aug 2015', 'MST', ' 8.76', ' ', 'PAYPAL *NETFLIX.COM    40 29 02AUG', '5548-2740-7025-2266', '', '']\n",
        "['04 Aug 2015', 'MST', ' 24.50', ' ', 'GOLDEN VILLAGE MULTIPL SI NG 31JUL', '5548-2740-7025-2266', '', '']\n",
        "['01 Aug 2015', 'POS', ' 30.00', ' ', 'TRANSIT LI', '', '', '']\n",
        "['01 Aug 2015', 'D2P', ' 15.00', ' ', 'AXS           20150801132935936', '', '', '']\n"
       ]
      }
     ],
     "prompt_number": 80
    },
    {
     "cell_type": "code",
     "collapsed": false,
     "input": [
      "import datetime\n",
      "import pytz\n",
      "\n",
      "tz =  pytz.timezone('Asia/Singapore')\n",
      "\n",
      "from datetime import datetime\n",
      "\n",
      "\n",
      "for item in filtered_lines:\n",
      "    #print get_first(item).split()[0:3]\n",
      "    day, month, year = get_first(item).split()[0:3]\n",
      "    _when = datetime.strptime(\"{yyyy} {Mmm} {dd}\".format(yyyy=year, Mmm=month, dd=day), \"%Y %b %d\")\n",
      "    if not _when.tzinfo:\n",
      "      _when = tz.localize(_when)\n",
      "    info_string = ''\n",
      "    for info in item[2::]:\n",
      "        try:\n",
      "            _tval = float(info)\n",
      "        except:\n",
      "            info_string = info_string + ' ' + info\n",
      "    print _when, _tval, info_string"
     ],
     "language": "python",
     "metadata": {},
     "outputs": [
      {
       "output_type": "stream",
       "stream": "stdout",
       "text": [
        "2015-09-20 00:00:00+08:00 89.0    COURTS   \n",
        "2015-09-20 00:00:00+08:00 19.35    NTUC FP   \n",
        "2015-09-18 00:00:00+08:00 43.22    AXS           20150918205056730   \n",
        "2015-09-18 00:00:00+08:00 70252266.0    PIONEER MRT 2   \n",
        "2015-09-17 00:00:00+08:00 20.0    TRANSIT LI   \n",
        "2015-09-17 00:00:00+08:00 1000.0    Transferred from OCBC Z621611509170929251557150917092925 OTHR \n",
        "2015-09-13 00:00:00+08:00 15.0    AXS           20150913142305651   \n",
        "2015-09-12 00:00:00+08:00 70252266.0    NTUC CLEM MALL   \n",
        "2015-09-12 00:00:00+08:00 10.95    NTUC FAIRP   \n",
        "2015-09-10 00:00:00+08:00 13.8    PAYPAL *MICROSOFTRE OF 40 29 07SEP 5548-2740-7025-2266  \n",
        "2015-09-09 00:00:00+08:00 1.8    PAYPAL *DNREGISTRAR    40 29 07SEP 5548-2740-7025-2266  \n",
        "2015-09-06 00:00:00+08:00 27.07    ETERNAL HA   \n",
        "2015-09-04 00:00:00+08:00 70252266.0    PIONEER MRT 2   \n",
        "2015-09-04 00:00:00+08:00 48.6    WWF-DONATION           SI NG 03SEP 5548-2740-7025-2266  \n",
        "2015-09-04 00:00:00+08:00 9.11    PAYPAL *NETFLIX.COM    40 29 02SEP 5548-2740-7025-2266  \n",
        "2015-09-02 00:00:00+08:00 30.0    TRANSIT LI   \n",
        "2015-09-01 00:00:00+08:00 15.0    DPAY AXS STATION   \n",
        "2015-08-31 00:00:00+08:00 0.04       \n",
        "2015-08-25 00:00:00+08:00 70252266.0    BUONAVISTA MRT   \n",
        "2015-08-25 00:00:00+08:00 27.5    PAYPAL *CATHAYCINEP    40 29 22AUG 5548-2740-7025-2266  \n",
        "2015-08-22 00:00:00+08:00 347.41    WP-CITY HARVEST CH     SI NG 20AUG 5548-2740-7025-2266  \n",
        "2015-08-21 00:00:00+08:00 39.91    AXS           20150821195313763   \n",
        "2015-08-21 00:00:00+08:00 30.0    TRANSIT LI   \n",
        "2015-08-20 00:00:00+08:00 347.41    Transferred from OCBC X621611508202211292831150820221129 OTHR \n",
        "2015-08-09 00:00:00+08:00 13.8    PAYPAL *MICROSOFTRE    40 29 07AUG 5548-2740-7025-2266  \n",
        "2015-08-09 00:00:00+08:00 66.42    JETSTARASFJ3KNR        IN DO 04AUG 5548-2740-7025-2266 IDR628900.00  \n",
        "2015-08-07 00:00:00+08:00 57.84    GARUDA INDONESIA       JA KA 04AUG 5548-2740-7025-2266 IDR547000.00  \n",
        "2015-08-06 00:00:00+08:00 70252266.0    AIRPORT T1/B1   \n",
        "2015-08-05 00:00:00+08:00 48.6    WWF-DONATION           SI NG 04AUG 5548-2740-7025-2266  \n",
        "2015-08-04 00:00:00+08:00 500.0    Transferred from OCBC X621621508042306041038150804230604 OTHR \n",
        "2015-08-04 00:00:00+08:00 8.76    PAYPAL *NETFLIX.COM    40 29 02AUG 5548-2740-7025-2266  \n",
        "2015-08-04 00:00:00+08:00 24.5    GOLDEN VILLAGE MULTIPL SI NG 31JUL 5548-2740-7025-2266  \n",
        "2015-08-01 00:00:00+08:00 30.0    TRANSIT LI   \n",
        "2015-08-01 00:00:00+08:00 15.0    AXS           20150801132935936   \n"
       ]
      }
     ],
     "prompt_number": 81
    },
    {
     "cell_type": "code",
     "collapsed": false,
     "input": [],
     "language": "python",
     "metadata": {},
     "outputs": []
    }
   ],
   "metadata": {}
  }
 ]
}