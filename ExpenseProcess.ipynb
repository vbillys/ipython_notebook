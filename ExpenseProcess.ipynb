{
 "metadata": {
  "name": "",
  "signature": "sha256:502f4e60f8ed18544c96fe52d29c3c125ae28f340db5a12dfab6ccaeb99aee1d"
 },
 "nbformat": 3,
 "nbformat_minor": 0,
 "worksheets": [
  {
   "cells": [
    {
     "cell_type": "code",
     "collapsed": false,
     "input": [
      "import json,httplib,urllib"
     ],
     "language": "python",
     "metadata": {},
     "outputs": [],
     "prompt_number": 1
    },
    {
     "cell_type": "code",
     "collapsed": false,
     "input": [
      "connection = httplib.HTTPSConnection('api.parse.com', 443)\n",
      "params = urllib.urlencode({\"order\":\"-createdAt\",\"limit\":10})\n",
      "connection.connect()\n",
      "connection.request('GET', '/1/classes/Expenses?%s' % params, '', {\n",
      "       \"X-Parse-Application-Id\": \"dCxojn2rtpic9RlfY6mjwTqWHNjHqsUOvwzPTl0Y\",\n",
      "       \"X-Parse-REST-API-Key\": \"XzDkpbFjOPkJhW9fBHCPZGZ3mGgwk1C0GHFVeMKb\"\n",
      "     })\n",
      "result = json.loads(connection.getresponse().read())\n",
      "print result"
     ],
     "language": "python",
     "metadata": {},
     "outputs": [
      {
       "output_type": "stream",
       "stream": "stdout",
       "text": [
        "{u'results': [{u'username': u'billy', u'Description': u'test transport', u'objectId': u'4bhqOK48l3', u'Value': 8, u'Saldo': -20, u'Tanggal': {u'iso': u'2015-09-15T14:08:24.176Z', u'__type': u'Date'}, u'updatedAt': u'2015-09-15T14:08:34.174Z', u'Type': u'transport', u'createdAt': u'2015-09-15T14:08:34.174Z'}, {u'username': u'billy', u'Description': u'test lagih', u'objectId': u'M3BzlUC3j4', u'Value': 12, u'Saldo': -12, u'Tanggal': {u'iso': u'2015-09-05T00:00:00.000Z', u'__type': u'Date'}, u'updatedAt': u'2015-09-15T14:07:03.588Z', u'Type': u'correction_minus', u'createdAt': u'2015-09-15T14:07:03.588Z'}, {u'username': u'billy', u'Description': u'test', u'objectId': u'axiiqDr4Qh', u'Value': 7, u'Saldo': -12, u'Tanggal': {u'iso': u'2015-09-15T14:04:43.316Z', u'__type': u'Date'}, u'updatedAt': u'2015-09-15T14:05:13.379Z', u'Type': u'correction_minus', u'createdAt': u'2015-09-15T14:05:13.379Z'}, {u'username': u'feifei', u'Description': u'buah', u'objectId': u'0fA8YLVPvu', u'Value': 11, u'Saldo': -11, u'Tanggal': {u'iso': u'2015-09-15T13:36:28.916Z', u'__type': u'Date'}, u'updatedAt': u'2015-09-15T13:40:10.224Z', u'Type': u'groceries', u'createdAt': u'2015-09-15T13:40:10.224Z'}, {u'username': u'feifei', u'Description': u'buah', u'objectId': u'PDmmVRoiO0', u'Value': 10, u'Saldo': None, u'Tanggal': {u'iso': u'2015-09-15T13:36:10.422Z', u'__type': u'Date'}, u'updatedAt': u'2015-09-15T13:36:29.347Z', u'Type': u'groceries', u'createdAt': u'2015-09-15T13:36:29.347Z'}, {u'username': u'billy', u'Description': u'diner', u'objectId': u'pyBrJWaFJB', u'Value': 5, u'Saldo': -5, u'Tanggal': {u'iso': u'2015-09-15T13:21:43.127Z', u'__type': u'Date'}, u'updatedAt': u'2015-09-15T13:21:53.364Z', u'Type': u'makan', u'createdAt': u'2015-09-15T13:21:53.364Z'}, {u'Description': u'Reset', u'objectId': u'wkMv2lRbsB', u'Value': 41.75, u'Saldo': 0, u'Tanggal': {u'iso': u'2015-09-14T13:29:27.755Z', u'__type': u'Date'}, u'updatedAt': u'2015-09-14T13:31:10.815Z', u'Type': u'correction_minus', u'createdAt': u'2015-09-14T13:31:10.815Z'}, {u'Description': u'hot55', u'objectId': u'FXzLPAB2G0', u'Value': 15, u'Saldo': 41.75, u'Tanggal': {u'iso': u'2015-09-12T00:00:00.000Z', u'__type': u'Date'}, u'updatedAt': u'2015-09-14T13:03:00.079Z', u'Type': u'comm', u'createdAt': u'2015-09-14T13:03:00.079Z'}, {u'Description': u'hot55', u'objectId': u'Zd0r9OaCNg', u'Value': 15, u'Saldo': 41.75, u'Tanggal': {u'iso': u'2015-09-14T13:02:29.819Z', u'__type': u'Date'}, u'updatedAt': u'2015-09-14T13:02:47.882Z', u'Type': u'comm', u'createdAt': u'2015-09-14T13:02:47.882Z'}, {u'Description': u'kentut', u'objectId': u'BM3XLU0yS9', u'Value': 34, u'Saldo': 56.75, u'Tanggal': {u'iso': u'2015-09-04T00:00:00.000Z', u'__type': u'Date'}, u'updatedAt': u'2015-09-14T12:54:04.101Z', u'Type': u'dining', u'createdAt': u'2015-09-14T12:54:04.101Z'}]}\n"
       ]
      }
     ],
     "prompt_number": 2
    },
    {
     "cell_type": "code",
     "collapsed": false,
     "input": [
      "connection = httplib.HTTPSConnection('api.parse.com', 443)\n",
      "params = urllib.urlencode({\"order\":\"-createdAt\",\"limit\":10})\n",
      "connection.connect()\n",
      "connection.request('GET', '/1/classes/Expenses?%s' % params, '', {\n",
      "       \"X-Parse-Application-Id\": \"dCxojn2rtpic9RlfY6mjwTqWHNjHqsUOvwzPTl0Y\",\n",
      "       \"X-Parse-Master-Key\": \"Cu0iTrTWgntiqx4hbKesI25HuuBZKhIaxdKiJyWM\"\n",
      "     })\n",
      "result = json.loads(connection.getresponse().read())\n",
      "print result"
     ],
     "language": "python",
     "metadata": {},
     "outputs": [
      {
       "output_type": "stream",
       "stream": "stdout",
       "text": [
        "{u'results': [{u'username': u'billy', u'Description': u'Ezlink top up', u'objectId': u'mHm3cKTvdw', u'Cash': False, u'Value': 30, u'ACL': {u'Glz7N1JoPa': {u'read': True, u'write': True}}, u'Saldo': 39, u'Tanggal': {u'iso': u'2015-09-25T02:54:35.614Z', u'__type': u'Date'}, u'updatedAt': u'2015-09-25T02:55:00.784Z', u'Type': u'transport', u'createdAt': u'2015-09-25T02:55:00.784Z'}, {u'username': u'billy', u'Description': u'Internet starhub kos', u'objectId': u'NxrUDIrQyh', u'Cash': False, u'Value': 29.9, u'ACL': {u'Glz7N1JoPa': {u'read': True, u'write': True}}, u'Saldo': 39, u'Tanggal': {u'iso': u'2015-09-24T08:28:47.549Z', u'__type': u'Date'}, u'updatedAt': u'2015-09-24T08:29:52.186Z', u'Type': u'comm', u'createdAt': u'2015-09-24T08:29:52.186Z'}, {u'username': u'billy', u'Description': u'Makan waktu libur', u'objectId': u'BUgh9Bt0RQ', u'Cash': True, u'Value': 5, u'ACL': {u'Glz7N1JoPa': {u'read': True, u'write': True}}, u'Saldo': 39, u'Tanggal': {u'iso': u'2015-09-24T08:24:08.170Z', u'__type': u'Date'}, u'updatedAt': u'2015-09-24T08:24:38.013Z', u'Type': u'makan', u'createdAt': u'2015-09-24T08:24:38.013Z'}, {u'username': u'feifei', u'Description': u'Makan malam', u'objectId': u'e5XkUPEYet', u'Cash': True, u'Value': 6, u'ACL': {u'XASf98BKrJ': {u'read': True, u'write': True}}, u'Saldo': 66, u'Tanggal': {u'iso': u'2015-09-23T00:00:00.000Z', u'__type': u'Date'}, u'updatedAt': u'2015-09-24T01:36:25.857Z', u'Type': u'makan', u'createdAt': u'2015-09-24T01:36:25.857Z'}, {u'username': u'billy', u'Description': u'Dinner', u'objectId': u'jNvlnh1f9S', u'Cash': True, u'Value': 3, u'ACL': {u'Glz7N1JoPa': {u'read': True, u'write': True}}, u'Saldo': 44, u'Tanggal': {u'iso': u'2015-09-23T12:42:18.891Z', u'__type': u'Date'}, u'updatedAt': u'2015-09-23T12:42:33.840Z', u'Type': u'makan', u'createdAt': u'2015-09-23T12:42:33.840Z'}, {u'username': u'billy', u'Description': u'Lunch', u'objectId': u'JZUeYiaQH8', u'Cash': True, u'Value': 3, u'ACL': {u'Glz7N1JoPa': {u'read': True, u'write': True}}, u'Saldo': 47, u'Tanggal': {u'iso': u'2015-09-23T08:26:21.146Z', u'__type': u'Date'}, u'updatedAt': u'2015-09-23T08:26:56.318Z', u'Type': u'makan', u'createdAt': u'2015-09-23T08:26:56.318Z'}, {u'username': u'feifei', u'Description': u'Beli roti tawar, keju', u'objectId': u'9wP1Dag8Om', u'Cash': True, u'Value': 8, u'ACL': {u'XASf98BKrJ': {u'read': True, u'write': True}}, u'Saldo': 72, u'Tanggal': {u'iso': u'2015-09-22T14:41:47.401Z', u'__type': u'Date'}, u'updatedAt': u'2015-09-22T15:35:45.345Z', u'Type': u'groceries', u'createdAt': u'2015-09-22T15:35:45.345Z'}, {u'username': u'feifei', u'Description': u'Bayar temen titip makan', u'objectId': u'r4kSD888lx', u'Cash': True, u'Value': 21, u'ACL': {u'XASf98BKrJ': {u'read': True, u'write': True}}, u'Saldo': 80, u'Tanggal': {u'iso': u'2015-09-22T14:40:36.887Z', u'__type': u'Date'}, u'updatedAt': u'2015-09-22T14:31:23.528Z', u'Type': u'makan', u'createdAt': u'2015-09-22T14:31:23.528Z'}, {u'username': u'feifei', u'Description': u'Makan malam', u'objectId': u'XEboGOXHL8', u'Cash': True, u'Value': 5, u'ACL': {u'XASf98BKrJ': {u'read': True, u'write': True}}, u'Saldo': 101, u'Tanggal': {u'iso': u'2015-09-22T14:40:13.225Z', u'__type': u'Date'}, u'updatedAt': u'2015-09-22T14:30:28.431Z', u'Type': u'makan', u'createdAt': u'2015-09-22T14:30:28.431Z'}, {u'username': u'billy', u'Description': u'Lebih di dompet???', u'objectId': u'7BVzoY6yXF', u'Cash': True, u'Value': 10, u'ACL': {u'Glz7N1JoPa': {u'read': True, u'write': True}}, u'Saldo': 50, u'Tanggal': {u'iso': u'2015-09-22T13:42:28.944Z', u'__type': u'Date'}, u'updatedAt': u'2015-09-22T14:02:45.040Z', u'Type': u'correction_plus', u'createdAt': u'2015-09-22T14:02:45.040Z'}]}\n"
       ]
      }
     ],
     "prompt_number": 2
    },
    {
     "cell_type": "code",
     "collapsed": false,
     "input": [
      "connection = httplib.HTTPSConnection('api.parse.com', 443)\n",
      "params = urllib.urlencode({\"where\":json.dumps({\n",
      "       \"objectId\": \"B9K1pfNKM8\"\n",
      "     })})\n",
      "connection.connect()\n",
      "connection.request('GET', '/1/classes/Expenses?%s' % params, '', {\n",
      "       \"X-Parse-Application-Id\": \"dCxojn2rtpic9RlfY6mjwTqWHNjHqsUOvwzPTl0Y\",\n",
      "       \"X-Parse-Master-Key\": \"Cu0iTrTWgntiqx4hbKesI25HuuBZKhIaxdKiJyWM\"\n",
      "     })\n",
      "result = json.loads(connection.getresponse().read())\n",
      "print result"
     ],
     "language": "python",
     "metadata": {},
     "outputs": [
      {
       "output_type": "stream",
       "stream": "stdout",
       "text": [
        "{u'results': [{u'username': u'feifei', u'Description': u'Kaya toast for brekfast', u'objectId': u'B9K1pfNKM8', u'Cash': True, u'Value': 5, u'ACL': {u'XASf98BKrJ': {u'read': True, u'write': True}}, u'Saldo': 30, u'Tanggal': {u'iso': u'2015-09-21T05:25:42.062Z', u'__type': u'Date'}, u'updatedAt': u'2015-09-21T05:16:11.880Z', u'Type': u'makan', u'createdAt': u'2015-09-21T05:16:11.880Z'}]}\n"
       ]
      }
     ],
     "prompt_number": 4
    },
    {
     "cell_type": "code",
     "collapsed": false,
     "input": [
      "connection = httplib.HTTPSConnection('api.parse.com', 443)\n",
      "params = urllib.urlencode({\"where\":json.dumps({\n",
      "       \"createdAt\": {\n",
      "             \"$gte\": '2015-09-21T05:16:11.880Z'\n",
      "       }\n",
      "     })})\n",
      "connection.connect()\n",
      "connection.request('GET', '/1/classes/Expenses?%s' % params, '', {\n",
      "       \"X-Parse-Application-Id\": \"dCxojn2rtpic9RlfY6mjwTqWHNjHqsUOvwzPTl0Y\",\n",
      "       \"X-Parse-Master-Key\": \"Cu0iTrTWgntiqx4hbKesI25HuuBZKhIaxdKiJyWM\"\n",
      "     })\n",
      "result = json.loads(connection.getresponse().read())\n",
      "#print result\n",
      "result = result['results']\n",
      "print result"
     ],
     "language": "python",
     "metadata": {},
     "outputs": [
      {
       "output_type": "stream",
       "stream": "stdout",
       "text": [
        "[{u'username': u'feifei', u'Description': u'Kaya toast for brekfast', u'objectId': u'B9K1pfNKM8', u'Cash': True, u'Value': 5, u'ACL': {u'XASf98BKrJ': {u'read': True, u'write': True}}, u'Saldo': 30, u'Tanggal': {u'iso': u'2015-09-21T05:25:42.062Z', u'__type': u'Date'}, u'updatedAt': u'2015-09-21T05:16:11.880Z', u'Type': u'makan', u'createdAt': u'2015-09-21T05:16:11.880Z'}, {u'username': u'billy', u'Description': u'Lunch', u'objectId': u'VXTPX0D4zk', u'Cash': True, u'Value': 5, u'ACL': {u'Glz7N1JoPa': {u'read': True, u'write': True}}, u'Saldo': 58, u'Tanggal': {u'iso': u'2015-09-21T06:45:32.650Z', u'__type': u'Date'}, u'updatedAt': u'2015-09-21T06:47:48.843Z', u'Type': u'makan', u'createdAt': u'2015-09-21T06:47:48.843Z'}, {u'username': u'feifei', u'Description': u'Makan siang & minum', u'objectId': u'H79kUiCRQs', u'Cash': True, u'Value': 8, u'ACL': {u'XASf98BKrJ': {u'read': True, u'write': True}}, u'Saldo': 22, u'Tanggal': {u'iso': u'2015-09-21T05:26:31.007Z', u'__type': u'Date'}, u'updatedAt': u'2015-09-21T10:30:17.413Z', u'Type': u'makan', u'createdAt': u'2015-09-21T10:30:17.413Z'}, {u'username': u'billy', u'Description': u'Dinner at fusionpolis', u'objectId': u'D5Zrx4jVM9', u'Cash': True, u'Value': 5, u'ACL': {u'Glz7N1JoPa': {u'read': True, u'write': True}}, u'Saldo': 53, u'Tanggal': {u'iso': u'2015-09-21T11:28:04.372Z', u'__type': u'Date'}, u'updatedAt': u'2015-09-21T11:28:36.845Z', u'Type': u'makan', u'createdAt': u'2015-09-21T11:28:36.845Z'}, {u'username': u'feifei', u'Description': u'Beli snack', u'objectId': u'EJzw9aSiSt', u'Cash': True, u'Value': 2, u'ACL': {u'XASf98BKrJ': {u'read': True, u'write': True}}, u'Saldo': 20, u'Tanggal': {u'iso': u'2015-09-21T15:21:47.606Z', u'__type': u'Date'}, u'updatedAt': u'2015-09-21T15:12:01.984Z', u'Type': u'makan', u'createdAt': u'2015-09-21T15:12:01.984Z'}, {u'username': u'billy', u'Description': u'Lunch', u'objectId': u'HcAr4EBndi', u'Cash': True, u'Value': 8, u'ACL': {u'Glz7N1JoPa': {u'read': True, u'write': True}}, u'Saldo': 45, u'Tanggal': {u'iso': u'2015-09-22T04:08:49.076Z', u'__type': u'Date'}, u'updatedAt': u'2015-09-22T04:09:18.701Z', u'Type': u'makan', u'createdAt': u'2015-09-22T04:09:18.701Z'}, {u'username': u'feifei', u'Description': u'Beli roti buat breakfast', u'objectId': u'wbGDA56z5S', u'Cash': True, u'Value': 2, u'ACL': {u'XASf98BKrJ': {u'read': True, u'write': True}}, u'Saldo': 18, u'Tanggal': {u'iso': u'2015-09-22T05:14:56.653Z', u'__type': u'Date'}, u'updatedAt': u'2015-09-22T05:05:32.945Z', u'Type': u'makan', u'createdAt': u'2015-09-22T05:05:32.945Z'}, {u'username': u'feifei', u'Description': u'Beli lemon semalem', u'objectId': u'YtuJnLoXSG', u'Cash': True, u'Value': 2, u'ACL': {u'XASf98BKrJ': {u'read': True, u'write': True}}, u'Saldo': 16, u'Tanggal': {u'iso': u'2015-09-21T00:00:00.000Z', u'__type': u'Date'}, u'updatedAt': u'2015-09-22T05:05:53.845Z', u'Type': u'makan', u'createdAt': u'2015-09-22T05:05:53.845Z'}, {u'username': u'feifei', u'Description': u'Makan siang', u'objectId': u'apJiiDfyd3', u'Cash': True, u'Value': 10, u'ACL': {u'XASf98BKrJ': {u'read': True, u'write': True}}, u'Saldo': 6, u'Tanggal': {u'iso': u'2015-09-22T05:16:08.635Z', u'__type': u'Date'}, u'updatedAt': u'2015-09-22T08:28:06.371Z', u'Type': u'makan', u'createdAt': u'2015-09-22T08:28:06.371Z'}, {u'username': u'feifei', u'Description': u'Atm ocbc st tanjong pagar', u'objectId': u'a4jialAQla', u'Cash': True, u'Value': 100, u'ACL': {u'XASf98BKrJ': {u'read': True, u'write': True}}, u'Saldo': 106, u'Tanggal': {u'iso': u'2015-09-22T08:38:08.555Z', u'__type': u'Date'}, u'updatedAt': u'2015-09-22T08:28:34.430Z', u'Type': u'atm', u'createdAt': u'2015-09-22T08:28:34.430Z'}, {u'username': u'billy', u'Description': u'Dinner', u'objectId': u'EhzZOE2hdW', u'Cash': True, u'Value': 5, u'ACL': {u'Glz7N1JoPa': {u'read': True, u'write': True}}, u'Saldo': 40, u'Tanggal': {u'iso': u'2015-09-22T13:40:36.812Z', u'__type': u'Date'}, u'updatedAt': u'2015-09-22T13:40:50.564Z', u'Type': u'makan', u'createdAt': u'2015-09-22T13:40:50.564Z'}, {u'username': u'billy', u'Description': u'Lebih di dompet???', u'objectId': u'7BVzoY6yXF', u'Cash': True, u'Value': 10, u'ACL': {u'Glz7N1JoPa': {u'read': True, u'write': True}}, u'Saldo': 50, u'Tanggal': {u'iso': u'2015-09-22T13:42:28.944Z', u'__type': u'Date'}, u'updatedAt': u'2015-09-22T14:02:45.040Z', u'Type': u'correction_plus', u'createdAt': u'2015-09-22T14:02:45.040Z'}, {u'username': u'feifei', u'Description': u'Makan malam', u'objectId': u'XEboGOXHL8', u'Cash': True, u'Value': 5, u'ACL': {u'XASf98BKrJ': {u'read': True, u'write': True}}, u'Saldo': 101, u'Tanggal': {u'iso': u'2015-09-22T14:40:13.225Z', u'__type': u'Date'}, u'updatedAt': u'2015-09-22T14:30:28.431Z', u'Type': u'makan', u'createdAt': u'2015-09-22T14:30:28.431Z'}, {u'username': u'feifei', u'Description': u'Bayar temen titip makan', u'objectId': u'r4kSD888lx', u'Cash': True, u'Value': 21, u'ACL': {u'XASf98BKrJ': {u'read': True, u'write': True}}, u'Saldo': 80, u'Tanggal': {u'iso': u'2015-09-22T14:40:36.887Z', u'__type': u'Date'}, u'updatedAt': u'2015-09-22T14:31:23.528Z', u'Type': u'makan', u'createdAt': u'2015-09-22T14:31:23.528Z'}, {u'username': u'feifei', u'Description': u'Beli roti tawar, keju', u'objectId': u'9wP1Dag8Om', u'Cash': True, u'Value': 8, u'ACL': {u'XASf98BKrJ': {u'read': True, u'write': True}}, u'Saldo': 72, u'Tanggal': {u'iso': u'2015-09-22T14:41:47.401Z', u'__type': u'Date'}, u'updatedAt': u'2015-09-22T15:35:45.345Z', u'Type': u'groceries', u'createdAt': u'2015-09-22T15:35:45.345Z'}, {u'username': u'billy', u'Description': u'Lunch', u'objectId': u'JZUeYiaQH8', u'Cash': True, u'Value': 3, u'ACL': {u'Glz7N1JoPa': {u'read': True, u'write': True}}, u'Saldo': 47, u'Tanggal': {u'iso': u'2015-09-23T08:26:21.146Z', u'__type': u'Date'}, u'updatedAt': u'2015-09-23T08:26:56.318Z', u'Type': u'makan', u'createdAt': u'2015-09-23T08:26:56.318Z'}, {u'username': u'billy', u'Description': u'Dinner', u'objectId': u'jNvlnh1f9S', u'Cash': True, u'Value': 3, u'ACL': {u'Glz7N1JoPa': {u'read': True, u'write': True}}, u'Saldo': 44, u'Tanggal': {u'iso': u'2015-09-23T12:42:18.891Z', u'__type': u'Date'}, u'updatedAt': u'2015-09-23T12:42:33.840Z', u'Type': u'makan', u'createdAt': u'2015-09-23T12:42:33.840Z'}, {u'username': u'feifei', u'Description': u'Makan malam', u'objectId': u'e5XkUPEYet', u'Cash': True, u'Value': 6, u'ACL': {u'XASf98BKrJ': {u'read': True, u'write': True}}, u'Saldo': 66, u'Tanggal': {u'iso': u'2015-09-23T00:00:00.000Z', u'__type': u'Date'}, u'updatedAt': u'2015-09-24T01:36:25.857Z', u'Type': u'makan', u'createdAt': u'2015-09-24T01:36:25.857Z'}, {u'username': u'billy', u'Description': u'Makan waktu libur', u'objectId': u'BUgh9Bt0RQ', u'Cash': True, u'Value': 5, u'ACL': {u'Glz7N1JoPa': {u'read': True, u'write': True}}, u'Saldo': 39, u'Tanggal': {u'iso': u'2015-09-24T08:24:08.170Z', u'__type': u'Date'}, u'updatedAt': u'2015-09-24T08:24:38.013Z', u'Type': u'makan', u'createdAt': u'2015-09-24T08:24:38.013Z'}, {u'username': u'billy', u'Description': u'Internet starhub kos', u'objectId': u'NxrUDIrQyh', u'Cash': False, u'Value': 29.9, u'ACL': {u'Glz7N1JoPa': {u'read': True, u'write': True}}, u'Saldo': 39, u'Tanggal': {u'iso': u'2015-09-24T08:28:47.549Z', u'__type': u'Date'}, u'updatedAt': u'2015-09-24T08:29:52.186Z', u'Type': u'comm', u'createdAt': u'2015-09-24T08:29:52.186Z'}, {u'username': u'billy', u'Description': u'Ezlink top up', u'objectId': u'mHm3cKTvdw', u'Cash': False, u'Value': 30, u'ACL': {u'Glz7N1JoPa': {u'read': True, u'write': True}}, u'Saldo': 39, u'Tanggal': {u'iso': u'2015-09-25T02:54:35.614Z', u'__type': u'Date'}, u'updatedAt': u'2015-09-25T02:55:00.784Z', u'Type': u'transport', u'createdAt': u'2015-09-25T02:55:00.784Z'}, {u'username': u'billy', u'Description': u'Makan hari ini', u'objectId': u'YwfuDyRI4n', u'Cash': True, u'Value': 9, u'ACL': {u'Glz7N1JoPa': {u'read': True, u'write': True}}, u'Saldo': 30, u'Tanggal': {u'iso': u'2015-09-25T12:34:19.920Z', u'__type': u'Date'}, u'updatedAt': u'2015-09-25T12:34:54.215Z', u'Type': u'makan', u'createdAt': u'2015-09-25T12:34:54.215Z'}, {u'username': u'feifei', u'Description': u'Makan satu hari', u'objectId': u'9pkUT5zN9Q', u'Cash': True, u'Value': 11, u'ACL': {u'XASf98BKrJ': {u'read': True, u'write': True}}, u'Saldo': 55, u'Tanggal': {u'iso': u'2015-09-24T00:00:00.000Z', u'__type': u'Date'}, u'updatedAt': u'2015-09-25T14:02:47.913Z', u'Type': u'makan', u'createdAt': u'2015-09-25T14:02:47.913Z'}, {u'username': u'feifei', u'Description': u'Beli sayur', u'objectId': u'OI9sBdAZHr', u'Cash': True, u'Value': 12, u'ACL': {u'XASf98BKrJ': {u'read': True, u'write': True}}, u'Saldo': 43, u'Tanggal': {u'iso': u'2015-09-24T00:00:00.000Z', u'__type': u'Date'}, u'updatedAt': u'2015-09-25T14:03:33.186Z', u'Type': u'groceries', u'createdAt': u'2015-09-25T14:03:33.186Z'}, {u'username': u'feifei', u'Description': u'Lunch', u'objectId': u'zlVASCrF5K', u'Cash': True, u'Value': 7, u'ACL': {u'XASf98BKrJ': {u'read': True, u'write': True}}, u'Saldo': 36, u'Tanggal': {u'iso': u'2015-09-25T14:04:15.909Z', u'__type': u'Date'}, u'updatedAt': u'2015-09-25T14:03:58.062Z', u'Type': u'makan', u'createdAt': u'2015-09-25T14:03:58.062Z'}, {u'username': u'feifei', u'Description': u'Dinner', u'objectId': u'6Pa2T40ruX', u'Cash': True, u'Value': 8, u'ACL': {u'XASf98BKrJ': {u'read': True, u'write': True}}, u'Saldo': 28, u'Tanggal': {u'iso': u'2015-09-25T14:04:23.099Z', u'__type': u'Date'}, u'updatedAt': u'2015-09-25T14:04:04.899Z', u'Type': u'makan', u'createdAt': u'2015-09-25T14:04:04.899Z'}, {u'username': u'billy', u'Description': u'Lunch (sabtu lembur at fp)', u'objectId': u'Vfekjf6yv7', u'Cash': True, u'Value': 5, u'ACL': {u'Glz7N1JoPa': {u'read': True, u'write': True}}, u'Saldo': 25, u'Tanggal': {u'iso': u'2015-09-26T05:33:51.218Z', u'__type': u'Date'}, u'updatedAt': u'2015-09-26T05:34:16.663Z', u'Type': u'makan', u'createdAt': u'2015-09-26T05:34:16.663Z'}, {u'username': u'billy', u'Description': u'Correction', u'objectId': u'4M07eR0odi', u'Cash': True, u'Value': 6, u'ACL': {u'Glz7N1JoPa': {u'read': True, u'write': True}}, u'Saldo': 19, u'Tanggal': {u'iso': u'2015-09-26T05:34:15.480Z', u'__type': u'Date'}, u'updatedAt': u'2015-09-26T05:35:19.044Z', u'Type': u'makan', u'createdAt': u'2015-09-26T05:35:19.044Z'}, {u'username': u'feifei', u'Description': u'MOS Burger JP', u'objectId': u'8guDcYBFGY', u'Cash': True, u'Value': 14, u'ACL': {u'XASf98BKrJ': {u'read': True, u'write': True}}, u'Saldo': 14, u'Tanggal': {u'iso': u'2015-09-26T11:54:20.184Z', u'__type': u'Date'}, u'updatedAt': u'2015-09-26T11:44:35.594Z', u'Type': u'makan', u'createdAt': u'2015-09-26T11:44:35.594Z'}, {u'username': u'feifei', u'Description': u'Makan', u'objectId': u'mrhPsQQjtL', u'Cash': True, u'Value': 4, u'ACL': {u'XASf98BKrJ': {u'read': True, u'write': True}}, u'Saldo': 10, u'Tanggal': {u'iso': u'2015-09-26T11:55:04.648Z', u'__type': u'Date'}, u'updatedAt': u'2015-09-26T11:45:52.246Z', u'Type': u'makan', u'createdAt': u'2015-09-26T11:45:52.246Z'}, {u'username': u'feifei', u'Description': u'Top up Starhub (no sg lama)', u'objectId': u'GcwPnt1p7o', u'Cash': False, u'Value': 6, u'ACL': {u'XASf98BKrJ': {u'read': True, u'write': True}}, u'Saldo': 10, u'Tanggal': {u'iso': u'2015-09-26T12:26:30.689Z', u'__type': u'Date'}, u'updatedAt': u'2015-09-26T12:26:55.707Z', u'Type': u'comm', u'createdAt': u'2015-09-26T12:26:55.707Z'}, {u'username': u'feifei', u'Description': u'Malioboro Jurong Point', u'objectId': u'eUF5UGh29W', u'Cash': False, u'Value': 29.74, u'ACL': {u'XASf98BKrJ': {u'read': True, u'write': True}}, u'Saldo': 10, u'Tanggal': {u'iso': u'2015-09-27T04:34:27.040Z', u'__type': u'Date'}, u'updatedAt': u'2015-09-27T04:35:25.280Z', u'Type': u'dining', u'createdAt': u'2015-09-27T04:35:25.280Z'}, {u'username': u'feifei', u'Description': u'Greja', u'objectId': u'HeEbINw9v0', u'Cash': True, u'Value': 10, u'ACL': {u'XASf98BKrJ': {u'read': True, u'write': True}}, u'Saldo': 0, u'Tanggal': {u'iso': u'2015-09-26T11:56:00.952Z', u'__type': u'Date'}, u'updatedAt': u'2015-09-27T04:35:55.096Z', u'Type': u'giving', u'createdAt': u'2015-09-27T04:35:55.096Z'}, {u'username': u'billy', u'Description': u'Fair price', u'objectId': u'K3aBv3JWPr', u'Cash': False, u'Value': 17.8, u'ACL': {u'Glz7N1JoPa': {u'read': True, u'write': True}}, u'Saldo': 19, u'Tanggal': {u'iso': u'2015-09-27T05:30:35.255Z', u'__type': u'Date'}, u'updatedAt': u'2015-09-27T05:30:58.623Z', u'Type': u'groceries', u'createdAt': u'2015-09-27T05:30:58.623Z'}, {u'username': u'feifei', u'Description': u'Sm billy', u'objectId': u'8hAss8wVAX', u'Cash': True, u'Value': 200, u'ACL': {u'XASf98BKrJ': {u'read': True, u'write': True}}, u'Saldo': 200, u'Tanggal': {u'iso': u'2015-09-27T04:46:06.804Z', u'__type': u'Date'}, u'updatedAt': u'2015-09-27T05:48:02.701Z', u'Type': u'atm', u'createdAt': u'2015-09-27T05:48:02.701Z'}, {u'username': u'feifei', u'Description': u'Kasi billy', u'objectId': u'VyMg46zUGW', u'Cash': True, u'Value': 100, u'ACL': {u'XASf98BKrJ': {u'read': True, u'write': True}}, u'Saldo': 100, u'Tanggal': {u'iso': u'2015-09-27T05:58:01.846Z', u'__type': u'Date'}, u'updatedAt': u'2015-09-27T05:48:20.660Z', u'Type': u'correction_minus', u'createdAt': u'2015-09-27T05:48:20.660Z'}, {u'username': u'billy', u'Description': u'Atm dari Fei', u'objectId': u'7SaiB4M2t4', u'Cash': True, u'Value': 100, u'ACL': {u'Glz7N1JoPa': {u'read': True, u'write': True}}, u'Saldo': 119, u'Tanggal': {u'iso': u'2015-09-27T05:50:51.724Z', u'__type': u'Date'}, u'updatedAt': u'2015-09-27T05:51:22.721Z', u'Type': u'correction_plus', u'createdAt': u'2015-09-27T05:51:22.721Z'}, {u'username': u'billy', u'Description': u'Pisang', u'objectId': u'NZBD2HqdBz', u'Cash': True, u'Value': 4, u'ACL': {u'Glz7N1JoPa': {u'read': True, u'write': True}}, u'Saldo': 115, u'Tanggal': {u'iso': u'2015-09-27T05:51:20.661Z', u'__type': u'Date'}, u'updatedAt': u'2015-09-27T05:52:00.306Z', u'Type': u'makan', u'createdAt': u'2015-09-27T05:52:00.306Z'}, {u'username': u'billy', u'Description': u'Grj', u'objectId': u'gQHLV1u41U', u'Cash': True, u'Value': 10, u'ACL': {u'Glz7N1JoPa': {u'read': True, u'write': True}}, u'Saldo': 105, u'Tanggal': {u'iso': u'2015-09-27T05:51:59.113Z', u'__type': u'Date'}, u'updatedAt': u'2015-09-27T05:52:28.488Z', u'Type': u'giving', u'createdAt': u'2015-09-27T05:52:28.488Z'}, {u'username': u'billy', u'Description': u'Dinner di kantor', u'objectId': u'blWbJU8zMB', u'Cash': True, u'Value': 5, u'ACL': {u'Glz7N1JoPa': {u'read': True, u'write': True}}, u'Saldo': 100, u'Tanggal': {u'iso': u'2015-09-28T10:34:22.544Z', u'__type': u'Date'}, u'updatedAt': u'2015-09-28T10:34:41.590Z', u'Type': u'makan', u'createdAt': u'2015-09-28T10:34:41.590Z'}, {u'username': u'feifei', u'Description': u'Dinner', u'objectId': u'o7PHjZyXPa', u'Cash': True, u'Value': 5, u'ACL': {u'XASf98BKrJ': {u'read': True, u'write': True}}, u'Saldo': 95, u'Tanggal': {u'iso': u'2015-09-28T12:54:43.401Z', u'__type': u'Date'}, u'updatedAt': u'2015-09-28T12:45:18.397Z', u'Type': u'makan', u'createdAt': u'2015-09-28T12:45:18.397Z'}, {u'username': u'billy', u'Description': u'Lunch', u'objectId': u'dl1mGiQTBQ', u'Cash': True, u'Value': 5, u'ACL': {u'Glz7N1JoPa': {u'read': True, u'write': True}}, u'Saldo': 95, u'Tanggal': {u'iso': u'2015-09-29T03:38:25.192Z', u'__type': u'Date'}, u'updatedAt': u'2015-09-29T03:38:44.786Z', u'Type': u'makan', u'createdAt': u'2015-09-29T03:38:44.786Z'}, {u'username': u'feifei', u'Description': u'Makan siang', u'objectId': u'6tYbCQBd1M', u'Cash': True, u'Value': 10, u'ACL': {u'XASf98BKrJ': {u'read': True, u'write': True}}, u'Saldo': 85, u'Tanggal': {u'iso': u'2015-09-29T10:37:30.528Z', u'__type': u'Date'}, u'updatedAt': u'2015-09-29T10:27:50.332Z', u'Type': u'makan', u'createdAt': u'2015-09-29T10:27:50.332Z'}, {u'username': u'feifei', u'Description': u'Beli rak kukusan', u'objectId': u'fbzsfkXca5', u'Cash': True, u'Value': 3, u'ACL': {u'XASf98BKrJ': {u'read': True, u'write': True}}, u'Saldo': 82, u'Tanggal': {u'iso': u'2015-09-29T10:37:48.042Z', u'__type': u'Date'}, u'updatedAt': u'2015-09-29T10:28:22.071Z', u'Type': u'other', u'createdAt': u'2015-09-29T10:28:22.071Z'}, {u'username': u'feifei', u'Description': u'Makan malam', u'objectId': u'seAxjVfi5T', u'Cash': True, u'Value': 6, u'ACL': {u'XASf98BKrJ': {u'read': True, u'write': True}}, u'Saldo': 76, u'Tanggal': {u'iso': u'2015-09-29T10:38:21.339Z', u'__type': u'Date'}, u'updatedAt': u'2015-09-29T10:28:42.515Z', u'Type': u'makan', u'createdAt': u'2015-09-29T10:28:42.515Z'}, {u'username': u'billy', u'Description': u'Dinner', u'objectId': u'l6q3zTOXgW', u'Cash': True, u'Value': 5, u'ACL': {u'Glz7N1JoPa': {u'read': True, u'write': True}}, u'Saldo': 90, u'Tanggal': {u'iso': u'2015-09-29T00:00:00.000Z', u'__type': u'Date'}, u'updatedAt': u'2015-09-30T03:11:23.457Z', u'Type': u'makan', u'createdAt': u'2015-09-30T03:11:23.457Z'}, {u'username': u'feifei', u'Description': u'Uang kas anak kampus', u'objectId': u'7eQEwUuZux', u'Cash': True, u'Value': 10, u'ACL': {u'XASf98BKrJ': {u'read': True, u'write': True}}, u'Saldo': 66, u'Tanggal': {u'iso': u'2015-09-29T00:00:00.000Z', u'__type': u'Date'}, u'updatedAt': u'2015-09-30T03:44:00.014Z', u'Type': u'other', u'createdAt': u'2015-09-30T03:44:00.014Z'}, {u'username': u'billy', u'Description': u'Lunch', u'objectId': u'bk3LHTtSHn', u'Cash': True, u'Value': 3, u'ACL': {u'Glz7N1JoPa': {u'read': True, u'write': True}}, u'Saldo': 87, u'Tanggal': {u'iso': u'2015-09-30T03:55:52.848Z', u'__type': u'Date'}, u'updatedAt': u'2015-09-30T03:56:02.120Z', u'Type': u'makan', u'createdAt': u'2015-09-30T03:56:02.120Z'}, {u'username': u'billy', u'Description': u'Dinner', u'objectId': u'oewrohRq9X', u'Cash': True, u'Value': 9, u'ACL': {u'Glz7N1JoPa': {u'read': True, u'write': True}}, u'Saldo': 78, u'Tanggal': {u'iso': u'2015-09-30T13:26:31.704Z', u'__type': u'Date'}, u'updatedAt': u'2015-09-30T13:27:12.003Z', u'Type': u'makan', u'createdAt': u'2015-09-30T13:27:12.003Z'}]\n"
       ]
      }
     ],
     "prompt_number": 2
    },
    {
     "cell_type": "code",
     "collapsed": false,
     "input": [
      "_keys = []\n",
      "for key in result[0]:\n",
      "    _keys.append(key)\n",
      "str(_keys).replace('u','')"
     ],
     "language": "python",
     "metadata": {},
     "outputs": [
      {
       "metadata": {},
       "output_type": "pyout",
       "prompt_number": 43,
       "text": [
        "\"['sername', 'Description', 'objectId', 'Cash', 'Vale', 'ACL', 'Saldo', 'Tanggal', 'pdatedAt', 'Type', 'createdAt']\""
       ]
      }
     ],
     "prompt_number": 43
    },
    {
     "cell_type": "code",
     "collapsed": false,
     "input": [
      "from collections import namedtuple\n",
      "def convert(dictionary):\n",
      "    return namedtuple('GenericDict', dictionary.keys())(**dictionary)\n",
      "    #_tuple = namedtuple('GenericDict', dictionary.keys())(**dictionary)\n",
      "    #return namedtuple('ExpenseParseData', _tuple._fields+('TanggalDatetime','createdAtDateTime',))\n",
      "tuple_expense_data = namedtuple('ExpenseParseData', ['username', 'Description', 'objectId', 'Cash', 'Value', 'ACL', 'Saldo', 'Tanggal', 'updatedAt', 'Type', 'createdAt', 'tanggal_datetime', 'createdAt_datetime'])"
     ],
     "language": "python",
     "metadata": {},
     "outputs": [],
     "prompt_number": 3
    },
    {
     "cell_type": "code",
     "collapsed": false,
     "input": [
      "result[0]"
     ],
     "language": "python",
     "metadata": {},
     "outputs": [
      {
       "metadata": {},
       "output_type": "pyout",
       "prompt_number": 63,
       "text": [
        "{u'ACL': {u'XASf98BKrJ': {u'read': True, u'write': True}},\n",
        " u'Cash': True,\n",
        " u'Description': u'Kaya toast for brekfast',\n",
        " u'Saldo': 30,\n",
        " u'Tanggal': {u'__type': u'Date', u'iso': u'2015-09-21T05:25:42.062Z'},\n",
        " u'Type': u'makan',\n",
        " u'Value': 5,\n",
        " '_createdAt_datetime': datetime.datetime(2015, 9, 21, 13, 16, 11, 880000, tzinfo=<DstTzInfo 'Asia/Singapore' SGT+8:00:00 STD>),\n",
        " '_tanggal_datetime': datetime.datetime(2015, 9, 21, 13, 25, 42, 62000, tzinfo=<DstTzInfo 'Asia/Singapore' SGT+8:00:00 STD>),\n",
        " u'createdAt': u'2015-09-21T05:16:11.880Z',\n",
        " u'objectId': u'B9K1pfNKM8',\n",
        " u'updatedAt': u'2015-09-21T05:16:11.880Z',\n",
        " u'username': u'feifei'}"
       ]
      }
     ],
     "prompt_number": 63
    },
    {
     "cell_type": "code",
     "collapsed": false,
     "input": [
      "tuple_expense_data(**(result[0]).append( 2*[0]) )"
     ],
     "language": "python",
     "metadata": {},
     "outputs": [
      {
       "ename": "AttributeError",
       "evalue": "'dict' object has no attribute 'append'",
       "output_type": "pyerr",
       "traceback": [
        "\u001b[1;31m---------------------------------------------------------------------------\u001b[0m\n\u001b[1;31mAttributeError\u001b[0m                            Traceback (most recent call last)",
        "\u001b[1;32m<ipython-input-59-e263a5113e3c>\u001b[0m in \u001b[0;36m<module>\u001b[1;34m()\u001b[0m\n\u001b[1;32m----> 1\u001b[1;33m \u001b[0mtuple_expense_data\u001b[0m\u001b[1;33m(\u001b[0m\u001b[1;33m**\u001b[0m\u001b[1;33m(\u001b[0m\u001b[0mresult\u001b[0m\u001b[1;33m[\u001b[0m\u001b[1;36m0\u001b[0m\u001b[1;33m]\u001b[0m\u001b[1;33m)\u001b[0m\u001b[1;33m.\u001b[0m\u001b[0mappend\u001b[0m\u001b[1;33m(\u001b[0m \u001b[1;36m2\u001b[0m\u001b[1;33m*\u001b[0m\u001b[1;33m[\u001b[0m\u001b[1;36m0\u001b[0m\u001b[1;33m]\u001b[0m\u001b[1;33m)\u001b[0m \u001b[1;33m)\u001b[0m\u001b[1;33m\u001b[0m\u001b[0m\n\u001b[0m",
        "\u001b[1;31mAttributeError\u001b[0m: 'dict' object has no attribute 'append'"
       ]
      }
     ],
     "prompt_number": 59
    },
    {
     "cell_type": "code",
     "collapsed": false,
     "input": [
      "import datetime\n",
      "import pytz\n",
      "import dateutil.parser\n",
      "\n",
      "tz =  pytz.timezone('Asia/Singapore')\n",
      "\n",
      "for item in result:\n",
      "    #_when = dateutil.parser.parse(item.Tanggal)\n",
      "    #item.Tanggal = _when.astimezone(tz)\n",
      "    item['tanggal_datetime'] = dateutil.parser.parse(item['Tanggal']['iso']).astimezone(tz)\n",
      "    item['createdAt_datetime'] = dateutil.parser.parse(item['createdAt']).astimezone(tz)\n",
      "    "
     ],
     "language": "python",
     "metadata": {},
     "outputs": [],
     "prompt_number": 6
    },
    {
     "cell_type": "code",
     "collapsed": false,
     "input": [
      "#_result = [convert(item) for item in result]\n",
      "_result = [tuple_expense_data(**item) for item in result]\n",
      "result = _result\n",
      "print result"
     ],
     "language": "python",
     "metadata": {},
     "outputs": [
      {
       "output_type": "stream",
       "stream": "stdout",
       "text": [
        "[ExpenseParseData(username=u'feifei', Description=u'Kaya toast for brekfast', objectId=u'B9K1pfNKM8', Cash=True, Value=5, ACL={u'XASf98BKrJ': {u'read': True, u'write': True}}, Saldo=30, Tanggal={u'iso': u'2015-09-21T05:25:42.062Z', u'__type': u'Date'}, updatedAt=u'2015-09-21T05:16:11.880Z', Type=u'makan', createdAt=u'2015-09-21T05:16:11.880Z', tanggal_datetime=datetime.datetime(2015, 9, 21, 13, 25, 42, 62000, tzinfo=<DstTzInfo 'Asia/Singapore' SGT+8:00:00 STD>), createdAt_datetime=datetime.datetime(2015, 9, 21, 13, 16, 11, 880000, tzinfo=<DstTzInfo 'Asia/Singapore' SGT+8:00:00 STD>)), ExpenseParseData(username=u'billy', Description=u'Lunch', objectId=u'VXTPX0D4zk', Cash=True, Value=5, ACL={u'Glz7N1JoPa': {u'read': True, u'write': True}}, Saldo=58, Tanggal={u'iso': u'2015-09-21T06:45:32.650Z', u'__type': u'Date'}, updatedAt=u'2015-09-21T06:47:48.843Z', Type=u'makan', createdAt=u'2015-09-21T06:47:48.843Z', tanggal_datetime=datetime.datetime(2015, 9, 21, 14, 45, 32, 650000, tzinfo=<DstTzInfo 'Asia/Singapore' SGT+8:00:00 STD>), createdAt_datetime=datetime.datetime(2015, 9, 21, 14, 47, 48, 843000, tzinfo=<DstTzInfo 'Asia/Singapore' SGT+8:00:00 STD>)), ExpenseParseData(username=u'feifei', Description=u'Makan siang & minum', objectId=u'H79kUiCRQs', Cash=True, Value=8, ACL={u'XASf98BKrJ': {u'read': True, u'write': True}}, Saldo=22, Tanggal={u'iso': u'2015-09-21T05:26:31.007Z', u'__type': u'Date'}, updatedAt=u'2015-09-21T10:30:17.413Z', Type=u'makan', createdAt=u'2015-09-21T10:30:17.413Z', tanggal_datetime=datetime.datetime(2015, 9, 21, 13, 26, 31, 7000, tzinfo=<DstTzInfo 'Asia/Singapore' SGT+8:00:00 STD>), createdAt_datetime=datetime.datetime(2015, 9, 21, 18, 30, 17, 413000, tzinfo=<DstTzInfo 'Asia/Singapore' SGT+8:00:00 STD>)), ExpenseParseData(username=u'billy', Description=u'Dinner at fusionpolis', objectId=u'D5Zrx4jVM9', Cash=True, Value=5, ACL={u'Glz7N1JoPa': {u'read': True, u'write': True}}, Saldo=53, Tanggal={u'iso': u'2015-09-21T11:28:04.372Z', u'__type': u'Date'}, updatedAt=u'2015-09-21T11:28:36.845Z', Type=u'makan', createdAt=u'2015-09-21T11:28:36.845Z', tanggal_datetime=datetime.datetime(2015, 9, 21, 19, 28, 4, 372000, tzinfo=<DstTzInfo 'Asia/Singapore' SGT+8:00:00 STD>), createdAt_datetime=datetime.datetime(2015, 9, 21, 19, 28, 36, 845000, tzinfo=<DstTzInfo 'Asia/Singapore' SGT+8:00:00 STD>)), ExpenseParseData(username=u'feifei', Description=u'Beli snack', objectId=u'EJzw9aSiSt', Cash=True, Value=2, ACL={u'XASf98BKrJ': {u'read': True, u'write': True}}, Saldo=20, Tanggal={u'iso': u'2015-09-21T15:21:47.606Z', u'__type': u'Date'}, updatedAt=u'2015-09-21T15:12:01.984Z', Type=u'makan', createdAt=u'2015-09-21T15:12:01.984Z', tanggal_datetime=datetime.datetime(2015, 9, 21, 23, 21, 47, 606000, tzinfo=<DstTzInfo 'Asia/Singapore' SGT+8:00:00 STD>), createdAt_datetime=datetime.datetime(2015, 9, 21, 23, 12, 1, 984000, tzinfo=<DstTzInfo 'Asia/Singapore' SGT+8:00:00 STD>)), ExpenseParseData(username=u'billy', Description=u'Lunch', objectId=u'HcAr4EBndi', Cash=True, Value=8, ACL={u'Glz7N1JoPa': {u'read': True, u'write': True}}, Saldo=45, Tanggal={u'iso': u'2015-09-22T04:08:49.076Z', u'__type': u'Date'}, updatedAt=u'2015-09-22T04:09:18.701Z', Type=u'makan', createdAt=u'2015-09-22T04:09:18.701Z', tanggal_datetime=datetime.datetime(2015, 9, 22, 12, 8, 49, 76000, tzinfo=<DstTzInfo 'Asia/Singapore' SGT+8:00:00 STD>), createdAt_datetime=datetime.datetime(2015, 9, 22, 12, 9, 18, 701000, tzinfo=<DstTzInfo 'Asia/Singapore' SGT+8:00:00 STD>)), ExpenseParseData(username=u'feifei', Description=u'Beli roti buat breakfast', objectId=u'wbGDA56z5S', Cash=True, Value=2, ACL={u'XASf98BKrJ': {u'read': True, u'write': True}}, Saldo=18, Tanggal={u'iso': u'2015-09-22T05:14:56.653Z', u'__type': u'Date'}, updatedAt=u'2015-09-22T05:05:32.945Z', Type=u'makan', createdAt=u'2015-09-22T05:05:32.945Z', tanggal_datetime=datetime.datetime(2015, 9, 22, 13, 14, 56, 653000, tzinfo=<DstTzInfo 'Asia/Singapore' SGT+8:00:00 STD>), createdAt_datetime=datetime.datetime(2015, 9, 22, 13, 5, 32, 945000, tzinfo=<DstTzInfo 'Asia/Singapore' SGT+8:00:00 STD>)), ExpenseParseData(username=u'feifei', Description=u'Beli lemon semalem', objectId=u'YtuJnLoXSG', Cash=True, Value=2, ACL={u'XASf98BKrJ': {u'read': True, u'write': True}}, Saldo=16, Tanggal={u'iso': u'2015-09-21T00:00:00.000Z', u'__type': u'Date'}, updatedAt=u'2015-09-22T05:05:53.845Z', Type=u'makan', createdAt=u'2015-09-22T05:05:53.845Z', tanggal_datetime=datetime.datetime(2015, 9, 21, 8, 0, tzinfo=<DstTzInfo 'Asia/Singapore' SGT+8:00:00 STD>), createdAt_datetime=datetime.datetime(2015, 9, 22, 13, 5, 53, 845000, tzinfo=<DstTzInfo 'Asia/Singapore' SGT+8:00:00 STD>)), ExpenseParseData(username=u'feifei', Description=u'Makan siang', objectId=u'apJiiDfyd3', Cash=True, Value=10, ACL={u'XASf98BKrJ': {u'read': True, u'write': True}}, Saldo=6, Tanggal={u'iso': u'2015-09-22T05:16:08.635Z', u'__type': u'Date'}, updatedAt=u'2015-09-22T08:28:06.371Z', Type=u'makan', createdAt=u'2015-09-22T08:28:06.371Z', tanggal_datetime=datetime.datetime(2015, 9, 22, 13, 16, 8, 635000, tzinfo=<DstTzInfo 'Asia/Singapore' SGT+8:00:00 STD>), createdAt_datetime=datetime.datetime(2015, 9, 22, 16, 28, 6, 371000, tzinfo=<DstTzInfo 'Asia/Singapore' SGT+8:00:00 STD>)), ExpenseParseData(username=u'feifei', Description=u'Atm ocbc st tanjong pagar', objectId=u'a4jialAQla', Cash=True, Value=100, ACL={u'XASf98BKrJ': {u'read': True, u'write': True}}, Saldo=106, Tanggal={u'iso': u'2015-09-22T08:38:08.555Z', u'__type': u'Date'}, updatedAt=u'2015-09-22T08:28:34.430Z', Type=u'atm', createdAt=u'2015-09-22T08:28:34.430Z', tanggal_datetime=datetime.datetime(2015, 9, 22, 16, 38, 8, 555000, tzinfo=<DstTzInfo 'Asia/Singapore' SGT+8:00:00 STD>), createdAt_datetime=datetime.datetime(2015, 9, 22, 16, 28, 34, 430000, tzinfo=<DstTzInfo 'Asia/Singapore' SGT+8:00:00 STD>)), ExpenseParseData(username=u'billy', Description=u'Dinner', objectId=u'EhzZOE2hdW', Cash=True, Value=5, ACL={u'Glz7N1JoPa': {u'read': True, u'write': True}}, Saldo=40, Tanggal={u'iso': u'2015-09-22T13:40:36.812Z', u'__type': u'Date'}, updatedAt=u'2015-09-22T13:40:50.564Z', Type=u'makan', createdAt=u'2015-09-22T13:40:50.564Z', tanggal_datetime=datetime.datetime(2015, 9, 22, 21, 40, 36, 812000, tzinfo=<DstTzInfo 'Asia/Singapore' SGT+8:00:00 STD>), createdAt_datetime=datetime.datetime(2015, 9, 22, 21, 40, 50, 564000, tzinfo=<DstTzInfo 'Asia/Singapore' SGT+8:00:00 STD>)), ExpenseParseData(username=u'billy', Description=u'Lebih di dompet???', objectId=u'7BVzoY6yXF', Cash=True, Value=10, ACL={u'Glz7N1JoPa': {u'read': True, u'write': True}}, Saldo=50, Tanggal={u'iso': u'2015-09-22T13:42:28.944Z', u'__type': u'Date'}, updatedAt=u'2015-09-22T14:02:45.040Z', Type=u'correction_plus', createdAt=u'2015-09-22T14:02:45.040Z', tanggal_datetime=datetime.datetime(2015, 9, 22, 21, 42, 28, 944000, tzinfo=<DstTzInfo 'Asia/Singapore' SGT+8:00:00 STD>), createdAt_datetime=datetime.datetime(2015, 9, 22, 22, 2, 45, 40000, tzinfo=<DstTzInfo 'Asia/Singapore' SGT+8:00:00 STD>)), ExpenseParseData(username=u'feifei', Description=u'Makan malam', objectId=u'XEboGOXHL8', Cash=True, Value=5, ACL={u'XASf98BKrJ': {u'read': True, u'write': True}}, Saldo=101, Tanggal={u'iso': u'2015-09-22T14:40:13.225Z', u'__type': u'Date'}, updatedAt=u'2015-09-22T14:30:28.431Z', Type=u'makan', createdAt=u'2015-09-22T14:30:28.431Z', tanggal_datetime=datetime.datetime(2015, 9, 22, 22, 40, 13, 225000, tzinfo=<DstTzInfo 'Asia/Singapore' SGT+8:00:00 STD>), createdAt_datetime=datetime.datetime(2015, 9, 22, 22, 30, 28, 431000, tzinfo=<DstTzInfo 'Asia/Singapore' SGT+8:00:00 STD>)), ExpenseParseData(username=u'feifei', Description=u'Bayar temen titip makan', objectId=u'r4kSD888lx', Cash=True, Value=21, ACL={u'XASf98BKrJ': {u'read': True, u'write': True}}, Saldo=80, Tanggal={u'iso': u'2015-09-22T14:40:36.887Z', u'__type': u'Date'}, updatedAt=u'2015-09-22T14:31:23.528Z', Type=u'makan', createdAt=u'2015-09-22T14:31:23.528Z', tanggal_datetime=datetime.datetime(2015, 9, 22, 22, 40, 36, 887000, tzinfo=<DstTzInfo 'Asia/Singapore' SGT+8:00:00 STD>), createdAt_datetime=datetime.datetime(2015, 9, 22, 22, 31, 23, 528000, tzinfo=<DstTzInfo 'Asia/Singapore' SGT+8:00:00 STD>)), ExpenseParseData(username=u'feifei', Description=u'Beli roti tawar, keju', objectId=u'9wP1Dag8Om', Cash=True, Value=8, ACL={u'XASf98BKrJ': {u'read': True, u'write': True}}, Saldo=72, Tanggal={u'iso': u'2015-09-22T14:41:47.401Z', u'__type': u'Date'}, updatedAt=u'2015-09-22T15:35:45.345Z', Type=u'groceries', createdAt=u'2015-09-22T15:35:45.345Z', tanggal_datetime=datetime.datetime(2015, 9, 22, 22, 41, 47, 401000, tzinfo=<DstTzInfo 'Asia/Singapore' SGT+8:00:00 STD>), createdAt_datetime=datetime.datetime(2015, 9, 22, 23, 35, 45, 345000, tzinfo=<DstTzInfo 'Asia/Singapore' SGT+8:00:00 STD>)), ExpenseParseData(username=u'billy', Description=u'Lunch', objectId=u'JZUeYiaQH8', Cash=True, Value=3, ACL={u'Glz7N1JoPa': {u'read': True, u'write': True}}, Saldo=47, Tanggal={u'iso': u'2015-09-23T08:26:21.146Z', u'__type': u'Date'}, updatedAt=u'2015-09-23T08:26:56.318Z', Type=u'makan', createdAt=u'2015-09-23T08:26:56.318Z', tanggal_datetime=datetime.datetime(2015, 9, 23, 16, 26, 21, 146000, tzinfo=<DstTzInfo 'Asia/Singapore' SGT+8:00:00 STD>), createdAt_datetime=datetime.datetime(2015, 9, 23, 16, 26, 56, 318000, tzinfo=<DstTzInfo 'Asia/Singapore' SGT+8:00:00 STD>)), ExpenseParseData(username=u'billy', Description=u'Dinner', objectId=u'jNvlnh1f9S', Cash=True, Value=3, ACL={u'Glz7N1JoPa': {u'read': True, u'write': True}}, Saldo=44, Tanggal={u'iso': u'2015-09-23T12:42:18.891Z', u'__type': u'Date'}, updatedAt=u'2015-09-23T12:42:33.840Z', Type=u'makan', createdAt=u'2015-09-23T12:42:33.840Z', tanggal_datetime=datetime.datetime(2015, 9, 23, 20, 42, 18, 891000, tzinfo=<DstTzInfo 'Asia/Singapore' SGT+8:00:00 STD>), createdAt_datetime=datetime.datetime(2015, 9, 23, 20, 42, 33, 840000, tzinfo=<DstTzInfo 'Asia/Singapore' SGT+8:00:00 STD>)), ExpenseParseData(username=u'feifei', Description=u'Makan malam', objectId=u'e5XkUPEYet', Cash=True, Value=6, ACL={u'XASf98BKrJ': {u'read': True, u'write': True}}, Saldo=66, Tanggal={u'iso': u'2015-09-23T00:00:00.000Z', u'__type': u'Date'}, updatedAt=u'2015-09-24T01:36:25.857Z', Type=u'makan', createdAt=u'2015-09-24T01:36:25.857Z', tanggal_datetime=datetime.datetime(2015, 9, 23, 8, 0, tzinfo=<DstTzInfo 'Asia/Singapore' SGT+8:00:00 STD>), createdAt_datetime=datetime.datetime(2015, 9, 24, 9, 36, 25, 857000, tzinfo=<DstTzInfo 'Asia/Singapore' SGT+8:00:00 STD>)), ExpenseParseData(username=u'billy', Description=u'Makan waktu libur', objectId=u'BUgh9Bt0RQ', Cash=True, Value=5, ACL={u'Glz7N1JoPa': {u'read': True, u'write': True}}, Saldo=39, Tanggal={u'iso': u'2015-09-24T08:24:08.170Z', u'__type': u'Date'}, updatedAt=u'2015-09-24T08:24:38.013Z', Type=u'makan', createdAt=u'2015-09-24T08:24:38.013Z', tanggal_datetime=datetime.datetime(2015, 9, 24, 16, 24, 8, 170000, tzinfo=<DstTzInfo 'Asia/Singapore' SGT+8:00:00 STD>), createdAt_datetime=datetime.datetime(2015, 9, 24, 16, 24, 38, 13000, tzinfo=<DstTzInfo 'Asia/Singapore' SGT+8:00:00 STD>)), ExpenseParseData(username=u'billy', Description=u'Internet starhub kos', objectId=u'NxrUDIrQyh', Cash=False, Value=29.9, ACL={u'Glz7N1JoPa': {u'read': True, u'write': True}}, Saldo=39, Tanggal={u'iso': u'2015-09-24T08:28:47.549Z', u'__type': u'Date'}, updatedAt=u'2015-09-24T08:29:52.186Z', Type=u'comm', createdAt=u'2015-09-24T08:29:52.186Z', tanggal_datetime=datetime.datetime(2015, 9, 24, 16, 28, 47, 549000, tzinfo=<DstTzInfo 'Asia/Singapore' SGT+8:00:00 STD>), createdAt_datetime=datetime.datetime(2015, 9, 24, 16, 29, 52, 186000, tzinfo=<DstTzInfo 'Asia/Singapore' SGT+8:00:00 STD>)), ExpenseParseData(username=u'billy', Description=u'Ezlink top up', objectId=u'mHm3cKTvdw', Cash=False, Value=30, ACL={u'Glz7N1JoPa': {u'read': True, u'write': True}}, Saldo=39, Tanggal={u'iso': u'2015-09-25T02:54:35.614Z', u'__type': u'Date'}, updatedAt=u'2015-09-25T02:55:00.784Z', Type=u'transport', createdAt=u'2015-09-25T02:55:00.784Z', tanggal_datetime=datetime.datetime(2015, 9, 25, 10, 54, 35, 614000, tzinfo=<DstTzInfo 'Asia/Singapore' SGT+8:00:00 STD>), createdAt_datetime=datetime.datetime(2015, 9, 25, 10, 55, 0, 784000, tzinfo=<DstTzInfo 'Asia/Singapore' SGT+8:00:00 STD>)), ExpenseParseData(username=u'billy', Description=u'Makan hari ini', objectId=u'YwfuDyRI4n', Cash=True, Value=9, ACL={u'Glz7N1JoPa': {u'read': True, u'write': True}}, Saldo=30, Tanggal={u'iso': u'2015-09-25T12:34:19.920Z', u'__type': u'Date'}, updatedAt=u'2015-09-25T12:34:54.215Z', Type=u'makan', createdAt=u'2015-09-25T12:34:54.215Z', tanggal_datetime=datetime.datetime(2015, 9, 25, 20, 34, 19, 920000, tzinfo=<DstTzInfo 'Asia/Singapore' SGT+8:00:00 STD>), createdAt_datetime=datetime.datetime(2015, 9, 25, 20, 34, 54, 215000, tzinfo=<DstTzInfo 'Asia/Singapore' SGT+8:00:00 STD>)), ExpenseParseData(username=u'feifei', Description=u'Makan satu hari', objectId=u'9pkUT5zN9Q', Cash=True, Value=11, ACL={u'XASf98BKrJ': {u'read': True, u'write': True}}, Saldo=55, Tanggal={u'iso': u'2015-09-24T00:00:00.000Z', u'__type': u'Date'}, updatedAt=u'2015-09-25T14:02:47.913Z', Type=u'makan', createdAt=u'2015-09-25T14:02:47.913Z', tanggal_datetime=datetime.datetime(2015, 9, 24, 8, 0, tzinfo=<DstTzInfo 'Asia/Singapore' SGT+8:00:00 STD>), createdAt_datetime=datetime.datetime(2015, 9, 25, 22, 2, 47, 913000, tzinfo=<DstTzInfo 'Asia/Singapore' SGT+8:00:00 STD>)), ExpenseParseData(username=u'feifei', Description=u'Beli sayur', objectId=u'OI9sBdAZHr', Cash=True, Value=12, ACL={u'XASf98BKrJ': {u'read': True, u'write': True}}, Saldo=43, Tanggal={u'iso': u'2015-09-24T00:00:00.000Z', u'__type': u'Date'}, updatedAt=u'2015-09-25T14:03:33.186Z', Type=u'groceries', createdAt=u'2015-09-25T14:03:33.186Z', tanggal_datetime=datetime.datetime(2015, 9, 24, 8, 0, tzinfo=<DstTzInfo 'Asia/Singapore' SGT+8:00:00 STD>), createdAt_datetime=datetime.datetime(2015, 9, 25, 22, 3, 33, 186000, tzinfo=<DstTzInfo 'Asia/Singapore' SGT+8:00:00 STD>)), ExpenseParseData(username=u'feifei', Description=u'Lunch', objectId=u'zlVASCrF5K', Cash=True, Value=7, ACL={u'XASf98BKrJ': {u'read': True, u'write': True}}, Saldo=36, Tanggal={u'iso': u'2015-09-25T14:04:15.909Z', u'__type': u'Date'}, updatedAt=u'2015-09-25T14:03:58.062Z', Type=u'makan', createdAt=u'2015-09-25T14:03:58.062Z', tanggal_datetime=datetime.datetime(2015, 9, 25, 22, 4, 15, 909000, tzinfo=<DstTzInfo 'Asia/Singapore' SGT+8:00:00 STD>), createdAt_datetime=datetime.datetime(2015, 9, 25, 22, 3, 58, 62000, tzinfo=<DstTzInfo 'Asia/Singapore' SGT+8:00:00 STD>)), ExpenseParseData(username=u'feifei', Description=u'Dinner', objectId=u'6Pa2T40ruX', Cash=True, Value=8, ACL={u'XASf98BKrJ': {u'read': True, u'write': True}}, Saldo=28, Tanggal={u'iso': u'2015-09-25T14:04:23.099Z', u'__type': u'Date'}, updatedAt=u'2015-09-25T14:04:04.899Z', Type=u'makan', createdAt=u'2015-09-25T14:04:04.899Z', tanggal_datetime=datetime.datetime(2015, 9, 25, 22, 4, 23, 99000, tzinfo=<DstTzInfo 'Asia/Singapore' SGT+8:00:00 STD>), createdAt_datetime=datetime.datetime(2015, 9, 25, 22, 4, 4, 899000, tzinfo=<DstTzInfo 'Asia/Singapore' SGT+8:00:00 STD>)), ExpenseParseData(username=u'billy', Description=u'Lunch (sabtu lembur at fp)', objectId=u'Vfekjf6yv7', Cash=True, Value=5, ACL={u'Glz7N1JoPa': {u'read': True, u'write': True}}, Saldo=25, Tanggal={u'iso': u'2015-09-26T05:33:51.218Z', u'__type': u'Date'}, updatedAt=u'2015-09-26T05:34:16.663Z', Type=u'makan', createdAt=u'2015-09-26T05:34:16.663Z', tanggal_datetime=datetime.datetime(2015, 9, 26, 13, 33, 51, 218000, tzinfo=<DstTzInfo 'Asia/Singapore' SGT+8:00:00 STD>), createdAt_datetime=datetime.datetime(2015, 9, 26, 13, 34, 16, 663000, tzinfo=<DstTzInfo 'Asia/Singapore' SGT+8:00:00 STD>)), ExpenseParseData(username=u'billy', Description=u'Correction', objectId=u'4M07eR0odi', Cash=True, Value=6, ACL={u'Glz7N1JoPa': {u'read': True, u'write': True}}, Saldo=19, Tanggal={u'iso': u'2015-09-26T05:34:15.480Z', u'__type': u'Date'}, updatedAt=u'2015-09-26T05:35:19.044Z', Type=u'makan', createdAt=u'2015-09-26T05:35:19.044Z', tanggal_datetime=datetime.datetime(2015, 9, 26, 13, 34, 15, 480000, tzinfo=<DstTzInfo 'Asia/Singapore' SGT+8:00:00 STD>), createdAt_datetime=datetime.datetime(2015, 9, 26, 13, 35, 19, 44000, tzinfo=<DstTzInfo 'Asia/Singapore' SGT+8:00:00 STD>)), ExpenseParseData(username=u'feifei', Description=u'MOS Burger JP', objectId=u'8guDcYBFGY', Cash=True, Value=14, ACL={u'XASf98BKrJ': {u'read': True, u'write': True}}, Saldo=14, Tanggal={u'iso': u'2015-09-26T11:54:20.184Z', u'__type': u'Date'}, updatedAt=u'2015-09-26T11:44:35.594Z', Type=u'makan', createdAt=u'2015-09-26T11:44:35.594Z', tanggal_datetime=datetime.datetime(2015, 9, 26, 19, 54, 20, 184000, tzinfo=<DstTzInfo 'Asia/Singapore' SGT+8:00:00 STD>), createdAt_datetime=datetime.datetime(2015, 9, 26, 19, 44, 35, 594000, tzinfo=<DstTzInfo 'Asia/Singapore' SGT+8:00:00 STD>)), ExpenseParseData(username=u'feifei', Description=u'Makan', objectId=u'mrhPsQQjtL', Cash=True, Value=4, ACL={u'XASf98BKrJ': {u'read': True, u'write': True}}, Saldo=10, Tanggal={u'iso': u'2015-09-26T11:55:04.648Z', u'__type': u'Date'}, updatedAt=u'2015-09-26T11:45:52.246Z', Type=u'makan', createdAt=u'2015-09-26T11:45:52.246Z', tanggal_datetime=datetime.datetime(2015, 9, 26, 19, 55, 4, 648000, tzinfo=<DstTzInfo 'Asia/Singapore' SGT+8:00:00 STD>), createdAt_datetime=datetime.datetime(2015, 9, 26, 19, 45, 52, 246000, tzinfo=<DstTzInfo 'Asia/Singapore' SGT+8:00:00 STD>)), ExpenseParseData(username=u'feifei', Description=u'Top up Starhub (no sg lama)', objectId=u'GcwPnt1p7o', Cash=False, Value=6, ACL={u'XASf98BKrJ': {u'read': True, u'write': True}}, Saldo=10, Tanggal={u'iso': u'2015-09-26T12:26:30.689Z', u'__type': u'Date'}, updatedAt=u'2015-09-26T12:26:55.707Z', Type=u'comm', createdAt=u'2015-09-26T12:26:55.707Z', tanggal_datetime=datetime.datetime(2015, 9, 26, 20, 26, 30, 689000, tzinfo=<DstTzInfo 'Asia/Singapore' SGT+8:00:00 STD>), createdAt_datetime=datetime.datetime(2015, 9, 26, 20, 26, 55, 707000, tzinfo=<DstTzInfo 'Asia/Singapore' SGT+8:00:00 STD>)), ExpenseParseData(username=u'feifei', Description=u'Malioboro Jurong Point', objectId=u'eUF5UGh29W', Cash=False, Value=29.74, ACL={u'XASf98BKrJ': {u'read': True, u'write': True}}, Saldo=10, Tanggal={u'iso': u'2015-09-27T04:34:27.040Z', u'__type': u'Date'}, updatedAt=u'2015-09-27T04:35:25.280Z', Type=u'dining', createdAt=u'2015-09-27T04:35:25.280Z', tanggal_datetime=datetime.datetime(2015, 9, 27, 12, 34, 27, 40000, tzinfo=<DstTzInfo 'Asia/Singapore' SGT+8:00:00 STD>), createdAt_datetime=datetime.datetime(2015, 9, 27, 12, 35, 25, 280000, tzinfo=<DstTzInfo 'Asia/Singapore' SGT+8:00:00 STD>)), ExpenseParseData(username=u'feifei', Description=u'Greja', objectId=u'HeEbINw9v0', Cash=True, Value=10, ACL={u'XASf98BKrJ': {u'read': True, u'write': True}}, Saldo=0, Tanggal={u'iso': u'2015-09-26T11:56:00.952Z', u'__type': u'Date'}, updatedAt=u'2015-09-27T04:35:55.096Z', Type=u'giving', createdAt=u'2015-09-27T04:35:55.096Z', tanggal_datetime=datetime.datetime(2015, 9, 26, 19, 56, 0, 952000, tzinfo=<DstTzInfo 'Asia/Singapore' SGT+8:00:00 STD>), createdAt_datetime=datetime.datetime(2015, 9, 27, 12, 35, 55, 96000, tzinfo=<DstTzInfo 'Asia/Singapore' SGT+8:00:00 STD>)), ExpenseParseData(username=u'billy', Description=u'Fair price', objectId=u'K3aBv3JWPr', Cash=False, Value=17.8, ACL={u'Glz7N1JoPa': {u'read': True, u'write': True}}, Saldo=19, Tanggal={u'iso': u'2015-09-27T05:30:35.255Z', u'__type': u'Date'}, updatedAt=u'2015-09-27T05:30:58.623Z', Type=u'groceries', createdAt=u'2015-09-27T05:30:58.623Z', tanggal_datetime=datetime.datetime(2015, 9, 27, 13, 30, 35, 255000, tzinfo=<DstTzInfo 'Asia/Singapore' SGT+8:00:00 STD>), createdAt_datetime=datetime.datetime(2015, 9, 27, 13, 30, 58, 623000, tzinfo=<DstTzInfo 'Asia/Singapore' SGT+8:00:00 STD>)), ExpenseParseData(username=u'feifei', Description=u'Sm billy', objectId=u'8hAss8wVAX', Cash=True, Value=200, ACL={u'XASf98BKrJ': {u'read': True, u'write': True}}, Saldo=200, Tanggal={u'iso': u'2015-09-27T04:46:06.804Z', u'__type': u'Date'}, updatedAt=u'2015-09-27T05:48:02.701Z', Type=u'atm', createdAt=u'2015-09-27T05:48:02.701Z', tanggal_datetime=datetime.datetime(2015, 9, 27, 12, 46, 6, 804000, tzinfo=<DstTzInfo 'Asia/Singapore' SGT+8:00:00 STD>), createdAt_datetime=datetime.datetime(2015, 9, 27, 13, 48, 2, 701000, tzinfo=<DstTzInfo 'Asia/Singapore' SGT+8:00:00 STD>)), ExpenseParseData(username=u'feifei', Description=u'Kasi billy', objectId=u'VyMg46zUGW', Cash=True, Value=100, ACL={u'XASf98BKrJ': {u'read': True, u'write': True}}, Saldo=100, Tanggal={u'iso': u'2015-09-27T05:58:01.846Z', u'__type': u'Date'}, updatedAt=u'2015-09-27T05:48:20.660Z', Type=u'correction_minus', createdAt=u'2015-09-27T05:48:20.660Z', tanggal_datetime=datetime.datetime(2015, 9, 27, 13, 58, 1, 846000, tzinfo=<DstTzInfo 'Asia/Singapore' SGT+8:00:00 STD>), createdAt_datetime=datetime.datetime(2015, 9, 27, 13, 48, 20, 660000, tzinfo=<DstTzInfo 'Asia/Singapore' SGT+8:00:00 STD>)), ExpenseParseData(username=u'billy', Description=u'Atm dari Fei', objectId=u'7SaiB4M2t4', Cash=True, Value=100, ACL={u'Glz7N1JoPa': {u'read': True, u'write': True}}, Saldo=119, Tanggal={u'iso': u'2015-09-27T05:50:51.724Z', u'__type': u'Date'}, updatedAt=u'2015-09-27T05:51:22.721Z', Type=u'correction_plus', createdAt=u'2015-09-27T05:51:22.721Z', tanggal_datetime=datetime.datetime(2015, 9, 27, 13, 50, 51, 724000, tzinfo=<DstTzInfo 'Asia/Singapore' SGT+8:00:00 STD>), createdAt_datetime=datetime.datetime(2015, 9, 27, 13, 51, 22, 721000, tzinfo=<DstTzInfo 'Asia/Singapore' SGT+8:00:00 STD>)), ExpenseParseData(username=u'billy', Description=u'Pisang', objectId=u'NZBD2HqdBz', Cash=True, Value=4, ACL={u'Glz7N1JoPa': {u'read': True, u'write': True}}, Saldo=115, Tanggal={u'iso': u'2015-09-27T05:51:20.661Z', u'__type': u'Date'}, updatedAt=u'2015-09-27T05:52:00.306Z', Type=u'makan', createdAt=u'2015-09-27T05:52:00.306Z', tanggal_datetime=datetime.datetime(2015, 9, 27, 13, 51, 20, 661000, tzinfo=<DstTzInfo 'Asia/Singapore' SGT+8:00:00 STD>), createdAt_datetime=datetime.datetime(2015, 9, 27, 13, 52, 0, 306000, tzinfo=<DstTzInfo 'Asia/Singapore' SGT+8:00:00 STD>)), ExpenseParseData(username=u'billy', Description=u'Grj', objectId=u'gQHLV1u41U', Cash=True, Value=10, ACL={u'Glz7N1JoPa': {u'read': True, u'write': True}}, Saldo=105, Tanggal={u'iso': u'2015-09-27T05:51:59.113Z', u'__type': u'Date'}, updatedAt=u'2015-09-27T05:52:28.488Z', Type=u'giving', createdAt=u'2015-09-27T05:52:28.488Z', tanggal_datetime=datetime.datetime(2015, 9, 27, 13, 51, 59, 113000, tzinfo=<DstTzInfo 'Asia/Singapore' SGT+8:00:00 STD>), createdAt_datetime=datetime.datetime(2015, 9, 27, 13, 52, 28, 488000, tzinfo=<DstTzInfo 'Asia/Singapore' SGT+8:00:00 STD>)), ExpenseParseData(username=u'billy', Description=u'Dinner di kantor', objectId=u'blWbJU8zMB', Cash=True, Value=5, ACL={u'Glz7N1JoPa': {u'read': True, u'write': True}}, Saldo=100, Tanggal={u'iso': u'2015-09-28T10:34:22.544Z', u'__type': u'Date'}, updatedAt=u'2015-09-28T10:34:41.590Z', Type=u'makan', createdAt=u'2015-09-28T10:34:41.590Z', tanggal_datetime=datetime.datetime(2015, 9, 28, 18, 34, 22, 544000, tzinfo=<DstTzInfo 'Asia/Singapore' SGT+8:00:00 STD>), createdAt_datetime=datetime.datetime(2015, 9, 28, 18, 34, 41, 590000, tzinfo=<DstTzInfo 'Asia/Singapore' SGT+8:00:00 STD>)), ExpenseParseData(username=u'feifei', Description=u'Dinner', objectId=u'o7PHjZyXPa', Cash=True, Value=5, ACL={u'XASf98BKrJ': {u'read': True, u'write': True}}, Saldo=95, Tanggal={u'iso': u'2015-09-28T12:54:43.401Z', u'__type': u'Date'}, updatedAt=u'2015-09-28T12:45:18.397Z', Type=u'makan', createdAt=u'2015-09-28T12:45:18.397Z', tanggal_datetime=datetime.datetime(2015, 9, 28, 20, 54, 43, 401000, tzinfo=<DstTzInfo 'Asia/Singapore' SGT+8:00:00 STD>), createdAt_datetime=datetime.datetime(2015, 9, 28, 20, 45, 18, 397000, tzinfo=<DstTzInfo 'Asia/Singapore' SGT+8:00:00 STD>)), ExpenseParseData(username=u'billy', Description=u'Lunch', objectId=u'dl1mGiQTBQ', Cash=True, Value=5, ACL={u'Glz7N1JoPa': {u'read': True, u'write': True}}, Saldo=95, Tanggal={u'iso': u'2015-09-29T03:38:25.192Z', u'__type': u'Date'}, updatedAt=u'2015-09-29T03:38:44.786Z', Type=u'makan', createdAt=u'2015-09-29T03:38:44.786Z', tanggal_datetime=datetime.datetime(2015, 9, 29, 11, 38, 25, 192000, tzinfo=<DstTzInfo 'Asia/Singapore' SGT+8:00:00 STD>), createdAt_datetime=datetime.datetime(2015, 9, 29, 11, 38, 44, 786000, tzinfo=<DstTzInfo 'Asia/Singapore' SGT+8:00:00 STD>)), ExpenseParseData(username=u'feifei', Description=u'Makan siang', objectId=u'6tYbCQBd1M', Cash=True, Value=10, ACL={u'XASf98BKrJ': {u'read': True, u'write': True}}, Saldo=85, Tanggal={u'iso': u'2015-09-29T10:37:30.528Z', u'__type': u'Date'}, updatedAt=u'2015-09-29T10:27:50.332Z', Type=u'makan', createdAt=u'2015-09-29T10:27:50.332Z', tanggal_datetime=datetime.datetime(2015, 9, 29, 18, 37, 30, 528000, tzinfo=<DstTzInfo 'Asia/Singapore' SGT+8:00:00 STD>), createdAt_datetime=datetime.datetime(2015, 9, 29, 18, 27, 50, 332000, tzinfo=<DstTzInfo 'Asia/Singapore' SGT+8:00:00 STD>)), ExpenseParseData(username=u'feifei', Description=u'Beli rak kukusan', objectId=u'fbzsfkXca5', Cash=True, Value=3, ACL={u'XASf98BKrJ': {u'read': True, u'write': True}}, Saldo=82, Tanggal={u'iso': u'2015-09-29T10:37:48.042Z', u'__type': u'Date'}, updatedAt=u'2015-09-29T10:28:22.071Z', Type=u'other', createdAt=u'2015-09-29T10:28:22.071Z', tanggal_datetime=datetime.datetime(2015, 9, 29, 18, 37, 48, 42000, tzinfo=<DstTzInfo 'Asia/Singapore' SGT+8:00:00 STD>), createdAt_datetime=datetime.datetime(2015, 9, 29, 18, 28, 22, 71000, tzinfo=<DstTzInfo 'Asia/Singapore' SGT+8:00:00 STD>)), ExpenseParseData(username=u'feifei', Description=u'Makan malam', objectId=u'seAxjVfi5T', Cash=True, Value=6, ACL={u'XASf98BKrJ': {u'read': True, u'write': True}}, Saldo=76, Tanggal={u'iso': u'2015-09-29T10:38:21.339Z', u'__type': u'Date'}, updatedAt=u'2015-09-29T10:28:42.515Z', Type=u'makan', createdAt=u'2015-09-29T10:28:42.515Z', tanggal_datetime=datetime.datetime(2015, 9, 29, 18, 38, 21, 339000, tzinfo=<DstTzInfo 'Asia/Singapore' SGT+8:00:00 STD>), createdAt_datetime=datetime.datetime(2015, 9, 29, 18, 28, 42, 515000, tzinfo=<DstTzInfo 'Asia/Singapore' SGT+8:00:00 STD>)), ExpenseParseData(username=u'billy', Description=u'Dinner', objectId=u'l6q3zTOXgW', Cash=True, Value=5, ACL={u'Glz7N1JoPa': {u'read': True, u'write': True}}, Saldo=90, Tanggal={u'iso': u'2015-09-29T00:00:00.000Z', u'__type': u'Date'}, updatedAt=u'2015-09-30T03:11:23.457Z', Type=u'makan', createdAt=u'2015-09-30T03:11:23.457Z', tanggal_datetime=datetime.datetime(2015, 9, 29, 8, 0, tzinfo=<DstTzInfo 'Asia/Singapore' SGT+8:00:00 STD>), createdAt_datetime=datetime.datetime(2015, 9, 30, 11, 11, 23, 457000, tzinfo=<DstTzInfo 'Asia/Singapore' SGT+8:00:00 STD>)), ExpenseParseData(username=u'feifei', Description=u'Uang kas anak kampus', objectId=u'7eQEwUuZux', Cash=True, Value=10, ACL={u'XASf98BKrJ': {u'read': True, u'write': True}}, Saldo=66, Tanggal={u'iso': u'2015-09-29T00:00:00.000Z', u'__type': u'Date'}, updatedAt=u'2015-09-30T03:44:00.014Z', Type=u'other', createdAt=u'2015-09-30T03:44:00.014Z', tanggal_datetime=datetime.datetime(2015, 9, 29, 8, 0, tzinfo=<DstTzInfo 'Asia/Singapore' SGT+8:00:00 STD>), createdAt_datetime=datetime.datetime(2015, 9, 30, 11, 44, 0, 14000, tzinfo=<DstTzInfo 'Asia/Singapore' SGT+8:00:00 STD>)), ExpenseParseData(username=u'billy', Description=u'Lunch', objectId=u'bk3LHTtSHn', Cash=True, Value=3, ACL={u'Glz7N1JoPa': {u'read': True, u'write': True}}, Saldo=87, Tanggal={u'iso': u'2015-09-30T03:55:52.848Z', u'__type': u'Date'}, updatedAt=u'2015-09-30T03:56:02.120Z', Type=u'makan', createdAt=u'2015-09-30T03:56:02.120Z', tanggal_datetime=datetime.datetime(2015, 9, 30, 11, 55, 52, 848000, tzinfo=<DstTzInfo 'Asia/Singapore' SGT+8:00:00 STD>), createdAt_datetime=datetime.datetime(2015, 9, 30, 11, 56, 2, 120000, tzinfo=<DstTzInfo 'Asia/Singapore' SGT+8:00:00 STD>)), ExpenseParseData(username=u'billy', Description=u'Dinner', objectId=u'oewrohRq9X', Cash=True, Value=9, ACL={u'Glz7N1JoPa': {u'read': True, u'write': True}}, Saldo=78, Tanggal={u'iso': u'2015-09-30T13:26:31.704Z', u'__type': u'Date'}, updatedAt=u'2015-09-30T13:27:12.003Z', Type=u'makan', createdAt=u'2015-09-30T13:27:12.003Z', tanggal_datetime=datetime.datetime(2015, 9, 30, 21, 26, 31, 704000, tzinfo=<DstTzInfo 'Asia/Singapore' SGT+8:00:00 STD>), createdAt_datetime=datetime.datetime(2015, 9, 30, 21, 27, 12, 3000, tzinfo=<DstTzInfo 'Asia/Singapore' SGT+8:00:00 STD>))]\n"
       ]
      }
     ],
     "prompt_number": 7
    },
    {
     "cell_type": "code",
     "collapsed": false,
     "input": [
      "type(item.Type)"
     ],
     "language": "python",
     "metadata": {},
     "outputs": [
      {
       "metadata": {},
       "output_type": "pyout",
       "prompt_number": 25,
       "text": [
        "unicode"
       ]
      }
     ],
     "prompt_number": 25
    },
    {
     "cell_type": "code",
     "collapsed": false,
     "input": [
      "for item in result:\n",
      "    #print item.username, item.Description, item.Cash, item.Value, item.Saldo, item.tanggal_datetime, item.Type, item.createdAt_datetime\n",
      "    print item.tanggal_datetime, item.createdAt_datetime, item.username, item.Description, item.Cash, item.Value, item.Saldo, item.Type"
     ],
     "language": "python",
     "metadata": {},
     "outputs": [
      {
       "output_type": "stream",
       "stream": "stdout",
       "text": [
        "2015-09-21 13:25:42.062000+08:00 2015-09-21 13:16:11.880000+08:00 feifei Kaya toast for brekfast True 5 30 makan\n",
        "2015-09-21 14:45:32.650000+08:00 2015-09-21 14:47:48.843000+08:00 billy Lunch True 5 58 makan\n",
        "2015-09-21 13:26:31.007000+08:00 2015-09-21 18:30:17.413000+08:00 feifei Makan siang & minum True 8 22 makan\n",
        "2015-09-21 19:28:04.372000+08:00 2015-09-21 19:28:36.845000+08:00 billy Dinner at fusionpolis True 5 53 makan\n",
        "2015-09-21 23:21:47.606000+08:00 2015-09-21 23:12:01.984000+08:00 feifei Beli snack True 2 20 makan\n",
        "2015-09-22 12:08:49.076000+08:00 2015-09-22 12:09:18.701000+08:00 billy Lunch True 8 45 makan\n",
        "2015-09-22 13:14:56.653000+08:00 2015-09-22 13:05:32.945000+08:00 feifei Beli roti buat breakfast True 2 18 makan\n",
        "2015-09-21 08:00:00+08:00 2015-09-22 13:05:53.845000+08:00 feifei Beli lemon semalem True 2 16 makan\n",
        "2015-09-22 13:16:08.635000+08:00 2015-09-22 16:28:06.371000+08:00 feifei Makan siang True 10 6 makan\n",
        "2015-09-22 16:38:08.555000+08:00 2015-09-22 16:28:34.430000+08:00 feifei Atm ocbc st tanjong pagar True 100 106 atm\n",
        "2015-09-22 21:40:36.812000+08:00 2015-09-22 21:40:50.564000+08:00 billy Dinner True 5 40 makan\n",
        "2015-09-22 21:42:28.944000+08:00 2015-09-22 22:02:45.040000+08:00 billy Lebih di dompet??? True 10 50 correction_plus\n",
        "2015-09-22 22:40:13.225000+08:00 2015-09-22 22:30:28.431000+08:00 feifei Makan malam True 5 101 makan\n",
        "2015-09-22 22:40:36.887000+08:00 2015-09-22 22:31:23.528000+08:00 feifei Bayar temen titip makan True 21 80 makan\n",
        "2015-09-22 22:41:47.401000+08:00 2015-09-22 23:35:45.345000+08:00 feifei Beli roti tawar, keju True 8 72 groceries\n",
        "2015-09-23 16:26:21.146000+08:00 2015-09-23 16:26:56.318000+08:00 billy Lunch True 3 47 makan\n",
        "2015-09-23 20:42:18.891000+08:00 2015-09-23 20:42:33.840000+08:00 billy Dinner True 3 44 makan\n",
        "2015-09-23 08:00:00+08:00 2015-09-24 09:36:25.857000+08:00 feifei Makan malam True 6 66 makan\n",
        "2015-09-24 16:24:08.170000+08:00 2015-09-24 16:24:38.013000+08:00 billy Makan waktu libur True 5 39 makan\n",
        "2015-09-24 16:28:47.549000+08:00 2015-09-24 16:29:52.186000+08:00 billy Internet starhub kos False 29.9 39 comm\n",
        "2015-09-25 10:54:35.614000+08:00 2015-09-25 10:55:00.784000+08:00 billy Ezlink top up False 30 39 transport\n",
        "2015-09-25 20:34:19.920000+08:00 2015-09-25 20:34:54.215000+08:00 billy Makan hari ini True 9 30 makan\n",
        "2015-09-24 08:00:00+08:00 2015-09-25 22:02:47.913000+08:00 feifei Makan satu hari True 11 55 makan\n",
        "2015-09-24 08:00:00+08:00 2015-09-25 22:03:33.186000+08:00 feifei Beli sayur True 12 43 groceries\n",
        "2015-09-25 22:04:15.909000+08:00 2015-09-25 22:03:58.062000+08:00 feifei Lunch True 7 36 makan\n",
        "2015-09-25 22:04:23.099000+08:00 2015-09-25 22:04:04.899000+08:00 feifei Dinner True 8 28 makan\n",
        "2015-09-26 13:33:51.218000+08:00 2015-09-26 13:34:16.663000+08:00 billy Lunch (sabtu lembur at fp) True 5 25 makan\n",
        "2015-09-26 13:34:15.480000+08:00 2015-09-26 13:35:19.044000+08:00 billy Correction True 6 19 makan\n",
        "2015-09-26 19:54:20.184000+08:00 2015-09-26 19:44:35.594000+08:00 feifei MOS Burger JP True 14 14 makan\n",
        "2015-09-26 19:55:04.648000+08:00 2015-09-26 19:45:52.246000+08:00 feifei Makan True 4 10 makan\n",
        "2015-09-26 20:26:30.689000+08:00 2015-09-26 20:26:55.707000+08:00 feifei Top up Starhub (no sg lama) False 6 10 comm\n",
        "2015-09-27 12:34:27.040000+08:00 2015-09-27 12:35:25.280000+08:00 feifei Malioboro Jurong Point False 29.74 10 dining\n",
        "2015-09-26 19:56:00.952000+08:00 2015-09-27 12:35:55.096000+08:00 feifei Greja True 10 0 giving\n",
        "2015-09-27 13:30:35.255000+08:00 2015-09-27 13:30:58.623000+08:00 billy Fair price False 17.8 19 groceries\n",
        "2015-09-27 12:46:06.804000+08:00 2015-09-27 13:48:02.701000+08:00 feifei Sm billy True 200 200 atm\n",
        "2015-09-27 13:58:01.846000+08:00 2015-09-27 13:48:20.660000+08:00 feifei Kasi billy True 100 100 correction_minus\n",
        "2015-09-27 13:50:51.724000+08:00 2015-09-27 13:51:22.721000+08:00 billy Atm dari Fei True 100 119 correction_plus\n",
        "2015-09-27 13:51:20.661000+08:00 2015-09-27 13:52:00.306000+08:00 billy Pisang True 4 115 makan\n",
        "2015-09-27 13:51:59.113000+08:00 2015-09-27 13:52:28.488000+08:00 billy Grj True 10 105 giving\n",
        "2015-09-28 18:34:22.544000+08:00 2015-09-28 18:34:41.590000+08:00 billy Dinner di kantor True 5 100 makan\n",
        "2015-09-28 20:54:43.401000+08:00 2015-09-28 20:45:18.397000+08:00 feifei Dinner True 5 95 makan\n",
        "2015-09-29 11:38:25.192000+08:00 2015-09-29 11:38:44.786000+08:00 billy Lunch True 5 95 makan\n",
        "2015-09-29 18:37:30.528000+08:00 2015-09-29 18:27:50.332000+08:00 feifei Makan siang True 10 85 makan\n",
        "2015-09-29 18:37:48.042000+08:00 2015-09-29 18:28:22.071000+08:00 feifei Beli rak kukusan True 3 82 other\n",
        "2015-09-29 18:38:21.339000+08:00 2015-09-29 18:28:42.515000+08:00 feifei Makan malam True 6 76 makan\n",
        "2015-09-29 08:00:00+08:00 2015-09-30 11:11:23.457000+08:00 billy Dinner True 5 90 makan\n",
        "2015-09-29 08:00:00+08:00 2015-09-30 11:44:00.014000+08:00 feifei Uang kas anak kampus True 10 66 other\n",
        "2015-09-30 11:55:52.848000+08:00 2015-09-30 11:56:02.120000+08:00 billy Lunch True 3 87 makan\n",
        "2015-09-30 21:26:31.704000+08:00 2015-09-30 21:27:12.003000+08:00 billy Dinner True 9 78 makan\n"
       ]
      }
     ],
     "prompt_number": 8
    },
    {
     "cell_type": "code",
     "collapsed": false,
     "input": [
      "import openpyxl\n",
      "wb = openpyxl.load_workbook('test_py_styles.xlsx')\n",
      "wb_data = openpyxl.load_workbook('test_py_styles.xlsx', data_only = True)\n",
      "#sheet = wb.get_sheet_by_name('Sheet')\n",
      "#sheet_data = wb_data.get_sheet_by_name('Sheet')\n"
     ],
     "language": "python",
     "metadata": {},
     "outputs": [],
     "prompt_number": 70
    },
    {
     "cell_type": "code",
     "collapsed": false,
     "input": [
      "new_work_sheet = wb.create_sheet()\n",
      "#new_work_sheet.title = \"MingguanParseFeiSept\"\n",
      "new_work_sheet.title = \"MingguanParseBillySept\""
     ],
     "language": "python",
     "metadata": {},
     "outputs": [],
     "prompt_number": 63
    },
    {
     "cell_type": "code",
     "collapsed": false,
     "input": [
      "wb.remove_sheet(new_work_sheet)"
     ],
     "language": "python",
     "metadata": {},
     "outputs": [],
     "prompt_number": 55
    },
    {
     "cell_type": "code",
     "collapsed": false,
     "input": [
      "wb.save('test_py_styles.xlsx')"
     ],
     "language": "python",
     "metadata": {},
     "outputs": [],
     "prompt_number": 69
    },
    {
     "cell_type": "code",
     "collapsed": false,
     "input": [
      "#titles = ['Date','InputDate','User','Keterangan','CashYa?','Value','Saldo','Category']\n",
      "titles = ['Date','InputDate','Keterangan','CashYa?','Value','Saldo','Category','makan','dining','groceries','transport','comm','giving','other','recurr','atm','indo','big','saving','correction_plus','correction_minus']\n",
      "column_index = 1\n",
      "for string in titles:\n",
      "    new_work_sheet.cell(column=column_index,row=1).value = string\n",
      "    column_index = column_index + 1"
     ],
     "language": "python",
     "metadata": {},
     "outputs": [],
     "prompt_number": 64
    },
    {
     "cell_type": "code",
     "collapsed": false,
     "input": [
      "titles_column = dict(zip(titles,range(1,22)))\n",
      "titles_column"
     ],
     "language": "python",
     "metadata": {},
     "outputs": [
      {
       "metadata": {},
       "output_type": "pyout",
       "prompt_number": 65,
       "text": [
        "{'CashYa?': 4,\n",
        " 'Category': 7,\n",
        " 'Date': 1,\n",
        " 'InputDate': 2,\n",
        " 'Keterangan': 3,\n",
        " 'Saldo': 6,\n",
        " 'Value': 5,\n",
        " 'atm': 16,\n",
        " 'big': 18,\n",
        " 'comm': 12,\n",
        " 'correction_minus': 21,\n",
        " 'correction_plus': 20,\n",
        " 'dining': 9,\n",
        " 'giving': 13,\n",
        " 'groceries': 10,\n",
        " 'indo': 17,\n",
        " 'makan': 8,\n",
        " 'other': 14,\n",
        " 'recurr': 15,\n",
        " 'saving': 19,\n",
        " 'transport': 11}"
       ]
      }
     ],
     "prompt_number": 65
    },
    {
     "cell_type": "code",
     "collapsed": false,
     "input": [
      "from openpyxl.styles import PatternFill, Border, Side, Alignment, Protection, Font, Style, Color\n",
      "from openpyxl.cell import coordinate_from_string, column_index_from_string, get_column_letter\n",
      "\n",
      "row_index = 2\n",
      "for item in result:\n",
      "    #if item.username == 'feifei' and item.tanggal_datetime.day>20 and item.tanggal_datetime.day<28 and item.tanggal_datetime.month==9:\n",
      "    if item.username == 'billy' and item.tanggal_datetime.day>20 and item.tanggal_datetime.day<28 and item.tanggal_datetime.month==9:\n",
      "        if row_index == 2:\n",
      "            for i in range (8,22): \n",
      "                new_work_sheet.cell(column=i,row=row_index).value = 0\n",
      "            if item.Cash:\n",
      "                new_work_sheet.cell(column=titles_column[item.Type],row=row_index).value = item.Value\n",
      "        else:\n",
      "            for i in range (8,22): \n",
      "                new_work_sheet.cell(column=i,row=row_index).value = new_work_sheet.cell(column=i,row=row_index-1).value\n",
      "            if item.Cash:\n",
      "                new_work_sheet.cell(column=titles_column[item.Type],row=row_index).value = item.Value+\\\n",
      "                  new_work_sheet.cell(column=titles_column[item.Type],row=row_index-1).value\n",
      "        \n",
      "        new_work_sheet.cell(column=titles_column['Keterangan'],row=row_index).value = item.Description\n",
      "        new_work_sheet.cell(column=titles_column['CashYa?'],row=row_index).value = item.Cash\n",
      "        new_work_sheet.cell(column=titles_column['Value'],row=row_index).value = item.Value\n",
      "        new_work_sheet.cell(column=titles_column['Saldo'],row=row_index).value = item.Saldo\n",
      "        new_work_sheet.cell(column=titles_column['Category'],row=row_index).value = item.Type\n",
      "        \n",
      "        new_work_sheet[get_column_letter(titles_column['Date'])+str(row_index)] = item.tanggal_datetime\n",
      "        new_work_sheet[get_column_letter(titles_column['Date'])+str(row_index)].number_format='[$-F800]dddd\\\\,\\\\ mmmm\\\\ dd\\\\,\\\\ yyyy'\n",
      "        new_work_sheet[get_column_letter(titles_column['InputDate'])+str(row_index)] = item.createdAt_datetime\n",
      "        new_work_sheet[get_column_letter(titles_column['InputDate'])+str(row_index)].number_format='[$-F800]dddd\\\\,\\\\ mmmm\\\\ dd\\\\,\\\\ yyyy'\n",
      "        row_index = row_index + 1\n"
     ],
     "language": "python",
     "metadata": {},
     "outputs": [],
     "prompt_number": 67
    },
    {
     "cell_type": "code",
     "collapsed": false,
     "input": [
      "new_work_sheet.column_dimensions['A'].width = 32\n",
      "new_work_sheet.column_dimensions['B'].width = 32\n",
      "new_work_sheet.column_dimensions['C'].width = 25\n"
     ],
     "language": "python",
     "metadata": {},
     "outputs": [],
     "prompt_number": 68
    },
    {
     "cell_type": "code",
     "collapsed": false,
     "input": [],
     "language": "python",
     "metadata": {},
     "outputs": []
    },
    {
     "cell_type": "code",
     "collapsed": false,
     "input": [
      "titles = ['makan','dining','groceries','transport','comm','giving','other','recurr','atm','indo','big','saving','correction_plus','correction_minus']\n",
      "column_index = 8\n",
      "for string in titles:\n",
      "    new_work_sheet.cell(column=column_index,row=1).value = string\n",
      "    column_index = column_index + 1\n",
      "titles_column = dict(zip(titles,range(8,22)))\n",
      "titles_column"
     ],
     "language": "python",
     "metadata": {},
     "outputs": [
      {
       "metadata": {},
       "output_type": "pyout",
       "prompt_number": 39,
       "text": [
        "{'atm': 16,\n",
        " 'big': 18,\n",
        " 'comm': 12,\n",
        " 'correction_minus': 21,\n",
        " 'correction_plus': 20,\n",
        " 'dining': 9,\n",
        " 'giving': 13,\n",
        " 'groceries': 10,\n",
        " 'indo': 17,\n",
        " 'makan': 8,\n",
        " 'other': 14,\n",
        " 'recurr': 15,\n",
        " 'saving': 19,\n",
        " 'transport': 11}"
       ]
      }
     ],
     "prompt_number": 39
    },
    {
     "cell_type": "code",
     "collapsed": false,
     "input": [
      "print result[\"results\"][0][\"createdAt\"]"
     ],
     "language": "python",
     "metadata": {},
     "outputs": [
      {
       "output_type": "stream",
       "stream": "stdout",
       "text": [
        "2015-09-14T12:10:00.793Z\n"
       ]
      }
     ],
     "prompt_number": 5
    },
    {
     "cell_type": "code",
     "collapsed": false,
     "input": [
      "connection = httplib.HTTPSConnection('api.parse.com', 443)\n",
      "params = urllib.urlencode({\"where\":json.dumps({\n",
      "       \"createdAt\": {\n",
      "             \"$gte\": '2015-09-14T12:42:52.441Z'\n",
      "       }\n",
      "     })})\n",
      "connection.connect()\n",
      "connection.request('GET', '/1/classes/Expenses?%s' % params, '', {\n",
      "       \"X-Parse-Application-Id\": \"dCxojn2rtpic9RlfY6mjwTqWHNjHqsUOvwzPTl0Y\",\n",
      "       \"X-Parse-REST-API-Key\": \"XzDkpbFjOPkJhW9fBHCPZGZ3mGgwk1C0GHFVeMKb\"\n",
      "     })\n",
      "result = json.loads(connection.getresponse().read())\n",
      "print result"
     ],
     "language": "python",
     "metadata": {},
     "outputs": [
      {
       "output_type": "stream",
       "stream": "stdout",
       "text": [
        "{u'results': [{u'Description': u'dinner', u'objectId': u'9YC72WDkjy', u'Value': 3.84, u'Saldo': 0, u'Tanggal': {u'iso': u'2015-09-14T12:42:40.442Z', u'__type': u'Date'}, u'updatedAt': u'2015-09-14T12:42:52.441Z', u'Type': u'makan', u'createdAt': u'2015-09-14T12:42:52.441Z'}]}\n"
       ]
      }
     ],
     "prompt_number": 19
    },
    {
     "cell_type": "code",
     "collapsed": false,
     "input": [
      "len(result['results'])"
     ],
     "language": "python",
     "metadata": {},
     "outputs": [
      {
       "metadata": {},
       "output_type": "pyout",
       "prompt_number": 20,
       "text": [
        "1"
       ]
      }
     ],
     "prompt_number": 20
    },
    {
     "cell_type": "code",
     "collapsed": false,
     "input": [
      "import datetime\n",
      "import pytz\n",
      "import dateutil.parser\n",
      "\n",
      "tz =  pytz.timezone('Asia/Singapore')\n",
      "\n",
      "when = '2015-09-14T12:42:52.441Z'\n",
      "\n",
      "_when = dateutil.parser.parse(when)\n",
      "\n",
      "if not _when.tzinfo:\n",
      "  _when = tz.localize(_when)\n",
      "print _when"
     ],
     "language": "python",
     "metadata": {},
     "outputs": [
      {
       "output_type": "stream",
       "stream": "stdout",
       "text": [
        "2015-09-14 12:42:52.441000+00:00\n"
       ]
      }
     ],
     "prompt_number": 1
    },
    {
     "cell_type": "code",
     "collapsed": false,
     "input": [
      "_when"
     ],
     "language": "python",
     "metadata": {},
     "outputs": [
      {
       "metadata": {},
       "output_type": "pyout",
       "prompt_number": 15,
       "text": [
        "datetime.datetime(2015, 9, 14, 12, 8, 15, 618000, tzinfo=tzutc())"
       ]
      }
     ],
     "prompt_number": 15
    },
    {
     "cell_type": "code",
     "collapsed": false,
     "input": [
      "tz"
     ],
     "language": "python",
     "metadata": {},
     "outputs": [
      {
       "metadata": {},
       "output_type": "pyout",
       "prompt_number": 16,
       "text": [
        "<DstTzInfo 'Asia/Singapore' LMT+6:55:00 STD>"
       ]
      }
     ],
     "prompt_number": 16
    },
    {
     "cell_type": "code",
     "collapsed": false,
     "input": [
      "print _when.astimezone(tz)"
     ],
     "language": "python",
     "metadata": {},
     "outputs": [
      {
       "output_type": "stream",
       "stream": "stdout",
       "text": [
        "2015-09-14 20:42:52.441000+08:00\n"
       ]
      }
     ],
     "prompt_number": 22
    },
    {
     "cell_type": "code",
     "collapsed": false,
     "input": [
      "__when = _when.astimezone(tz)"
     ],
     "language": "python",
     "metadata": {},
     "outputs": [],
     "prompt_number": 3
    },
    {
     "cell_type": "code",
     "collapsed": false,
     "input": [
      "__when"
     ],
     "language": "python",
     "metadata": {},
     "outputs": [
      {
       "metadata": {},
       "output_type": "pyout",
       "prompt_number": 4,
       "text": [
        "datetime.datetime(2015, 9, 14, 20, 42, 52, 441000, tzinfo=<DstTzInfo 'Asia/Singapore' SGT+8:00:00 STD>)"
       ]
      }
     ],
     "prompt_number": 4
    },
    {
     "cell_type": "code",
     "collapsed": false,
     "input": [
      "print __when > _when\n",
      "print __when < _when\n",
      "print __when == _when\n"
     ],
     "language": "python",
     "metadata": {},
     "outputs": [
      {
       "output_type": "stream",
       "stream": "stdout",
       "text": [
        "False\n",
        "False\n",
        "True\n"
       ]
      }
     ],
     "prompt_number": 6
    },
    {
     "cell_type": "code",
     "collapsed": false,
     "input": [
      "__when.hour, __when.minute, __when.second, __when.microsecond"
     ],
     "language": "python",
     "metadata": {},
     "outputs": [
      {
       "metadata": {},
       "output_type": "pyout",
       "prompt_number": 11,
       "text": [
        "(20, 42, 52, 441000)"
       ]
      }
     ],
     "prompt_number": 11
    },
    {
     "cell_type": "code",
     "collapsed": false,
     "input": [
      "__when.day, __when.year, __when.month"
     ],
     "language": "python",
     "metadata": {},
     "outputs": [
      {
       "metadata": {},
       "output_type": "pyout",
       "prompt_number": 13,
       "text": [
        "(14, 2015, 9)"
       ]
      }
     ],
     "prompt_number": 13
    },
    {
     "cell_type": "code",
     "collapsed": false,
     "input": [
      "import sys,csv"
     ],
     "language": "python",
     "metadata": {},
     "outputs": [],
     "prompt_number": 1
    },
    {
     "cell_type": "code",
     "collapsed": false,
     "input": [
      "f = open('TransactionHistory_20150920092712.csv', 'rt')\n",
      "try:\n",
      "    reader = csv.reader(f)\n",
      "    for row in reader:\n",
      "        print row\n",
      "        if (len(row) == 2) and row[0] == 'Available ':\n",
      "            _saldo_ocbc = float(row[1].replace(',',''))\n",
      "            print 'got saldo ', _saldo_ocbc\n",
      "finally:\n",
      "    f.close()"
     ],
     "language": "python",
     "metadata": {},
     "outputs": [
      {
       "output_type": "stream",
       "stream": "stdout",
       "text": [
        "['Account details for:', 'Savings Account 622-7-109128']\n",
        "['Available ', '5,982.19']\n",
        "got saldo  5982.19\n",
        "['Balance', '5,982.19']\n",
        "[]\n",
        "['Transaction History ']\n",
        "['Transaction date', 'Value date', 'Description', 'Withdrawals (SGD)', 'Deposits (SGD)']\n",
        "['18/09/2015', '18/09/2015', 'PURCHASE        NETS', '30.00', '']\n",
        "['', '', 'THANK YOU                CITY HALL  SMRT - CTH ']\n",
        "['18/09/2015', '18/09/2015', 'PURCHASE        NETS', '1,010.00', '']\n",
        "['', '', 'THANK YOU                ROBINSON  SINGPOST ']\n",
        "['17/09/2015', '17/09/2015', 'FAST PAYMENT', '970.00', '']\n",
        "['', '', 'Transferred from OCBC UOVB 3693749407 OTHR Uncle Jeff ']\n",
        "['17/09/2015', '17/09/2015', '3RD PTY TRANSFER', '300.00', '']\n",
        "['', '', 'VBS']\n",
        "['17/09/2015', '17/09/2015', 'FAST PAYMENT', '1,000.00', '']\n",
        "['', '', 'Transferred from OCBC DBSS 0204069022 OTHR Billy Saputra ']\n",
        "['17/09/2015', '17/09/2015', 'PURCHASE        NETS', '20.25', '']\n",
        "['', '', 'COMFORT TAXIS            THANK YOU  COMFORT TR ']\n",
        "['16/09/2015', '16/09/2015', 'CASH WITHDRAWAL  ATM', '100.00', '']\n",
        "['', '', 'OCBC-AMOY ST FOOD CENTRE SINGAPORE']\n",
        "['15/09/2015', '15/09/2015', 'PURCHASE        NETS', '12.70', '']\n",
        "['', '', 'HAVE A NCIE DAY!         GUARDIAN  GUARDIAN H ']\n",
        "['14/09/2015', '14/09/2015', 'GIRO - SALARY', '', '5,083.00']\n",
        "['', '', '000001053295 INSTITUTE FOR INFOC SALA ']\n",
        "['09/09/2015', '09/09/2015', 'CASH WITHDRAWAL  ATM', '100.00', '']\n",
        "['', '', 'OCBC-31 JURONG WEST ST 63SINGAPORE']\n",
        "['09/09/2015', '09/09/2015', 'PURCHASE        NETS', '30.00', '']\n",
        "['', '', 'THANK YOU                ORCHARD  SMRT-ORC ']\n",
        "['08/09/2015', '08/09/2015', 'PURCHASE        NETS', '24.60', '']\n",
        "['', '', 'COMFORT TAXIS            THANK YOU  COMFORT TR ']\n",
        "['07/09/2015', '07/09/2015', 'PURCHASE        NETS', '37.10', '']\n",
        "['', '', 'THANK YOU                BRAS BASA  0481431MLC ']\n",
        "['02/09/2015', '02/09/2015', 'PURCHASE        NETS', '30.00', '']\n",
        "['', '', 'THANK YOU                PNR  TRANSIT LI ']\n",
        "['01/09/2015', '31/08/2015', 'INTEREST CREDIT', '', '0.25']\n",
        "['01/09/2015', '01/09/2015', 'IBG GIRO', '462.68', '']\n",
        "['', '', '88854193 *PRUDENTIAL A CO NO COLL 88854193 ']\n",
        "['01/09/2015', '01/09/2015', 'IBG GIRO', '405.93', '']\n",
        "['', '', '88854193 *PRUDENTIAL A CO NO COLL 88854193 ']\n",
        "['28/08/2015', '28/08/2015', 'CASH WITHDRAWAL  ATM', '100.00', '']\n",
        "['', '', 'OCBC-31 JURONG WEST ST 63SINGAPORE']\n",
        "['24/08/2015', '24/08/2015', 'CASH WITHDRAWAL  ATM', '100.00', '']\n",
        "['', '', 'OCBC-RAFFLES MRT B1-50   SINGAPORE']\n",
        "['23/08/2015', '24/08/2015', 'TOP UP', '30.00', '']\n",
        "['', '', 'OCBC-JURONG POINT        SINGAPORE EZ-LINK TOP UP 1000140012356929 ']\n",
        "['23/08/2015', '24/08/2015', 'SERVICE CHARGE', '0.20', '']\n",
        "['', '', 'OCBC-JURONG POINT        SINGAPORE EZ-LINK TOP UP 1000140012356929 ']\n",
        "['21/08/2015', '21/08/2015', 'FAST PAYMENT', '900.00', '']\n",
        "['', '', 'Transferred from OCBC UOVB 3693749407 OTHR Uncle Jeff ']\n",
        "['21/08/2015', '21/08/2015', 'FAST PAYMENT', '347.41', '']\n",
        "['', '', 'Transferred from OCBC DBSS 0204069022 OTHR Billy Saputra ']\n",
        "['21/08/2015', '21/08/2015', 'FAST PAYMENT', '90.00', '']\n",
        "['', '', 'Transferred from OCBC UOVB 3693749407 OTHR Uncle Jeff ']\n",
        "['21/08/2015', '21/08/2015', '3RD PTY TRANSFER', '300.00', '']\n",
        "['', '', 'VBS']\n",
        "[]\n"
       ]
      }
     ],
     "prompt_number": 2
    },
    {
     "cell_type": "code",
     "collapsed": false,
     "input": [
      "f = open('acb5e3dd9227f4b749d58dc810ed7059.P000000011915007.csv', 'rt')\n",
      "try:\n",
      "    reader = csv.reader(f)\n",
      "    for row in reader:\n",
      "        print row\n",
      "        if (len(row) == 2) and row[0] == 'Available Balance:':\n",
      "            _saldo_dbs = float(row[1].replace(',',''))\n",
      "            print 'got saldo ', _saldo_dbs\n",
      "finally:\n",
      "    f.close()"
     ],
     "language": "python",
     "metadata": {},
     "outputs": [
      {
       "output_type": "stream",
       "stream": "stdout",
       "text": [
        "[]\n",
        "[]\n",
        "[]\n",
        "[]\n",
        "[]\n",
        "[]\n",
        "[]\n",
        "[]\n",
        "[]\n",
        "[]\n",
        "['Account Details For:', 'DBS Savings Plus Account 020-4-069022']\n",
        "['Statement as at:', '20 Sep 2015 ']\n",
        "[]\n",
        "['Available Balance:', '1017.28']\n",
        "got saldo  1017.28\n",
        "['Ledger Balance:', '1070.78']\n",
        "[]\n",
        "['Transaction Date', 'Reference', 'Debit Amount', 'Credit Amount', 'Transaction Ref1', 'Transaction Ref2', 'Transaction Ref3']\n",
        "[]\n",
        "[]\n",
        "['20 Sep 2015', 'POS', ' 89.00', ' ', 'COURTS', '', '', '']\n",
        "['20 Sep 2015', 'POS', ' 19.35', ' ', 'NTUC FP', '', '', '']\n",
        "['18 Sep 2015', 'D2P', ' 43.22', ' ', 'AXS           20150918205056730', '', '', '']\n",
        "['18 Sep 2015', 'AWL', ' 100.00', ' ', '70252266', 'PIONEER MRT 2', '', '', '']\n",
        "['17 Sep 2015', 'POS', ' 20.00', ' ', 'TRANSIT LI', '', '', '']\n",
        "['17 Sep 2015', 'ICT', ' ', ' 1000.00', 'Transferred from OCBC', 'Z621611509170929251557150917092925', 'OTHR', '']\n",
        "['13 Sep 2015', 'D2P', ' 15.00', ' ', 'AXS           20150913142305651', '', '', '']\n",
        "['12 Sep 2015', 'AWL', ' 100.00', ' ', '70252266', 'NTUC CLEM MALL', '', '', '']\n",
        "['12 Sep 2015', 'POS', ' 10.95', ' ', 'NTUC FAIRP', '', '', '']\n",
        "['10 Sep 2015', 'MST', ' 13.80', ' ', 'PAYPAL *MICROSOFTRE OF 40 29 07SEP', '5548-2740-7025-2266', '', '']\n",
        "['09 Sep 2015', 'MST', ' 1.80', ' ', 'PAYPAL *DNREGISTRAR    40 29 07SEP', '5548-2740-7025-2266', '', '']\n",
        "['06 Sep 2015', 'POS', ' 27.07', ' ', 'ETERNAL HA', '', '', '']\n",
        "['04 Sep 2015', 'AWL', ' 100.00', ' ', '70252266', 'PIONEER MRT 2', '', '', '']\n",
        "['04 Sep 2015', 'MST', ' 48.60', ' ', 'WWF-DONATION           SI NG 03SEP', '5548-2740-7025-2266', '', '']\n",
        "['04 Sep 2015', 'MST', ' 9.11', ' ', 'PAYPAL *NETFLIX.COM    40 29 02SEP', '5548-2740-7025-2266', '', '']\n",
        "['02 Sep 2015', 'POS', ' 30.00', ' ', 'TRANSIT LI', '', '', '']\n",
        "['01 Sep 2015', 'POS', ' 15.00', ' ', 'DPAY', 'AXS STATION', '', '', '']\n",
        "['31 Aug 2015', 'INT', ' ', ' 0.04', '', '', '', '']\n",
        "['25 Aug 2015', 'AWL', ' 100.00', ' ', '70252266', 'BUONAVISTA MRT', '', '', '']\n",
        "['25 Aug 2015', 'MST', ' 27.50', ' ', 'PAYPAL *CATHAYCINEP    40 29 22AUG', '5548-2740-7025-2266', '', '']\n",
        "['22 Aug 2015', 'MST', ' 347.41', ' ', 'WP-CITY HARVEST CH     SI NG 20AUG', '5548-2740-7025-2266', '', '']\n",
        "['21 Aug 2015', 'D2P', ' 39.91', ' ', 'AXS           20150821195313763', '', '', '']\n",
        "['21 Aug 2015', 'POS', ' 30.00', ' ', 'TRANSIT LI', '', '', '']\n",
        "['20 Aug 2015', 'ICT', ' ', ' 347.41', 'Transferred from OCBC', 'X621611508202211292831150820221129', 'OTHR', '']\n",
        "['09 Aug 2015', 'MST', ' 13.80', ' ', 'PAYPAL *MICROSOFTRE    40 29 07AUG', '5548-2740-7025-2266', '', '']\n",
        "['09 Aug 2015', 'MST', ' 66.42', ' ', 'JETSTARASFJ3KNR        IN DO 04AUG', '5548-2740-7025-2266 IDR628900.00', '', '']\n",
        "['07 Aug 2015', 'MST', ' 57.84', ' ', 'GARUDA INDONESIA       JA KA 04AUG', '5548-2740-7025-2266 IDR547000.00', '', '']\n",
        "['06 Aug 2015', 'AWL', ' 100.00', ' ', '70252266', 'AIRPORT T1/B1', '', '', '']\n",
        "['05 Aug 2015', 'MST', ' 48.60', ' ', 'WWF-DONATION           SI NG 04AUG', '5548-2740-7025-2266', '', '']\n",
        "['04 Aug 2015', 'ICT', ' ', ' 500.00', 'Transferred from OCBC', 'X621621508042306041038150804230604', 'OTHR', '']\n",
        "['04 Aug 2015', 'MST', ' 8.76', ' ', 'PAYPAL *NETFLIX.COM    40 29 02AUG', '5548-2740-7025-2266', '', '']\n",
        "['04 Aug 2015', 'MST', ' 24.50', ' ', 'GOLDEN VILLAGE MULTIPL SI NG 31JUL', '5548-2740-7025-2266', '', '']\n",
        "['01 Aug 2015', 'POS', ' 30.00', ' ', 'TRANSIT LI', '', '', '']\n",
        "['01 Aug 2015', 'D2P', ' 15.00', ' ', 'AXS           20150801132935936', '', '', '']\n",
        "[]\n",
        "[]\n",
        "[]\n",
        "[]\n",
        "[]\n"
       ]
      }
     ],
     "prompt_number": 3
    },
    {
     "cell_type": "code",
     "collapsed": false,
     "input": [
      "import datetime\n",
      "import re\n",
      "\n",
      "def valid_date(datestring):\n",
      "        try:\n",
      "                mat=re.match('(\\d{2})[/.-](\\d{2})[/.-](\\d{4})$', datestring)\n",
      "                if mat is not None:\n",
      "                        datetime.datetime(*(map(int, mat.groups()[-1::-1])))\n",
      "                        return True\n",
      "        except: # ValueError:\n",
      "                pass\n",
      "        return False"
     ],
     "language": "python",
     "metadata": {},
     "outputs": [],
     "prompt_number": 74
    },
    {
     "cell_type": "code",
     "collapsed": false,
     "input": [
      "import datetime\n",
      "import re\n",
      "\n",
      "def get_valid_date(datestring):\n",
      "        try:\n",
      "                mat=re.match('(\\d{2})[/.-](\\d{2})[/.-](\\d{4})$', datestring)\n",
      "                #print mat\n",
      "                if mat is not None:\n",
      "                        date = datetime.datetime(*(map(int, mat.groups()[-1::-1])))\n",
      "                        print date\n",
      "                        return date\n",
      "        except: # ValueError:\n",
      "                pass\n",
      "        return None"
     ],
     "language": "python",
     "metadata": {},
     "outputs": [],
     "prompt_number": 75
    },
    {
     "cell_type": "code",
     "collapsed": false,
     "input": [
      "def get_first(iterable, default=None):\n",
      "    if iterable:\n",
      "        for item in iterable:\n",
      "            return item\n",
      "    return default"
     ],
     "language": "python",
     "metadata": {},
     "outputs": [],
     "prompt_number": 76
    },
    {
     "cell_type": "code",
     "collapsed": false,
     "input": [
      "f = open('TransactionHistory_20150920092712.csv', 'rt')\n",
      "old_line = []\n",
      "filtered_lines = []\n",
      "g_first = True\n",
      "try:\n",
      "    reader = csv.reader(f)\n",
      "    for line in reader:\n",
      "        if valid_date(get_first(line)):\n",
      "            #print old_line\n",
      "            if (False == g_first):\n",
      "                filtered_lines.append(old_line)\n",
      "            else:\n",
      "                g_first = False    \n",
      "            old_line = line\n",
      "        else:\n",
      "            old_line= old_line + line\n",
      "            \n",
      "finally:\n",
      "    f.close()\n",
      "    for item in filtered_lines:\n",
      "        print item"
     ],
     "language": "python",
     "metadata": {},
     "outputs": [
      {
       "output_type": "stream",
       "stream": "stdout",
       "text": [
        "['18/09/2015', '18/09/2015', 'PURCHASE        NETS', '30.00', '', '', '', 'THANK YOU                CITY HALL  SMRT - CTH ']\n",
        "['18/09/2015', '18/09/2015', 'PURCHASE        NETS', '1,010.00', '', '', '', 'THANK YOU                ROBINSON  SINGPOST ']\n",
        "['17/09/2015', '17/09/2015', 'FAST PAYMENT', '970.00', '', '', '', 'Transferred from OCBC UOVB 3693749407 OTHR Uncle Jeff ']\n",
        "['17/09/2015', '17/09/2015', '3RD PTY TRANSFER', '300.00', '', '', '', 'VBS']\n",
        "['17/09/2015', '17/09/2015', 'FAST PAYMENT', '1,000.00', '', '', '', 'Transferred from OCBC DBSS 0204069022 OTHR Billy Saputra ']\n",
        "['17/09/2015', '17/09/2015', 'PURCHASE        NETS', '20.25', '', '', '', 'COMFORT TAXIS            THANK YOU  COMFORT TR ']\n",
        "['16/09/2015', '16/09/2015', 'CASH WITHDRAWAL  ATM', '100.00', '', '', '', 'OCBC-AMOY ST FOOD CENTRE SINGAPORE']\n",
        "['15/09/2015', '15/09/2015', 'PURCHASE        NETS', '12.70', '', '', '', 'HAVE A NCIE DAY!         GUARDIAN  GUARDIAN H ']\n",
        "['14/09/2015', '14/09/2015', 'GIRO - SALARY', '', '5,083.00', '', '', '000001053295 INSTITUTE FOR INFOC SALA ']\n",
        "['09/09/2015', '09/09/2015', 'CASH WITHDRAWAL  ATM', '100.00', '', '', '', 'OCBC-31 JURONG WEST ST 63SINGAPORE']\n",
        "['09/09/2015', '09/09/2015', 'PURCHASE        NETS', '30.00', '', '', '', 'THANK YOU                ORCHARD  SMRT-ORC ']\n",
        "['08/09/2015', '08/09/2015', 'PURCHASE        NETS', '24.60', '', '', '', 'COMFORT TAXIS            THANK YOU  COMFORT TR ']\n",
        "['07/09/2015', '07/09/2015', 'PURCHASE        NETS', '37.10', '', '', '', 'THANK YOU                BRAS BASA  0481431MLC ']\n",
        "['02/09/2015', '02/09/2015', 'PURCHASE        NETS', '30.00', '', '', '', 'THANK YOU                PNR  TRANSIT LI ']\n",
        "['01/09/2015', '31/08/2015', 'INTEREST CREDIT', '', '0.25']\n",
        "['01/09/2015', '01/09/2015', 'IBG GIRO', '462.68', '', '', '', '88854193 *PRUDENTIAL A CO NO COLL 88854193 ']\n",
        "['01/09/2015', '01/09/2015', 'IBG GIRO', '405.93', '', '', '', '88854193 *PRUDENTIAL A CO NO COLL 88854193 ']\n",
        "['28/08/2015', '28/08/2015', 'CASH WITHDRAWAL  ATM', '100.00', '', '', '', 'OCBC-31 JURONG WEST ST 63SINGAPORE']\n",
        "['24/08/2015', '24/08/2015', 'CASH WITHDRAWAL  ATM', '100.00', '', '', '', 'OCBC-RAFFLES MRT B1-50   SINGAPORE']\n",
        "['23/08/2015', '24/08/2015', 'TOP UP', '30.00', '', '', '', 'OCBC-JURONG POINT        SINGAPORE EZ-LINK TOP UP 1000140012356929 ']\n",
        "['23/08/2015', '24/08/2015', 'SERVICE CHARGE', '0.20', '', '', '', 'OCBC-JURONG POINT        SINGAPORE EZ-LINK TOP UP 1000140012356929 ']\n",
        "['21/08/2015', '21/08/2015', 'FAST PAYMENT', '900.00', '', '', '', 'Transferred from OCBC UOVB 3693749407 OTHR Uncle Jeff ']\n",
        "['21/08/2015', '21/08/2015', 'FAST PAYMENT', '347.41', '', '', '', 'Transferred from OCBC DBSS 0204069022 OTHR Billy Saputra ']\n",
        "['21/08/2015', '21/08/2015', 'FAST PAYMENT', '90.00', '', '', '', 'Transferred from OCBC UOVB 3693749407 OTHR Uncle Jeff ']\n"
       ]
      }
     ],
     "prompt_number": 77
    },
    {
     "cell_type": "code",
     "collapsed": false,
     "input": [
      "import datetime\n",
      "import pytz\n",
      "\n",
      "tz =  pytz.timezone('Asia/Singapore')\n",
      "\n",
      "from datetime import datetime\n",
      "\n",
      "for item in filtered_lines:\n",
      "    #print get_first(item)\n",
      "    #_when = get_valid_date(get_first(item))\n",
      "    _when = datetime.strptime(get_first(item), \"%d/%m/%Y\")\n",
      "    _when2 = datetime.strptime(item[1], \"%d/%m/%Y\")\n",
      "    if not _when.tzinfo:\n",
      "      _when = tz.localize(_when)\n",
      "    if not _when2.tzinfo:\n",
      "      _when2 = tz.localize(_when2)\n",
      "    info_string = ''\n",
      "    for info in item[2::]:\n",
      "        try:\n",
      "            _tval = float(info)\n",
      "        except:\n",
      "            info_string = info_string + ' ' + info\n",
      "    print _when , _when2, _tval, info_string"
     ],
     "language": "python",
     "metadata": {},
     "outputs": [
      {
       "output_type": "stream",
       "stream": "stdout",
       "text": [
        "2015-09-18 00:00:00+08:00 2015-09-18 00:00:00+08:00 30.0  PURCHASE        NETS    THANK YOU                CITY HALL  SMRT - CTH \n",
        "2015-09-18 00:00:00+08:00 2015-09-18 00:00:00+08:00 30.0  PURCHASE        NETS 1,010.00    THANK YOU                ROBINSON  SINGPOST \n",
        "2015-09-17 00:00:00+08:00 2015-09-17 00:00:00+08:00 970.0  FAST PAYMENT    Transferred from OCBC UOVB 3693749407 OTHR Uncle Jeff \n",
        "2015-09-17 00:00:00+08:00 2015-09-17 00:00:00+08:00 300.0  3RD PTY TRANSFER    VBS\n",
        "2015-09-17 00:00:00+08:00 2015-09-17 00:00:00+08:00 300.0  FAST PAYMENT 1,000.00    Transferred from OCBC DBSS 0204069022 OTHR Billy Saputra \n",
        "2015-09-17 00:00:00+08:00 2015-09-17 00:00:00+08:00 20.25  PURCHASE        NETS    COMFORT TAXIS            THANK YOU  COMFORT TR \n",
        "2015-09-16 00:00:00+08:00 2015-09-16 00:00:00+08:00 100.0  CASH WITHDRAWAL  ATM    OCBC-AMOY ST FOOD CENTRE SINGAPORE\n",
        "2015-09-15 00:00:00+08:00 2015-09-15 00:00:00+08:00 12.7  PURCHASE        NETS    HAVE A NCIE DAY!         GUARDIAN  GUARDIAN H \n",
        "2015-09-14 00:00:00+08:00 2015-09-14 00:00:00+08:00 12.7  GIRO - SALARY  5,083.00   000001053295 INSTITUTE FOR INFOC SALA \n",
        "2015-09-09 00:00:00+08:00 2015-09-09 00:00:00+08:00 100.0  CASH WITHDRAWAL  ATM    OCBC-31 JURONG WEST ST 63SINGAPORE\n",
        "2015-09-09 00:00:00+08:00 2015-09-09 00:00:00+08:00 30.0  PURCHASE        NETS    THANK YOU                ORCHARD  SMRT-ORC \n",
        "2015-09-08 00:00:00+08:00 2015-09-08 00:00:00+08:00 24.6  PURCHASE        NETS    COMFORT TAXIS            THANK YOU  COMFORT TR \n",
        "2015-09-07 00:00:00+08:00 2015-09-07 00:00:00+08:00 37.1  PURCHASE        NETS    THANK YOU                BRAS BASA  0481431MLC \n",
        "2015-09-02 00:00:00+08:00 2015-09-02 00:00:00+08:00 30.0  PURCHASE        NETS    THANK YOU                PNR  TRANSIT LI \n",
        "2015-09-01 00:00:00+08:00 2015-08-31 00:00:00+08:00 0.25  INTEREST CREDIT \n",
        "2015-09-01 00:00:00+08:00 2015-09-01 00:00:00+08:00 462.68  IBG GIRO    88854193 *PRUDENTIAL A CO NO COLL 88854193 \n",
        "2015-09-01 00:00:00+08:00 2015-09-01 00:00:00+08:00 405.93  IBG GIRO    88854193 *PRUDENTIAL A CO NO COLL 88854193 \n",
        "2015-08-28 00:00:00+08:00 2015-08-28 00:00:00+08:00 100.0  CASH WITHDRAWAL  ATM    OCBC-31 JURONG WEST ST 63SINGAPORE\n",
        "2015-08-24 00:00:00+08:00 2015-08-24 00:00:00+08:00 100.0  CASH WITHDRAWAL  ATM    OCBC-RAFFLES MRT B1-50   SINGAPORE\n",
        "2015-08-23 00:00:00+08:00 2015-08-24 00:00:00+08:00 30.0  TOP UP    OCBC-JURONG POINT        SINGAPORE EZ-LINK TOP UP 1000140012356929 \n",
        "2015-08-23 00:00:00+08:00 2015-08-24 00:00:00+08:00 0.2  SERVICE CHARGE    OCBC-JURONG POINT        SINGAPORE EZ-LINK TOP UP 1000140012356929 \n",
        "2015-08-21 00:00:00+08:00 2015-08-21 00:00:00+08:00 900.0  FAST PAYMENT    Transferred from OCBC UOVB 3693749407 OTHR Uncle Jeff \n",
        "2015-08-21 00:00:00+08:00 2015-08-21 00:00:00+08:00 347.41  FAST PAYMENT    Transferred from OCBC DBSS 0204069022 OTHR Billy Saputra \n",
        "2015-08-21 00:00:00+08:00 2015-08-21 00:00:00+08:00 90.0  FAST PAYMENT    Transferred from OCBC UOVB 3693749407 OTHR Uncle Jeff \n"
       ]
      }
     ],
     "prompt_number": 78
    },
    {
     "cell_type": "code",
     "collapsed": false,
     "input": [
      "mod_list = []\n",
      "count = 1\n",
      "f = open('TransactionHistory_20150920092712.csv', 'rt')\n",
      "try:\n",
      "    reader = csv.reader(f)\n",
      "    for line in reader:\n",
      "#for line in file(filename):\n",
      "    # strip ending whitespaces including newline char\n",
      "      #line = line.rstrip()\n",
      "    # concatenate every two lines\n",
      "      if count % 2 == 0:\n",
      "        #mod_list.append(old_line+line)\n",
      "        old_line= old_line + line\n",
      "        print old_line\n",
      "      else:\n",
      "        old_line = line\n",
      "      count += 1\n",
      "    #print(mod_list)\n",
      "finally:\n",
      "    f.close()"
     ],
     "language": "python",
     "metadata": {},
     "outputs": [
      {
       "output_type": "stream",
       "stream": "stdout",
       "text": [
        "['Account details for:', 'Savings Account 622-7-109128', 'Available ', '5,982.19']\n",
        "['Balance', '5,982.19']\n",
        "['Transaction History ', 'Transaction date', 'Value date', 'Description', 'Withdrawals (SGD)', 'Deposits (SGD)']\n",
        "['18/09/2015', '18/09/2015', 'PURCHASE        NETS', '30.00', '', '', '', 'THANK YOU                CITY HALL  SMRT - CTH ']\n",
        "['18/09/2015', '18/09/2015', 'PURCHASE        NETS', '1,010.00', '', '', '', 'THANK YOU                ROBINSON  SINGPOST ']\n",
        "['17/09/2015', '17/09/2015', 'FAST PAYMENT', '970.00', '', '', '', 'Transferred from OCBC UOVB 3693749407 OTHR Uncle Jeff ']\n",
        "['17/09/2015', '17/09/2015', '3RD PTY TRANSFER', '300.00', '', '', '', 'VBS']\n",
        "['17/09/2015', '17/09/2015', 'FAST PAYMENT', '1,000.00', '', '', '', 'Transferred from OCBC DBSS 0204069022 OTHR Billy Saputra ']\n",
        "['17/09/2015', '17/09/2015', 'PURCHASE        NETS', '20.25', '', '', '', 'COMFORT TAXIS            THANK YOU  COMFORT TR ']\n",
        "['16/09/2015', '16/09/2015', 'CASH WITHDRAWAL  ATM', '100.00', '', '', '', 'OCBC-AMOY ST FOOD CENTRE SINGAPORE']\n",
        "['15/09/2015', '15/09/2015', 'PURCHASE        NETS', '12.70', '', '', '', 'HAVE A NCIE DAY!         GUARDIAN  GUARDIAN H ']\n",
        "['14/09/2015', '14/09/2015', 'GIRO - SALARY', '', '5,083.00', '', '', '000001053295 INSTITUTE FOR INFOC SALA ']\n",
        "['09/09/2015', '09/09/2015', 'CASH WITHDRAWAL  ATM', '100.00', '', '', '', 'OCBC-31 JURONG WEST ST 63SINGAPORE']\n",
        "['09/09/2015', '09/09/2015', 'PURCHASE        NETS', '30.00', '', '', '', 'THANK YOU                ORCHARD  SMRT-ORC ']\n",
        "['08/09/2015', '08/09/2015', 'PURCHASE        NETS', '24.60', '', '', '', 'COMFORT TAXIS            THANK YOU  COMFORT TR ']\n",
        "['07/09/2015', '07/09/2015', 'PURCHASE        NETS', '37.10', '', '', '', 'THANK YOU                BRAS BASA  0481431MLC ']\n",
        "['02/09/2015', '02/09/2015', 'PURCHASE        NETS', '30.00', '', '', '', 'THANK YOU                PNR  TRANSIT LI ']\n",
        "['01/09/2015', '31/08/2015', 'INTEREST CREDIT', '', '0.25', '01/09/2015', '01/09/2015', 'IBG GIRO', '462.68', '']\n",
        "['', '', '88854193 *PRUDENTIAL A CO NO COLL 88854193 ', '01/09/2015', '01/09/2015', 'IBG GIRO', '405.93', '']\n",
        "['', '', '88854193 *PRUDENTIAL A CO NO COLL 88854193 ', '28/08/2015', '28/08/2015', 'CASH WITHDRAWAL  ATM', '100.00', '']\n",
        "['', '', 'OCBC-31 JURONG WEST ST 63SINGAPORE', '24/08/2015', '24/08/2015', 'CASH WITHDRAWAL  ATM', '100.00', '']\n",
        "['', '', 'OCBC-RAFFLES MRT B1-50   SINGAPORE', '23/08/2015', '24/08/2015', 'TOP UP', '30.00', '']\n",
        "['', '', 'OCBC-JURONG POINT        SINGAPORE EZ-LINK TOP UP 1000140012356929 ', '23/08/2015', '24/08/2015', 'SERVICE CHARGE', '0.20', '']\n",
        "['', '', 'OCBC-JURONG POINT        SINGAPORE EZ-LINK TOP UP 1000140012356929 ', '21/08/2015', '21/08/2015', 'FAST PAYMENT', '900.00', '']\n",
        "['', '', 'Transferred from OCBC UOVB 3693749407 OTHR Uncle Jeff ', '21/08/2015', '21/08/2015', 'FAST PAYMENT', '347.41', '']\n",
        "['', '', 'Transferred from OCBC DBSS 0204069022 OTHR Billy Saputra ', '21/08/2015', '21/08/2015', 'FAST PAYMENT', '90.00', '']\n",
        "['', '', 'Transferred from OCBC UOVB 3693749407 OTHR Uncle Jeff ', '21/08/2015', '21/08/2015', '3RD PTY TRANSFER', '300.00', '']\n",
        "['', '', 'VBS']\n"
       ]
      }
     ],
     "prompt_number": 6
    },
    {
     "cell_type": "code",
     "collapsed": false,
     "input": [],
     "language": "python",
     "metadata": {},
     "outputs": []
    },
    {
     "cell_type": "code",
     "collapsed": false,
     "input": [
      "import re\n",
      "\n",
      "def valid_date_DBS(datestring):\n",
      "        try:\n",
      "                mat=re.match('^((([0-9])|([0-2][0-9])|([3][0-1]))\\ (Jan|Feb|Mar|Apr|May|Jun|Jul|Aug|Sep|Oct|Nov|Dec)\\ \\d{4})|(T\\+[0-9]+)$', datestring)\n",
      "                #mat=re.match('^[01][0-9] (Jan|Feb|Mar|Apr|May|Jun|Jul|Aug|Sep|Oct|Nov|Dec) \\d{4}$', datestring)\n",
      "                if mat is not None:\n",
      "                        return True\n",
      "        except: # ValueError:\n",
      "                pass\n",
      "        return False"
     ],
     "language": "python",
     "metadata": {},
     "outputs": [],
     "prompt_number": 79
    },
    {
     "cell_type": "code",
     "collapsed": false,
     "input": [
      "f = open('acb5e3dd9227f4b749d58dc810ed7059.P000000011915007.csv', 'rt')\n",
      "old_line = []\n",
      "filtered_lines = []\n",
      "try:\n",
      "    reader = csv.reader(f)\n",
      "    for line in reader:\n",
      "        if valid_date_DBS(get_first(line)):\n",
      "            #print old_line\n",
      "            #old_line = line\n",
      "            #print line\n",
      "            filtered_lines.append(line)\n",
      "        #else:\n",
      "            #old_line= old_line + line\n",
      "finally:\n",
      "    f.close()\n",
      "    for item in filtered_lines:\n",
      "        print item"
     ],
     "language": "python",
     "metadata": {},
     "outputs": [
      {
       "output_type": "stream",
       "stream": "stdout",
       "text": [
        "['20 Sep 2015', 'POS', ' 89.00', ' ', 'COURTS', '', '', '']\n",
        "['20 Sep 2015', 'POS', ' 19.35', ' ', 'NTUC FP', '', '', '']\n",
        "['18 Sep 2015', 'D2P', ' 43.22', ' ', 'AXS           20150918205056730', '', '', '']\n",
        "['18 Sep 2015', 'AWL', ' 100.00', ' ', '70252266', 'PIONEER MRT 2', '', '', '']\n",
        "['17 Sep 2015', 'POS', ' 20.00', ' ', 'TRANSIT LI', '', '', '']\n",
        "['17 Sep 2015', 'ICT', ' ', ' 1000.00', 'Transferred from OCBC', 'Z621611509170929251557150917092925', 'OTHR', '']\n",
        "['13 Sep 2015', 'D2P', ' 15.00', ' ', 'AXS           20150913142305651', '', '', '']\n",
        "['12 Sep 2015', 'AWL', ' 100.00', ' ', '70252266', 'NTUC CLEM MALL', '', '', '']\n",
        "['12 Sep 2015', 'POS', ' 10.95', ' ', 'NTUC FAIRP', '', '', '']\n",
        "['10 Sep 2015', 'MST', ' 13.80', ' ', 'PAYPAL *MICROSOFTRE OF 40 29 07SEP', '5548-2740-7025-2266', '', '']\n",
        "['09 Sep 2015', 'MST', ' 1.80', ' ', 'PAYPAL *DNREGISTRAR    40 29 07SEP', '5548-2740-7025-2266', '', '']\n",
        "['06 Sep 2015', 'POS', ' 27.07', ' ', 'ETERNAL HA', '', '', '']\n",
        "['04 Sep 2015', 'AWL', ' 100.00', ' ', '70252266', 'PIONEER MRT 2', '', '', '']\n",
        "['04 Sep 2015', 'MST', ' 48.60', ' ', 'WWF-DONATION           SI NG 03SEP', '5548-2740-7025-2266', '', '']\n",
        "['04 Sep 2015', 'MST', ' 9.11', ' ', 'PAYPAL *NETFLIX.COM    40 29 02SEP', '5548-2740-7025-2266', '', '']\n",
        "['02 Sep 2015', 'POS', ' 30.00', ' ', 'TRANSIT LI', '', '', '']\n",
        "['01 Sep 2015', 'POS', ' 15.00', ' ', 'DPAY', 'AXS STATION', '', '', '']\n",
        "['31 Aug 2015', 'INT', ' ', ' 0.04', '', '', '', '']\n",
        "['25 Aug 2015', 'AWL', ' 100.00', ' ', '70252266', 'BUONAVISTA MRT', '', '', '']\n",
        "['25 Aug 2015', 'MST', ' 27.50', ' ', 'PAYPAL *CATHAYCINEP    40 29 22AUG', '5548-2740-7025-2266', '', '']\n",
        "['22 Aug 2015', 'MST', ' 347.41', ' ', 'WP-CITY HARVEST CH     SI NG 20AUG', '5548-2740-7025-2266', '', '']\n",
        "['21 Aug 2015', 'D2P', ' 39.91', ' ', 'AXS           20150821195313763', '', '', '']\n",
        "['21 Aug 2015', 'POS', ' 30.00', ' ', 'TRANSIT LI', '', '', '']\n",
        "['20 Aug 2015', 'ICT', ' ', ' 347.41', 'Transferred from OCBC', 'X621611508202211292831150820221129', 'OTHR', '']\n",
        "['09 Aug 2015', 'MST', ' 13.80', ' ', 'PAYPAL *MICROSOFTRE    40 29 07AUG', '5548-2740-7025-2266', '', '']\n",
        "['09 Aug 2015', 'MST', ' 66.42', ' ', 'JETSTARASFJ3KNR        IN DO 04AUG', '5548-2740-7025-2266 IDR628900.00', '', '']\n",
        "['07 Aug 2015', 'MST', ' 57.84', ' ', 'GARUDA INDONESIA       JA KA 04AUG', '5548-2740-7025-2266 IDR547000.00', '', '']\n",
        "['06 Aug 2015', 'AWL', ' 100.00', ' ', '70252266', 'AIRPORT T1/B1', '', '', '']\n",
        "['05 Aug 2015', 'MST', ' 48.60', ' ', 'WWF-DONATION           SI NG 04AUG', '5548-2740-7025-2266', '', '']\n",
        "['04 Aug 2015', 'ICT', ' ', ' 500.00', 'Transferred from OCBC', 'X621621508042306041038150804230604', 'OTHR', '']\n",
        "['04 Aug 2015', 'MST', ' 8.76', ' ', 'PAYPAL *NETFLIX.COM    40 29 02AUG', '5548-2740-7025-2266', '', '']\n",
        "['04 Aug 2015', 'MST', ' 24.50', ' ', 'GOLDEN VILLAGE MULTIPL SI NG 31JUL', '5548-2740-7025-2266', '', '']\n",
        "['01 Aug 2015', 'POS', ' 30.00', ' ', 'TRANSIT LI', '', '', '']\n",
        "['01 Aug 2015', 'D2P', ' 15.00', ' ', 'AXS           20150801132935936', '', '', '']\n"
       ]
      }
     ],
     "prompt_number": 80
    },
    {
     "cell_type": "code",
     "collapsed": false,
     "input": [
      "import datetime\n",
      "import pytz\n",
      "\n",
      "tz =  pytz.timezone('Asia/Singapore')\n",
      "\n",
      "from datetime import datetime\n",
      "\n",
      "\n",
      "for item in filtered_lines:\n",
      "    #print get_first(item).split()[0:3]\n",
      "    day, month, year = get_first(item).split()[0:3]\n",
      "    _when = datetime.strptime(\"{yyyy} {Mmm} {dd}\".format(yyyy=year, Mmm=month, dd=day), \"%Y %b %d\")\n",
      "    if not _when.tzinfo:\n",
      "      _when = tz.localize(_when)\n",
      "    info_string = ''\n",
      "    for info in item[2::]:\n",
      "        try:\n",
      "            _tval = float(info)\n",
      "        except:\n",
      "            info_string = info_string + ' ' + info\n",
      "    print _when, _tval, info_string"
     ],
     "language": "python",
     "metadata": {},
     "outputs": [
      {
       "output_type": "stream",
       "stream": "stdout",
       "text": [
        "2015-09-20 00:00:00+08:00 89.0    COURTS   \n",
        "2015-09-20 00:00:00+08:00 19.35    NTUC FP   \n",
        "2015-09-18 00:00:00+08:00 43.22    AXS           20150918205056730   \n",
        "2015-09-18 00:00:00+08:00 70252266.0    PIONEER MRT 2   \n",
        "2015-09-17 00:00:00+08:00 20.0    TRANSIT LI   \n",
        "2015-09-17 00:00:00+08:00 1000.0    Transferred from OCBC Z621611509170929251557150917092925 OTHR \n",
        "2015-09-13 00:00:00+08:00 15.0    AXS           20150913142305651   \n",
        "2015-09-12 00:00:00+08:00 70252266.0    NTUC CLEM MALL   \n",
        "2015-09-12 00:00:00+08:00 10.95    NTUC FAIRP   \n",
        "2015-09-10 00:00:00+08:00 13.8    PAYPAL *MICROSOFTRE OF 40 29 07SEP 5548-2740-7025-2266  \n",
        "2015-09-09 00:00:00+08:00 1.8    PAYPAL *DNREGISTRAR    40 29 07SEP 5548-2740-7025-2266  \n",
        "2015-09-06 00:00:00+08:00 27.07    ETERNAL HA   \n",
        "2015-09-04 00:00:00+08:00 70252266.0    PIONEER MRT 2   \n",
        "2015-09-04 00:00:00+08:00 48.6    WWF-DONATION           SI NG 03SEP 5548-2740-7025-2266  \n",
        "2015-09-04 00:00:00+08:00 9.11    PAYPAL *NETFLIX.COM    40 29 02SEP 5548-2740-7025-2266  \n",
        "2015-09-02 00:00:00+08:00 30.0    TRANSIT LI   \n",
        "2015-09-01 00:00:00+08:00 15.0    DPAY AXS STATION   \n",
        "2015-08-31 00:00:00+08:00 0.04       \n",
        "2015-08-25 00:00:00+08:00 70252266.0    BUONAVISTA MRT   \n",
        "2015-08-25 00:00:00+08:00 27.5    PAYPAL *CATHAYCINEP    40 29 22AUG 5548-2740-7025-2266  \n",
        "2015-08-22 00:00:00+08:00 347.41    WP-CITY HARVEST CH     SI NG 20AUG 5548-2740-7025-2266  \n",
        "2015-08-21 00:00:00+08:00 39.91    AXS           20150821195313763   \n",
        "2015-08-21 00:00:00+08:00 30.0    TRANSIT LI   \n",
        "2015-08-20 00:00:00+08:00 347.41    Transferred from OCBC X621611508202211292831150820221129 OTHR \n",
        "2015-08-09 00:00:00+08:00 13.8    PAYPAL *MICROSOFTRE    40 29 07AUG 5548-2740-7025-2266  \n",
        "2015-08-09 00:00:00+08:00 66.42    JETSTARASFJ3KNR        IN DO 04AUG 5548-2740-7025-2266 IDR628900.00  \n",
        "2015-08-07 00:00:00+08:00 57.84    GARUDA INDONESIA       JA KA 04AUG 5548-2740-7025-2266 IDR547000.00  \n",
        "2015-08-06 00:00:00+08:00 70252266.0    AIRPORT T1/B1   \n",
        "2015-08-05 00:00:00+08:00 48.6    WWF-DONATION           SI NG 04AUG 5548-2740-7025-2266  \n",
        "2015-08-04 00:00:00+08:00 500.0    Transferred from OCBC X621621508042306041038150804230604 OTHR \n",
        "2015-08-04 00:00:00+08:00 8.76    PAYPAL *NETFLIX.COM    40 29 02AUG 5548-2740-7025-2266  \n",
        "2015-08-04 00:00:00+08:00 24.5    GOLDEN VILLAGE MULTIPL SI NG 31JUL 5548-2740-7025-2266  \n",
        "2015-08-01 00:00:00+08:00 30.0    TRANSIT LI   \n",
        "2015-08-01 00:00:00+08:00 15.0    AXS           20150801132935936   \n"
       ]
      }
     ],
     "prompt_number": 81
    },
    {
     "cell_type": "code",
     "collapsed": false,
     "input": [],
     "language": "python",
     "metadata": {},
     "outputs": []
    }
   ],
   "metadata": {}
  }
 ]
}