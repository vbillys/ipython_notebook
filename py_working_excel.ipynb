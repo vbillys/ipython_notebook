{
 "metadata": {
  "name": "",
  "signature": "sha256:32d6503cf36871bb85ef55e0ab18aec640fcef5b858cbdd9d454f97b06ab8b69"
 },
 "nbformat": 3,
 "nbformat_minor": 0,
 "worksheets": [
  {
   "cells": [
    {
     "cell_type": "code",
     "collapsed": false,
     "input": [
      "import openpyxl"
     ],
     "language": "python",
     "metadata": {},
     "outputs": [],
     "prompt_number": 13
    },
    {
     "cell_type": "code",
     "collapsed": false,
     "input": [
      "wbmain = openpyxl.load_workbook('C:\\Users\\Billy\\Dropbox\\Marriage\\FinancialPlan\\Budget-latest_(LibreOffice)_uv.xlsx')"
     ],
     "language": "python",
     "metadata": {},
     "outputs": [
      {
       "output_type": "stream",
       "stream": "stderr",
       "text": [
        "C:\\Python27\\lib\\site-packages\\openpyxl\\workbook\\names\\named_range.py:121: UserWarning: Discarded range with reserved name\n",
        "  warnings.warn(\"Discarded range with reserved name\")\n"
       ]
      }
     ],
     "prompt_number": 2
    },
    {
     "cell_type": "code",
     "collapsed": false,
     "input": [
      "wbmain_data = openpyxl.load_workbook('C:\\Users\\Billy\\Dropbox\\Marriage\\FinancialPlan\\Budget-latest_(LibreOffice)_uv.xlsx',data_only=True)"
     ],
     "language": "python",
     "metadata": {},
     "outputs": [],
     "prompt_number": 3
    },
    {
     "cell_type": "code",
     "collapsed": false,
     "input": [
      "wb.get_sheet_names()"
     ],
     "language": "python",
     "metadata": {},
     "outputs": [
      {
       "metadata": {},
       "output_type": "pyout",
       "prompt_number": 3,
       "text": [
        "['XXXExpense_Calendar',\n",
        " \"PERSONAL_MONTHLY_BUDGET_SEPT'13\",\n",
        " \"OCT'13\",\n",
        " \"NOV'13\",\n",
        " \"DEC'13\",\n",
        " \"JAN'14\",\n",
        " \"FEB'14\",\n",
        " \"MAR'14\",\n",
        " \"APR'14\",\n",
        " \"MAY'14\",\n",
        " \"JUN'14_\",\n",
        " \"JUL'14\",\n",
        " \"AUG'14\",\n",
        " \"SEPT'14\",\n",
        " \"OCT'14\",\n",
        " \"NOV'14\",\n",
        " \"DEC'14\",\n",
        " \"JAN'15\",\n",
        " \"FEB'15\",\n",
        " \"MARCH'15\",\n",
        " \"APR'15\",\n",
        " \"MAY'15\",\n",
        " \"JUNE'15\",\n",
        " \"JULY'15\",\n",
        " \"AUG'15\",\n",
        " \"SEPT'15\",\n",
        " \"OCT'15\",\n",
        " \"NOV'15\",\n",
        " \"DEC'15\",\n",
        " 'Weekly_Monitor',\n",
        " 'Monthly_Statement',\n",
        " 'XXXBank_Sheet',\n",
        " 'Sheet1']"
       ]
      }
     ],
     "prompt_number": 3
    },
    {
     "cell_type": "code",
     "collapsed": false,
     "input": [
      "sheet = wb.get_sheet_by_name('XXXBank_Sheet')"
     ],
     "language": "python",
     "metadata": {},
     "outputs": [],
     "prompt_number": 95
    },
    {
     "cell_type": "code",
     "collapsed": false,
     "input": [
      "sheet"
     ],
     "language": "python",
     "metadata": {},
     "outputs": [
      {
       "metadata": {},
       "output_type": "pyout",
       "prompt_number": 5,
       "text": [
        "<Worksheet \"XXXBank_Sheet\">"
       ]
      }
     ],
     "prompt_number": 5
    },
    {
     "cell_type": "code",
     "collapsed": false,
     "input": [
      "sheet['B16'].value"
     ],
     "language": "python",
     "metadata": {},
     "outputs": [
      {
       "metadata": {},
       "output_type": "pyout",
       "prompt_number": 9,
       "text": [
        "u'OCBC'"
       ]
      }
     ],
     "prompt_number": 9
    },
    {
     "cell_type": "code",
     "collapsed": false,
     "input": [
      "type(sheet['B15'].value)"
     ],
     "language": "python",
     "metadata": {},
     "outputs": [
      {
       "metadata": {},
       "output_type": "pyout",
       "prompt_number": 11,
       "text": [
        "NoneType"
       ]
      }
     ],
     "prompt_number": 11
    },
    {
     "cell_type": "code",
     "collapsed": false,
     "input": [
      "print sheet['B15'].value"
     ],
     "language": "python",
     "metadata": {},
     "outputs": [
      {
       "output_type": "stream",
       "stream": "stdout",
       "text": [
        "None\n"
       ]
      }
     ],
     "prompt_number": 12
    },
    {
     "cell_type": "code",
     "collapsed": false,
     "input": [
      "type(sheet['A42'].value)"
     ],
     "language": "python",
     "metadata": {},
     "outputs": [
      {
       "metadata": {},
       "output_type": "pyout",
       "prompt_number": 24,
       "text": [
        "datetime.datetime"
       ]
      }
     ],
     "prompt_number": 24
    },
    {
     "cell_type": "code",
     "collapsed": false,
     "input": [
      "sheet['A42'].value"
     ],
     "language": "python",
     "metadata": {},
     "outputs": [
      {
       "metadata": {},
       "output_type": "pyout",
       "prompt_number": 25,
       "text": [
        "datetime.datetime(2014, 5, 23, 0, 0)"
       ]
      }
     ],
     "prompt_number": 25
    },
    {
     "cell_type": "code",
     "collapsed": false,
     "input": [
      "print sheet['A43'].value, sheet['E43'].value, sheet['M43'].value"
     ],
     "language": "python",
     "metadata": {},
     "outputs": [
      {
       "output_type": "stream",
       "stream": "stdout",
       "text": [
        "2014-05-25 00:00:00 2014-06-04 00:00:00 2014-11-16 00:00:00\n"
       ]
      }
     ],
     "prompt_number": 31
    },
    {
     "cell_type": "code",
     "collapsed": false,
     "input": [
      "print sheet['A42'].value.tzinfo"
     ],
     "language": "python",
     "metadata": {},
     "outputs": [
      {
       "output_type": "stream",
       "stream": "stdout",
       "text": [
        "None\n"
       ]
      }
     ],
     "prompt_number": 27
    },
    {
     "cell_type": "code",
     "collapsed": false,
     "input": [
      "import datetime\n",
      "import pytz\n",
      "\n",
      "tz =  pytz.timezone('Asia/Singapore')\n",
      "\n",
      "if not sheet['A42'].value.tzinfo:\n",
      "  _when = tz.localize(sheet['A42'].value)\n",
      "print _when"
     ],
     "language": "python",
     "metadata": {},
     "outputs": [
      {
       "output_type": "stream",
       "stream": "stdout",
       "text": [
        "2014-05-23 00:00:00+08:00\n"
       ]
      }
     ],
     "prompt_number": 28
    },
    {
     "cell_type": "code",
     "collapsed": false,
     "input": [
      "sheet['E53'].value"
     ],
     "language": "python",
     "metadata": {},
     "outputs": [
      {
       "metadata": {},
       "output_type": "pyout",
       "prompt_number": 32,
       "text": [
        "datetime.datetime(2014, 6, 17, 0, 0)"
       ]
      }
     ],
     "prompt_number": 32
    },
    {
     "cell_type": "code",
     "collapsed": false,
     "input": [
      "from openpyxl.styles import PatternFill, Border, Side, Alignment, Protection, Font, Style, Color"
     ],
     "language": "python",
     "metadata": {},
     "outputs": [],
     "prompt_number": 49
    },
    {
     "cell_type": "code",
     "collapsed": false,
     "input": [
      "wb = openpyxl.Workbook()\n",
      "sheet = wb.get_sheet_by_name('Sheet')\n",
      "fontObj1 = Font(name='Times New Roman', bold=True)\n",
      "styleObj1 = Style(font=fontObj1)\n",
      "sheet['A1'].style=styleObj1\n",
      "sheet['A1'] = 'Bold Times New Roman'\n",
      "\n",
      "fontObj2 = Font(size=24, italic=True)\n",
      "styleObj2 = Style(font=fontObj2)\n",
      "sheet['B3'].style=styleObj2\n",
      "sheet['B3'] = '24 pt Italic'"
     ],
     "language": "python",
     "metadata": {},
     "outputs": [],
     "prompt_number": 39
    },
    {
     "cell_type": "code",
     "collapsed": false,
     "input": [
      "wb.save('test_py_styles.xlsx')"
     ],
     "language": "python",
     "metadata": {},
     "outputs": [],
     "prompt_number": 51
    },
    {
     "cell_type": "code",
     "collapsed": false,
     "input": [
      "wb = openpyxl.load_workbook('test_py_styles.xlsx')"
     ],
     "language": "python",
     "metadata": {},
     "outputs": [],
     "prompt_number": 60
    },
    {
     "cell_type": "code",
     "collapsed": false,
     "input": [
      "wb_data = openpyxl.load_workbook('test_py_styles.xlsx', data_only = True)"
     ],
     "language": "python",
     "metadata": {},
     "outputs": [],
     "prompt_number": 61
    },
    {
     "cell_type": "code",
     "collapsed": false,
     "input": [
      "sheet = wb.get_sheet_by_name('Sheet')"
     ],
     "language": "python",
     "metadata": {},
     "outputs": [],
     "prompt_number": 29
    },
    {
     "cell_type": "code",
     "collapsed": false,
     "input": [
      "sheet_data = wb_data.get_sheet_by_name('Sheet')"
     ],
     "language": "python",
     "metadata": {},
     "outputs": [],
     "prompt_number": 30
    },
    {
     "cell_type": "code",
     "collapsed": false,
     "input": [],
     "language": "python",
     "metadata": {},
     "outputs": [
      {
       "metadata": {},
       "output_type": "pyout",
       "prompt_number": 31,
       "text": [
        "<Worksheet \"Sheet\">"
       ]
      }
     ],
     "prompt_number": 31
    },
    {
     "cell_type": "code",
     "collapsed": false,
     "input": [
      "new_work_sheet = wb.create_sheet()"
     ],
     "language": "python",
     "metadata": {},
     "outputs": [],
     "prompt_number": 18
    },
    {
     "cell_type": "code",
     "collapsed": false,
     "input": [
      "sheet['B3'].style = Style(fill=PatternFill(patternType='solid', fgColor=Color('FFFFFF00')),font=fontObj2)"
     ],
     "language": "python",
     "metadata": {},
     "outputs": [],
     "prompt_number": 91
    },
    {
     "cell_type": "code",
     "collapsed": false,
     "input": [
      "sheet['B3'].style = Style(fill=PatternFill(patternType='solid', fgColor=Color(rgb_str)),font=fontObj2)"
     ],
     "language": "python",
     "metadata": {},
     "outputs": []
    },
    {
     "cell_type": "code",
     "collapsed": false,
     "input": [
      "sheet['B3'].style"
     ],
     "language": "python",
     "metadata": {},
     "outputs": [
      {
       "metadata": {},
       "output_type": "pyout",
       "prompt_number": 92,
       "text": [
        "Style(font=Font(i=True, sz=24.0, color=Color(indexed=Value must be type 'long', auto=Value must be type 'bool', theme=Value must be type 'long')), fill=PatternFill(patternType='solid', fgColor=Color(rgb='FFFFFF00', indexed=Value must be type 'long', auto=Value must be type 'bool', theme=Value must be type 'long')), number_format='General')"
       ]
      }
     ],
     "prompt_number": 92
    },
    {
     "cell_type": "code",
     "collapsed": false,
     "input": [
      "import struct\n",
      "rgb = (200,200,50)\n",
      "rgb_str = struct.pack('BBB',*rgb).encode('hex')"
     ],
     "language": "python",
     "metadata": {},
     "outputs": [],
     "prompt_number": 64
    },
    {
     "cell_type": "code",
     "collapsed": false,
     "input": [
      "print sheet['B42'].value, sheet['C42'].value"
     ],
     "language": "python",
     "metadata": {},
     "outputs": [
      {
       "output_type": "stream",
       "stream": "stdout",
       "text": [
        "10381.15 EZ Link Ve\n"
       ]
      }
     ],
     "prompt_number": 83
    },
    {
     "cell_type": "code",
     "collapsed": false,
     "input": [
      "type(sheet['C42'].value)"
     ],
     "language": "python",
     "metadata": {},
     "outputs": [
      {
       "metadata": {},
       "output_type": "pyout",
       "prompt_number": 84,
       "text": [
        "unicode"
       ]
      }
     ],
     "prompt_number": 84
    },
    {
     "cell_type": "code",
     "collapsed": false,
     "input": [
      "type(sheet['B42'].value)"
     ],
     "language": "python",
     "metadata": {},
     "outputs": [
      {
       "metadata": {},
       "output_type": "pyout",
       "prompt_number": 85,
       "text": [
        "float"
       ]
      }
     ],
     "prompt_number": 85
    },
    {
     "cell_type": "code",
     "collapsed": false,
     "input": [
      "type(sheet['D18'].value)"
     ],
     "language": "python",
     "metadata": {},
     "outputs": [
      {
       "metadata": {},
       "output_type": "pyout",
       "prompt_number": 80,
       "text": [
        "float"
       ]
      }
     ],
     "prompt_number": 80
    },
    {
     "cell_type": "code",
     "collapsed": false,
     "input": [
      "sheet['F378'].style, type(sheet['F378'].value)"
     ],
     "language": "python",
     "metadata": {},
     "outputs": [
      {
       "metadata": {},
       "output_type": "pyout",
       "prompt_number": 88,
       "text": [
        "(Style(font=Font(sz=10.0, color=Color(rgb='FF000000', indexed=Value must be type 'long', auto=Value must be type 'bool', theme=Value must be type 'long')), fill=PatternFill(patternType='solid', fgColor=Color(rgb='FFFFFF00', indexed=Value must be type 'long', auto=Value must be type 'bool', theme=Value must be type 'long'), bgColor=Color(rgb='FFFFFF00', indexed=Value must be type 'long', auto=Value must be type 'bool', theme=Value must be type 'long')), number_format='[$-4809]General'),\n",
        " float)"
       ]
      }
     ],
     "prompt_number": 88
    },
    {
     "cell_type": "code",
     "collapsed": false,
     "input": [
      "sheet['B375'].style"
     ],
     "language": "python",
     "metadata": {},
     "outputs": [
      {
       "metadata": {},
       "output_type": "pyout",
       "prompt_number": 96,
       "text": [
        "Style(font=Font(sz=10.0, color=Color(rgb='FF000000', indexed=Value must be type 'long', auto=Value must be type 'bool', theme=Value must be type 'long')), fill=PatternFill(patternType='solid', fgColor=Color(rgb='FFFF00FF', indexed=Value must be type 'long', auto=Value must be type 'bool', theme=Value must be type 'long'), bgColor=Color(rgb='FFFF00FF', indexed=Value must be type 'long', auto=Value must be type 'bool', theme=Value must be type 'long')), number_format='[$-4809]General')"
       ]
      }
     ],
     "prompt_number": 96
    },
    {
     "cell_type": "code",
     "collapsed": false,
     "input": [
      "import pprint\n",
      "pprint.pformat(sheet['B375'].style)"
     ],
     "language": "python",
     "metadata": {},
     "outputs": [
      {
       "metadata": {},
       "output_type": "pyout",
       "prompt_number": 100,
       "text": [
        "\"Style(font=Font(sz=10.0, color=Color(rgb='FF000000', indexed=Value must be type 'long', auto=Value must be type 'bool', theme=Value must be type 'long')), fill=PatternFill(patternType='solid', fgColor=Color(rgb='FFFF00FF', indexed=Value must be type 'long', auto=Value must be type 'bool', theme=Value must be type 'long'), bgColor=Color(rgb='FFFF00FF', indexed=Value must be type 'long', auto=Value must be type 'bool', theme=Value must be type 'long')), number_format='[$-4809]General')\""
       ]
      }
     ],
     "prompt_number": 100
    },
    {
     "cell_type": "code",
     "collapsed": false,
     "input": [
      "kentut = Style(font=Font(sz=10.0, color=Color(rgb='FF000000', indexed=Value must be type 'long', auto=Value must be type 'bool', theme=Value must be type 'long')), fill=PatternFill(patternType='solid', fgColor=Color(rgb='FFFF00FF', indexed=Value must be type 'long', auto=Value must be type 'bool', theme=Value must be type 'long'), bgColor=Color(rgb='FFFF00FF', indexed=Value must be type 'long', auto=Value must be type 'bool', theme=Value must be type 'long')), number_format='[$-4809]General')"
     ],
     "language": "python",
     "metadata": {},
     "outputs": [
      {
       "ename": "SyntaxError",
       "evalue": "invalid syntax (<ipython-input-101-e8bc13b1fd77>, line 1)",
       "output_type": "pyerr",
       "traceback": [
        "\u001b[1;36m  File \u001b[1;32m\"<ipython-input-101-e8bc13b1fd77>\"\u001b[1;36m, line \u001b[1;32m1\u001b[0m\n\u001b[1;33m    kentut = Style(font=Font(sz=10.0, color=Color(rgb='FF000000', indexed=Value must be type 'long', auto=Value must be type 'bool', theme=Value must be type 'long')), fill=PatternFill(patternType='solid', fgColor=Color(rgb='FFFF00FF', indexed=Value must be type 'long', auto=Value must be type 'bool', theme=Value must be type 'long'), bgColor=Color(rgb='FFFF00FF', indexed=Value must be type 'long', auto=Value must be type 'bool', theme=Value must be type 'long')), number_format='[$-4809]General')\u001b[0m\n\u001b[1;37m                                                                                   ^\u001b[0m\n\u001b[1;31mSyntaxError\u001b[0m\u001b[1;31m:\u001b[0m invalid syntax\n"
       ]
      }
     ],
     "prompt_number": 101
    },
    {
     "cell_type": "code",
     "collapsed": false,
     "input": [
      "pprint.pprint(sheet['B375'].style)"
     ],
     "language": "python",
     "metadata": {},
     "outputs": [
      {
       "output_type": "stream",
       "stream": "stdout",
       "text": [
        "Style(font=Font(sz=10.0, color=Color(rgb='FF000000', indexed=Value must be type 'long', auto=Value must be type 'bool', theme=Value must be type 'long')), fill=PatternFill(patternType='solid', fgColor=Color(rgb='FFFF00FF', indexed=Value must be type 'long', auto=Value must be type 'bool', theme=Value must be type 'long'), bgColor=Color(rgb='FFFF00FF', indexed=Value must be type 'long', auto=Value must be type 'bool', theme=Value must be type 'long')), number_format='[$-4809]General')\n"
       ]
      }
     ],
     "prompt_number": 102
    },
    {
     "cell_type": "code",
     "collapsed": false,
     "input": [
      "sheet['A5'].value = datetime.datetime(2014, 5, 23, 0, 0)"
     ],
     "language": "python",
     "metadata": {},
     "outputs": [],
     "prompt_number": 16
    },
    {
     "cell_type": "code",
     "collapsed": false,
     "input": [
      "import datetime"
     ],
     "language": "python",
     "metadata": {},
     "outputs": [],
     "prompt_number": 7
    },
    {
     "cell_type": "code",
     "collapsed": false,
     "input": [
      "sheet['A4'].value , sheet_data['A4'].value"
     ],
     "language": "python",
     "metadata": {},
     "outputs": [
      {
       "metadata": {},
       "output_type": "pyout",
       "prompt_number": 15,
       "text": [
        "(datetime.datetime(2014, 5, 23, 0, 0), datetime.datetime(2014, 5, 23, 0, 0))"
       ]
      }
     ],
     "prompt_number": 15
    },
    {
     "cell_type": "code",
     "collapsed": false,
     "input": [
      "sheet['A6'] = datetime.datetime(2014, 5, 23, 0, 0)"
     ],
     "language": "python",
     "metadata": {},
     "outputs": [],
     "prompt_number": 18
    },
    {
     "cell_type": "code",
     "collapsed": false,
     "input": [
      "type(sheet['A4'].value.tzinfo)"
     ],
     "language": "python",
     "metadata": {},
     "outputs": [
      {
       "metadata": {},
       "output_type": "pyout",
       "prompt_number": 77,
       "text": [
        "NoneType"
       ]
      }
     ],
     "prompt_number": 77
    },
    {
     "cell_type": "code",
     "collapsed": false,
     "input": [
      "wb.save('test_py_styles.xlsx')"
     ],
     "language": "python",
     "metadata": {},
     "outputs": [],
     "prompt_number": 96
    },
    {
     "cell_type": "code",
     "collapsed": false,
     "input": [
      "sheet['A4'].style"
     ],
     "language": "python",
     "metadata": {},
     "outputs": [
      {
       "output_type": "stream",
       "stream": "stderr",
       "text": [
        "C:\\Python27\\lib\\site-packages\\openpyxl\\styles\\styleable.py:111: UserWarning: Use formatting objects such as font directly\n",
        "  warn(\"Use formatting objects such as font directly\")\n"
       ]
      },
      {
       "metadata": {},
       "output_type": "pyout",
       "prompt_number": 23,
       "text": [
        "Style(font=Font(scheme='minor', color=Color(rgb=Value must be type 'basestring', indexed=Value must be type 'long', auto=Value must be type 'bool', theme=1L, type='theme')), number_format='[$-F800]dddd\\\\,\\\\ mmmm\\\\ dd\\\\,\\\\ yyyy')"
       ]
      }
     ],
     "prompt_number": 23
    },
    {
     "cell_type": "code",
     "collapsed": false,
     "input": [
      "sheet.column_dimensions['C'].width"
     ],
     "language": "python",
     "metadata": {},
     "outputs": [
      {
       "metadata": {},
       "output_type": "pyout",
       "prompt_number": 98,
       "text": [
        "34.5703125"
       ]
      }
     ],
     "prompt_number": 98
    },
    {
     "cell_type": "code",
     "collapsed": false,
     "input": [
      "sheet['A5'].number_format='[$-F800]dddd\\\\,\\\\ mmmm\\\\ dd\\\\,\\\\ yyyy'"
     ],
     "language": "python",
     "metadata": {},
     "outputs": [],
     "prompt_number": 24
    },
    {
     "cell_type": "code",
     "collapsed": false,
     "input": [
      "sheet['B7'].value , sheet['B8'].value, sheet_data['B7'].value , sheet_data['B8'].value"
     ],
     "language": "python",
     "metadata": {},
     "outputs": [
      {
       "metadata": {},
       "output_type": "pyout",
       "prompt_number": 32,
       "text": [
        "(3000, '=B7-20', 3000, 2980)"
       ]
      }
     ],
     "prompt_number": 32
    },
    {
     "cell_type": "code",
     "collapsed": false,
     "input": [
      "sheet['B9'].value = '=B8-20'"
     ],
     "language": "python",
     "metadata": {},
     "outputs": [],
     "prompt_number": 33
    },
    {
     "cell_type": "code",
     "collapsed": false,
     "input": [
      "import re\n",
      "\n",
      "def valid_date_DBS(datestring):\n",
      "        try:\n",
      "                mat=re.match('^((([0-9])|([0-2][0-9])|([3][0-1]))\\ (Jan|Feb|Mar|Apr|May|Jun|Jul|Aug|Sep|Oct|Nov|Dec)\\ \\d{4})|(T\\+[0-9]+)$', datestring)\n",
      "                #mat=re.match('^[01][0-9] (Jan|Feb|Mar|Apr|May|Jun|Jul|Aug|Sep|Oct|Nov|Dec) \\d{4}$', datestring)\n",
      "                if mat is not None:\n",
      "                        return True\n",
      "        except: # ValueError:\n",
      "                pass\n",
      "        return False"
     ],
     "language": "python",
     "metadata": {},
     "outputs": [],
     "prompt_number": 1
    },
    {
     "cell_type": "code",
     "collapsed": false,
     "input": [
      "def get_first(iterable, default=None):\n",
      "    if iterable:\n",
      "        for item in iterable:\n",
      "            return item\n",
      "    return default"
     ],
     "language": "python",
     "metadata": {},
     "outputs": [],
     "prompt_number": 2
    },
    {
     "cell_type": "code",
     "collapsed": false,
     "input": [
      "import csv\n",
      "f = open('acb5e3dd9227f4b749d58dc810ed7059.P000000011915007.csv', 'rt')\n",
      "old_line = []\n",
      "filtered_lines = []\n",
      "saldo_akhir_dbs_from_bank = 0\n",
      "saldo_ledger_dbs_from_bank = 0\n",
      "try:\n",
      "    reader = csv.reader(f)\n",
      "    for line in reader:\n",
      "        \n",
      "        if (len(line) == 2) and line[0] == 'Available Balance:':\n",
      "            _saldo_dbs = float(line[1].replace(',',''))\n",
      "            print 'got saldo ', _saldo_dbs\n",
      "            saldo_akhir_dbs_from_bank = _saldo_dbs\n",
      "            \n",
      "        if (len(line) == 2) and line[0] == 'Ledger Balance:':\n",
      "            _saldo_dbs = float(line[1].replace(',',''))\n",
      "            print 'got saldo ', _saldo_dbs\n",
      "            saldo_ledger_dbs_from_bank = _saldo_dbs\n",
      "        \n",
      "        if valid_date_DBS(get_first(line)):\n",
      "            #print old_line\n",
      "            #old_line = line\n",
      "            #print line\n",
      "            filtered_lines.append(line)\n",
      "        #else:\n",
      "            #old_line= old_line + line\n",
      "finally:\n",
      "    f.close()\n",
      "    for item in filtered_lines:\n",
      "        print item"
     ],
     "language": "python",
     "metadata": {},
     "outputs": [
      {
       "output_type": "stream",
       "stream": "stdout",
       "text": [
        "got saldo  1017.28\n",
        "got saldo  1070.78\n",
        "['20 Sep 2015', 'POS', ' 89.00', ' ', 'COURTS', '', '', '']\n",
        "['20 Sep 2015', 'POS', ' 19.35', ' ', 'NTUC FP', '', '', '']\n",
        "['18 Sep 2015', 'D2P', ' 43.22', ' ', 'AXS           20150918205056730', '', '', '']\n",
        "['18 Sep 2015', 'AWL', ' 100.00', ' ', '70252266', 'PIONEER MRT 2', '', '', '']\n",
        "['17 Sep 2015', 'POS', ' 20.00', ' ', 'TRANSIT LI', '', '', '']\n",
        "['17 Sep 2015', 'ICT', ' ', ' 1000.00', 'Transferred from OCBC', 'Z621611509170929251557150917092925', 'OTHR', '']\n",
        "['13 Sep 2015', 'D2P', ' 15.00', ' ', 'AXS           20150913142305651', '', '', '']\n",
        "['12 Sep 2015', 'AWL', ' 100.00', ' ', '70252266', 'NTUC CLEM MALL', '', '', '']\n",
        "['12 Sep 2015', 'POS', ' 10.95', ' ', 'NTUC FAIRP', '', '', '']\n",
        "['10 Sep 2015', 'MST', ' 13.80', ' ', 'PAYPAL *MICROSOFTRE OF 40 29 07SEP', '5548-2740-7025-2266', '', '']\n",
        "['09 Sep 2015', 'MST', ' 1.80', ' ', 'PAYPAL *DNREGISTRAR    40 29 07SEP', '5548-2740-7025-2266', '', '']\n",
        "['06 Sep 2015', 'POS', ' 27.07', ' ', 'ETERNAL HA', '', '', '']\n",
        "['04 Sep 2015', 'AWL', ' 100.00', ' ', '70252266', 'PIONEER MRT 2', '', '', '']\n",
        "['04 Sep 2015', 'MST', ' 48.60', ' ', 'WWF-DONATION           SI NG 03SEP', '5548-2740-7025-2266', '', '']\n",
        "['04 Sep 2015', 'MST', ' 9.11', ' ', 'PAYPAL *NETFLIX.COM    40 29 02SEP', '5548-2740-7025-2266', '', '']\n",
        "['02 Sep 2015', 'POS', ' 30.00', ' ', 'TRANSIT LI', '', '', '']\n",
        "['01 Sep 2015', 'POS', ' 15.00', ' ', 'DPAY', 'AXS STATION', '', '', '']\n",
        "['31 Aug 2015', 'INT', ' ', ' 0.04', '', '', '', '']\n",
        "['25 Aug 2015', 'AWL', ' 100.00', ' ', '70252266', 'BUONAVISTA MRT', '', '', '']\n",
        "['25 Aug 2015', 'MST', ' 27.50', ' ', 'PAYPAL *CATHAYCINEP    40 29 22AUG', '5548-2740-7025-2266', '', '']\n",
        "['22 Aug 2015', 'MST', ' 347.41', ' ', 'WP-CITY HARVEST CH     SI NG 20AUG', '5548-2740-7025-2266', '', '']\n",
        "['21 Aug 2015', 'D2P', ' 39.91', ' ', 'AXS           20150821195313763', '', '', '']\n",
        "['21 Aug 2015', 'POS', ' 30.00', ' ', 'TRANSIT LI', '', '', '']\n",
        "['20 Aug 2015', 'ICT', ' ', ' 347.41', 'Transferred from OCBC', 'X621611508202211292831150820221129', 'OTHR', '']\n",
        "['09 Aug 2015', 'MST', ' 13.80', ' ', 'PAYPAL *MICROSOFTRE    40 29 07AUG', '5548-2740-7025-2266', '', '']\n",
        "['09 Aug 2015', 'MST', ' 66.42', ' ', 'JETSTARASFJ3KNR        IN DO 04AUG', '5548-2740-7025-2266 IDR628900.00', '', '']\n",
        "['07 Aug 2015', 'MST', ' 57.84', ' ', 'GARUDA INDONESIA       JA KA 04AUG', '5548-2740-7025-2266 IDR547000.00', '', '']\n",
        "['06 Aug 2015', 'AWL', ' 100.00', ' ', '70252266', 'AIRPORT T1/B1', '', '', '']\n",
        "['05 Aug 2015', 'MST', ' 48.60', ' ', 'WWF-DONATION           SI NG 04AUG', '5548-2740-7025-2266', '', '']\n",
        "['04 Aug 2015', 'ICT', ' ', ' 500.00', 'Transferred from OCBC', 'X621621508042306041038150804230604', 'OTHR', '']\n",
        "['04 Aug 2015', 'MST', ' 8.76', ' ', 'PAYPAL *NETFLIX.COM    40 29 02AUG', '5548-2740-7025-2266', '', '']\n",
        "['04 Aug 2015', 'MST', ' 24.50', ' ', 'GOLDEN VILLAGE MULTIPL SI NG 31JUL', '5548-2740-7025-2266', '', '']\n",
        "['01 Aug 2015', 'POS', ' 30.00', ' ', 'TRANSIT LI', '', '', '']\n",
        "['01 Aug 2015', 'D2P', ' 15.00', ' ', 'AXS           20150801132935936', '', '', '']\n"
       ]
      }
     ],
     "prompt_number": 3
    },
    {
     "cell_type": "code",
     "collapsed": false,
     "input": [
      "import datetime\n",
      "import pytz\n",
      "from collections import namedtuple\n",
      "\n",
      "tz =  pytz.timezone('Asia/Singapore')\n",
      "\n",
      "from datetime import datetime\n",
      "\n",
      "from openpyxl.compat import range\n",
      "row = 9\n",
      "\n",
      "parsed_dbs = []\n",
      "tuple_parsed_dbs = namedtuple('ParsedDbs', ['when', 'tval', 'info_string'])\n",
      "\n",
      "for item in filtered_lines:\n",
      "    #print get_first(item).split()[0:3]\n",
      "    day, month, year = get_first(item).split()[0:3]\n",
      "    _when = datetime.strptime(\"{yyyy} {Mmm} {dd}\".format(yyyy=year, Mmm=month, dd=day), \"%Y %b %d\")\n",
      "    if not _when.tzinfo:\n",
      "      _when = tz.localize(_when)\n",
      "    info_string = ''\n",
      "    #for info in item[2:3]:\n",
      "    try:\n",
      "        _tval = -float(item[2])\n",
      "    except:\n",
      "        _tval = float(item[3])\n",
      "    \n",
      "    info_string = item[1] + ' ' + item[4]\n",
      "    for info in item[5::]:\n",
      "        info_string = info_string + ' ' + info\n",
      "    print _when, _tval, info_string\n",
      "    _item_tupled = tuple_parsed_dbs(_when, _tval, info_string)\n",
      "    parsed_dbs.append(_item_tupled)\n",
      "    #parsed_dbs.append([_when, _tval, info_string])\n",
      "    #sheet.cell(column=1,row=row).value = _tval\n",
      "    row = row + 1"
     ],
     "language": "python",
     "metadata": {},
     "outputs": [
      {
       "output_type": "stream",
       "stream": "stdout",
       "text": [
        "2015-09-20 00:00:00+08:00 -89.0 POS COURTS   \n",
        "2015-09-20 00:00:00+08:00 -19.35 POS NTUC FP   \n",
        "2015-09-18 00:00:00+08:00 -43.22 D2P AXS           20150918205056730   \n",
        "2015-09-18 00:00:00+08:00 -100.0 AWL 70252266 PIONEER MRT 2   \n",
        "2015-09-17 00:00:00+08:00 -20.0 POS TRANSIT LI   \n",
        "2015-09-17 00:00:00+08:00 1000.0 ICT Transferred from OCBC Z621611509170929251557150917092925 OTHR \n",
        "2015-09-13 00:00:00+08:00 -15.0 D2P AXS           20150913142305651   \n",
        "2015-09-12 00:00:00+08:00 -100.0 AWL 70252266 NTUC CLEM MALL   \n",
        "2015-09-12 00:00:00+08:00 -10.95 POS NTUC FAIRP   \n",
        "2015-09-10 00:00:00+08:00 -13.8 MST PAYPAL *MICROSOFTRE OF 40 29 07SEP 5548-2740-7025-2266  \n",
        "2015-09-09 00:00:00+08:00 -1.8 MST PAYPAL *DNREGISTRAR    40 29 07SEP 5548-2740-7025-2266  \n",
        "2015-09-06 00:00:00+08:00 -27.07 POS ETERNAL HA   \n",
        "2015-09-04 00:00:00+08:00 -100.0 AWL 70252266 PIONEER MRT 2   \n",
        "2015-09-04 00:00:00+08:00 -48.6 MST WWF-DONATION           SI NG 03SEP 5548-2740-7025-2266  \n",
        "2015-09-04 00:00:00+08:00 -9.11 MST PAYPAL *NETFLIX.COM    40 29 02SEP 5548-2740-7025-2266  \n",
        "2015-09-02 00:00:00+08:00 -30.0 POS TRANSIT LI   \n",
        "2015-09-01 00:00:00+08:00 -15.0 POS DPAY AXS STATION   \n",
        "2015-08-31 00:00:00+08:00 0.04 INT    \n",
        "2015-08-25 00:00:00+08:00 -100.0 AWL 70252266 BUONAVISTA MRT   \n",
        "2015-08-25 00:00:00+08:00 -27.5 MST PAYPAL *CATHAYCINEP    40 29 22AUG 5548-2740-7025-2266  \n",
        "2015-08-22 00:00:00+08:00 -347.41 MST WP-CITY HARVEST CH     SI NG 20AUG 5548-2740-7025-2266  \n",
        "2015-08-21 00:00:00+08:00 -39.91 D2P AXS           20150821195313763   \n",
        "2015-08-21 00:00:00+08:00 -30.0 POS TRANSIT LI   \n",
        "2015-08-20 00:00:00+08:00 347.41 ICT Transferred from OCBC X621611508202211292831150820221129 OTHR \n",
        "2015-08-09 00:00:00+08:00 -13.8 MST PAYPAL *MICROSOFTRE    40 29 07AUG 5548-2740-7025-2266  \n",
        "2015-08-09 00:00:00+08:00 -66.42 MST JETSTARASFJ3KNR        IN DO 04AUG 5548-2740-7025-2266 IDR628900.00  \n",
        "2015-08-07 00:00:00+08:00 -57.84 MST GARUDA INDONESIA       JA KA 04AUG 5548-2740-7025-2266 IDR547000.00  \n",
        "2015-08-06 00:00:00+08:00 -100.0 AWL 70252266 AIRPORT T1/B1   \n",
        "2015-08-05 00:00:00+08:00 -48.6 MST WWF-DONATION           SI NG 04AUG 5548-2740-7025-2266  \n",
        "2015-08-04 00:00:00+08:00 500.0 ICT Transferred from OCBC X621621508042306041038150804230604 OTHR \n",
        "2015-08-04 00:00:00+08:00 -8.76 MST PAYPAL *NETFLIX.COM    40 29 02AUG 5548-2740-7025-2266  \n",
        "2015-08-04 00:00:00+08:00 -24.5 MST GOLDEN VILLAGE MULTIPL SI NG 31JUL 5548-2740-7025-2266  \n",
        "2015-08-01 00:00:00+08:00 -30.0 POS TRANSIT LI   \n",
        "2015-08-01 00:00:00+08:00 -15.0 D2P AXS           20150801132935936   \n"
       ]
      }
     ],
     "prompt_number": 4
    },
    {
     "cell_type": "code",
     "collapsed": false,
     "input": [
      "print parsed_dbs"
     ],
     "language": "python",
     "metadata": {},
     "outputs": [
      {
       "output_type": "stream",
       "stream": "stdout",
       "text": [
        "[ParsedDbs(when=datetime.datetime(2015, 9, 20, 0, 0, tzinfo=<DstTzInfo 'Asia/Singapore' SGT+8:00:00 STD>), tval=-89.0, info_string='POS COURTS   '), ParsedDbs(when=datetime.datetime(2015, 9, 20, 0, 0, tzinfo=<DstTzInfo 'Asia/Singapore' SGT+8:00:00 STD>), tval=-19.35, info_string='POS NTUC FP   '), ParsedDbs(when=datetime.datetime(2015, 9, 18, 0, 0, tzinfo=<DstTzInfo 'Asia/Singapore' SGT+8:00:00 STD>), tval=-43.22, info_string='D2P AXS           20150918205056730   '), ParsedDbs(when=datetime.datetime(2015, 9, 18, 0, 0, tzinfo=<DstTzInfo 'Asia/Singapore' SGT+8:00:00 STD>), tval=-100.0, info_string='AWL 70252266 PIONEER MRT 2   '), ParsedDbs(when=datetime.datetime(2015, 9, 17, 0, 0, tzinfo=<DstTzInfo 'Asia/Singapore' SGT+8:00:00 STD>), tval=-20.0, info_string='POS TRANSIT LI   '), ParsedDbs(when=datetime.datetime(2015, 9, 17, 0, 0, tzinfo=<DstTzInfo 'Asia/Singapore' SGT+8:00:00 STD>), tval=1000.0, info_string='ICT Transferred from OCBC Z621611509170929251557150917092925 OTHR '), ParsedDbs(when=datetime.datetime(2015, 9, 13, 0, 0, tzinfo=<DstTzInfo 'Asia/Singapore' SGT+8:00:00 STD>), tval=-15.0, info_string='D2P AXS           20150913142305651   '), ParsedDbs(when=datetime.datetime(2015, 9, 12, 0, 0, tzinfo=<DstTzInfo 'Asia/Singapore' SGT+8:00:00 STD>), tval=-100.0, info_string='AWL 70252266 NTUC CLEM MALL   '), ParsedDbs(when=datetime.datetime(2015, 9, 12, 0, 0, tzinfo=<DstTzInfo 'Asia/Singapore' SGT+8:00:00 STD>), tval=-10.95, info_string='POS NTUC FAIRP   '), ParsedDbs(when=datetime.datetime(2015, 9, 10, 0, 0, tzinfo=<DstTzInfo 'Asia/Singapore' SGT+8:00:00 STD>), tval=-13.8, info_string='MST PAYPAL *MICROSOFTRE OF 40 29 07SEP 5548-2740-7025-2266  '), ParsedDbs(when=datetime.datetime(2015, 9, 9, 0, 0, tzinfo=<DstTzInfo 'Asia/Singapore' SGT+8:00:00 STD>), tval=-1.8, info_string='MST PAYPAL *DNREGISTRAR    40 29 07SEP 5548-2740-7025-2266  '), ParsedDbs(when=datetime.datetime(2015, 9, 6, 0, 0, tzinfo=<DstTzInfo 'Asia/Singapore' SGT+8:00:00 STD>), tval=-27.07, info_string='POS ETERNAL HA   '), ParsedDbs(when=datetime.datetime(2015, 9, 4, 0, 0, tzinfo=<DstTzInfo 'Asia/Singapore' SGT+8:00:00 STD>), tval=-100.0, info_string='AWL 70252266 PIONEER MRT 2   '), ParsedDbs(when=datetime.datetime(2015, 9, 4, 0, 0, tzinfo=<DstTzInfo 'Asia/Singapore' SGT+8:00:00 STD>), tval=-48.6, info_string='MST WWF-DONATION           SI NG 03SEP 5548-2740-7025-2266  '), ParsedDbs(when=datetime.datetime(2015, 9, 4, 0, 0, tzinfo=<DstTzInfo 'Asia/Singapore' SGT+8:00:00 STD>), tval=-9.11, info_string='MST PAYPAL *NETFLIX.COM    40 29 02SEP 5548-2740-7025-2266  '), ParsedDbs(when=datetime.datetime(2015, 9, 2, 0, 0, tzinfo=<DstTzInfo 'Asia/Singapore' SGT+8:00:00 STD>), tval=-30.0, info_string='POS TRANSIT LI   '), ParsedDbs(when=datetime.datetime(2015, 9, 1, 0, 0, tzinfo=<DstTzInfo 'Asia/Singapore' SGT+8:00:00 STD>), tval=-15.0, info_string='POS DPAY AXS STATION   '), ParsedDbs(when=datetime.datetime(2015, 8, 31, 0, 0, tzinfo=<DstTzInfo 'Asia/Singapore' SGT+8:00:00 STD>), tval=0.04, info_string='INT    '), ParsedDbs(when=datetime.datetime(2015, 8, 25, 0, 0, tzinfo=<DstTzInfo 'Asia/Singapore' SGT+8:00:00 STD>), tval=-100.0, info_string='AWL 70252266 BUONAVISTA MRT   '), ParsedDbs(when=datetime.datetime(2015, 8, 25, 0, 0, tzinfo=<DstTzInfo 'Asia/Singapore' SGT+8:00:00 STD>), tval=-27.5, info_string='MST PAYPAL *CATHAYCINEP    40 29 22AUG 5548-2740-7025-2266  '), ParsedDbs(when=datetime.datetime(2015, 8, 22, 0, 0, tzinfo=<DstTzInfo 'Asia/Singapore' SGT+8:00:00 STD>), tval=-347.41, info_string='MST WP-CITY HARVEST CH     SI NG 20AUG 5548-2740-7025-2266  '), ParsedDbs(when=datetime.datetime(2015, 8, 21, 0, 0, tzinfo=<DstTzInfo 'Asia/Singapore' SGT+8:00:00 STD>), tval=-39.91, info_string='D2P AXS           20150821195313763   '), ParsedDbs(when=datetime.datetime(2015, 8, 21, 0, 0, tzinfo=<DstTzInfo 'Asia/Singapore' SGT+8:00:00 STD>), tval=-30.0, info_string='POS TRANSIT LI   '), ParsedDbs(when=datetime.datetime(2015, 8, 20, 0, 0, tzinfo=<DstTzInfo 'Asia/Singapore' SGT+8:00:00 STD>), tval=347.41, info_string='ICT Transferred from OCBC X621611508202211292831150820221129 OTHR '), ParsedDbs(when=datetime.datetime(2015, 8, 9, 0, 0, tzinfo=<DstTzInfo 'Asia/Singapore' SGT+8:00:00 STD>), tval=-13.8, info_string='MST PAYPAL *MICROSOFTRE    40 29 07AUG 5548-2740-7025-2266  '), ParsedDbs(when=datetime.datetime(2015, 8, 9, 0, 0, tzinfo=<DstTzInfo 'Asia/Singapore' SGT+8:00:00 STD>), tval=-66.42, info_string='MST JETSTARASFJ3KNR        IN DO 04AUG 5548-2740-7025-2266 IDR628900.00  '), ParsedDbs(when=datetime.datetime(2015, 8, 7, 0, 0, tzinfo=<DstTzInfo 'Asia/Singapore' SGT+8:00:00 STD>), tval=-57.84, info_string='MST GARUDA INDONESIA       JA KA 04AUG 5548-2740-7025-2266 IDR547000.00  '), ParsedDbs(when=datetime.datetime(2015, 8, 6, 0, 0, tzinfo=<DstTzInfo 'Asia/Singapore' SGT+8:00:00 STD>), tval=-100.0, info_string='AWL 70252266 AIRPORT T1/B1   '), ParsedDbs(when=datetime.datetime(2015, 8, 5, 0, 0, tzinfo=<DstTzInfo 'Asia/Singapore' SGT+8:00:00 STD>), tval=-48.6, info_string='MST WWF-DONATION           SI NG 04AUG 5548-2740-7025-2266  '), ParsedDbs(when=datetime.datetime(2015, 8, 4, 0, 0, tzinfo=<DstTzInfo 'Asia/Singapore' SGT+8:00:00 STD>), tval=500.0, info_string='ICT Transferred from OCBC X621621508042306041038150804230604 OTHR '), ParsedDbs(when=datetime.datetime(2015, 8, 4, 0, 0, tzinfo=<DstTzInfo 'Asia/Singapore' SGT+8:00:00 STD>), tval=-8.76, info_string='MST PAYPAL *NETFLIX.COM    40 29 02AUG 5548-2740-7025-2266  '), ParsedDbs(when=datetime.datetime(2015, 8, 4, 0, 0, tzinfo=<DstTzInfo 'Asia/Singapore' SGT+8:00:00 STD>), tval=-24.5, info_string='MST GOLDEN VILLAGE MULTIPL SI NG 31JUL 5548-2740-7025-2266  '), ParsedDbs(when=datetime.datetime(2015, 8, 1, 0, 0, tzinfo=<DstTzInfo 'Asia/Singapore' SGT+8:00:00 STD>), tval=-30.0, info_string='POS TRANSIT LI   '), ParsedDbs(when=datetime.datetime(2015, 8, 1, 0, 0, tzinfo=<DstTzInfo 'Asia/Singapore' SGT+8:00:00 STD>), tval=-15.0, info_string='D2P AXS           20150801132935936   ')]\n"
       ]
      }
     ],
     "prompt_number": 18
    },
    {
     "cell_type": "code",
     "collapsed": false,
     "input": [
      "from openpyxl.styles import PatternFill, Border, Side, Alignment, Protection, Font, Style, Color\n",
      "from openpyxl.cell import coordinate_from_string, column_index_from_string, get_column_letter\n",
      "\n",
      "row = 9\n",
      "index_row = 0\n",
      "saldo = sheet_data.cell(column=2,row=row-1).value \n",
      "while sheet.cell(column=1,row=row).value:\n",
      "    sheet.cell(column=2,row=row).value = '=' + get_column_letter(2) + str(row-1) + '+' + get_column_letter(1) + str(row)\n",
      "    _cell = sheet.cell(column=3,row=row)\n",
      "    #_cell = parsed_dbs[index_row][0]\n",
      "    sheet[get_column_letter(3) + str(row)] = parsed_dbs[index_row][0]\n",
      "    #_cell.style.number_format='[$-F800]dddd\\\\,\\\\ mmmm\\\\ dd\\\\,\\\\ yyyy'\n",
      "    sheet[get_column_letter(3) + str(row)].number_format='[$-F800]dddd\\\\,\\\\ mmmm\\\\ dd\\\\,\\\\ yyyy'\n",
      "    #saldo = saldo - sheet_data.cell(column=1,row=row).value \n",
      "    sheet[get_column_letter(4) + str(row)].value = parsed_dbs[index_row][2]\n",
      "    saldo = saldo + parsed_dbs[index_row][1]\n",
      "    row=row+1\n",
      "    index_row = index_row + 1\n",
      "\n",
      "print saldo"
     ],
     "language": "python",
     "metadata": {},
     "outputs": [
      {
       "output_type": "stream",
       "stream": "stdout",
       "text": [
        "3274.81\n"
       ]
      }
     ],
     "prompt_number": 95
    },
    {
     "cell_type": "code",
     "collapsed": false,
     "input": [
      "import datetime\n",
      "import pytz\n",
      "tz =  pytz.timezone('Asia/Singapore')\n",
      "d1 = datetime.datetime(2015, 9, 14, 12, 8, 15, 618000, tzinfo=tz)\n",
      "d2 = datetime.datetime(2015, 9, 14, 11, 8, 15, 618000, tzinfo=tz)\n",
      "diff = d2 - d1\n",
      "print diff.days\n",
      "print d1.replace(hour=0, minute=0, second=0, microsecond=0) == d2.replace(hour=0, minute=0, second=0, microsecond=0)\n",
      "print (d1.month == d1.month) and (d1.day == d1.day) and (d1.year == d1.year)"
     ],
     "language": "python",
     "metadata": {},
     "outputs": [
      {
       "output_type": "stream",
       "stream": "stdout",
       "text": [
        "-1\n",
        "True\n",
        "True\n"
       ]
      }
     ],
     "prompt_number": 5
    },
    {
     "cell_type": "code",
     "collapsed": false,
     "input": [
      "float(\"123,456.908\".replace(',',''))"
     ],
     "language": "python",
     "metadata": {},
     "outputs": [
      {
       "metadata": {},
       "output_type": "pyout",
       "prompt_number": 86,
       "text": [
        "123456.908"
       ]
      }
     ],
     "prompt_number": 86
    },
    {
     "cell_type": "code",
     "collapsed": false,
     "input": [
      "'DBS Savings Plus Account 020-4-069022' == 'DBS Savings Plus Account 020-4-069022'"
     ],
     "language": "python",
     "metadata": {},
     "outputs": [
      {
       "metadata": {},
       "output_type": "pyout",
       "prompt_number": 87,
       "text": [
        "True"
       ]
      }
     ],
     "prompt_number": 87
    },
    {
     "cell_type": "code",
     "collapsed": false,
     "input": [
      "print 1 == 1\n",
      "print 1 is 1"
     ],
     "language": "python",
     "metadata": {},
     "outputs": [
      {
       "output_type": "stream",
       "stream": "stdout",
       "text": [
        "True\n",
        "True\n"
       ]
      }
     ],
     "prompt_number": 90
    },
    {
     "cell_type": "code",
     "collapsed": false,
     "input": [
      "'COURTS   ' == parsed_dbs[0][2]"
     ],
     "language": "python",
     "metadata": {},
     "outputs": [
      {
       "metadata": {},
       "output_type": "pyout",
       "prompt_number": 91,
       "text": [
        "True"
       ]
      }
     ],
     "prompt_number": 91
    },
    {
     "cell_type": "code",
     "collapsed": false,
     "input": [
      "import datetime\n",
      "import re\n",
      "\n",
      "def valid_date(datestring):\n",
      "        try:\n",
      "                mat=re.match('(\\d{2})[/.-](\\d{2})[/.-](\\d{4})$', datestring)\n",
      "                if mat is not None:\n",
      "                        datetime.datetime(*(map(int, mat.groups()[-1::-1])))\n",
      "                        return True\n",
      "        except: # ValueError:\n",
      "                pass\n",
      "        return False"
     ],
     "language": "python",
     "metadata": {},
     "outputs": [],
     "prompt_number": 6
    },
    {
     "cell_type": "markdown",
     "metadata": {},
     "source": [
      "* Need to change width column for date , and may also for description\n",
      "* Create table (at different sheet or file) for reporting, and then can copy paste to the main book\n",
      "* Develop algo for processing\n",
      "  * Just do comparison date and tval.\n",
      "  * Report\n",
      "  * May be develop interface to select which one is verified (optional)"
     ]
    },
    {
     "cell_type": "code",
     "collapsed": false,
     "input": [
      "f = open('TransactionHistory_20150920092712.csv', 'rt')\n",
      "old_line = []\n",
      "filtered_lines = []\n",
      "g_first = True\n",
      "\n",
      "saldo_akhir_ocbc_from_bank = 0\n",
      "saldo_ledger_ocbc_from_bank = 0\n",
      "\n",
      "try:\n",
      "    reader = csv.reader(f)\n",
      "    for line in reader:\n",
      "        \n",
      "        if (len(line) == 2) and line[0] == 'Available ':\n",
      "            _saldo_ocbc = float(line[1].replace(',',''))\n",
      "            print 'got saldo ', _saldo_ocbc\n",
      "            saldo_akhir_ocbc_from_bank = _saldo_ocbc\n",
      "        \n",
      "        if (len(line) == 2) and line[0] == 'Balance':\n",
      "            _saldo_ocbc = float(line[1].replace(',',''))\n",
      "            print 'got saldo ', _saldo_ocbc\n",
      "            saldo_ledger_ocbc_from_bank = _saldo_ocbc\n",
      "        \n",
      "        if valid_date(get_first(line)):\n",
      "            #print old_line\n",
      "            if (False == g_first):\n",
      "                filtered_lines.append(old_line)\n",
      "            else:\n",
      "                g_first = False    \n",
      "            old_line = line\n",
      "        else:\n",
      "            old_line= old_line + line\n",
      "            \n",
      "finally:\n",
      "    f.close()\n",
      "    for item in filtered_lines:\n",
      "        print item"
     ],
     "language": "python",
     "metadata": {},
     "outputs": [
      {
       "output_type": "stream",
       "stream": "stdout",
       "text": [
        "got saldo  5982.19\n",
        "got saldo  5982.19\n",
        "['18/09/2015', '18/09/2015', 'PURCHASE        NETS', '30.00', '', '', '', 'THANK YOU                CITY HALL  SMRT - CTH ']\n",
        "['18/09/2015', '18/09/2015', 'PURCHASE        NETS', '1,010.00', '', '', '', 'THANK YOU                ROBINSON  SINGPOST ']\n",
        "['17/09/2015', '17/09/2015', 'FAST PAYMENT', '970.00', '', '', '', 'Transferred from OCBC UOVB 3693749407 OTHR Uncle Jeff ']\n",
        "['17/09/2015', '17/09/2015', '3RD PTY TRANSFER', '300.00', '', '', '', 'VBS']\n",
        "['17/09/2015', '17/09/2015', 'FAST PAYMENT', '1,000.00', '', '', '', 'Transferred from OCBC DBSS 0204069022 OTHR Billy Saputra ']\n",
        "['17/09/2015', '17/09/2015', 'PURCHASE        NETS', '20.25', '', '', '', 'COMFORT TAXIS            THANK YOU  COMFORT TR ']\n",
        "['16/09/2015', '16/09/2015', 'CASH WITHDRAWAL  ATM', '100.00', '', '', '', 'OCBC-AMOY ST FOOD CENTRE SINGAPORE']\n",
        "['15/09/2015', '15/09/2015', 'PURCHASE        NETS', '12.70', '', '', '', 'HAVE A NCIE DAY!         GUARDIAN  GUARDIAN H ']\n",
        "['14/09/2015', '14/09/2015', 'GIRO - SALARY', '', '5,083.00', '', '', '000001053295 INSTITUTE FOR INFOC SALA ']\n",
        "['09/09/2015', '09/09/2015', 'CASH WITHDRAWAL  ATM', '100.00', '', '', '', 'OCBC-31 JURONG WEST ST 63SINGAPORE']\n",
        "['09/09/2015', '09/09/2015', 'PURCHASE        NETS', '30.00', '', '', '', 'THANK YOU                ORCHARD  SMRT-ORC ']\n",
        "['08/09/2015', '08/09/2015', 'PURCHASE        NETS', '24.60', '', '', '', 'COMFORT TAXIS            THANK YOU  COMFORT TR ']\n",
        "['07/09/2015', '07/09/2015', 'PURCHASE        NETS', '37.10', '', '', '', 'THANK YOU                BRAS BASA  0481431MLC ']\n",
        "['02/09/2015', '02/09/2015', 'PURCHASE        NETS', '30.00', '', '', '', 'THANK YOU                PNR  TRANSIT LI ']\n",
        "['01/09/2015', '31/08/2015', 'INTEREST CREDIT', '', '0.25']\n",
        "['01/09/2015', '01/09/2015', 'IBG GIRO', '462.68', '', '', '', '88854193 *PRUDENTIAL A CO NO COLL 88854193 ']\n",
        "['01/09/2015', '01/09/2015', 'IBG GIRO', '405.93', '', '', '', '88854193 *PRUDENTIAL A CO NO COLL 88854193 ']\n",
        "['28/08/2015', '28/08/2015', 'CASH WITHDRAWAL  ATM', '100.00', '', '', '', 'OCBC-31 JURONG WEST ST 63SINGAPORE']\n",
        "['24/08/2015', '24/08/2015', 'CASH WITHDRAWAL  ATM', '100.00', '', '', '', 'OCBC-RAFFLES MRT B1-50   SINGAPORE']\n",
        "['23/08/2015', '24/08/2015', 'TOP UP', '30.00', '', '', '', 'OCBC-JURONG POINT        SINGAPORE EZ-LINK TOP UP 1000140012356929 ']\n",
        "['23/08/2015', '24/08/2015', 'SERVICE CHARGE', '0.20', '', '', '', 'OCBC-JURONG POINT        SINGAPORE EZ-LINK TOP UP 1000140012356929 ']\n",
        "['21/08/2015', '21/08/2015', 'FAST PAYMENT', '900.00', '', '', '', 'Transferred from OCBC UOVB 3693749407 OTHR Uncle Jeff ']\n",
        "['21/08/2015', '21/08/2015', 'FAST PAYMENT', '347.41', '', '', '', 'Transferred from OCBC DBSS 0204069022 OTHR Billy Saputra ']\n",
        "['21/08/2015', '21/08/2015', 'FAST PAYMENT', '90.00', '', '', '', 'Transferred from OCBC UOVB 3693749407 OTHR Uncle Jeff ']\n"
       ]
      }
     ],
     "prompt_number": 7
    },
    {
     "cell_type": "code",
     "collapsed": false,
     "input": [
      "import datetime\n",
      "import pytz\n",
      "from collections import namedtuple\n",
      "\n",
      "tz =  pytz.timezone('Asia/Singapore')\n",
      "\n",
      "from datetime import datetime\n",
      "\n",
      "parsed_ocbc = []\n",
      "tuple_parsed_ocbc = namedtuple('ParsedOcbc', ['when', 'when_value', 'tval', 'info_string'])\n",
      "\n",
      "for item in filtered_lines:\n",
      "    #print get_first(item)\n",
      "    #_when = get_valid_date(get_first(item))\n",
      "    _when = datetime.strptime(get_first(item), \"%d/%m/%Y\")\n",
      "    _when2 = datetime.strptime(item[1], \"%d/%m/%Y\")\n",
      "    if not _when.tzinfo:\n",
      "      _when = tz.localize(_when)\n",
      "    if not _when2.tzinfo:\n",
      "      _when2 = tz.localize(_when2)\n",
      "    info_string = ''\n",
      "    #for info in item[2::]:\n",
      "    try:\n",
      "        _tval = -float(item[3].replace(',',''))\n",
      "    except:\n",
      "        _tval = float(item[4].replace(',',''))\n",
      "    \n",
      "    if len(item) > 5:\n",
      "        info_string = item[2] + ' ' + item[5]\n",
      "        for info in item[6::]:\n",
      "            info_string = info_string + ' ' + info\n",
      "    else:\n",
      "        info_string = item[2]\n",
      "    print _when , _when2, _tval, info_string\n",
      "    _item_tupled = tuple_parsed_ocbc(_when , _when2, _tval, info_string)\n",
      "    parsed_ocbc.append(_item_tupled)"
     ],
     "language": "python",
     "metadata": {},
     "outputs": [
      {
       "output_type": "stream",
       "stream": "stdout",
       "text": [
        "2015-09-18 00:00:00+08:00 2015-09-18 00:00:00+08:00 -30.0 PURCHASE        NETS   THANK YOU                CITY HALL  SMRT - CTH \n",
        "2015-09-18 00:00:00+08:00 2015-09-18 00:00:00+08:00 -1010.0 PURCHASE        NETS   THANK YOU                ROBINSON  SINGPOST \n",
        "2015-09-17 00:00:00+08:00 2015-09-17 00:00:00+08:00 -970.0 FAST PAYMENT   Transferred from OCBC UOVB 3693749407 OTHR Uncle Jeff \n",
        "2015-09-17 00:00:00+08:00 2015-09-17 00:00:00+08:00 -300.0 3RD PTY TRANSFER   VBS\n",
        "2015-09-17 00:00:00+08:00 2015-09-17 00:00:00+08:00 -1000.0 FAST PAYMENT   Transferred from OCBC DBSS 0204069022 OTHR Billy Saputra \n",
        "2015-09-17 00:00:00+08:00 2015-09-17 00:00:00+08:00 -20.25 PURCHASE        NETS   COMFORT TAXIS            THANK YOU  COMFORT TR \n",
        "2015-09-16 00:00:00+08:00 2015-09-16 00:00:00+08:00 -100.0 CASH WITHDRAWAL  ATM   OCBC-AMOY ST FOOD CENTRE SINGAPORE\n",
        "2015-09-15 00:00:00+08:00 2015-09-15 00:00:00+08:00 -12.7 PURCHASE        NETS   HAVE A NCIE DAY!         GUARDIAN  GUARDIAN H \n",
        "2015-09-14 00:00:00+08:00 2015-09-14 00:00:00+08:00 5083.0 GIRO - SALARY   000001053295 INSTITUTE FOR INFOC SALA \n",
        "2015-09-09 00:00:00+08:00 2015-09-09 00:00:00+08:00 -100.0 CASH WITHDRAWAL  ATM   OCBC-31 JURONG WEST ST 63SINGAPORE\n",
        "2015-09-09 00:00:00+08:00 2015-09-09 00:00:00+08:00 -30.0 PURCHASE        NETS   THANK YOU                ORCHARD  SMRT-ORC \n",
        "2015-09-08 00:00:00+08:00 2015-09-08 00:00:00+08:00 -24.6 PURCHASE        NETS   COMFORT TAXIS            THANK YOU  COMFORT TR \n",
        "2015-09-07 00:00:00+08:00 2015-09-07 00:00:00+08:00 -37.1 PURCHASE        NETS   THANK YOU                BRAS BASA  0481431MLC \n",
        "2015-09-02 00:00:00+08:00 2015-09-02 00:00:00+08:00 -30.0 PURCHASE        NETS   THANK YOU                PNR  TRANSIT LI \n",
        "2015-09-01 00:00:00+08:00 2015-08-31 00:00:00+08:00 0.25 INTEREST CREDIT\n",
        "2015-09-01 00:00:00+08:00 2015-09-01 00:00:00+08:00 -462.68 IBG GIRO   88854193 *PRUDENTIAL A CO NO COLL 88854193 \n",
        "2015-09-01 00:00:00+08:00 2015-09-01 00:00:00+08:00 -405.93 IBG GIRO   88854193 *PRUDENTIAL A CO NO COLL 88854193 \n",
        "2015-08-28 00:00:00+08:00 2015-08-28 00:00:00+08:00 -100.0 CASH WITHDRAWAL  ATM   OCBC-31 JURONG WEST ST 63SINGAPORE\n",
        "2015-08-24 00:00:00+08:00 2015-08-24 00:00:00+08:00 -100.0 CASH WITHDRAWAL  ATM   OCBC-RAFFLES MRT B1-50   SINGAPORE\n",
        "2015-08-23 00:00:00+08:00 2015-08-24 00:00:00+08:00 -30.0 TOP UP   OCBC-JURONG POINT        SINGAPORE EZ-LINK TOP UP 1000140012356929 \n",
        "2015-08-23 00:00:00+08:00 2015-08-24 00:00:00+08:00 -0.2 SERVICE CHARGE   OCBC-JURONG POINT        SINGAPORE EZ-LINK TOP UP 1000140012356929 \n",
        "2015-08-21 00:00:00+08:00 2015-08-21 00:00:00+08:00 -900.0 FAST PAYMENT   Transferred from OCBC UOVB 3693749407 OTHR Uncle Jeff \n",
        "2015-08-21 00:00:00+08:00 2015-08-21 00:00:00+08:00 -347.41 FAST PAYMENT   Transferred from OCBC DBSS 0204069022 OTHR Billy Saputra \n",
        "2015-08-21 00:00:00+08:00 2015-08-21 00:00:00+08:00 -90.0 FAST PAYMENT   Transferred from OCBC UOVB 3693749407 OTHR Uncle Jeff \n"
       ]
      }
     ],
     "prompt_number": 8
    },
    {
     "cell_type": "code",
     "collapsed": false,
     "input": [
      "print parsed_ocbc"
     ],
     "language": "python",
     "metadata": {},
     "outputs": [
      {
       "output_type": "stream",
       "stream": "stdout",
       "text": [
        "[ParsedOcbc(when=datetime.datetime(2015, 9, 18, 0, 0, tzinfo=<DstTzInfo 'Asia/Singapore' SGT+8:00:00 STD>), when_value=datetime.datetime(2015, 9, 18, 0, 0, tzinfo=<DstTzInfo 'Asia/Singapore' SGT+8:00:00 STD>), tval=-30.0, info_string='PURCHASE        NETS   THANK YOU                CITY HALL  SMRT - CTH '), ParsedOcbc(when=datetime.datetime(2015, 9, 18, 0, 0, tzinfo=<DstTzInfo 'Asia/Singapore' SGT+8:00:00 STD>), when_value=datetime.datetime(2015, 9, 18, 0, 0, tzinfo=<DstTzInfo 'Asia/Singapore' SGT+8:00:00 STD>), tval=-1010.0, info_string='PURCHASE        NETS   THANK YOU                ROBINSON  SINGPOST '), ParsedOcbc(when=datetime.datetime(2015, 9, 17, 0, 0, tzinfo=<DstTzInfo 'Asia/Singapore' SGT+8:00:00 STD>), when_value=datetime.datetime(2015, 9, 17, 0, 0, tzinfo=<DstTzInfo 'Asia/Singapore' SGT+8:00:00 STD>), tval=-970.0, info_string='FAST PAYMENT   Transferred from OCBC UOVB 3693749407 OTHR Uncle Jeff '), ParsedOcbc(when=datetime.datetime(2015, 9, 17, 0, 0, tzinfo=<DstTzInfo 'Asia/Singapore' SGT+8:00:00 STD>), when_value=datetime.datetime(2015, 9, 17, 0, 0, tzinfo=<DstTzInfo 'Asia/Singapore' SGT+8:00:00 STD>), tval=-300.0, info_string='3RD PTY TRANSFER   VBS'), ParsedOcbc(when=datetime.datetime(2015, 9, 17, 0, 0, tzinfo=<DstTzInfo 'Asia/Singapore' SGT+8:00:00 STD>), when_value=datetime.datetime(2015, 9, 17, 0, 0, tzinfo=<DstTzInfo 'Asia/Singapore' SGT+8:00:00 STD>), tval=-1000.0, info_string='FAST PAYMENT   Transferred from OCBC DBSS 0204069022 OTHR Billy Saputra '), ParsedOcbc(when=datetime.datetime(2015, 9, 17, 0, 0, tzinfo=<DstTzInfo 'Asia/Singapore' SGT+8:00:00 STD>), when_value=datetime.datetime(2015, 9, 17, 0, 0, tzinfo=<DstTzInfo 'Asia/Singapore' SGT+8:00:00 STD>), tval=-20.25, info_string='PURCHASE        NETS   COMFORT TAXIS            THANK YOU  COMFORT TR '), ParsedOcbc(when=datetime.datetime(2015, 9, 16, 0, 0, tzinfo=<DstTzInfo 'Asia/Singapore' SGT+8:00:00 STD>), when_value=datetime.datetime(2015, 9, 16, 0, 0, tzinfo=<DstTzInfo 'Asia/Singapore' SGT+8:00:00 STD>), tval=-100.0, info_string='CASH WITHDRAWAL  ATM   OCBC-AMOY ST FOOD CENTRE SINGAPORE'), ParsedOcbc(when=datetime.datetime(2015, 9, 15, 0, 0, tzinfo=<DstTzInfo 'Asia/Singapore' SGT+8:00:00 STD>), when_value=datetime.datetime(2015, 9, 15, 0, 0, tzinfo=<DstTzInfo 'Asia/Singapore' SGT+8:00:00 STD>), tval=-12.7, info_string='PURCHASE        NETS   HAVE A NCIE DAY!         GUARDIAN  GUARDIAN H '), ParsedOcbc(when=datetime.datetime(2015, 9, 14, 0, 0, tzinfo=<DstTzInfo 'Asia/Singapore' SGT+8:00:00 STD>), when_value=datetime.datetime(2015, 9, 14, 0, 0, tzinfo=<DstTzInfo 'Asia/Singapore' SGT+8:00:00 STD>), tval=5083.0, info_string='GIRO - SALARY   000001053295 INSTITUTE FOR INFOC SALA '), ParsedOcbc(when=datetime.datetime(2015, 9, 9, 0, 0, tzinfo=<DstTzInfo 'Asia/Singapore' SGT+8:00:00 STD>), when_value=datetime.datetime(2015, 9, 9, 0, 0, tzinfo=<DstTzInfo 'Asia/Singapore' SGT+8:00:00 STD>), tval=-100.0, info_string='CASH WITHDRAWAL  ATM   OCBC-31 JURONG WEST ST 63SINGAPORE'), ParsedOcbc(when=datetime.datetime(2015, 9, 9, 0, 0, tzinfo=<DstTzInfo 'Asia/Singapore' SGT+8:00:00 STD>), when_value=datetime.datetime(2015, 9, 9, 0, 0, tzinfo=<DstTzInfo 'Asia/Singapore' SGT+8:00:00 STD>), tval=-30.0, info_string='PURCHASE        NETS   THANK YOU                ORCHARD  SMRT-ORC '), ParsedOcbc(when=datetime.datetime(2015, 9, 8, 0, 0, tzinfo=<DstTzInfo 'Asia/Singapore' SGT+8:00:00 STD>), when_value=datetime.datetime(2015, 9, 8, 0, 0, tzinfo=<DstTzInfo 'Asia/Singapore' SGT+8:00:00 STD>), tval=-24.6, info_string='PURCHASE        NETS   COMFORT TAXIS            THANK YOU  COMFORT TR '), ParsedOcbc(when=datetime.datetime(2015, 9, 7, 0, 0, tzinfo=<DstTzInfo 'Asia/Singapore' SGT+8:00:00 STD>), when_value=datetime.datetime(2015, 9, 7, 0, 0, tzinfo=<DstTzInfo 'Asia/Singapore' SGT+8:00:00 STD>), tval=-37.1, info_string='PURCHASE        NETS   THANK YOU                BRAS BASA  0481431MLC '), ParsedOcbc(when=datetime.datetime(2015, 9, 2, 0, 0, tzinfo=<DstTzInfo 'Asia/Singapore' SGT+8:00:00 STD>), when_value=datetime.datetime(2015, 9, 2, 0, 0, tzinfo=<DstTzInfo 'Asia/Singapore' SGT+8:00:00 STD>), tval=-30.0, info_string='PURCHASE        NETS   THANK YOU                PNR  TRANSIT LI '), ParsedOcbc(when=datetime.datetime(2015, 9, 1, 0, 0, tzinfo=<DstTzInfo 'Asia/Singapore' SGT+8:00:00 STD>), when_value=datetime.datetime(2015, 8, 31, 0, 0, tzinfo=<DstTzInfo 'Asia/Singapore' SGT+8:00:00 STD>), tval=0.25, info_string='INTEREST CREDIT'), ParsedOcbc(when=datetime.datetime(2015, 9, 1, 0, 0, tzinfo=<DstTzInfo 'Asia/Singapore' SGT+8:00:00 STD>), when_value=datetime.datetime(2015, 9, 1, 0, 0, tzinfo=<DstTzInfo 'Asia/Singapore' SGT+8:00:00 STD>), tval=-462.68, info_string='IBG GIRO   88854193 *PRUDENTIAL A CO NO COLL 88854193 '), ParsedOcbc(when=datetime.datetime(2015, 9, 1, 0, 0, tzinfo=<DstTzInfo 'Asia/Singapore' SGT+8:00:00 STD>), when_value=datetime.datetime(2015, 9, 1, 0, 0, tzinfo=<DstTzInfo 'Asia/Singapore' SGT+8:00:00 STD>), tval=-405.93, info_string='IBG GIRO   88854193 *PRUDENTIAL A CO NO COLL 88854193 '), ParsedOcbc(when=datetime.datetime(2015, 8, 28, 0, 0, tzinfo=<DstTzInfo 'Asia/Singapore' SGT+8:00:00 STD>), when_value=datetime.datetime(2015, 8, 28, 0, 0, tzinfo=<DstTzInfo 'Asia/Singapore' SGT+8:00:00 STD>), tval=-100.0, info_string='CASH WITHDRAWAL  ATM   OCBC-31 JURONG WEST ST 63SINGAPORE'), ParsedOcbc(when=datetime.datetime(2015, 8, 24, 0, 0, tzinfo=<DstTzInfo 'Asia/Singapore' SGT+8:00:00 STD>), when_value=datetime.datetime(2015, 8, 24, 0, 0, tzinfo=<DstTzInfo 'Asia/Singapore' SGT+8:00:00 STD>), tval=-100.0, info_string='CASH WITHDRAWAL  ATM   OCBC-RAFFLES MRT B1-50   SINGAPORE'), ParsedOcbc(when=datetime.datetime(2015, 8, 23, 0, 0, tzinfo=<DstTzInfo 'Asia/Singapore' SGT+8:00:00 STD>), when_value=datetime.datetime(2015, 8, 24, 0, 0, tzinfo=<DstTzInfo 'Asia/Singapore' SGT+8:00:00 STD>), tval=-30.0, info_string='TOP UP   OCBC-JURONG POINT        SINGAPORE EZ-LINK TOP UP 1000140012356929 '), ParsedOcbc(when=datetime.datetime(2015, 8, 23, 0, 0, tzinfo=<DstTzInfo 'Asia/Singapore' SGT+8:00:00 STD>), when_value=datetime.datetime(2015, 8, 24, 0, 0, tzinfo=<DstTzInfo 'Asia/Singapore' SGT+8:00:00 STD>), tval=-0.2, info_string='SERVICE CHARGE   OCBC-JURONG POINT        SINGAPORE EZ-LINK TOP UP 1000140012356929 '), ParsedOcbc(when=datetime.datetime(2015, 8, 21, 0, 0, tzinfo=<DstTzInfo 'Asia/Singapore' SGT+8:00:00 STD>), when_value=datetime.datetime(2015, 8, 21, 0, 0, tzinfo=<DstTzInfo 'Asia/Singapore' SGT+8:00:00 STD>), tval=-900.0, info_string='FAST PAYMENT   Transferred from OCBC UOVB 3693749407 OTHR Uncle Jeff '), ParsedOcbc(when=datetime.datetime(2015, 8, 21, 0, 0, tzinfo=<DstTzInfo 'Asia/Singapore' SGT+8:00:00 STD>), when_value=datetime.datetime(2015, 8, 21, 0, 0, tzinfo=<DstTzInfo 'Asia/Singapore' SGT+8:00:00 STD>), tval=-347.41, info_string='FAST PAYMENT   Transferred from OCBC DBSS 0204069022 OTHR Billy Saputra '), ParsedOcbc(when=datetime.datetime(2015, 8, 21, 0, 0, tzinfo=<DstTzInfo 'Asia/Singapore' SGT+8:00:00 STD>), when_value=datetime.datetime(2015, 8, 21, 0, 0, tzinfo=<DstTzInfo 'Asia/Singapore' SGT+8:00:00 STD>), tval=-90.0, info_string='FAST PAYMENT   Transferred from OCBC UOVB 3693749407 OTHR Uncle Jeff ')]\n"
       ]
      }
     ],
     "prompt_number": 28
    },
    {
     "cell_type": "code",
     "collapsed": false,
     "input": [
      "for parsed_item in parsed_ocbc:\n",
      "    print parsed_item.when , parsed_item.when_value, parsed_item.tval, parsed_item.info_string"
     ],
     "language": "python",
     "metadata": {},
     "outputs": [
      {
       "output_type": "stream",
       "stream": "stdout",
       "text": [
        "2015-09-18 00:00:00+08:00 2015-09-18 00:00:00+08:00 -30.0 PURCHASE        NETS   THANK YOU                CITY HALL  SMRT - CTH \n",
        "2015-09-18 00:00:00+08:00 2015-09-18 00:00:00+08:00 -1010.0 PURCHASE        NETS   THANK YOU                ROBINSON  SINGPOST \n",
        "2015-09-17 00:00:00+08:00 2015-09-17 00:00:00+08:00 -970.0 FAST PAYMENT   Transferred from OCBC UOVB 3693749407 OTHR Uncle Jeff \n",
        "2015-09-17 00:00:00+08:00 2015-09-17 00:00:00+08:00 -300.0 3RD PTY TRANSFER   VBS\n",
        "2015-09-17 00:00:00+08:00 2015-09-17 00:00:00+08:00 -1000.0 FAST PAYMENT   Transferred from OCBC DBSS 0204069022 OTHR Billy Saputra \n",
        "2015-09-17 00:00:00+08:00 2015-09-17 00:00:00+08:00 -20.25 PURCHASE        NETS   COMFORT TAXIS            THANK YOU  COMFORT TR \n",
        "2015-09-16 00:00:00+08:00 2015-09-16 00:00:00+08:00 -100.0 CASH WITHDRAWAL  ATM   OCBC-AMOY ST FOOD CENTRE SINGAPORE\n",
        "2015-09-15 00:00:00+08:00 2015-09-15 00:00:00+08:00 -12.7 PURCHASE        NETS   HAVE A NCIE DAY!         GUARDIAN  GUARDIAN H \n",
        "2015-09-14 00:00:00+08:00 2015-09-14 00:00:00+08:00 5083.0 GIRO - SALARY   000001053295 INSTITUTE FOR INFOC SALA \n",
        "2015-09-09 00:00:00+08:00 2015-09-09 00:00:00+08:00 -100.0 CASH WITHDRAWAL  ATM   OCBC-31 JURONG WEST ST 63SINGAPORE\n",
        "2015-09-09 00:00:00+08:00 2015-09-09 00:00:00+08:00 -30.0 PURCHASE        NETS   THANK YOU                ORCHARD  SMRT-ORC \n",
        "2015-09-08 00:00:00+08:00 2015-09-08 00:00:00+08:00 -24.6 PURCHASE        NETS   COMFORT TAXIS            THANK YOU  COMFORT TR \n",
        "2015-09-07 00:00:00+08:00 2015-09-07 00:00:00+08:00 -37.1 PURCHASE        NETS   THANK YOU                BRAS BASA  0481431MLC \n",
        "2015-09-02 00:00:00+08:00 2015-09-02 00:00:00+08:00 -30.0 PURCHASE        NETS   THANK YOU                PNR  TRANSIT LI \n",
        "2015-09-01 00:00:00+08:00 2015-08-31 00:00:00+08:00 0.25 INTEREST CREDIT\n",
        "2015-09-01 00:00:00+08:00 2015-09-01 00:00:00+08:00 -462.68 IBG GIRO   88854193 *PRUDENTIAL A CO NO COLL 88854193 \n",
        "2015-09-01 00:00:00+08:00 2015-09-01 00:00:00+08:00 -405.93 IBG GIRO   88854193 *PRUDENTIAL A CO NO COLL 88854193 \n",
        "2015-08-28 00:00:00+08:00 2015-08-28 00:00:00+08:00 -100.0 CASH WITHDRAWAL  ATM   OCBC-31 JURONG WEST ST 63SINGAPORE\n",
        "2015-08-24 00:00:00+08:00 2015-08-24 00:00:00+08:00 -100.0 CASH WITHDRAWAL  ATM   OCBC-RAFFLES MRT B1-50   SINGAPORE\n",
        "2015-08-23 00:00:00+08:00 2015-08-24 00:00:00+08:00 -30.0 TOP UP   OCBC-JURONG POINT        SINGAPORE EZ-LINK TOP UP 1000140012356929 \n",
        "2015-08-23 00:00:00+08:00 2015-08-24 00:00:00+08:00 -0.2 SERVICE CHARGE   OCBC-JURONG POINT        SINGAPORE EZ-LINK TOP UP 1000140012356929 \n",
        "2015-08-21 00:00:00+08:00 2015-08-21 00:00:00+08:00 -900.0 FAST PAYMENT   Transferred from OCBC UOVB 3693749407 OTHR Uncle Jeff \n",
        "2015-08-21 00:00:00+08:00 2015-08-21 00:00:00+08:00 -347.41 FAST PAYMENT   Transferred from OCBC DBSS 0204069022 OTHR Billy Saputra \n",
        "2015-08-21 00:00:00+08:00 2015-08-21 00:00:00+08:00 -90.0 FAST PAYMENT   Transferred from OCBC UOVB 3693749407 OTHR Uncle Jeff \n"
       ]
      }
     ],
     "prompt_number": 9
    },
    {
     "cell_type": "code",
     "collapsed": false,
     "input": [
      "for parsed_item in parsed_dbs:\n",
      "    print parsed_item.when , parsed_item.tval, parsed_item.info_string"
     ],
     "language": "python",
     "metadata": {},
     "outputs": [
      {
       "output_type": "stream",
       "stream": "stdout",
       "text": [
        "2015-09-20 00:00:00+08:00 -89.0 POS COURTS   \n",
        "2015-09-20 00:00:00+08:00 -19.35 POS NTUC FP   \n",
        "2015-09-18 00:00:00+08:00 -43.22 D2P AXS           20150918205056730   \n",
        "2015-09-18 00:00:00+08:00 -100.0 AWL 70252266 PIONEER MRT 2   \n",
        "2015-09-17 00:00:00+08:00 -20.0 POS TRANSIT LI   \n",
        "2015-09-17 00:00:00+08:00 1000.0 ICT Transferred from OCBC Z621611509170929251557150917092925 OTHR \n",
        "2015-09-13 00:00:00+08:00 -15.0 D2P AXS           20150913142305651   \n",
        "2015-09-12 00:00:00+08:00 -100.0 AWL 70252266 NTUC CLEM MALL   \n",
        "2015-09-12 00:00:00+08:00 -10.95 POS NTUC FAIRP   \n",
        "2015-09-10 00:00:00+08:00 -13.8 MST PAYPAL *MICROSOFTRE OF 40 29 07SEP 5548-2740-7025-2266  \n",
        "2015-09-09 00:00:00+08:00 -1.8 MST PAYPAL *DNREGISTRAR    40 29 07SEP 5548-2740-7025-2266  \n",
        "2015-09-06 00:00:00+08:00 -27.07 POS ETERNAL HA   \n",
        "2015-09-04 00:00:00+08:00 -100.0 AWL 70252266 PIONEER MRT 2   \n",
        "2015-09-04 00:00:00+08:00 -48.6 MST WWF-DONATION           SI NG 03SEP 5548-2740-7025-2266  \n",
        "2015-09-04 00:00:00+08:00 -9.11 MST PAYPAL *NETFLIX.COM    40 29 02SEP 5548-2740-7025-2266  \n",
        "2015-09-02 00:00:00+08:00 -30.0 POS TRANSIT LI   \n",
        "2015-09-01 00:00:00+08:00 -15.0 POS DPAY AXS STATION   \n",
        "2015-08-31 00:00:00+08:00 0.04 INT    \n",
        "2015-08-25 00:00:00+08:00 -100.0 AWL 70252266 BUONAVISTA MRT   \n",
        "2015-08-25 00:00:00+08:00 -27.5 MST PAYPAL *CATHAYCINEP    40 29 22AUG 5548-2740-7025-2266  \n",
        "2015-08-22 00:00:00+08:00 -347.41 MST WP-CITY HARVEST CH     SI NG 20AUG 5548-2740-7025-2266  \n",
        "2015-08-21 00:00:00+08:00 -39.91 D2P AXS           20150821195313763   \n",
        "2015-08-21 00:00:00+08:00 -30.0 POS TRANSIT LI   \n",
        "2015-08-20 00:00:00+08:00 347.41 ICT Transferred from OCBC X621611508202211292831150820221129 OTHR \n",
        "2015-08-09 00:00:00+08:00 -13.8 MST PAYPAL *MICROSOFTRE    40 29 07AUG 5548-2740-7025-2266  \n",
        "2015-08-09 00:00:00+08:00 -66.42 MST JETSTARASFJ3KNR        IN DO 04AUG 5548-2740-7025-2266 IDR628900.00  \n",
        "2015-08-07 00:00:00+08:00 -57.84 MST GARUDA INDONESIA       JA KA 04AUG 5548-2740-7025-2266 IDR547000.00  \n",
        "2015-08-06 00:00:00+08:00 -100.0 AWL 70252266 AIRPORT T1/B1   \n",
        "2015-08-05 00:00:00+08:00 -48.6 MST WWF-DONATION           SI NG 04AUG 5548-2740-7025-2266  \n",
        "2015-08-04 00:00:00+08:00 500.0 ICT Transferred from OCBC X621621508042306041038150804230604 OTHR \n",
        "2015-08-04 00:00:00+08:00 -8.76 MST PAYPAL *NETFLIX.COM    40 29 02AUG 5548-2740-7025-2266  \n",
        "2015-08-04 00:00:00+08:00 -24.5 MST GOLDEN VILLAGE MULTIPL SI NG 31JUL 5548-2740-7025-2266  \n",
        "2015-08-01 00:00:00+08:00 -30.0 POS TRANSIT LI   \n",
        "2015-08-01 00:00:00+08:00 -15.0 D2P AXS           20150801132935936   \n"
       ]
      }
     ],
     "prompt_number": 10
    },
    {
     "cell_type": "code",
     "collapsed": false,
     "input": [
      "wb.remove_sheet(new_work_sheet)"
     ],
     "language": "python",
     "metadata": {},
     "outputs": [
      {
       "ename": "ValueError",
       "evalue": "list.remove(x): x not in list",
       "output_type": "pyerr",
       "traceback": [
        "\u001b[1;31m---------------------------------------------------------------------------\u001b[0m\n\u001b[1;31mValueError\u001b[0m                                Traceback (most recent call last)",
        "\u001b[1;32m<ipython-input-62-f6297128e61b>\u001b[0m in \u001b[0;36m<module>\u001b[1;34m()\u001b[0m\n\u001b[1;32m----> 1\u001b[1;33m \u001b[0mwb\u001b[0m\u001b[1;33m.\u001b[0m\u001b[0mremove_sheet\u001b[0m\u001b[1;33m(\u001b[0m\u001b[0mnew_work_sheet\u001b[0m\u001b[1;33m)\u001b[0m\u001b[1;33m\u001b[0m\u001b[0m\n\u001b[0m",
        "\u001b[1;32mC:\\Python27\\lib\\site-packages\\openpyxl\\workbook\\workbook.pyc\u001b[0m in \u001b[0;36mremove_sheet\u001b[1;34m(self, worksheet)\u001b[0m\n\u001b[0;32m    203\u001b[0m     \u001b[1;32mdef\u001b[0m \u001b[0mremove_sheet\u001b[0m\u001b[1;33m(\u001b[0m\u001b[0mself\u001b[0m\u001b[1;33m,\u001b[0m \u001b[0mworksheet\u001b[0m\u001b[1;33m)\u001b[0m\u001b[1;33m:\u001b[0m\u001b[1;33m\u001b[0m\u001b[0m\n\u001b[0;32m    204\u001b[0m         \u001b[1;34m\"\"\"Remove a worksheet from this workbook.\"\"\"\u001b[0m\u001b[1;33m\u001b[0m\u001b[0m\n\u001b[1;32m--> 205\u001b[1;33m         \u001b[0mself\u001b[0m\u001b[1;33m.\u001b[0m\u001b[0mworksheets\u001b[0m\u001b[1;33m.\u001b[0m\u001b[0mremove\u001b[0m\u001b[1;33m(\u001b[0m\u001b[0mworksheet\u001b[0m\u001b[1;33m)\u001b[0m\u001b[1;33m\u001b[0m\u001b[0m\n\u001b[0m\u001b[0;32m    206\u001b[0m \u001b[1;33m\u001b[0m\u001b[0m\n\u001b[0;32m    207\u001b[0m     \u001b[1;32mdef\u001b[0m \u001b[0mget_sheet_by_name\u001b[0m\u001b[1;33m(\u001b[0m\u001b[0mself\u001b[0m\u001b[1;33m,\u001b[0m \u001b[0mname\u001b[0m\u001b[1;33m)\u001b[0m\u001b[1;33m:\u001b[0m\u001b[1;33m\u001b[0m\u001b[0m\n",
        "\u001b[1;31mValueError\u001b[0m: list.remove(x): x not in list"
       ]
      }
     ],
     "prompt_number": 62
    },
    {
     "cell_type": "code",
     "collapsed": false,
     "input": [
      "new_work_sheet = wb.create_sheet()\n",
      "new_work_sheet.title = \"ParsedDbs_wparse\""
     ],
     "language": "python",
     "metadata": {},
     "outputs": [],
     "prompt_number": 63
    },
    {
     "cell_type": "code",
     "collapsed": false,
     "input": [
      "for parsed_item in parsed_dbs:\n",
      "    if parsed_item.when > datetime(2015, 8, 21, tzinfo=tz):\n",
      "        print parsed_item.when , parsed_item.tval, parsed_item.info_string"
     ],
     "language": "python",
     "metadata": {},
     "outputs": [
      {
       "output_type": "stream",
       "stream": "stdout",
       "text": [
        "2015-09-20 00:00:00+08:00 -89.0 POS COURTS   \n",
        "2015-09-20 00:00:00+08:00 -19.35 POS NTUC FP   \n",
        "2015-09-18 00:00:00+08:00 -43.22 D2P AXS           20150918205056730   \n",
        "2015-09-18 00:00:00+08:00 -100.0 AWL 70252266 PIONEER MRT 2   \n",
        "2015-09-17 00:00:00+08:00 -20.0 POS TRANSIT LI   \n",
        "2015-09-17 00:00:00+08:00 1000.0 ICT Transferred from OCBC Z621611509170929251557150917092925 OTHR \n",
        "2015-09-13 00:00:00+08:00 -15.0 D2P AXS           20150913142305651   \n",
        "2015-09-12 00:00:00+08:00 -100.0 AWL 70252266 NTUC CLEM MALL   \n",
        "2015-09-12 00:00:00+08:00 -10.95 POS NTUC FAIRP   \n",
        "2015-09-10 00:00:00+08:00 -13.8 MST PAYPAL *MICROSOFTRE OF 40 29 07SEP 5548-2740-7025-2266  \n",
        "2015-09-09 00:00:00+08:00 -1.8 MST PAYPAL *DNREGISTRAR    40 29 07SEP 5548-2740-7025-2266  \n",
        "2015-09-06 00:00:00+08:00 -27.07 POS ETERNAL HA   \n",
        "2015-09-04 00:00:00+08:00 -100.0 AWL 70252266 PIONEER MRT 2   \n",
        "2015-09-04 00:00:00+08:00 -48.6 MST WWF-DONATION           SI NG 03SEP 5548-2740-7025-2266  \n",
        "2015-09-04 00:00:00+08:00 -9.11 MST PAYPAL *NETFLIX.COM    40 29 02SEP 5548-2740-7025-2266  \n",
        "2015-09-02 00:00:00+08:00 -30.0 POS TRANSIT LI   \n",
        "2015-09-01 00:00:00+08:00 -15.0 POS DPAY AXS STATION   \n",
        "2015-08-31 00:00:00+08:00 0.04 INT    \n",
        "2015-08-25 00:00:00+08:00 -100.0 AWL 70252266 BUONAVISTA MRT   \n",
        "2015-08-25 00:00:00+08:00 -27.5 MST PAYPAL *CATHAYCINEP    40 29 22AUG 5548-2740-7025-2266  \n",
        "2015-08-22 00:00:00+08:00 -347.41 MST WP-CITY HARVEST CH     SI NG 20AUG 5548-2740-7025-2266  \n"
       ]
      }
     ],
     "prompt_number": 100
    },
    {
     "cell_type": "code",
     "collapsed": false,
     "input": [
      "for parsed_item in reversed(parsed_dbs_filtered_by_date):\n",
      "    print parsed_item.when , parsed_item.tval, parsed_item.info_string"
     ],
     "language": "python",
     "metadata": {},
     "outputs": [
      {
       "output_type": "stream",
       "stream": "stdout",
       "text": [
        "2015-08-25 00:00:00+08:00 -27.5 MST PAYPAL *CATHAYCINEP    40 29 22AUG 5548-2740-7025-2266  \n",
        "2015-08-25 00:00:00+08:00 -100.0 AWL 70252266 BUONAVISTA MRT   \n",
        "2015-08-31 00:00:00+08:00 0.04 INT    \n",
        "2015-09-01 00:00:00+08:00 -15.0 POS DPAY AXS STATION   \n",
        "2015-09-02 00:00:00+08:00 -30.0 POS TRANSIT LI   \n",
        "2015-09-04 00:00:00+08:00 -9.11 MST PAYPAL *NETFLIX.COM    40 29 02SEP 5548-2740-7025-2266  \n",
        "2015-09-04 00:00:00+08:00 -48.6 MST WWF-DONATION           SI NG 03SEP 5548-2740-7025-2266  \n",
        "2015-09-04 00:00:00+08:00 -100.0 AWL 70252266 PIONEER MRT 2   \n",
        "2015-09-06 00:00:00+08:00 -27.07 POS ETERNAL HA   \n",
        "2015-09-09 00:00:00+08:00 -1.8 MST PAYPAL *DNREGISTRAR    40 29 07SEP 5548-2740-7025-2266  \n",
        "2015-09-10 00:00:00+08:00 -13.8 MST PAYPAL *MICROSOFTRE OF 40 29 07SEP 5548-2740-7025-2266  \n",
        "2015-09-12 00:00:00+08:00 -10.95 POS NTUC FAIRP   \n",
        "2015-09-12 00:00:00+08:00 -100.0 AWL 70252266 NTUC CLEM MALL   \n",
        "2015-09-13 00:00:00+08:00 -15.0 D2P AXS           20150913142305651   \n",
        "2015-09-17 00:00:00+08:00 1000.0 ICT Transferred from OCBC Z621611509170929251557150917092925 OTHR \n",
        "2015-09-17 00:00:00+08:00 -20.0 POS TRANSIT LI   \n",
        "2015-09-18 00:00:00+08:00 -100.0 AWL 70252266 PIONEER MRT 2   \n",
        "2015-09-18 00:00:00+08:00 -43.22 D2P AXS           20150918205056730   \n",
        "2015-09-20 00:00:00+08:00 -19.35 POS NTUC FP   \n",
        "2015-09-20 00:00:00+08:00 -89.0 POS COURTS   \n"
       ]
      }
     ],
     "prompt_number": 101
    },
    {
     "cell_type": "code",
     "collapsed": false,
     "input": [
      "parsed_dbs_filtered_by_date = [x for x in parsed_dbs if x.when > datetime(2015, 8, 22, tzinfo=tz)]\n",
      "\n",
      "from openpyxl.styles import PatternFill, Border, Side, Alignment, Protection, Font, Style, Color\n",
      "from openpyxl.cell import coordinate_from_string, column_index_from_string, get_column_letter\n",
      "\n",
      "row = 2\n",
      "index_row = 0\n",
      "saldo_awal = 841.14\n",
      "saldo_akhir = saldo_awal\n",
      "sheet = new_work_sheet\n",
      "\n",
      "sheet.cell(column=2,row=1).value = saldo_awal\n",
      "\n",
      "for parsed_item in reversed(parsed_dbs_filtered_by_date):\n",
      "    sheet.cell(column=2,row=row).value = '=' + get_column_letter(2) + str(row-1) + '+' + get_column_letter(3) + str(row)\n",
      "    #_cell = sheet.cell(column=3,row=row)\n",
      "    #_cell = parsed_dbs[index_row][0]\n",
      "    sheet[get_column_letter(1) + str(row)] = parsed_item.when\n",
      "    #_cell.style.number_format='[$-F800]dddd\\\\,\\\\ mmmm\\\\ dd\\\\,\\\\ yyyy'\n",
      "    sheet[get_column_letter(1) + str(row)].number_format='[$-F800]dddd\\\\,\\\\ mmmm\\\\ dd\\\\,\\\\ yyyy'\n",
      "    #saldo = saldo - sheet_data.cell(column=1,row=row).value \n",
      "    sheet[get_column_letter(3) + str(row)].value = parsed_item.tval\n",
      "    sheet[get_column_letter(4) + str(row)].value = parsed_item.info_string\n",
      "    \n",
      "    saldo_akhir = saldo_akhir + parsed_item.tval\n",
      "    row=row+1\n",
      "    index_row = index_row + 1\n",
      "\n",
      "sheet.column_dimensions['A'].width = 35\n",
      "\n",
      "print saldo_akhir, saldo_akhir_dbs_from_bank, saldo_ledger_dbs_from_bank\n",
      "if 0.01 < abs(saldo_akhir - saldo_akhir_dbs_from_bank):\n",
      "    print \"WARNING: saldo not tally!\"\n",
      "    if 0.01 > abs(saldo_akhir - saldo_ledger_dbs_from_bank):\n",
      "        print \"INFERENCE: Possible unsettled transaction in Debit Card detected...\"\n",
      "    print \"CHECK: \\n- if you got any unsettled transaction (e.g. debit cards) \\n- or transaction date cut-off is wrong \\n- or saldo is incorrect\"\n",
      "    print '(Total) Difference is ', -saldo_akhir + saldo_akhir_dbs_from_bank\n",
      "print -saldo_akhir + saldo_akhir_dbs_from_bank, -saldo_akhir + saldo_ledger_dbs_from_bank"
     ],
     "language": "python",
     "metadata": {},
     "outputs": [
      {
       "output_type": "stream",
       "stream": "stdout",
       "text": [
        "1070.78 1017.28 1070.78\n",
        "WARNING: saldo not tally!\n",
        "INFERENCE: Possible unsettled transaction in Debit Card detected...\n",
        "CHECK: \n",
        "- if you got any unsettled transaction (e.g. debit cards) \n",
        "- or transaction date cut-off is wrong \n",
        "- or saldo is incorrect\n",
        "(Total) Difference is  -53.5\n",
        "-53.5 0.0\n"
       ]
      }
     ],
     "prompt_number": 36
    },
    {
     "cell_type": "code",
     "collapsed": false,
     "input": [
      "wb.save('test_py_styles.xlsx')"
     ],
     "language": "python",
     "metadata": {},
     "outputs": [],
     "prompt_number": 65
    },
    {
     "cell_type": "markdown",
     "metadata": {},
     "source": [
      "snippet for loading yaml"
     ]
    },
    {
     "cell_type": "code",
     "collapsed": false,
     "input": [
      "from collections import namedtuple\n",
      "import yaml\n",
      "\n",
      "tuple_wlist = namedtuple('WList', ['word_list', 'description', 'category'])\n",
      "fo = open('expense_parsing_wordlist.yaml')\n",
      "fo_str = fo.read()\n",
      "fo.close()\n",
      "wlist = yaml.load(fo_str)\n",
      "\n",
      "wlist_dbs = []\n",
      "wlist_ocbc = []\n",
      "\n",
      "for mat in wlist['DBS']:\n",
      "    mat_tupled = tuple_wlist(**mat)\n",
      "    wlist_dbs.append(mat_tupled)\n",
      "for mat in wlist['OCBC']:\n",
      "    mat_tupled = tuple_wlist(**mat)\n",
      "    wlist_ocbc.append(mat_tupled)"
     ],
     "language": "python",
     "metadata": {},
     "outputs": [],
     "prompt_number": 54
    },
    {
     "cell_type": "code",
     "collapsed": false,
     "input": [
      "import re\n",
      "def parseCategory(str,wlist):\n",
      "    for entry in wlist:\n",
      "        for word in entry.word_list:\n",
      "            if re.search(word,str):\n",
      "                return entry.category, entry.description"
     ],
     "language": "python",
     "metadata": {},
     "outputs": [],
     "prompt_number": 41
    },
    {
     "cell_type": "markdown",
     "metadata": {},
     "source": [
      "## DBS Combined with pyaml for parsing categories"
     ]
    },
    {
     "cell_type": "code",
     "collapsed": false,
     "input": [
      "parsed_dbs_filtered_by_date = [x for x in parsed_dbs if x.when > datetime(2015, 8, 22, tzinfo=tz)]\n",
      "\n",
      "from openpyxl.styles import PatternFill, Border, Side, Alignment, Protection, Font, Style, Color\n",
      "from openpyxl.cell import coordinate_from_string, column_index_from_string, get_column_letter\n",
      "\n",
      "row = 2\n",
      "index_row = 0\n",
      "saldo_awal = 841.14\n",
      "saldo_akhir = saldo_awal\n",
      "sheet = new_work_sheet\n",
      "\n",
      "sheet.cell(column=2,row=1).value = saldo_awal\n",
      "\n",
      "for parsed_item in reversed(parsed_dbs_filtered_by_date):\n",
      "    sheet.cell(column=2,row=row).value = '=' + get_column_letter(2) + str(row-1) + '+' + get_column_letter(3) + str(row)\n",
      "    #_cell = sheet.cell(column=3,row=row)\n",
      "    #_cell = parsed_dbs[index_row][0]\n",
      "    sheet[get_column_letter(1) + str(row)] = parsed_item.when\n",
      "    #_cell.style.number_format='[$-F800]dddd\\\\,\\\\ mmmm\\\\ dd\\\\,\\\\ yyyy'\n",
      "    sheet[get_column_letter(1) + str(row)].number_format='[$-F800]dddd\\\\,\\\\ mmmm\\\\ dd\\\\,\\\\ yyyy'\n",
      "    #saldo = saldo - sheet_data.cell(column=1,row=row).value \n",
      "    sheet[get_column_letter(3) + str(row)].value = parsed_item.tval\n",
      "    sheet[get_column_letter(4) + str(row)].value = parsed_item.info_string\n",
      "    \n",
      "    category = parseCategory(parsed_item.info_string, wlist_dbs)\n",
      "    if category:\n",
      "        if len(category[0])>1:\n",
      "            sheet[get_column_letter(5) + str(row)].value = 'MULTIPLE: '+';'.join(category[0])\n",
      "        else:\n",
      "            sheet[get_column_letter(5) + str(row)].value = ';'.join(category[0])\n",
      "        sheet[get_column_letter(6) + str(row)].value = ';'.join(category[1])\n",
      "    else:\n",
      "        sheet[get_column_letter(5) + str(row)].value = 'NONE'\n",
      "    \n",
      "    saldo_akhir = saldo_akhir + parsed_item.tval\n",
      "    row=row+1\n",
      "    index_row = index_row + 1\n",
      "\n",
      "sheet.column_dimensions['A'].width = 35\n",
      "\n",
      "print saldo_akhir, saldo_akhir_dbs_from_bank, saldo_ledger_dbs_from_bank\n",
      "if 0.01 < abs(saldo_akhir - saldo_akhir_dbs_from_bank):\n",
      "    print \"WARNING: saldo not tally!\"\n",
      "    if 0.01 > abs(saldo_akhir - saldo_ledger_dbs_from_bank):\n",
      "        print \"INFERENCE: Possible unsettled transaction in Debit Card detected...\"\n",
      "    print \"CHECK: \\n- if you got any unsettled transaction (e.g. debit cards) \\n- or transaction date cut-off is wrong \\n- or saldo is incorrect\"\n",
      "    print '(Total) Difference is ', -saldo_akhir + saldo_akhir_dbs_from_bank\n",
      "print -saldo_akhir + saldo_akhir_dbs_from_bank, -saldo_akhir + saldo_ledger_dbs_from_bank"
     ],
     "language": "python",
     "metadata": {},
     "outputs": [
      {
       "output_type": "stream",
       "stream": "stdout",
       "text": [
        "1070.78 1017.28 1070.78\n",
        "WARNING: saldo not tally!\n",
        "INFERENCE: Possible unsettled transaction in Debit Card detected...\n",
        "CHECK: \n",
        "- if you got any unsettled transaction (e.g. debit cards) \n",
        "- or transaction date cut-off is wrong \n",
        "- or saldo is incorrect\n",
        "(Total) Difference is  -53.5\n",
        "-53.5 0.0\n"
       ]
      }
     ],
     "prompt_number": 64
    },
    {
     "cell_type": "code",
     "collapsed": false,
     "input": [],
     "language": "python",
     "metadata": {},
     "outputs": []
    },
    {
     "cell_type": "code",
     "collapsed": false,
     "input": [
      "for parsed_item in parsed_ocbc:\n",
      "    if parsed_item.when > datetime(2015, 8, 23, tzinfo=tz):\n",
      "        print parsed_item.when , parsed_item.when_value, parsed_item.tval, parsed_item.info_string"
     ],
     "language": "python",
     "metadata": {},
     "outputs": [
      {
       "output_type": "stream",
       "stream": "stdout",
       "text": [
        "2015-09-18 00:00:00+08:00 2015-09-18 00:00:00+08:00 -30.0 PURCHASE        NETS   THANK YOU                CITY HALL  SMRT - CTH \n",
        "2015-09-18 00:00:00+08:00 2015-09-18 00:00:00+08:00 -1010.0 PURCHASE        NETS   THANK YOU                ROBINSON  SINGPOST \n",
        "2015-09-17 00:00:00+08:00 2015-09-17 00:00:00+08:00 -970.0 FAST PAYMENT   Transferred from OCBC UOVB 3693749407 OTHR Uncle Jeff \n",
        "2015-09-17 00:00:00+08:00 2015-09-17 00:00:00+08:00 -300.0 3RD PTY TRANSFER   VBS\n",
        "2015-09-17 00:00:00+08:00 2015-09-17 00:00:00+08:00 -1000.0 FAST PAYMENT   Transferred from OCBC DBSS 0204069022 OTHR Billy Saputra \n",
        "2015-09-17 00:00:00+08:00 2015-09-17 00:00:00+08:00 -20.25 PURCHASE        NETS   COMFORT TAXIS            THANK YOU  COMFORT TR \n",
        "2015-09-16 00:00:00+08:00 2015-09-16 00:00:00+08:00 -100.0 CASH WITHDRAWAL  ATM   OCBC-AMOY ST FOOD CENTRE SINGAPORE\n",
        "2015-09-15 00:00:00+08:00 2015-09-15 00:00:00+08:00 -12.7 PURCHASE        NETS   HAVE A NCIE DAY!         GUARDIAN  GUARDIAN H \n",
        "2015-09-14 00:00:00+08:00 2015-09-14 00:00:00+08:00 5083.0 GIRO - SALARY   000001053295 INSTITUTE FOR INFOC SALA \n",
        "2015-09-09 00:00:00+08:00 2015-09-09 00:00:00+08:00 -100.0 CASH WITHDRAWAL  ATM   OCBC-31 JURONG WEST ST 63SINGAPORE\n",
        "2015-09-09 00:00:00+08:00 2015-09-09 00:00:00+08:00 -30.0 PURCHASE        NETS   THANK YOU                ORCHARD  SMRT-ORC \n",
        "2015-09-08 00:00:00+08:00 2015-09-08 00:00:00+08:00 -24.6 PURCHASE        NETS   COMFORT TAXIS            THANK YOU  COMFORT TR \n",
        "2015-09-07 00:00:00+08:00 2015-09-07 00:00:00+08:00 -37.1 PURCHASE        NETS   THANK YOU                BRAS BASA  0481431MLC \n",
        "2015-09-02 00:00:00+08:00 2015-09-02 00:00:00+08:00 -30.0 PURCHASE        NETS   THANK YOU                PNR  TRANSIT LI \n",
        "2015-09-01 00:00:00+08:00 2015-08-31 00:00:00+08:00 0.25 INTEREST CREDIT\n",
        "2015-09-01 00:00:00+08:00 2015-09-01 00:00:00+08:00 -462.68 IBG GIRO   88854193 *PRUDENTIAL A CO NO COLL 88854193 \n",
        "2015-09-01 00:00:00+08:00 2015-09-01 00:00:00+08:00 -405.93 IBG GIRO   88854193 *PRUDENTIAL A CO NO COLL 88854193 \n",
        "2015-08-28 00:00:00+08:00 2015-08-28 00:00:00+08:00 -100.0 CASH WITHDRAWAL  ATM   OCBC-31 JURONG WEST ST 63SINGAPORE\n",
        "2015-08-24 00:00:00+08:00 2015-08-24 00:00:00+08:00 -100.0 CASH WITHDRAWAL  ATM   OCBC-RAFFLES MRT B1-50   SINGAPORE\n"
       ]
      }
     ],
     "prompt_number": 44
    },
    {
     "cell_type": "code",
     "collapsed": false,
     "input": [
      "new_work_sheet = wb.create_sheet()\n",
      "new_work_sheet.title = \"ParsedOcbc_wparse\""
     ],
     "language": "python",
     "metadata": {},
     "outputs": [],
     "prompt_number": 49
    },
    {
     "cell_type": "code",
     "collapsed": false,
     "input": [
      "parsed_ocbc_filtered_by_date = [x for x in parsed_ocbc if x.when > datetime(2015, 8, 23, tzinfo=tz)]"
     ],
     "language": "python",
     "metadata": {},
     "outputs": [],
     "prompt_number": 50
    },
    {
     "cell_type": "code",
     "collapsed": false,
     "input": [
      "from openpyxl.styles import PatternFill, Border, Side, Alignment, Protection, Font, Style, Color\n",
      "from openpyxl.cell import coordinate_from_string, column_index_from_string, get_column_letter\n",
      "\n",
      "row = 2\n",
      "index_row = 0\n",
      "saldo_awal = 5632.2\n",
      "saldo_akhir = saldo_awal\n",
      "sheet = new_work_sheet\n",
      "\n",
      "sheet.cell(column=2,row=1).value = saldo_awal\n",
      "\n",
      "for parsed_item in reversed(parsed_ocbc_filtered_by_date):\n",
      "    sheet.cell(column=2,row=row).value = '=' + get_column_letter(2) + str(row-1) + '+' + get_column_letter(3) + str(row)\n",
      "    #_cell = sheet.cell(column=3,row=row)\n",
      "    #_cell = parsed_dbs[index_row][0]\n",
      "    sheet[get_column_letter(1) + str(row)] = parsed_item.when\n",
      "    #_cell.style.number_format='[$-F800]dddd\\\\,\\\\ mmmm\\\\ dd\\\\,\\\\ yyyy'\n",
      "    sheet[get_column_letter(1) + str(row)].number_format='[$-F800]dddd\\\\,\\\\ mmmm\\\\ dd\\\\,\\\\ yyyy'\n",
      "    #saldo = saldo - sheet_data.cell(column=1,row=row).value \n",
      "    sheet[get_column_letter(3) + str(row)].value = parsed_item.tval\n",
      "    sheet[get_column_letter(4) + str(row)].value = parsed_item.info_string\n",
      "    \n",
      "    saldo_akhir = saldo_akhir + parsed_item.tval\n",
      "    row=row+1\n",
      "    index_row = index_row + 1\n",
      "\n",
      "sheet.column_dimensions['A'].width = 35\n",
      "\n",
      "print saldo_akhir, saldo_akhir_ocbc_from_bank, saldo_ledger_ocbc_from_bank\n",
      "if 0.01 < abs(saldo_akhir - saldo_akhir_ocbc_from_bank):\n",
      "    print \"WARNING: saldo not tally!\"\n",
      "    if 0.01 > abs(saldo_akhir - saldo_ledger_ocbc_from_bank):\n",
      "        print \"INFERENCE: Possible unsettled transaction in Debit Card detected...\"\n",
      "    print \"CHECK: \\n- if you got any unsettled transaction (e.g. debit cards) \\n- or transaction date cut-off is wrong \\n- or saldo is incorrect\"\n",
      "    print '(Total) Difference is ', -saldo_akhir + saldo_akhir_ocbc_from_bank\n",
      "else:\n",
      "    print 'OK, saldo tally.'\n",
      "print -saldo_akhir + saldo_akhir_ocbc_from_bank, -saldo_akhir + saldo_ledger_ocbc_from_bank"
     ],
     "language": "python",
     "metadata": {},
     "outputs": [
      {
       "output_type": "stream",
       "stream": "stdout",
       "text": [
        "5982.19 5982.19 5982.19\n",
        "OK, saldo tally.\n",
        "9.09494701773e-13 9.09494701773e-13\n"
       ]
      }
     ],
     "prompt_number": 34
    },
    {
     "cell_type": "markdown",
     "metadata": {},
     "source": [
      "## OCBC Combined with pyaml for parsing categories"
     ]
    },
    {
     "cell_type": "code",
     "collapsed": false,
     "input": [
      "parsed_ocbc_filtered_by_date = [x for x in parsed_ocbc if x.when > datetime(2015, 8, 23, tzinfo=tz)]\n",
      "from openpyxl.styles import PatternFill, Border, Side, Alignment, Protection, Font, Style, Color\n",
      "from openpyxl.cell import coordinate_from_string, column_index_from_string, get_column_letter\n",
      "\n",
      "row = 2\n",
      "index_row = 0\n",
      "saldo_awal = 5632.2\n",
      "saldo_akhir = saldo_awal\n",
      "sheet = new_work_sheet\n",
      "\n",
      "sheet.cell(column=2,row=1).value = saldo_awal\n",
      "\n",
      "for parsed_item in reversed(parsed_ocbc_filtered_by_date):\n",
      "    sheet.cell(column=2,row=row).value = '=' + get_column_letter(2) + str(row-1) + '+' + get_column_letter(3) + str(row)\n",
      "    #_cell = sheet.cell(column=3,row=row)\n",
      "    #_cell = parsed_dbs[index_row][0]\n",
      "    sheet[get_column_letter(1) + str(row)] = parsed_item.when\n",
      "    #_cell.style.number_format='[$-F800]dddd\\\\,\\\\ mmmm\\\\ dd\\\\,\\\\ yyyy'\n",
      "    sheet[get_column_letter(1) + str(row)].number_format='[$-F800]dddd\\\\,\\\\ mmmm\\\\ dd\\\\,\\\\ yyyy'\n",
      "    #saldo = saldo - sheet_data.cell(column=1,row=row).value \n",
      "    sheet[get_column_letter(3) + str(row)].value = parsed_item.tval\n",
      "    sheet[get_column_letter(4) + str(row)].value = parsed_item.info_string\n",
      "    \n",
      "    category = parseCategory(parsed_item.info_string, wlist_ocbc)\n",
      "    if category:\n",
      "        if len(category[0])>1:\n",
      "            sheet[get_column_letter(5) + str(row)].value = 'MULTIPLE: '+';'.join(category[0])\n",
      "        else:\n",
      "            sheet[get_column_letter(5) + str(row)].value = ';'.join(category[0])\n",
      "        sheet[get_column_letter(6) + str(row)].value = ';'.join(category[1])\n",
      "    else:\n",
      "        sheet[get_column_letter(5) + str(row)].value = 'NONE'\n",
      "    \n",
      "    saldo_akhir = saldo_akhir + parsed_item.tval\n",
      "    row=row+1\n",
      "    index_row = index_row + 1\n",
      "\n",
      "sheet.column_dimensions['A'].width = 35\n",
      "\n",
      "print saldo_akhir, saldo_akhir_ocbc_from_bank, saldo_ledger_ocbc_from_bank\n",
      "if 0.01 < abs(saldo_akhir - saldo_akhir_ocbc_from_bank):\n",
      "    print \"WARNING: saldo not tally!\"\n",
      "    if 0.01 > abs(saldo_akhir - saldo_ledger_ocbc_from_bank):\n",
      "        print \"INFERENCE: Possible unsettled transaction in Debit Card detected...\"\n",
      "    print \"CHECK: \\n- if you got any unsettled transaction (e.g. debit cards) \\n- or transaction date cut-off is wrong \\n- or saldo is incorrect\"\n",
      "    print '(Total) Difference is ', -saldo_akhir + saldo_akhir_ocbc_from_bank\n",
      "else:\n",
      "    print 'OK, saldo tally.'\n",
      "print -saldo_akhir + saldo_akhir_ocbc_from_bank, -saldo_akhir + saldo_ledger_ocbc_from_bank"
     ],
     "language": "python",
     "metadata": {},
     "outputs": [
      {
       "output_type": "stream",
       "stream": "stdout",
       "text": [
        "5982.19 5982.19 5982.19\n",
        "OK, saldo tally.\n",
        "9.09494701773e-13 9.09494701773e-13\n"
       ]
      }
     ],
     "prompt_number": 58
    },
    {
     "cell_type": "code",
     "collapsed": false,
     "input": [],
     "language": "python",
     "metadata": {},
     "outputs": []
    }
   ],
   "metadata": {}
  }
 ]
}