{
 "metadata": {
  "name": "",
  "signature": "sha256:065140e8328444d6a95b86219110d6279478427c13be71c19cfd7f9eb1d6407f"
 },
 "nbformat": 3,
 "nbformat_minor": 0,
 "worksheets": [
  {
   "cells": [
    {
     "cell_type": "code",
     "collapsed": false,
     "input": [
      "import os, sys"
     ],
     "language": "python",
     "metadata": {},
     "outputs": [],
     "prompt_number": 2
    },
    {
     "cell_type": "code",
     "collapsed": false,
     "input": [
      "os.getcwd()"
     ],
     "language": "python",
     "metadata": {},
     "outputs": [
      {
       "metadata": {},
       "output_type": "pyout",
       "prompt_number": 3,
       "text": [
        "'C:\\\\Users\\\\Billy\\\\Documents\\\\ipython_notebook'"
       ]
      }
     ],
     "prompt_number": 3
    },
    {
     "cell_type": "code",
     "collapsed": false,
     "input": [
      "sys.path"
     ],
     "language": "python",
     "metadata": {},
     "outputs": [
      {
       "metadata": {},
       "output_type": "pyout",
       "prompt_number": 3,
       "text": [
        "['',\n",
        " 'C:\\\\Python27\\\\lib\\\\site-packages\\\\pyjs-0.8.2-py2.7.egg',\n",
        " 'C:\\\\Windows\\\\system32\\\\python27.zip',\n",
        " 'C:\\\\Python27\\\\DLLs',\n",
        " 'C:\\\\Python27\\\\lib',\n",
        " 'C:\\\\Python27\\\\lib\\\\plat-win',\n",
        " 'C:\\\\Python27\\\\lib\\\\lib-tk',\n",
        " 'C:\\\\Python27',\n",
        " 'C:\\\\Python27\\\\lib\\\\site-packages',\n",
        " 'C:\\\\Python27\\\\lib\\\\site-packages\\\\IPython\\\\extensions']"
       ]
      }
     ],
     "prompt_number": 3
    },
    {
     "cell_type": "code",
     "collapsed": false,
     "input": [
      "sys.path.append('C:\\\\Users\\\\Billy\\\\Documents\\\\AvScript\\\\_test_edit\\\\canmatrix')"
     ],
     "language": "python",
     "metadata": {},
     "outputs": [],
     "prompt_number": 4
    },
    {
     "cell_type": "code",
     "collapsed": false,
     "input": [
      "import library.exportall as ex\n",
      "import library.importall as im\n",
      "import library.canmatrix as cm\n"
     ],
     "language": "python",
     "metadata": {},
     "outputs": [
      {
       "output_type": "stream",
       "stream": "stdout",
       "text": [
        "no kcd-export-support, some dependencys missing... \n",
        "no xls-export-support, some dependencys missing... "
       ]
      },
      {
       "output_type": "stream",
       "stream": "stdout",
       "text": [
        "\n",
        "no arxml-import-support, some dependencys missing... "
       ]
      },
      {
       "output_type": "stream",
       "stream": "stdout",
       "text": [
        "\n",
        "no kcd-import-support, some dependencys missing... "
       ]
      },
      {
       "output_type": "stream",
       "stream": "stdout",
       "text": [
        "\n",
        "no xls-import-support, some dependencys missing... "
       ]
      },
      {
       "output_type": "stream",
       "stream": "stdout",
       "text": [
        "\n"
       ]
      }
     ],
     "prompt_number": 5
    },
    {
     "cell_type": "code",
     "collapsed": false,
     "input": [
      "db = im.importDbc('ESR_radar.dbc')\n"
     ],
     "language": "python",
     "metadata": {},
     "outputs": [],
     "prompt_number": 6
    },
    {
     "cell_type": "code",
     "collapsed": false,
     "input": [
      "db = im.importDbc('C:\\Users\\Billy\\Documents\\AutoBus2\\delphi\\RSDS Customer Folder\\RSDS_PCAN_v18.dbc')"
     ],
     "language": "python",
     "metadata": {},
     "outputs": [],
     "prompt_number": 172
    },
    {
     "cell_type": "code",
     "collapsed": false,
     "input": [
      "db = im.importDbc('C:\\Users\\Billy\\Documents\\AutoBus2\\delphi\\RSDS Customer Folder\\XCAN_Sim_3rd_Party_v01\\XCAN_Sim_3rd_Party_v01\\SOD009sc.dbc')"
     ],
     "language": "python",
     "metadata": {},
     "outputs": [],
     "prompt_number": 118
    },
    {
     "cell_type": "code",
     "collapsed": false,
     "input": [
      "db_xcan_nmt = im.importDbc('C:\\Users\\Billy\\Documents\\AutoBus2\\delphi\\RSDS Customer Folder\\XCAN_Sim_3rd_Party_v01\\XCAN_Sim_3rd_Party_v01\\RSDS_Network_Mgmt.dbc')"
     ],
     "language": "python",
     "metadata": {},
     "outputs": [],
     "prompt_number": 120
    },
    {
     "cell_type": "code",
     "collapsed": false,
     "input": [],
     "language": "python",
     "metadata": {},
     "outputs": []
    },
    {
     "cell_type": "code",
     "collapsed": false,
     "input": [
      "print(db)"
     ],
     "language": "python",
     "metadata": {},
     "outputs": [
      {
       "output_type": "stream",
       "stream": "stdout",
       "text": [
        "<library.canmatrix.CanMatrix instance at 0x03C4F5D0>\n"
       ]
      }
     ],
     "prompt_number": 8
    },
    {
     "cell_type": "code",
     "collapsed": false,
     "input": [
      "repr(db)"
     ],
     "language": "python",
     "metadata": {},
     "outputs": [
      {
       "metadata": {},
       "output_type": "pyout",
       "prompt_number": 9,
       "text": [
        "'<library.canmatrix.CanMatrix instance at 0x038DFC38>'"
       ]
      }
     ],
     "prompt_number": 9
    },
    {
     "cell_type": "code",
     "collapsed": false,
     "input": [
      "print \"%d Frames found\" % (db._fl._list.__len__())"
     ],
     "language": "python",
     "metadata": {},
     "outputs": [
      {
       "output_type": "stream",
       "stream": "stdout",
       "text": [
        "128 Frames found\n"
       ]
      }
     ],
     "prompt_number": 10
    },
    {
     "cell_type": "code",
     "collapsed": false,
     "input": [
      "print db._fl._list"
     ],
     "language": "python",
     "metadata": {},
     "outputs": [
      {
       "output_type": "stream",
       "stream": "stdout",
       "text": [
        "[<library.canmatrix.Frame instance at 0x0399AA80>, <library.canmatrix.Frame instance at 0x039C5508>, <library.canmatrix.Frame instance at 0x039C5760>, <library.canmatrix.Frame instance at 0x039C5A58>, <library.canmatrix.Frame instance at 0x039C5F80>, <library.canmatrix.Frame instance at 0x03A0B4E0>, <library.canmatrix.Frame instance at 0x03A0BA08>, <library.canmatrix.Frame instance at 0x03A0BF30>, <library.canmatrix.Frame instance at 0x03A12490>, <library.canmatrix.Frame instance at 0x03A129B8>, <library.canmatrix.Frame instance at 0x03A12EE0>, <library.canmatrix.Frame instance at 0x03A19440>, <library.canmatrix.Frame instance at 0x03A19968>, <library.canmatrix.Frame instance at 0x03A19E90>, <library.canmatrix.Frame instance at 0x03A1E3F0>, <library.canmatrix.Frame instance at 0x03A1E918>, <library.canmatrix.Frame instance at 0x03A1EE40>, <library.canmatrix.Frame instance at 0x03A243A0>, <library.canmatrix.Frame instance at 0x03A248C8>, <library.canmatrix.Frame instance at 0x03A24DF0>, <library.canmatrix.Frame instance at 0x03A2A350>, <library.canmatrix.Frame instance at 0x03A2A878>, <library.canmatrix.Frame instance at 0x03A2ADA0>, <library.canmatrix.Frame instance at 0x03A31300>, <library.canmatrix.Frame instance at 0x03A31828>, <library.canmatrix.Frame instance at 0x03A31D50>, <library.canmatrix.Frame instance at 0x03A372B0>, <library.canmatrix.Frame instance at 0x03A377D8>, <library.canmatrix.Frame instance at 0x03A37D00>, <library.canmatrix.Frame instance at 0x03A3D260>, <library.canmatrix.Frame instance at 0x03A3D788>, <library.canmatrix.Frame instance at 0x03A3DCB0>, <library.canmatrix.Frame instance at 0x03A43210>, <library.canmatrix.Frame instance at 0x03A43738>, <library.canmatrix.Frame instance at 0x03A43C60>, <library.canmatrix.Frame instance at 0x03A7A1C0>, <library.canmatrix.Frame instance at 0x03A7A6E8>, <library.canmatrix.Frame instance at 0x03A7AC10>, <library.canmatrix.Frame instance at 0x03A80170>, <library.canmatrix.Frame instance at 0x03A80698>, <library.canmatrix.Frame instance at 0x03A80BC0>, <library.canmatrix.Frame instance at 0x03A85120>, <library.canmatrix.Frame instance at 0x03A85648>, <library.canmatrix.Frame instance at 0x03A85B70>, <library.canmatrix.Frame instance at 0x03A8C0D0>, <library.canmatrix.Frame instance at 0x03A8C5F8>, <library.canmatrix.Frame instance at 0x03A8CB20>, <library.canmatrix.Frame instance at 0x03A92080>, <library.canmatrix.Frame instance at 0x03A925A8>, <library.canmatrix.Frame instance at 0x03A92AD0>, <library.canmatrix.Frame instance at 0x03A98030>, <library.canmatrix.Frame instance at 0x03A98558>, <library.canmatrix.Frame instance at 0x03A98A80>, <library.canmatrix.Frame instance at 0x03A98FA8>, <library.canmatrix.Frame instance at 0x03A9E508>, <library.canmatrix.Frame instance at 0x03A9EA30>, <library.canmatrix.Frame instance at 0x03A9EF58>, <library.canmatrix.Frame instance at 0x03AA34B8>, <library.canmatrix.Frame instance at 0x03AA39E0>, <library.canmatrix.Frame instance at 0x03AA3F08>, <library.canmatrix.Frame instance at 0x03AAA468>, <library.canmatrix.Frame instance at 0x03AAA990>, <library.canmatrix.Frame instance at 0x03AAAEB8>, <library.canmatrix.Frame instance at 0x03AB0418>, <library.canmatrix.Frame instance at 0x03AB0940>, <library.canmatrix.Frame instance at 0x03AB0E68>, <library.canmatrix.Frame instance at 0x03AD83F0>, <library.canmatrix.Frame instance at 0x03AD84B8>, <library.canmatrix.Frame instance at 0x03AD85A8>, <library.canmatrix.Frame instance at 0x03AD8698>, <library.canmatrix.Frame instance at 0x03AD8788>, <library.canmatrix.Frame instance at 0x03AD8878>, <library.canmatrix.Frame instance at 0x03AD8968>, <library.canmatrix.Frame instance at 0x03AD8A58>, <library.canmatrix.Frame instance at 0x03AD8B48>, <library.canmatrix.Frame instance at 0x03AD8C38>, <library.canmatrix.Frame instance at 0x03AD8D28>, <library.canmatrix.Frame instance at 0x03AD8E18>, <library.canmatrix.Frame instance at 0x03AD8F08>, <library.canmatrix.Frame instance at 0x03ADB030>, <library.canmatrix.Frame instance at 0x03ADB120>, <library.canmatrix.Frame instance at 0x03ADB210>, <library.canmatrix.Frame instance at 0x03ADB300>, <library.canmatrix.Frame instance at 0x03ADB3F0>, <library.canmatrix.Frame instance at 0x03ADB4B8>, <library.canmatrix.Frame instance at 0x03ADB8A0>, <library.canmatrix.Frame instance at 0x03ADBC88>, <library.canmatrix.Frame instance at 0x03AE1328>, <library.canmatrix.Frame instance at 0x03AE13C8>, <library.canmatrix.Frame instance at 0x03AE1490>, <library.canmatrix.Frame instance at 0x03AE1558>, <library.canmatrix.Frame instance at 0x03AE1620>, <library.canmatrix.Frame instance at 0x03AE16E8>, <library.canmatrix.Frame instance at 0x03AE17B0>, <library.canmatrix.Frame instance at 0x03AE1878>, <library.canmatrix.Frame instance at 0x03AE1940>, <library.canmatrix.Frame instance at 0x03AE1A08>, <library.canmatrix.Frame instance at 0x03AE1AD0>, <library.canmatrix.Frame instance at 0x03AE1B98>, <library.canmatrix.Frame instance at 0x03AE1C60>, <library.canmatrix.Frame instance at 0x03AE1FD0>, <library.canmatrix.Frame instance at 0x03AE5350>, <library.canmatrix.Frame instance at 0x03AE5850>, <library.canmatrix.Frame instance at 0x03AE5C38>, <library.canmatrix.Frame instance at 0x03B0F030>, <library.canmatrix.Frame instance at 0x03B0F558>, <library.canmatrix.Frame instance at 0x03B0F7D8>, <library.canmatrix.Frame instance at 0x03B0FA80>, <library.canmatrix.Frame instance at 0x03B0FB48>, <library.canmatrix.Frame instance at 0x03B0FC38>, <library.canmatrix.Frame instance at 0x03B0FD28>, <library.canmatrix.Frame instance at 0x03B0FE18>, <library.canmatrix.Frame instance at 0x03B0FF08>, <library.canmatrix.Frame instance at 0x03B13030>, <library.canmatrix.Frame instance at 0x03B13120>, <library.canmatrix.Frame instance at 0x03B13210>, <library.canmatrix.Frame instance at 0x03B13300>, <library.canmatrix.Frame instance at 0x03B133F0>, <library.canmatrix.Frame instance at 0x03B134E0>, <library.canmatrix.Frame instance at 0x03B138C8>, <library.canmatrix.Frame instance at 0x03B13BC0>, <library.canmatrix.Frame instance at 0x03B13C88>, <library.canmatrix.Frame instance at 0x04B43198>, <library.canmatrix.Frame instance at 0x04B43440>, <library.canmatrix.Frame instance at 0x04B43968>, <library.canmatrix.Frame instance at 0x04B43E68>, <library.canmatrix.Frame instance at 0x04B491E8>, <library.canmatrix.Frame instance at 0x04B498A0>]\n"
       ]
      }
     ],
     "prompt_number": 12
    },
    {
     "cell_type": "code",
     "collapsed": false,
     "input": [
      "print db._signalDefines, db._frameDefines, db._buDefines, db._globalDefines, db._valueTables"
     ],
     "language": "python",
     "metadata": {},
     "outputs": [
      {
       "output_type": "stream",
       "stream": "stdout",
       "text": [
        "{} {} {} {} {'ENABLE': {'1': 'Enabled', '0': 'Disabled'}, 'GROUP': {'1': 'Group2', '0': 'Group1', '3': 'Group4', '2': 'Group3'}, 'WHEEL_SLIP': {'1': 'Brake_Slip_Control', '0': 'No_Control', '3': 'Invalid_3', '2': 'Traction_Slip_Control'}, 'Interface_Version': {'11': 'zInvalid0B', '10': 'zInvalid0A', '13': 'zInvalid0D', '12': 'zInvalid0C', '15': 'zInvalid0F', '14': 'zInvalid0E', '1': 'ADP_DV1', '0': 'TDP', '3': 'zInvalid03', '2': 'zInvalid02', '5': 'zInvalid05', '4': 'zInvalid04', '7': 'zInvalid07', '6': 'zInvalid06', '9': 'zInvalid09', '8': 'zInvalid08'}, 'NOTMOVABLE_MOVABLE': {'1': 'Movable', '0': 'Not_Movable'}, 'TRACK_STATUS': {'1': 'New_Target', '0': 'No_Target', '3': 'Updated_Target', '2': 'New_Updated_Target', '5': 'Merged_Target', '4': 'Coasted_Target', '7': 'New_Coasted_Target', '6': 'Invalid_Coasted_Target'}, 'SIM_TRACK_ID': {'1': 'Target_1', '0': 'No_Target', '2': 'Target_2'}, 'CONVERGED': {'1': 'Converged', '0': 'Not_Converged'}, 'Grating_Lobe': {'1': 'Detected', '0': 'Not_Detected'}, 'MED_RANGE_MODE': {'1': 'MR_Update_Only', '0': 'No_MR_LR_Update', '3': 'Both_MR_LR_Update', '2': 'LR_Update_Only'}, 'SA_TYPE': {'1': 'VOLVO_SHORT_TRACK', '0': 'AUTO_OR_DEALER'}, 'NODETECT_DETECT': {'1': 'Detect', '0': 'No_Detect'}, 'FILTERED_RAW': {'1': 'Raw', '0': 'Filtered'}, 'FACTORY_ALIGN_STATUS': {'1': 'BUSY', '0': 'OFF', '3': 'FAIL_NO_TARGET', '2': 'SUCCESS', '5': 'FAIL_VAR_TOO_LARGE', '4': 'FAIL_DEV_TOO_LARGE'}, 'STATIONARY_MOVING': {'1': 'Moving', '0': 'Stationary'}, 'DISABLE': {'1': 'Disabled', '0': 'Enabled'}, 'OFF_ON': {'1': 'On', '0': 'Off'}, 'Oncoming': {'1': 'Oncoming', '0': 'NotOncoming'}, 'VOLVO_SHORT_TRACK_PLANT': {'1': 'Gent', '0': 'Torslanda'}, 'FOUND_TARGET': {'1': 'Found', '0': 'Not_Found'}, 'SYSTEM_POWER_MODE': {'1': 'RADIATE_OFF', '0': 'DSP_INIT', '3': 'DSP_SHUTDOWN', '2': 'RADIATE_ON', '5': 'HOST_SHUTDOWN', '4': 'DSP_OFF', '7': '7invalid', '6': 'TEST'}, 'VALIDITY': {'1': 'Valid', '0': 'Invalid'}, 'RECOMMEND': {'1': 'Recommend', '0': 'Not_Recommend'}, 'Bridge': {'1': 'Bridge', '0': 'Not_Bridge'}, 'UPDATED': {'1': 'Updated', '0': 'Not_Updated'}, 'SIM_STATUS': {'1': 'New', '0': 'Invalid', '3': 'Coasted', '2': 'Updated'}, 'UPSIDE_DOWN': {'1': 'Upside_Down', '0': 'Right_Side_Up'}, 'GroupingChanged': {'1': 'GroupingChanged', '0': 'GroupingUnchanged'}, 'SW_SIGN': {'1': 'Clockwise', '0': 'Counterclockwise'}, 'NOTFAIL_FAIL': {'1': 'Failed', '0': 'Not Failed'}, 'UNGROUPED_GROUPED': {'1': 'Group_Moving_Only', '0': 'No_Grouping', '3': 'Group_Moving_Stationary', '2': 'Group_Stationary_Only'}, 'NOTBLOCKED_BLOCKED': {'1': 'Blocked', '0': 'Not Blocked'}, 'NOTOVERTEMP_OVERTEMP': {'1': 'OverTemp', '0': 'Not OverTemp'}, 'TURN_SIGNAL_STATUS': {'1': 'Left', '0': 'Off', '3': 'Invalid_3', '2': 'Right'}, 'Water_Spray_Detected': {'1': 'Spray', '0': 'No_Spray'}, 'NOTCROSSING_CROSSING': {'1': 'Crossing', '0': 'Not_Crossing'}, 'VEHICLE_SPEED_DIRECTION': {'1': 'Reverse', '0': 'Forward'}, 'MR_LR_MODE': {'1': 'Output only MR-range tracks', '0': 'Reserved', '3': 'Output MR and LR tracks', '2': 'Output only LR-range tracks'}, 'SIM_FUNCTION': {'1': 'RI', '0': 'ACC', '3': 'FCW_Stat', '2': 'FCW_Move', '5': 'CMbB_Stat', '4': 'CMbB_Move', '7': 'All_Stat_RI_FCW_CMbB', '6': 'All_Moving_ACC_FCW_CMbB'}}\n"
       ]
      }
     ],
     "prompt_number": 15
    },
    {
     "cell_type": "code",
     "collapsed": false,
     "input": [
      "db._valueTables"
     ],
     "language": "python",
     "metadata": {},
     "outputs": [
      {
       "metadata": {},
       "output_type": "pyout",
       "prompt_number": 9,
       "text": [
        "{'ARM_diagnostic_byte0': {'0': 'error none',\n",
        "  '1': 'ram test error',\n",
        "  '2': 'thread create error',\n",
        "  '3': 'signal create error',\n",
        "  '4': 'signal wait error',\n",
        "  '5': 'signal send error',\n",
        "  '6': 'timer create error',\n",
        "  '7': 'flash filesystem error'},\n",
        " 'ARM_diagnostic_byte1': {'0': 'DSP calibration error',\n",
        "  '1': 'ARM calibration error',\n",
        "  '2': 'CAN XMT error',\n",
        "  '3': 'CAN rcv error',\n",
        "  '4': 'CAN hardware error',\n",
        "  '5': 'SPI comm error',\n",
        "  '6': 'SPI FEE error',\n",
        "  '7': 'DSP IPC Init'},\n",
        " 'ARM_diagnostic_byte2': {'0': 'DSP IPC read error',\n",
        "  '1': 'DSP IPC write error',\n",
        "  '2': 'Shared memory init error',\n",
        "  '3': 'Shared memory config error',\n",
        "  '4': 'Shared memory read error',\n",
        "  '5': 'Shared memory write error',\n",
        "  '6': 'DSP DRV init error',\n",
        "  '7': 'DSP DRV init1 error'},\n",
        " 'ARM_diagnostic_byte3': {'0': 'DSP DRV init2 error',\n",
        "  '1': 'DSP DRV load error',\n",
        "  '2': 'DSP DRV start error',\n",
        "  '3': 'IPC DRV init error',\n",
        "  '4': 'IPC DRV read error',\n",
        "  '5': 'IPC DRV write error',\n",
        "  '6': 'IPC DRV sync error',\n",
        "  '7': 'IPC DRV trigger error'},\n",
        " 'ARM_diagnostic_byte4': {'0': 'DSP init error',\n",
        "  '1': 'DSP load open error',\n",
        "  '2': 'DSP load read error',\n",
        "  '3': 'DSP load address error',\n",
        "  '4': 'ISR attach error',\n",
        "  '5': 'Socket init error',\n",
        "  '6': 'Socket rear error',\n",
        "  '7': 'Socket write error'},\n",
        " 'ARM_diagnostic_byte5': {'0': 'MMAP memroy error',\n",
        "  '1': 'HIL format error',\n",
        "  '2': 'Interrupt enable error'},\n",
        " 'ARM_diagnostic_byte7': {'5': 'cal DSP obsolete=62 error',\n",
        "  '6': 'Always true',\n",
        "  '7': 'Num errors'},\n",
        " 'Bridge': {'0': 'Not_Bridge', '1': 'Bridge'},\n",
        " 'CONVERGED': {'0': 'Not_Converged', '1': 'Converged'},\n",
        " 'DISABLE': {'0': 'Enabled', '1': 'Disabled'},\n",
        " 'DSP_Diagnostics_byte1': {'0': 'Radar_tx_power_error',\n",
        "  '1': 'radar LO power error',\n",
        "  '2': 'DSP Tuning Sensitivity error',\n",
        "  '3': 'radar data sync error',\n",
        "  '4': 'saturated tuning frquency error',\n",
        "  '5': 'DSP loop overrun error',\n",
        "  '6': 'transmitter ID error',\n",
        "  '7': 'ADC SPI transfer error'},\n",
        " 'DSP_Diagnostics_byte2': {'0': 'Linearizer SPI transfer error',\n",
        "  '1': 'RRN SPI transfer error',\n",
        "  '2': 'RTN SPI transfer error',\n",
        "  '3': 'Vertical misalignment error',\n",
        "  '4': 'DSP unit cal checksum error',\n",
        "  '5': 'DSP unit cal block fault',\n",
        "  '6': 'TX temperature fault',\n",
        "  '7': 'Video Port data capture error'},\n",
        " 'ENABLE': {'0': 'Disabled', '1': 'Enabled'},\n",
        " 'FACTORY_ALIGN_STATUS': {'0': 'OFF',\n",
        "  '1': 'BUSY',\n",
        "  '2': 'SUCCESS',\n",
        "  '3': 'FAIL_NO_TARGET',\n",
        "  '4': 'FAIL_DEV_TOO_LARGE',\n",
        "  '5': 'FAIL_VAR_TOO_LARGE'},\n",
        " 'FILTERED_RAW': {'0': 'Filtered', '1': 'Raw'},\n",
        " 'FOUND_TARGET': {'0': 'Not_Found', '1': 'Found'},\n",
        " 'GROUP': {'0': 'Group1', '1': 'Group2', '2': 'Group3', '3': 'Group4'},\n",
        " 'GroupingChanged': {'0': 'GroupingUnchanged', '1': 'GroupingChanged'},\n",
        " 'Interface_Version': {'0': 'TDP',\n",
        "  '1': 'ADP_DV1',\n",
        "  '10': 'zInvalid0A',\n",
        "  '11': 'zInvalid0B',\n",
        "  '12': 'zInvalid0C',\n",
        "  '13': 'zInvalid0D',\n",
        "  '14': 'zInvalid0E',\n",
        "  '15': 'zInvalid0F',\n",
        "  '2': 'zInvalid02',\n",
        "  '3': 'zInvalid03',\n",
        "  '4': 'zInvalid04',\n",
        "  '5': 'zInvalid05',\n",
        "  '6': 'zInvalid06',\n",
        "  '7': 'zInvalid07',\n",
        "  '8': 'zInvalid08',\n",
        "  '9': 'zInvalid09'},\n",
        " 'MED_RANGE_MODE': {'0': 'No_MR_LR_Update',\n",
        "  '1': 'MR_Update_Only',\n",
        "  '2': 'LR_Update_Only',\n",
        "  '3': 'Both_MR_LR_Update'},\n",
        " 'MR_LR_MODE': {'0': 'Reserved',\n",
        "  '1': 'Output only MR-range tracks',\n",
        "  '2': 'Output only LR-range tracks',\n",
        "  '3': 'Output MR and LR tracks'},\n",
        " 'NODETECT_DETECT': {'0': 'No_Detect', '1': 'Detect'},\n",
        " 'NOTBLOCKED_BLOCKED': {'0': 'Not Blocked', '1': 'Blocked'},\n",
        " 'NOTCROSSING_CROSSING': {'0': 'Not_Crossing', '1': 'Crossing'},\n",
        " 'NOTFAIL_FAIL': {'0': 'Not Failed', '1': 'Failed'},\n",
        " 'NOTMOVABLE_MOVABLE': {'0': 'Not_Movable', '1': 'Movable'},\n",
        " 'NOTOVERTEMP_OVERTEMP': {'0': 'Not OverTemp', '1': 'OverTemp'},\n",
        " 'OFF_ON': {'0': 'Off', '1': 'On'},\n",
        " 'Oncoming': {'0': 'NotOncoming', '1': 'Oncoming'},\n",
        " 'Quality_Factor_T': {'0': 'Undefined',\n",
        "  '1': 'Temp Undefined',\n",
        "  '2': 'Not Accurate',\n",
        "  '3': 'Accurate'},\n",
        " 'RECOMMEND': {'0': 'Not_Recommend', '1': 'Recommend'},\n",
        " 'SA_TYPE': {'0': 'AUTO_OR_DEALER', '1': 'VOLVO_SHORT_TRACK'},\n",
        " 'SIM_FUNCTION': {'0': 'ACC',\n",
        "  '1': 'RI',\n",
        "  '2': 'FCW_Move',\n",
        "  '3': 'FCW_Stat',\n",
        "  '4': 'CMbB_Move',\n",
        "  '5': 'CMbB_Stat',\n",
        "  '6': 'All_Moving_ACC_FCW_CMbB',\n",
        "  '7': 'All_Stat_RI_FCW_CMbB'},\n",
        " 'SIM_STATUS': {'0': 'Invalid', '1': 'New', '2': 'Updated', '3': 'Coasted'},\n",
        " 'SIM_TRACK_ID': {'0': 'No_Target', '1': 'Target_1', '2': 'Target_2'},\n",
        " 'STATIONARY_MOVING': {'0': 'Stationary', '1': 'Moving'},\n",
        " 'SW_SIGN': {'0': 'Counterclockwise', '1': 'Clockwise'},\n",
        " 'SYSTEM_POWER_MODE': {'0': 'DSP_INIT',\n",
        "  '1': 'RADIATE_OFF',\n",
        "  '2': 'RADIATE_ON',\n",
        "  '3': 'DSP_SHUTDOWN',\n",
        "  '4': 'DSP_OFF',\n",
        "  '5': 'HOST_SHUTDOWN',\n",
        "  '6': 'TEST',\n",
        "  '7': '7invalid'},\n",
        " 'System_Status_T': {'0': 'Configuration',\n",
        "  '1': 'StartUp',\n",
        "  '2': 'Running',\n",
        "  '3': 'Blocked',\n",
        "  '4': 'Faulty',\n",
        "  '5': 'ShutDown',\n",
        "  '6': 'Hot'},\n",
        " 'TRACK_STATUS': {'0': 'No_Target',\n",
        "  '1': 'New_Target',\n",
        "  '2': 'New_Updated_Target',\n",
        "  '3': 'Updated_Target',\n",
        "  '4': 'Coasted_Target',\n",
        "  '5': 'Merged_Target',\n",
        "  '6': 'Invalid_Coasted_Target',\n",
        "  '7': 'New_Coasted_Target'},\n",
        " 'TURN_SIGNAL_STATUS': {'0': 'Off',\n",
        "  '1': 'Left',\n",
        "  '2': 'Right',\n",
        "  '3': 'Invalid_3'},\n",
        " 'UNGROUPED_GROUPED': {'0': 'No_Grouping',\n",
        "  '1': 'Group_Moving_Only',\n",
        "  '2': 'Group_Stationary_Only',\n",
        "  '3': 'Group_Moving_Stationary'},\n",
        " 'UPDATED': {'0': 'Not_Updated', '1': 'Updated'},\n",
        " 'UPSIDE_DOWN': {'0': 'Right_Side_Up', '1': 'Upside_Down'},\n",
        " 'VALIDITY': {'0': 'Invalid', '1': 'Valid'},\n",
        " 'VEHICLE_SPEED_DIRECTION': {'0': 'Forward', '1': 'Reverse'},\n",
        " 'Water_Spray_Detected': {'0': 'No_Spray', '1': 'Spray'}}"
       ]
      }
     ],
     "prompt_number": 9
    },
    {
     "cell_type": "code",
     "collapsed": false,
     "input": [
      "from collections import namedtuple\n",
      "def convert(dictionary):\n",
      "    return namedtuple('GenericDict', dictionary.keys())(**dictionary)\n",
      "print type(db._valueTables)\n",
      "print db._valueTables['VEHICLE_SPEED_DIRECTION']\n",
      "_dict = db._valueTables['VEHICLE_SPEED_DIRECTION']\n",
      "_dict[str(int(0))]\n",
      "\n",
      "#convert(db._valueTables['VEHICLE_SPEED_DIRECTION'])"
     ],
     "language": "python",
     "metadata": {},
     "outputs": [
      {
       "output_type": "stream",
       "stream": "stdout",
       "text": [
        "<type 'dict'>\n",
        "{'1': 'Reverse', '0': 'Forward'}\n"
       ]
      },
      {
       "metadata": {},
       "output_type": "pyout",
       "prompt_number": 155,
       "text": [
        "'Forward'"
       ]
      }
     ],
     "prompt_number": 155
    },
    {
     "cell_type": "code",
     "collapsed": false,
     "input": [
      "db._signalDefines, db._frameDefines, db._buDefines, db._globalDefines"
     ],
     "language": "python",
     "metadata": {},
     "outputs": [
      {
       "metadata": {},
       "output_type": "pyout",
       "prompt_number": 17,
       "text": [
        "({}, {}, {}, {})"
       ]
      }
     ],
     "prompt_number": 17
    },
    {
     "cell_type": "code",
     "collapsed": false,
     "input": [
      "db._attributes, db._BUs"
     ],
     "language": "python",
     "metadata": {},
     "outputs": [
      {
       "metadata": {},
       "output_type": "pyout",
       "prompt_number": 18,
       "text": [
        "({}, <library.canmatrix.BoardUnitListe instance at 0x0392AEE0>)"
       ]
      }
     ],
     "prompt_number": 18
    },
    {
     "cell_type": "code",
     "collapsed": false,
     "input": [
      "print db._BUs._list"
     ],
     "language": "python",
     "metadata": {},
     "outputs": [
      {
       "output_type": "stream",
       "stream": "stdout",
       "text": [
        "[<library.canmatrix.BoardUnit instance at 0x0392C8F0>, <library.canmatrix.BoardUnit instance at 0x0392C9E0>, <library.canmatrix.BoardUnit instance at 0x038FA4E0>]\n"
       ]
      }
     ],
     "prompt_number": 20
    },
    {
     "cell_type": "code",
     "collapsed": false,
     "input": [
      "for item in db._BUs._list:\n",
      "    print item._attributes, item._name, item._comment"
     ],
     "language": "python",
     "metadata": {},
     "outputs": [
      {
       "output_type": "stream",
       "stream": "stdout",
       "text": [
        "{} Instrumentation None\n",
        "{} Vehicle None\n",
        "{} ESR None\n"
       ]
      }
     ],
     "prompt_number": 24
    },
    {
     "cell_type": "code",
     "collapsed": false,
     "input": [
      "import re\n",
      "\n",
      "def getKey(item):\n",
      "    return item._name\n",
      "\n",
      "frame_names = []\n",
      "frames = []\n",
      "for frame in db._fl._list:\n",
      "    mat=re.match('SODL_', frame._name)\n",
      "    #print mat\n",
      "    #if mat: print frame._name\n",
      "    if mat:\n",
      "        frame_names.append(frame._name)\n",
      "        frames.append(frame)\n",
      "frame_names_sorted = sorted(frame_names)\n",
      "frames_sorted = sorted(frames,key=getKey)\n",
      "#for name in frame_names_sorted:\n",
      "    #print name\n",
      "_indexes = range(2,14)\n",
      "_indexes.append(-1)\n",
      "_indexes.remove(5)\n",
      "#print _indexes\n",
      "frames_sorted_filtered[:] = [frames_sorted[i] for i in _indexes]\n",
      "for frame in frames_sorted_filtered:\n",
      "    print frame._name + ' ' + str(frame._Transmitter) + '\\n'\n",
      "    for signal in frame._signals:\n",
      "        print '* ' + signal._name + '\\n',\n",
      "        print signal._startbit, signal._signalsize, signal._byteorder, signal._valuetype, signal._factor,\\\n",
      "            signal._offset, signal._min, signal._max\n",
      "            #signal._reciever, signal._attributes, signal._values,\\\n",
      "\n",
      "        print\n",
      "    print"
     ],
     "language": "python",
     "metadata": {},
     "outputs": [
      {
       "output_type": "stream",
       "stream": "stdout",
       "text": [
        "SODL_Debug_Message_3 ['Vector__XXX']\n",
        "\n",
        "* Timer_Create_Error\n",
        "6 1 0 + 1 0 0 0\n",
        "\n",
        "* Thread_Create_Error\n",
        "2 1 0 + 1 0 0 0\n",
        "\n",
        "* ARM_Calibration_Error\n",
        "9 1 0 + 1 0 0 0\n",
        "\n",
        "* SPI_FEE_Error\n",
        "14 1 0 + 1 0 0 0\n",
        "\n",
        "* SPI_Comm_Error\n",
        "13 1 0 + 1 0 0 0\n",
        "\n",
        "* Socket_Write_Error\n",
        "39 1 0 + 1 0 0 0\n",
        "\n",
        "* DSP_Cal_Obsolete_62_Error\n",
        "61 1 0 + 1 0 0 0\n",
        "\n",
        "* Socket_Read_error\n",
        "38 1 0 + 1 0 0 0\n",
        "\n",
        "* Socket_Init_Error\n",
        "37 1 0 + 1 0 0 0\n",
        "\n",
        "* Signal_Wait_Error\n",
        "4 1 0 + 1 0 0 0\n",
        "\n",
        "* Signal_Send_Error\n",
        "5 1 0 + 1 0 0 0\n",
        "\n",
        "* Signal_Create_Error\n",
        "3 1 0 + 1 0 0 0\n",
        "\n",
        "* Shared_Mem_Write_Error\n",
        "21 1 0 + 1 0 0 0\n",
        "\n",
        "* Shared_Mem_Read_Error\n",
        "20 1 0 + 1 0 0 0\n",
        "\n",
        "* Shared_Mem_Config_Error\n",
        "19 1 0 + 1 0 0 0\n",
        "\n",
        "* Share_Mem_Init_Error\n",
        "18 1 0 + 1 0 0 0\n",
        "\n",
        "* RAM_Test_Error\n",
        "1 1 0 + 1 0 0 0\n",
        "\n",
        "* Num_Errors\n",
        "63 1 0 + 1 0 0 0\n",
        "\n",
        "* MMAP_Memory_Error\n",
        "40 1 0 + 1 0 0 0\n",
        "\n",
        "* ISR_Attach_Error\n",
        "36 1 0 + 1 0 0 0\n",
        "\n",
        "* IPC_DRV_Write_Error\n",
        "29 1 0 + 1 0 0 0\n",
        "\n",
        "* IPC_DRV_Trigger_Error\n",
        "31 1 0 + 1 0 0 0\n",
        "\n",
        "* IPC_DRV_Sync_Error\n",
        "30 1 0 + 1 0 0 0\n",
        "\n",
        "* IPC_DRV_Read_Error\n",
        "28 1 0 + 1 0 0 0\n",
        "\n",
        "* IPC_DRV_Init_Error\n",
        "27 1 0 + 1 0 0 0\n",
        "\n",
        "* Interrupt_Enable_Error\n",
        "42 1 0 + 1 0 0 0\n",
        "\n",
        "* HIL_Format_Error\n",
        "41 1 0 + 1 0 0 0\n",
        "\n",
        "* Flash_Filesystem_Error\n",
        "7 1 0 + 1 0 0 0\n",
        "\n",
        "* Error_none\n",
        "0 1 0 + 1 0 0 0\n",
        "\n",
        "* DSP_Load_Read_Error\n",
        "34 1 0 + 1 0 0 0\n",
        "\n",
        "* DSP_Load_Open_Error\n",
        "33 1 0 + 1 0 0 0\n",
        "\n",
        "* DSP_Load_Address_Error\n",
        "35 1 0 + 1 0 0 0\n",
        "\n",
        "* DSP_ISP_Write_Error\n",
        "17 1 0 + 1 0 0 0\n",
        "\n",
        "* DSP_IPC_Read_Error\n",
        "16 1 0 + 1 0 0 0\n",
        "\n",
        "* DSP_IPC_Init\n",
        "15 1 0 + 1 0 0 0\n",
        "\n",
        "* DSP_Init_Error\n",
        "32 1 0 + 1 0 0 0\n",
        "\n",
        "* DSP_DRV_Start_Error\n",
        "26 1 0 + 1 0 0 0\n",
        "\n",
        "* DSP_DRV_Load_Error\n",
        "25 1 0 + 1 0 0 0\n",
        "\n",
        "* DSP_DRV_Init_Error\n",
        "22 1 0 + 1 0 0 0\n",
        "\n",
        "* DSP_DRV_Init2_error\n",
        "24 1 0 + 1 0 0 0\n",
        "\n",
        "* DSP_DRV_Init1_error\n",
        "23 1 0 + 1 0 0 0\n",
        "\n",
        "* DSP_Calibration_Error\n",
        "8 1 0 + 1 0 0 0\n",
        "\n",
        "* CAN_XMT_Error\n",
        "10 1 0 + 1 0 0 0\n",
        "\n",
        "* CAN_RCV_Error\n",
        "11 1 0 + 1 0 0 0\n",
        "\n",
        "* CAN_Hardware_Error\n",
        "12 1 0 + 1 0 0 0\n",
        "\n",
        "* Always_True\n",
        "62 1 0 + 1 0 0 0\n",
        "\n",
        "\n",
        "SODL_Debug_Message_4 ['Vector__XXX']\n",
        "\n",
        "* Timer_Create_Error\n",
        "6 1 0 + 1 0 0 0\n",
        "\n",
        "* Thread_Create_Error\n",
        "2 1 0 + 1 0 0 0\n",
        "\n",
        "* ARM_Calibration_Error\n",
        "9 1 0 + 1 0 0 0\n",
        "\n",
        "* SPI_FEE_Error\n",
        "14 1 0 + 1 0 0 0\n",
        "\n",
        "* SPI_Comm_Error\n",
        "13 1 0 + 1 0 0 0\n",
        "\n",
        "* Socket_Write_Error\n",
        "39 1 0 + 1 0 0 0\n",
        "\n",
        "* DSP_Cal_Obsolete_62_Error\n",
        "61 1 0 + 1 0 0 0\n",
        "\n",
        "* Socket_Read_error\n",
        "38 1 0 + 1 0 0 0\n",
        "\n",
        "* Socket_Init_Error\n",
        "37 1 0 + 1 0 0 0\n",
        "\n",
        "* Signal_Wait_Error\n",
        "4 1 0 + 1 0 0 0\n",
        "\n",
        "* Signal_Send_Error\n",
        "5 1 0 + 1 0 0 0\n",
        "\n",
        "* Signal_Create_Error\n",
        "3 1 0 + 1 0 0 0\n",
        "\n",
        "* Shared_Mem_Write_Error\n",
        "21 1 0 + 1 0 0 0\n",
        "\n",
        "* Shared_Mem_Read_Error\n",
        "20 1 0 + 1 0 0 0\n",
        "\n",
        "* Shared_Mem_Config_Error\n",
        "19 1 0 + 1 0 0 0\n",
        "\n",
        "* Share_Mem_Init_Error\n",
        "18 1 0 + 1 0 0 0\n",
        "\n",
        "* RAM_Test_Error\n",
        "1 1 0 + 1 0 0 0\n",
        "\n",
        "* Num_Errors\n",
        "63 1 0 + 1 0 0 0\n",
        "\n",
        "* MMAP_Memory_Error\n",
        "40 1 0 + 1 0 0 0\n",
        "\n",
        "* ISR_Attach_Error\n",
        "36 1 0 + 1 0 0 0\n",
        "\n",
        "* IPC_DRV_Write_Error\n",
        "29 1 0 + 1 0 0 0\n",
        "\n",
        "* IPC_DRV_Trigger_Error\n",
        "31 1 0 + 1 0 0 0\n",
        "\n",
        "* IPC_DRV_Sync_Error\n",
        "30 1 0 + 1 0 0 0\n",
        "\n",
        "* IPC_DRV_Read_Error\n",
        "28 1 0 + 1 0 0 0\n",
        "\n",
        "* IPC_DRV_Init_Error\n",
        "27 1 0 + 1 0 0 0\n",
        "\n",
        "* Interrupt_Enable_Error\n",
        "42 1 0 + 1 0 0 0\n",
        "\n",
        "* HIL_Format_Error\n",
        "41 1 0 + 1 0 0 0\n",
        "\n",
        "* Flash_Filesystem_Error\n",
        "7 1 0 + 1 0 0 0\n",
        "\n",
        "* Error_none\n",
        "0 1 0 + 1 0 0 0\n",
        "\n",
        "* DSP_Load_Read_Error\n",
        "34 1 0 + 1 0 0 0\n",
        "\n",
        "* DSP_Load_Open_Error\n",
        "33 1 0 + 1 0 0 0\n",
        "\n",
        "* DSP_Load_Address_Error\n",
        "35 1 0 + 1 0 0 0\n",
        "\n",
        "* DSP_ISP_Write_Error\n",
        "17 1 0 + 1 0 0 0\n",
        "\n",
        "* DSP_IPC_Read_Error\n",
        "16 1 0 + 1 0 0 0\n",
        "\n",
        "* DSP_IPC_Init\n",
        "15 1 0 + 1 0 0 0\n",
        "\n",
        "* DSP_Init_Error\n",
        "32 1 0 + 1 0 0 0\n",
        "\n",
        "* DSP_DRV_Start_Error\n",
        "26 1 0 + 1 0 0 0\n",
        "\n",
        "* DSP_DRV_Load_Error\n",
        "25 1 0 + 1 0 0 0\n",
        "\n",
        "* DSP_DRV_Init_Error\n",
        "22 1 0 + 1 0 0 0\n",
        "\n",
        "* DSP_DRV_Init2_error\n",
        "24 1 0 + 1 0 0 0\n",
        "\n",
        "* DSP_DRV_Init1_error\n",
        "23 1 0 + 1 0 0 0\n",
        "\n",
        "* DSP_Calibration_Error\n",
        "8 1 0 + 1 0 0 0\n",
        "\n",
        "* CAN_XMT_Error\n",
        "10 1 0 + 1 0 0 0\n",
        "\n",
        "* CAN_RCV_Error\n",
        "11 1 0 + 1 0 0 0\n",
        "\n",
        "* CAN_Hardware_Error\n",
        "12 1 0 + 1 0 0 0\n",
        "\n",
        "* Always_True\n",
        "62 1 0 + 1 0 0 0\n",
        "\n",
        "\n",
        "SODL_Debug_Message_5 ['Vector__XXX']\n",
        "\n",
        "* CAN_TX_ALIGN_UPDATES\n",
        "7 16 0 + 1 0 0 0\n",
        "\n",
        "\n",
        "SODL_Feature_Alert ['Vector__XXX']\n",
        "\n",
        "* LCMA_blis_ignored_track_id\n",
        "47 8 0 + 1 0 0 0\n",
        "\n",
        "* LCMA_blis_track_id\n",
        "31 8 0 + 1 0 0 0\n",
        "\n",
        "* LCMA_cvw_TTC\n",
        "15 8 0 + 0.1 0 0 0\n",
        "\n",
        "* CTA_TTC_Alert\n",
        "35 1 0 + 1 0 0 0\n",
        "\n",
        "* CTA_selected_track_ttc\n",
        "7 8 0 + 0.1 0 0 25.5\n",
        "\n",
        "* CTA_selected_track\n",
        "23 8 0 + 1 0 0 256\n",
        "\n",
        "* CTA_Alert\n",
        "34 2 0 + 1 0 0 3\n",
        "\n",
        "* CTA_Active\n",
        "32 1 0 + 1 0 0 0\n",
        "\n",
        "* LCMA_cvw_cipv\n",
        "55 8 0 + 1 0 0 0\n",
        "\n",
        "* LCMA_cvw_alert_state\n",
        "60 2 0 + 1 0 0 0\n",
        "\n",
        "* LCMA_blis_alert_state\n",
        "58 2 0 + 1 0 0 0\n",
        "\n",
        "* LCMA_Active\n",
        "56 1 0 + 1 0 0 0\n",
        "\n",
        "\n",
        "SODL_Feature_SW_ver ['Vector__XXX']\n",
        "\n",
        "* LCMA_sw_version\n",
        "15 8 0 + 1 0 0 0\n",
        "\n",
        "* CTA_sw_version\n",
        "7 8 0 + 1 0 0 0\n",
        "\n",
        "\n",
        "SODL_Status1 ['Vector__XXX']\n",
        "\n",
        "* CAN_TX_LOOK_TYPE\n",
        "51 1 0 + 1 0 0 0\n",
        "\n",
        "* CAN_TX_DSP_TIMESTAMP\n",
        "7 16 0 + 2 0 0 131070\n",
        "\n",
        "* CAN_TX_YAW_RATE_CALC\n",
        "47 12 0 - 0.0625 0 -128 127.9375\n",
        "\n",
        "* CAN_TX_VEHICLE_SPEED_CALC\n",
        "50 11 0 + 0.0625 0 0 127.9375\n",
        "\n",
        "* CAN_TX_SCAN_INDEX\n",
        "31 16 0 + 1 0 0 65535\n",
        "\n",
        "* CAN_TX_CURVATURE\n",
        "23 8 0 - 0.0078125 0 -1 1\n",
        "\n",
        "\n",
        "SODL_Status2 ['Vector__XXX']\n",
        "\n",
        "* CAN_TX_ALIGNMENT_STATUS\n",
        "33 2 0 + 1 0 0 0\n",
        "\n",
        "* CAN_TX_COMM_ERROR\n",
        "3 1 0 + 1 0 0 0\n",
        "\n",
        "* CAN_TX_STEERING_ANGLE_SIGN\n",
        "15 1 0 + 1 0 0 1\n",
        "\n",
        "* CAN_TX_YAW_RATE_BIAS\n",
        "47 8 0 - 0.125 0 -16 15.875\n",
        "\n",
        "* CAN_TX_VEH_SPD_COMP_FACTOR\n",
        "39 6 0 - 0.001953125 1 0.9375 1.060546875\n",
        "\n",
        "* CAN_TX_SW_VERSION_DSP\n",
        "55 16 0 + 1 0 0 0\n",
        "\n",
        "* CAN_TX_TEMPERATURE\n",
        "31 8 0 + 1 -50 -50 205\n",
        "\n",
        "* CAN_TX_RANGE_PERF_ERROR\n",
        "4 1 0 + 1 0 0 0\n",
        "\n",
        "* CAN_TX_OVERHEAT_ERROR\n",
        "1 1 0 + 1 0 0 0\n",
        "\n",
        "* CAN_TX_INTERNAL_ERROR\n",
        "0 1 0 + 1 0 0 0\n",
        "\n",
        "* CAN_TX_XCVR_OPERATIONAL\n",
        "5 1 0 + 1 0 0 0\n",
        "\n",
        "* CAN_TX_STEERING_ANGLE\n",
        "14 15 0 + 1 0 0 32767\n",
        "\n",
        "* CAN_TX_ROLLING_COUNT_2\n",
        "7 2 0 + 1 0 0 0\n",
        "\n",
        "\n",
        "SODL_Status3 ['Vector__XXX']\n",
        "\n",
        "* Serial_Year\n",
        "47 3 0 + 1 0 0 0\n",
        "\n",
        "* Serial_Sequence\n",
        "51 12 0 + 1 0 0 9999\n",
        "\n",
        "* Serial_Day\n",
        "44 9 0 + 1 0 0 366\n",
        "\n",
        "* CAN_TX_ALIGNMENT_STATE\n",
        "39 4 0 + 1 0 0 0\n",
        "\n",
        "* CAN_TX_INTERFACE_VER_MINOR\n",
        "35 4 0 + 1 0 0 0\n",
        "\n",
        "* CAN_TX_SW_VERSION_ARM\n",
        "15 24 0 + 1 0 0 0\n",
        "\n",
        "* CAN_TX_HW_VERSION\n",
        "3 4 0 + 1 0 0 0\n",
        "\n",
        "* CAN_TX_INTERFACE_VERSION\n",
        "7 4 0 + 1 0 0 0\n",
        "\n",
        "* CAN_TX_SERIAL_NUM\n",
        "47 24 0 + 1 0 0 0\n",
        "\n",
        "\n",
        "SODL_Status4 ['Vector__XXX']\n",
        "\n",
        "* CAN_TX_SW_VERSION_HOST\n",
        "23 16 0 + 1 0 0 0\n",
        "\n",
        "* CAN_TX_PATH_ID_BLIS_IGNORE\n",
        "7 8 0 + 1 0 0 0\n",
        "\n",
        "* CAN_TX_PATH_ID_BLIS\n",
        "15 8 0 + 1 0 0 0\n",
        "\n",
        "* CAN_TX_ANGLE_MISALIGNMENT\n",
        "55 16 0 - 0.0009765625 0 -10 10\n",
        "\n",
        "* CAN_TX_AUTO_ALIGN_ANGLE\n",
        "39 16 0 - 0.0009765625 0 -10 10\n",
        "\n",
        "\n",
        "SODL_Status5 ['Vector__XXX']\n",
        "\n",
        "* CAN_TX_YAW_RATE_REF_QF\n",
        "53 2 0 + 1 0 0 0\n",
        "\n",
        "* CAN_TX_YAW_RATE_RAW_QF\n",
        "55 2 0 + 1 0 0 0\n",
        "\n",
        "* CAN_TX_YAW_RATE_REFERENCE\n",
        "35 12 0 - 0.0625 0 -128 127.9375\n",
        "\n",
        "* CAN_TX_YAW_RATE_RAW\n",
        "31 12 0 - 0.0625 0 -128 127.9375\n",
        "\n",
        "* CAN_TX_SYSTEM_STATUS\n",
        "50 3 0 + 1 0 0 0\n",
        "\n",
        "* CAN_TX_OUTSIDE_TEMPERATURE\n",
        "63 8 0 + 1 -40 -40 215\n",
        "\n",
        "* CAN_BLOCKAGE_MNR_BLOCKED\n",
        "17 1 0 + 1 0 0 0\n",
        "\n",
        "* CAN_BLOCKAGE_BB_BLOCKED\n",
        "16 1 0 + 1 0 0 0\n",
        "\n",
        "* CAN_BLOCKAGE_RADAR_BLOCKED\n",
        "18 1 0 + 1 0 0 0\n",
        "\n",
        "* CAN_TD_BLOCKED\n",
        "23 1 0 + 1 0 0 0\n",
        "\n",
        "* Radar_TX_Power_Error\n",
        "0 1 0 + 1 0 0 0\n",
        "\n",
        "* Radar_LO_Power_Error\n",
        "1 1 0 + 1 0 0 0\n",
        "\n",
        "* Radar_Data_sync_error\n",
        "3 1 0 + 1 0 0 0\n",
        "\n",
        "* Linearizer_SPI_Transfer_Error\n",
        "8 1 0 + 1 0 0 0\n",
        "\n",
        "* Saturated_Tuning_Freq_Error\n",
        "4 1 0 + 1 0 0 0\n",
        "\n",
        "* RTN_SPI_Transfer_Error\n",
        "10 1 0 + 1 0 0 0\n",
        "\n",
        "* RRN_SPI_Transfer_Error\n",
        "9 1 0 + 1 0 0 0\n",
        "\n",
        "* Video_Port_Capture_Error\n",
        "15 1 0 + 1 0 0 0\n",
        "\n",
        "* Vertical_Misalignment_error\n",
        "11 1 0 + 1 0 0 0\n",
        "\n",
        "* TX_Temperature_Fault\n",
        "14 1 0 + 1 0 0 0\n",
        "\n",
        "* Transmitter_ID_Error\n",
        "6 1 0 + 1 0 0 0\n",
        "\n",
        "* DSP_Unit_Cal_Checksum_Error\n",
        "12 1 0 + 1 0 0 0\n",
        "\n",
        "* DSP_Unit_Cal_Block_Chcksm_Error\n",
        "13 1 0 + 1 0 0 0\n",
        "\n",
        "* DSP_Tuning_Sensitivity_Error\n",
        "2 1 0 + 1 0 0 0\n",
        "\n",
        "* DSP_Loop_Overrun_Error\n",
        "5 1 0 + 1 0 0 0\n",
        "\n",
        "* ADC_SPI_Transfer_Error\n",
        "7 1 0 + 1 0 0 0\n",
        "\n",
        "\n",
        "SODL_Track01 ['Vector__XXX']\n",
        "\n",
        "* CAN_TX_DETECT_ANGLE\n",
        "23 16 0 - 0.0078125 0 -102.4 102.2\n",
        "\n",
        "* CAN_TX_DETECT_STATUS\n",
        "4 1 0 + 1 0 0 1\n",
        "\n",
        "* CAN_TX_DETECT_VALID_LEVEL\n",
        "7 3 0 + 1 0 0 0\n",
        "\n",
        "* CAN_TX_DETECT_AMPLITUDE\n",
        "3 12 0 - 0.125 0 -24 40\n",
        "\n",
        "* CAN_TX_DETECT_RANGE_RATE\n",
        "55 16 0 - 0.0078125 0 -81.92 81.91\n",
        "\n",
        "* CAN_TX_DETECT_RANGE\n",
        "39 16 0 - 0.0078125 0 0 204.7\n",
        "\n",
        "\n",
        "SODL_Track64 ['Vector__XXX']\n",
        "\n",
        "* CAN_TX_DETECT_VALID_LEVEL\n",
        "7 3 0 + 1 0 0 0\n",
        "\n",
        "* CAN_TX_DETECT_STATUS\n",
        "4 1 0 + 1 0 0 1\n",
        "\n",
        "* CAN_TX_DETECT_RANGE_RATE\n",
        "55 16 0 - 0.0078125 0 -81.92 81.91\n",
        "\n",
        "* CAN_TX_DETECT_RANGE\n",
        "39 16 0 - 0.0078125 0 0 204.7\n",
        "\n",
        "* CAN_TX_DETECT_ANGLE\n",
        "23 16 0 - 0.0078125 0 -102.4 102.2\n",
        "\n",
        "* CAN_TX_DETECT_AMPLITUDE\n",
        "3 12 0 - 0.125 0 -24 40\n",
        "\n",
        "\n"
       ]
      }
     ],
     "prompt_number": 74
    },
    {
     "cell_type": "code",
     "collapsed": false,
     "input": [
      "import openpyxl\n",
      "wb = openpyxl.Workbook()"
     ],
     "language": "python",
     "metadata": {},
     "outputs": [],
     "prompt_number": 1
    },
    {
     "cell_type": "code",
     "collapsed": false,
     "input": [
      "wb.remove_sheet(new_work_sheet)"
     ],
     "language": "python",
     "metadata": {},
     "outputs": [],
     "prompt_number": 166
    },
    {
     "cell_type": "code",
     "collapsed": false,
     "input": [
      "new_work_sheet = wb.create_sheet()\n",
      "new_work_sheet.title = \"RSDS_Receive\""
     ],
     "language": "python",
     "metadata": {},
     "outputs": [],
     "prompt_number": 110
    },
    {
     "cell_type": "code",
     "collapsed": false,
     "input": [
      "new_work_sheet = wb.create_sheet()\n",
      "new_work_sheet.title = \"RSDS_XCan\""
     ],
     "language": "python",
     "metadata": {},
     "outputs": [],
     "prompt_number": 116
    },
    {
     "cell_type": "code",
     "collapsed": false,
     "input": [
      "new_work_sheet = wb.create_sheet()\n",
      "new_work_sheet.title = \"ESR\""
     ],
     "language": "python",
     "metadata": {},
     "outputs": [],
     "prompt_number": 167
    },
    {
     "cell_type": "code",
     "collapsed": false,
     "input": [
      "new_work_sheet = wb.create_sheet()\n",
      "new_work_sheet.title = \"ESR_0x540\""
     ],
     "language": "python",
     "metadata": {},
     "outputs": [],
     "prompt_number": 7
    },
    {
     "cell_type": "code",
     "collapsed": false,
     "input": [
      "titles = ['Frames','Signals','startbit','signalsize','byteorder','valuetype','factor','offset','min','max']\n",
      "column_index = 1\n",
      "for string in titles:\n",
      "    new_work_sheet.cell(column=column_index,row=1).value = string\n",
      "    column_index = column_index + 1\n",
      "        "
     ],
     "language": "python",
     "metadata": {},
     "outputs": [],
     "prompt_number": 8
    },
    {
     "cell_type": "code",
     "collapsed": false,
     "input": [
      "titles_column = dict(zip(titles,range(1,11)))\n",
      "titles_column"
     ],
     "language": "python",
     "metadata": {},
     "outputs": [
      {
       "metadata": {},
       "output_type": "pyout",
       "prompt_number": 9,
       "text": [
        "{'Frames': 1,\n",
        " 'Signals': 2,\n",
        " 'byteorder': 5,\n",
        " 'factor': 7,\n",
        " 'max': 10,\n",
        " 'min': 9,\n",
        " 'offset': 8,\n",
        " 'signalsize': 4,\n",
        " 'startbit': 3,\n",
        " 'valuetype': 6}"
       ]
      }
     ],
     "prompt_number": 9
    },
    {
     "cell_type": "code",
     "collapsed": true,
     "input": [
      "row_index = 2\n",
      "for frame in frames_sorted_filtered:\n",
      "    new_work_sheet.cell(column=titles_column['Frames'],row=row_index).value = frame._name + ' ' + format(frame._Id,'04x')\n",
      "    row_index = row_index + 1\n",
      "    for signal in frame._signals:\n",
      "        new_work_sheet.cell(column=titles_column['Signals'],row=row_index).value = signal._name\n",
      "        new_work_sheet.cell(column=titles_column['startbit'],row=row_index).value = signal._startbit\n",
      "        new_work_sheet.cell(column=titles_column['signalsize'],row=row_index).value = signal._signalsize\n",
      "        new_work_sheet.cell(column=titles_column['byteorder'],row=row_index).value = signal._byteorder\n",
      "        new_work_sheet.cell(column=titles_column['valuetype'],row=row_index).value = signal._valuetype\n",
      "        new_work_sheet.cell(column=titles_column['factor'],row=row_index).value = signal._factor\n",
      "        new_work_sheet.cell(column=titles_column['offset'],row=row_index).value = signal._offset\n",
      "        new_work_sheet.cell(column=titles_column['min'],row=row_index).value = signal._min\n",
      "        new_work_sheet.cell(column=titles_column['max'],row=row_index).value = signal._max\n",
      "        row_index = row_index + 1\n",
      "        "
     ],
     "language": "python",
     "metadata": {},
     "outputs": [],
     "prompt_number": 16
    },
    {
     "cell_type": "code",
     "collapsed": false,
     "input": [
      "wb.save('radar_canbus_msgs_.xlsx')"
     ],
     "language": "python",
     "metadata": {},
     "outputs": [],
     "prompt_number": 17
    },
    {
     "cell_type": "code",
     "collapsed": false,
     "input": [
      "wb= openpyxl.load_workbook('radar_canbus_msgs_.xlsx')\n",
      "new_work_sheet = wb.get_sheet_by_name('RSDS_Receive')"
     ],
     "language": "python",
     "metadata": {},
     "outputs": [],
     "prompt_number": 141
    },
    {
     "cell_type": "code",
     "collapsed": false,
     "input": [
      "frames_sorted = sorted(db._fl._list,key=getKey)\n",
      "frames_sorted_filtered = []\n",
      "for frame in frames_sorted:\n",
      "    #print format(frames_sorted.index(frame),'02d'), format(frame._Id,'04x'), frame._name, True if len(frame._signals) else False\n",
      "    mat=re.match('ESR_Track', frame._name)\n",
      "    mat2=re.match('VECTOR', frame._name)\n",
      "    if len(frame._signals) and ( not mat2 and not mat or ( frames_sorted.index(frame) == 26 or frames_sorted.index(frame) == 89 )):\n",
      "        frames_sorted_filtered.append(frame)\n",
      "        print format(frames_sorted.index(frame),'02d'), format(frame._Id,'04x'), frame._name"
     ],
     "language": "python",
     "metadata": {},
     "outputs": [
      {
       "output_type": "stream",
       "stream": "stdout",
       "text": [
        "02 07e0 ACM_Inst_Req\n",
        "03 07e4 ACM_Inst_Resp\n",
        "16 05c0 ESR_Sim1\n",
        "17 04e0 ESR_Status1\n",
        "18 04e1 ESR_Status2\n",
        "19 04e2 ESR_Status3\n",
        "20 04e3 ESR_Status4\n",
        "21 05e4 ESR_Status5\n",
        "22 05e5 ESR_Status6\n",
        "23 05e6 ESR_Status7\n",
        "24 05e7 ESR_Status8\n",
        "25 05e8 ESR_Status9\n",
        "26 0500 ESR_Track01\n",
        "89 053f ESR_Track64\n",
        "91 05d0 ESR_Valid1\n",
        "92"
       ]
      },
      {
       "output_type": "stream",
       "stream": "stdout",
       "text": [
        " 05d1 ESR_Valid2\n",
        "122 04f0 Vehicle1\n",
        "123 04f1 Vehicle2\n",
        "124 05f2 Vehicle3\n",
        "125 05f3 Vehicle4\n",
        "126 05f4 Vehicle5\n",
        "127 05f5 Vehicle6\n"
       ]
      }
     ],
     "prompt_number": 165
    },
    {
     "cell_type": "code",
     "collapsed": false,
     "input": [
      "new_work_sheet.title"
     ],
     "language": "python",
     "metadata": {},
     "outputs": [
      {
       "metadata": {},
       "output_type": "pyout",
       "prompt_number": 153,
       "text": [
        "'ESR'"
       ]
      }
     ],
     "prompt_number": 153
    },
    {
     "cell_type": "code",
     "collapsed": false,
     "input": [
      "def getKey(item):\n",
      "    return item._Id"
     ],
     "language": "python",
     "metadata": {},
     "outputs": [],
     "prompt_number": 12
    },
    {
     "cell_type": "code",
     "collapsed": false,
     "input": [
      "frames_sorted = sorted(db._fl._list,key=getKey)"
     ],
     "language": "python",
     "metadata": {},
     "outputs": [],
     "prompt_number": 13
    },
    {
     "cell_type": "code",
     "collapsed": false,
     "input": [
      "for frame in frames_sorted:\n",
      "    print format(frame._Id,'04x'), frame._name\n",
      "    if frame._Id == 0x540:\n",
      "        frames_sorted_filtered = [frame]"
     ],
     "language": "python",
     "metadata": {},
     "outputs": [
      {
       "output_type": "stream",
       "stream": "stdout",
       "text": [
        "04e0 ESR_Status1\n",
        "04e1 ESR_Status2\n",
        "04e2 ESR_Status3\n",
        "04e3 ESR_Status4\n",
        "04f0 Vehicle1\n",
        "04f1 Vehicle2\n",
        "0500 ESR_Track01\n",
        "0501 ESR_Track02\n",
        "0502 ESR_Track03\n",
        "0503 ESR_Track04\n",
        "0504 ESR_Track05\n",
        "0505 ESR_Track06\n",
        "0506 ESR_Track07\n",
        "0507 ESR_Track08\n",
        "0508 ESR_Track09\n",
        "0509 ESR_Track10\n",
        "050a ESR_Track11\n",
        "050b ESR_Track12\n",
        "050c ESR_Track13\n",
        "050d ESR_Track14\n",
        "050e ESR_Track15\n",
        "050f ESR_Track16\n",
        "0510 ESR_Track17\n",
        "0511 ESR_Track18\n",
        "0512 ESR_Track19\n",
        "0513 ESR_Track20\n",
        "0514 ESR_Track21\n",
        "0515 ESR_Track22\n",
        "0516 ESR_Track23\n",
        "0517 ESR_Track24\n",
        "0518 ESR_Track25\n",
        "0519 ESR_Track26\n",
        "051a ESR_Track27\n",
        "051b ESR_Track28\n",
        "051c ESR_Track29\n",
        "051d ESR_Track30\n",
        "051e ESR_Track31\n",
        "051f ESR_Track32\n",
        "0520 ESR_Track33\n",
        "0521 ESR_Track34\n",
        "0522 ESR_Track35\n",
        "0523 ESR_Track36\n",
        "0524 ESR_Track37\n",
        "0525 ESR_Track38\n",
        "0526 ESR_Track39\n",
        "0527 ESR_Track40\n",
        "0528 ESR_Track41\n",
        "0529 ESR_Track42\n",
        "052a ESR_Track43\n",
        "052b ESR_Track44\n",
        "052c ESR_Track45\n",
        "052d ESR_Track46\n",
        "052e ESR_Track47\n",
        "052f ESR_Track48\n",
        "0530 ESR_Track49\n",
        "0531 ESR_Track50\n",
        "0532 ESR_Track51\n",
        "0533 ESR_Track52\n",
        "0534 ESR_Track53\n",
        "0535 ESR_Track54\n",
        "0536 ESR_Track55\n",
        "0537 ESR_Track56\n",
        "0538 ESR_Track57\n",
        "0539 ESR_Track58\n",
        "053a ESR_Track59\n",
        "053b ESR_Track60\n",
        "053c ESR_Track61\n",
        "053d ESR_Track62\n",
        "053e ESR_Track63\n",
        "053f ESR_Track64\n",
        "0540 ESR_TrackMotionPower\n",
        "05b0 CAN_TX_FORD_WERS_ASM_PN_1\n",
        "05b1 CAN_TX_FORD_WERS_ASM_PN_2\n",
        "05b2 CAN_TX_VOLVO_KDP_ASM_PN\n",
        "05b3 CAN_TX_FORD_WERS_HW_PN_1\n",
        "05b4 CAN_TX_FORD_WERS_HW_PN_2\n",
        "05b5 CAN_TX_VOLVO_KDP_HW_PN\n",
        "05b6 CAN_TX_FORD_WERS_HOST_SW_PN_1\n",
        "05b7 CAN_TX_FORD_WERS_HOST_SW_PN_2\n",
        "05b8 CAN_TX_VOLVO_KDP_HOST_SW_PN\n",
        "05bc CAN_TX_FORD_WERS_DIAG_PN_1\n",
        "05bd CAN_TX_FORD_WERS_DIAG_PN_2\n",
        "05be CAN_TX_VOLVO_KDP_DIAG_PN\n",
        "05c0 ESR_Sim1\n",
        "05d0 ESR_Valid1\n",
        "05d1 ESR_Valid2\n",
        "05e4 ESR_Status5\n",
        "05e5 ESR_Status6\n",
        "05e6 ESR_Status7\n",
        "05e7 ESR_Status8\n",
        "05e8 ESR_Status9\n",
        "05f2 Vehicle3\n",
        "05f3 Vehicle4\n",
        "05f4 Vehicle5\n",
        "05f5 Vehicle6\n",
        "0762 MMR_XCP_Inst_Req\n",
        "0763 MMR_XCP_Inst_Resp\n",
        "0780 MMR_XCP_Inst_DAQ01\n",
        "0781 MMR_XCP_Inst_DAQ02\n",
        "0782 MMR_XCP_Inst_DAQ03\n",
        "0783 MMR_XCP_Inst_DAQ04\n",
        "0784 MMR_XCP_Inst_DAQ05\n",
        "0785 MMR_XCP_Inst_DAQ06\n",
        "0786 MMR_XCP_Inst_DAQ07\n",
        "0787 MMR_XCP_Inst_DAQ08\n",
        "0788 MMR_XCP_Inst_DAQ09\n",
        "0789 MMR_XCP_Inst_DAQ10\n",
        "078a MMR_XCP_Inst_DAQ11\n",
        "078b MMR_XCP_Inst_DAQ12\n",
        "078c MMR_XCP_Inst_DAQ13\n",
        "078d MMR_XCP_Inst_DAQ14\n",
        "078e MMR_XCP_Inst_DAQ15\n",
        "078f MMR_XCP_Inst_DAQ16\n",
        "07e0 ACM_Inst_Req\n",
        "07e1 MMR_Host_Inst_Req\n",
        "07e3 MMR_Host_Inst_Resp\n",
        "07e4 ACM_Inst_Resp\n",
        "07e5 MMR_DSP_Inst_Req\n",
        "07e6 MMR_DSP_Inst_Resp\n",
        "07e7 ACM_Inst_DAQ1\n",
        "07e8 ACM_Inst_DAQ2\n",
        "07e9 MMR_Inst_DAQ1\n",
        "07ea MMR_Inst_DAQ2\n",
        "07eb MMR_Inst_DAQ3\n",
        "07ec MMR_Inst_DAQ4\n",
        "07ed MMR_Inst_Req_FLASH\n",
        "07ee MMR_Inst_Resp_FLASH\n",
        "c0000000 VECTOR__INDEPENDENT_SIG_MSG\n"
       ]
      }
     ],
     "prompt_number": 15
    },
    {
     "cell_type": "code",
     "collapsed": false,
     "input": [
      "for frame in db._fl._list:\n",
      "    print format(frame._Id,'04x'), frame._name\n",
      "    #for signal in frame._signals:\n",
      "        #print signal._name\n",
      "    #print frame._name, frame._Transmitter, frame._Size, frame._signals, frame._attributes"
     ],
     "language": "python",
     "metadata": {},
     "outputs": [
      {
       "output_type": "stream",
       "stream": "stdout",
       "text": [
        "c0000000 VECTOR__INDEPENDENT_SIG_MSG\n",
        "04d4 SODR_Status5\n",
        "05d7 SODR_Debug_Message_4\n",
        "05d6 SODR_Debug_Message_3\n",
        "05e7 SODL_Debug_Message_4\n",
        "05d9 SODR_Debug_Message_6\n",
        "05d8 SODR_Debug_Message_5\n",
        "05d5 SODR_Debug_Message_2\n",
        "05d4 SODR_Debug_Message_1\n",
        "05e9 SODL_Debug_Message_6\n",
        "05e8 SODL_Debug_Message_5\n",
        "05e6 SODL_Debug_Message_3\n",
        "05e5 SODL_Debug_Message_2\n",
        "05e4 SODL_Debug_Message_1\n",
        "0703 SODR_Feature_SW_ver\n",
        "0702 SODL_Feature_SW_ver\n",
        "04e4 SODL_Status5\n",
        "063f SODR_Track64\n",
        "063e SODR_Track63\n",
        "063d SODR_Track62\n",
        "063c SODR_Track61\n",
        "063b SODR_Track60\n",
        "063a SODR_Track59\n",
        "0639 SODR_Track58\n",
        "0638 SODR_Track57\n",
        "0637 SODR_Track56\n",
        "0636 SODR_Track55\n",
        "0635 SODR_Track54\n",
        "0634 SODR_Track53\n",
        "0633 SODR_Track52\n",
        "0632 SODR_Track51\n",
        "0631 SODR_Track50\n",
        "0630 SODR_Track49\n",
        "062f SODR_Track48\n",
        "062e SODR_Track47\n",
        "062d SODR_Track46\n",
        "062c SODR_Track45\n",
        "062b SODR_Track44\n",
        "062a SODR_Track43\n",
        "0629 SODR_Track42\n",
        "0628 SODR_Track41\n",
        "0627 SODR_Track40\n",
        "0626 SODR_Track39\n",
        "0625 SODR_Track38\n",
        "0624 SODR_Track37\n",
        "0623 SODR_Track36\n",
        "0622 SODR_Track35\n",
        "0621 SODR_Track34\n",
        "0620 SODR_Track33\n",
        "061f SODR_Track32\n",
        "061e SODR_Track31\n",
        "061d SODR_Track30\n",
        "061c SODR_Track29\n",
        "061b SODR_Track28\n",
        "061a SODR_Track27\n",
        "0619 SODR_Track26\n",
        "0618 SODR_Track25\n",
        "0617 SODR_Track24\n",
        "0616 SODR_Track23\n",
        "0615 SODR_Track22\n",
        "0614 SODR_Track21\n",
        "0613 SODR_Track20\n",
        "0612 SODR_Track19\n",
        "0611 SODR_Track18\n",
        "0610 SODR_Track17\n",
        "060f SODR_Track16\n",
        "060e SODR_Track15\n",
        "060d SODR_Track14\n",
        "060c SODR_Track13\n",
        "060b SODR_Track12\n",
        "060a SODR_Track11\n",
        "0609 SODR_Track10\n",
        "0608 SODR_Track09\n",
        "0607 SODR_Track08\n",
        "0606 SODR_Track07\n",
        "0605 SODR_Track06\n",
        "0534 SODL_Track53\n",
        "0519 SODL_Track26\n",
        "0531 SODL_Track50\n",
        "0509 SODL_Track10\n",
        "0528 SODL_Track41\n",
        "051a SODL_Track27\n",
        "0517 SODL_Track24\n",
        "051d SODL_Track30\n",
        "051b SODL_Track28\n",
        "051c SODL_Track29\n",
        "050e SODL_Track15\n",
        "0518 SODL_Track25\n",
        "0514 SODL_Track21\n",
        "0511 SODL_Track18\n",
        "0508 SODL_Track09\n",
        "050a SODL_Track11\n",
        "050d SODL_Track14\n",
        "0515 SODL_Track22\n",
        "0507 SODL_Track08\n",
        "050f SODL_Track16\n",
        "0513 SODL_Track20\n",
        "052d SODL_Track46\n",
        "0530 SODL_Track49\n",
        "0516 SODL_Track23\n",
        "050c SODL_Track13\n",
        "050b SODL_Track12\n",
        "0510 SODL_Track17\n",
        "051e SODL_Track31\n",
        "0522 SODL_Track35\n",
        "051f SODL_Track32\n",
        "0520 SODL_Track33\n",
        "0526 SODL_Track39\n",
        "0539 SODL_Track58\n",
        "052b SODL_Track44\n",
        "0529 SODL_Track42\n",
        "052a SODL_Track43\n",
        "0523 SODL_Track36\n",
        "0506 SODL_Track07\n",
        "052c SODL_Track45\n",
        "0525 SODL_Track38\n",
        "0524 SODL_Track37\n",
        "0532 SODL_Track51\n",
        "052f SODL_Track48\n",
        "0533 SODL_Track52\n",
        "053b SODL_Track60\n",
        "0535 SODL_Track54\n",
        "053c SODL_Track61\n",
        "053a SODL_Track59\n",
        "053d SODL_Track62\n",
        "053f SODL_Track64\n",
        "0604 SODR_Track05\n",
        "0603 SODR_Track04\n",
        "0602 SODR_Track03\n",
        "0601 SODR_Track02\n",
        "0600 SODR_Track01\n",
        "0505 SODL_Track06\n",
        "0504 SODL_Track05\n",
        "0502 SODL_Track03\n",
        "0501 SODL_Track02\n",
        "0536 SODL_Track55\n",
        "0537 SODL_Track56\n",
        "0538 SODL_Track57\n",
        "052e SODL_Track47\n",
        "0512 SODL_Track19\n",
        "0521 SODL_Track34\n",
        "0527 SODL_Track40\n",
        "053e SODL_Track63\n",
        "0503 SODL_Track04\n",
        "0701 SODR_Feature_Alert\n",
        "04d3 SODR_Status4\n",
        "04d2 SODR_Status3\n",
        "04d1 SODR_Status2\n",
        "04d0 SODR_Status1\n",
        "0700 SODL_Feature_Alert\n",
        "04e3 SODL_Status4\n",
        "04e2 SODL_Status3\n",
        "0500 SODL_Track01\n",
        "04e1 SODL_Status2\n",
        "04e0 SODL_Status1\n"
       ]
      }
     ],
     "prompt_number": 173
    },
    {
     "cell_type": "code",
     "collapsed": false,
     "input": [
      "for frame in db_xcan_nmt._fl._list:\n",
      "    print format(frame._Id,'04x'), frame._name\n",
      "    for signal in frame._signals:\n",
      "        print signal._name"
     ],
     "language": "python",
     "metadata": {},
     "outputs": [
      {
       "output_type": "stream",
       "stream": "stdout",
       "text": [
        "0500 CEM_NM\n",
        "SM_\n",
        "SA_\n",
        "DA_\n",
        "CF_\n"
       ]
      }
     ],
     "prompt_number": 124
    },
    {
     "cell_type": "code",
     "collapsed": false,
     "input": [
      "db._fl._list.index(db._fl.byName('NMmesCEM_AR2'))\n",
      "len(db._fl._list)"
     ],
     "language": "python",
     "metadata": {},
     "outputs": [
      {
       "metadata": {},
       "output_type": "pyout",
       "prompt_number": 126,
       "text": [
        "20"
       ]
      }
     ],
     "prompt_number": 126
    },
    {
     "cell_type": "code",
     "collapsed": false,
     "input": [
      "_indexes = range(0,14)\n",
      "_indexes = _indexes + range(17,20)\n",
      "print _indexes\n",
      "\n",
      "\n",
      "#frames_sorted_filtered[:] = [db._fl._list[i] for i in _indexes]\n",
      "frames_sorted_filtered[:] = sorted(frames_sorted_filtered,key=getKey) + db_xcan_nmt._fl._list\n",
      "for frame in frames_sorted_filtered:\n",
      "    print format(frame._Id,'04x'), frame._name"
     ],
     "language": "python",
     "metadata": {},
     "outputs": [
      {
       "output_type": "stream",
       "stream": "stdout",
       "text": [
        "[0, 1, 2, 3, 4, 5, 6, 7, 8, 9, 10, 11, 12, 13, 17, 18, 19]\n",
        "0020 CEM_x_FrP00\n",
        "0065 CEM_x_FrP01\n",
        "0100 CEM_x_FrP02\n",
        "0145 CEM_x_FrP03\n",
        "01a5 CEM_x_FrP04\n",
        "0140 CEM_x_FrP05\n",
        "0400 CEM_x_VConf\n",
        "0405 CEM_x_VInfo\n",
        "0566 NMmesSODL\n",
        "056b NMmesSODR\n",
        "0015 SODL_x_FrP00\n",
        "0010 SODR_x_FrP00\n",
        "07df TST_FunctionalReqX\n",
        "07c4 TST_PhysicalReqSODLX\n",
        "07c6 TST_PhysicalReqSODRX\n",
        "07cc TST_PhysicalRespSODLX\n",
        "07ce TST_PhysicalRespSODRX\n",
        "0500 CEM_NM\n"
       ]
      }
     ],
     "prompt_number": 138
    },
    {
     "cell_type": "code",
     "collapsed": false,
     "input": [
      "#frame = db._fl._list[15]\n",
      "#frame = db._fl.byName('ESR_Status2')\n",
      "#frame = db._fl.byName('ESR_Track27')\n",
      "frame = db._fl.byName('SODL_Status1')\n",
      "print db._fl.byId(0x4f1) == db._fl.byName('Vehicle2')\n",
      "print frame._Size, frame._signals\n",
      "frame._Reciever, frame._SignalGroups, frame._extended, frame._comment, frame._attributes, frame._Transmitter"
     ],
     "language": "python",
     "metadata": {},
     "outputs": [
      {
       "output_type": "stream",
       "stream": "stdout",
       "text": [
        "True\n",
        "8 [<library.canmatrix.Signal instance at 0x056A0B48>, <library.canmatrix.Signal instance at 0x056A0B98>, <library.canmatrix.Signal instance at 0x056A0BE8>, <library.canmatrix.Signal instance at 0x056A0C38>, <library.canmatrix.Signal instance at 0x056A0CB0>, <library.canmatrix.Signal instance at 0x056A0D28>]\n"
       ]
      },
      {
       "metadata": {},
       "output_type": "pyout",
       "prompt_number": 174,
       "text": [
        "([], [], 0, None, {}, ['Vector__XXX'])"
       ]
      }
     ],
     "prompt_number": 174
    },
    {
     "cell_type": "code",
     "collapsed": false,
     "input": [
      "for signal in frame._signals:\n",
      "    print signal._name"
     ],
     "language": "python",
     "metadata": {},
     "outputs": [
      {
       "output_type": "stream",
       "stream": "stdout",
       "text": [
        "CAN_TX_LOOK_TYPE\n",
        "CAN_TX_DSP_TIMESTAMP\n",
        "CAN_TX_YAW_RATE_CALC\n",
        "CAN_TX_VEHICLE_SPEED_CALC\n",
        "CAN_TX_SCAN_INDEX\n",
        "CAN_TX_CURVATURE\n"
       ]
      }
     ],
     "prompt_number": 175
    },
    {
     "cell_type": "code",
     "collapsed": false,
     "input": [
      "signal = frame.signalByName('CAN_TX_YAW_RATE_CALC')\n",
      "signal._startbit, signal._signalsize, signal._byteorder, signal._valuetype, signal._factor\n",
      "#print signal"
     ],
     "language": "python",
     "metadata": {},
     "outputs": [
      {
       "metadata": {},
       "output_type": "pyout",
       "prompt_number": 227,
       "text": [
        "(47, 12, 0, '-', '0.0625')"
       ]
      }
     ],
     "prompt_number": 227
    },
    {
     "cell_type": "code",
     "collapsed": false,
     "input": [
      "print type(signal._attributes), True if signal._attributes else False, bool(signal._attributes)\n",
      "signal._reciever, signal._attributes, signal._values"
     ],
     "language": "python",
     "metadata": {},
     "outputs": [
      {
       "output_type": "stream",
       "stream": "stdout",
       "text": [
        "<type 'dict'> False False\n"
       ]
      },
      {
       "metadata": {},
       "output_type": "pyout",
       "prompt_number": 203,
       "text": [
        "(['Vector__XXX'], {}, {})"
       ]
      }
     ],
     "prompt_number": 203
    },
    {
     "cell_type": "code",
     "collapsed": false,
     "input": [
      "signal._offset, signal._min, signal._max"
     ],
     "language": "python",
     "metadata": {},
     "outputs": [
      {
       "metadata": {},
       "output_type": "pyout",
       "prompt_number": 204,
       "text": [
        "('0', '0', '131070')"
       ]
      }
     ],
     "prompt_number": 204
    },
    {
     "cell_type": "code",
     "collapsed": false,
     "input": [
      "#_test_4e0 = [0x38, 0x20, 0xFF, 0xFF, 0, 0, 0, 0]\n",
      "_test_4e0 = [0x30, 0x21, 0x00, 0x06, 0x14, 0x81, 0x07, 0x04]\n",
      "_test_4e0_bytearray = bytearray(_test_4e0)"
     ],
     "language": "python",
     "metadata": {},
     "outputs": [],
     "prompt_number": 260
    },
    {
     "cell_type": "code",
     "collapsed": false,
     "input": [
      "_test_4e0_bytearray"
     ],
     "language": "python",
     "metadata": {},
     "outputs": [
      {
       "metadata": {},
       "output_type": "pyout",
       "prompt_number": 261,
       "text": [
        "bytearray(b'0!\\x00\\x06\\x14\\x81\\x07\\x04')"
       ]
      }
     ],
     "prompt_number": 261
    },
    {
     "cell_type": "code",
     "collapsed": false,
     "input": [
      "_test = 0x614\n",
      "_test"
     ],
     "language": "python",
     "metadata": {},
     "outputs": [
      {
       "metadata": {},
       "output_type": "pyout",
       "prompt_number": 262,
       "text": [
        "1556"
       ]
      }
     ],
     "prompt_number": 262
    },
    {
     "cell_type": "code",
     "collapsed": false,
     "input": [
      "b = BitVector(0)\n",
      "for i in range(0,8):\n",
      "    print i, [(i+1)*8-1,(i)*8]\n",
      "    b[(i+1)*8-1:(i)*8] = _test_4e0[i]"
     ],
     "language": "python",
     "metadata": {},
     "outputs": [
      {
       "output_type": "stream",
       "stream": "stdout",
       "text": [
        "0 [7, 0]\n",
        "1 [15, 8]\n",
        "2 [23, 16]\n",
        "3 [31, 24]\n",
        "4 [39, 32]\n",
        "5 [47, 40]\n",
        "6 [55, 48]\n",
        "7 [63, 56]\n"
       ]
      }
     ],
     "prompt_number": 263
    },
    {
     "cell_type": "code",
     "collapsed": false,
     "input": [
      "b[51:51], b[39:24], b[31:24]*0x100+b[39:32], ((b[7:0]<<8)+b[15:8])*2, (b[50:48]*0x100+b[63:56])*0.0625, (b[47:44]*0x100+b[52:43])*0.0625"
     ],
     "language": "python",
     "metadata": {},
     "outputs": [
      {
       "metadata": {},
       "output_type": "pyout",
       "prompt_number": 264,
       "text": [
        "(0L, 5126L, 1556L, 24642L, 112.25, 143.0)"
       ]
      }
     ],
     "prompt_number": 264
    },
    {
     "cell_type": "code",
     "collapsed": false,
     "input": [
      "b[50:48], b[47:44], b[50:43], b[43:40], b[55:52], (b[43:40]<<4)+ b[55:52], ((b[43:40]<<4)+ b[55:52])*0.0625"
     ],
     "language": "python",
     "metadata": {},
     "outputs": [
      {
       "metadata": {},
       "output_type": "pyout",
       "prompt_number": 265,
       "text": [
        "(7L, 8L, 240L, 1L, 0L, 16L, 1.0)"
       ]
      }
     ],
     "prompt_number": 265
    },
    {
     "cell_type": "code",
     "collapsed": false,
     "input": [
      "if b[47:47]:\n",
      "    #print (~(b[47:44]*0x100+(b[43:40]<<4)+ b[55:52]))*0.0625\n",
      "    _t = (b[47:44]*0x100+(b[43:40]<<4)+ b[55:52])\n",
      "    print (_t - (1 << 12))*0.0625\n",
      "else:\n",
      "    print (b[47:44]*0x100+(b[43:40]<<4)+ b[55:52])*0.0625"
     ],
     "language": "python",
     "metadata": {},
     "outputs": [
      {
       "output_type": "stream",
       "stream": "stdout",
       "text": [
        "-127.0\n"
       ]
      }
     ],
     "prompt_number": 266
    },
    {
     "cell_type": "code",
     "collapsed": false,
     "input": [
      "neg_number =  int(-127/0.0625)\n",
      "print neg_number\n",
      "\n",
      "print ~(int(-neg_number-1))\n",
      "bb = BitVector(~(int(-neg_number-1)))\n",
      "print bb[11:0]\n",
      "print (bb[11:0] - (1 << 12))\n",
      "print b[47:44]*0x100+(b[43:40]<<4)+ b[55:52]\n",
      "print (2064 - (1 << 12))"
     ],
     "language": "python",
     "metadata": {},
     "outputs": [
      {
       "output_type": "stream",
       "stream": "stdout",
       "text": [
        "-2032\n",
        "-2032\n",
        "2064\n",
        "-2032\n",
        "2064\n",
        "-2032\n"
       ]
      }
     ],
     "prompt_number": 275
    },
    {
     "cell_type": "code",
     "collapsed": false,
     "input": [
      "neg_number =  int(-100/0.0625)\n",
      "print neg_number\n",
      "\n",
      "print ~(int(-neg_number-1))\n",
      "bb = BitVector(~(int(-neg_number-1)))\n",
      "print bb[11:0]\n",
      "print (bb[11:0] - (1 << 12))"
     ],
     "language": "python",
     "metadata": {},
     "outputs": [
      {
       "output_type": "stream",
       "stream": "stdout",
       "text": [
        "-1600\n",
        "-1600\n",
        "2496\n",
        "-1600\n"
       ]
      }
     ],
     "prompt_number": 276
    },
    {
     "cell_type": "code",
     "collapsed": false,
     "input": [
      "bb = BitVector(0b111111111111)\n",
      "print bb[11:0]\n",
      "print (bb[11:0] - (1 << 12))"
     ],
     "language": "python",
     "metadata": {},
     "outputs": [
      {
       "output_type": "stream",
       "stream": "stdout",
       "text": [
        "4095\n",
        "-1\n"
       ]
      }
     ],
     "prompt_number": 277
    },
    {
     "cell_type": "code",
     "collapsed": false,
     "input": [
      "import math\n",
      "class BitVector:\n",
      "     def __init__(self,val):\n",
      "         self._val = val\n",
      "\n",
      "     def __setslice__(self,highIndx,lowIndx,newVal):\n",
      "         #assert math.ceil(math.log(newVal)/math.log(2)) <= (highIndx-lowIndx+1)\n",
      "\n",
      "         # clear out bit slice\n",
      "         clean_mask = (2**(highIndx+1)-1)^(2**(lowIndx)-1)\n",
      "\n",
      "         self._val = self._val ^ (self._val & clean_mask)\n",
      "         # set new value\n",
      "         self._val = self._val | (newVal<<lowIndx)\n",
      "\n",
      "     def __getslice__(self,highIndx,lowIndx):\n",
      "         return (self._val>>lowIndx)&(2L**(highIndx-lowIndx+1)-1)"
     ],
     "language": "python",
     "metadata": {},
     "outputs": [],
     "prompt_number": 187
    },
    {
     "cell_type": "markdown",
     "metadata": {},
     "source": [
      "# Here last see\n",
      "* ok, got the dbc extracted, now need to parse (receive/send) based on this, try with ESR first\n",
      "* try with RSDS\n",
      "* Develop gui using matplotlib and rospyqt"
     ]
    },
    {
     "cell_type": "code",
     "collapsed": false,
     "input": [
      "b = BitVector(0)\n",
      "b\n",
      "repr(b)\n",
      "b[63:60]=0xF\n",
      "#b[127:124]=0xF\n",
      "\n",
      "#b[255:252]=0xF\n",
      "print format(b[63:0],'08x')\n",
      "print repr((b[63:63], b[62:62], b[61:61], b[60:60]))\n",
      "\n",
      "True if (b[63:63]) else False,bool (b[63:63]),int (b[63:60]),int (b[61:60])"
     ],
     "language": "python",
     "metadata": {},
     "outputs": [
      {
       "output_type": "stream",
       "stream": "stdout",
       "text": [
        "f000000000000000\n",
        "(1L, 1L, 1L, 1L)\n"
       ]
      },
      {
       "metadata": {},
       "output_type": "pyout",
       "prompt_number": 131,
       "text": [
        "(True, True, 15, 3)"
       ]
      }
     ],
     "prompt_number": 131
    },
    {
     "cell_type": "code",
     "collapsed": false,
     "input": [
      "type(int(b[63:56]))"
     ],
     "language": "python",
     "metadata": {},
     "outputs": [
      {
       "metadata": {},
       "output_type": "pyout",
       "prompt_number": 136,
       "text": [
        "int"
       ]
      }
     ],
     "prompt_number": 136
    },
    {
     "cell_type": "code",
     "collapsed": false,
     "input": [
      "bytearray([int(b[63:56])])"
     ],
     "language": "python",
     "metadata": {},
     "outputs": [
      {
       "metadata": {},
       "output_type": "pyout",
       "prompt_number": 137,
       "text": [
        "bytearray(b'\\xf0')"
       ]
      }
     ],
     "prompt_number": 137
    },
    {
     "cell_type": "code",
     "collapsed": false,
     "input": [
      "b[3:0] = 0b1001\n",
      "b[7:4] = 0b0110\n",
      "print b[5:2] , bin(b[5:2]), type(bin(b[5:2]))\n",
      "b[7:2] , bin(b[7:2]), type(b[7:2])"
     ],
     "language": "python",
     "metadata": {},
     "outputs": [
      {
       "output_type": "stream",
       "stream": "stdout",
       "text": [
        "10 0b1010 <type 'str'>\n"
       ]
      },
      {
       "metadata": {},
       "output_type": "pyout",
       "prompt_number": 166,
       "text": [
        "(26L, '0b11010', long)"
       ]
      }
     ],
     "prompt_number": 166
    },
    {
     "cell_type": "code",
     "collapsed": false,
     "input": [
      "import numpy as np\n",
      "import matplotlib.pyplot as plt\n",
      "import matplotlib.animation as animation\n",
      "\n",
      "def data_gen():\n",
      "    t = data_gen.t\n",
      "    cnt = 0\n",
      "    while cnt < 1000:\n",
      "        cnt+=1\n",
      "        t += 0.05\n",
      "        yield t, np.sin(2*np.pi*t) * np.exp(-t/10.)\n",
      "data_gen.t = 0\n",
      "\n",
      "fig, ax = plt.subplots()\n",
      "line, = ax.plot([], [], lw=2)\n",
      "ax.set_ylim(-1.1, 1.1)\n",
      "ax.set_xlim(0, 5)\n",
      "ax.grid()\n",
      "xdata, ydata = [], []\n",
      "def run(data):\n",
      "    # update the data\n",
      "    t,y = data\n",
      "    xdata.append(t)\n",
      "    ydata.append(y)\n",
      "    xmin, xmax = ax.get_xlim()\n",
      "\n",
      "    if t >= xmax:\n",
      "        ax.set_xlim(xmin, 2*xmax)\n",
      "        ax.figure.canvas.draw()\n",
      "    line.set_data(xdata, ydata)\n",
      "\n",
      "    return line,\n",
      "\n",
      "ani = animation.FuncAnimation(fig, run, data_gen, blit=True, interval=10,\n",
      "    repeat=False)\n",
      "plt.show()"
     ],
     "language": "python",
     "metadata": {},
     "outputs": [],
     "prompt_number": 25
    },
    {
     "cell_type": "code",
     "collapsed": false,
     "input": [
      "import numpy as np\n",
      "import matplotlib.pyplot as plt\n",
      "import mpl_toolkits.mplot3d.axes3d as p3\n",
      "import matplotlib.animation as animation\n",
      "\n",
      "def Gen_RandLine(length, dims=2) :\n",
      "    \"\"\"\n",
      "    Create a line using a random walk algorithm\n",
      "\n",
      "    length is the number of points for the line.\n",
      "    dims is the number of dimensions the line has.\n",
      "    \"\"\"\n",
      "    lineData = np.empty((dims, length))\n",
      "    lineData[:, 0] = np.random.rand(dims)\n",
      "    for index in range(1, length) :\n",
      "        # scaling the random numbers by 0.1 so\n",
      "        # movement is small compared to position.\n",
      "        # subtraction by 0.5 is to change the range to [-0.5, 0.5]\n",
      "        # to allow a line to move backwards.\n",
      "        step = ((np.random.rand(dims) - 0.5) * 0.1)\n",
      "        lineData[:, index] = lineData[:, index-1] + step\n",
      "\n",
      "    return lineData\n",
      "\n",
      "def update_lines(num, dataLines, lines) :\n",
      "    for line, data in zip(lines, dataLines) :\n",
      "        # NOTE: there is no .set_data() for 3 dim data...\n",
      "        line.set_data(data[0:2, :num])\n",
      "        line.set_3d_properties(data[2,:num])\n",
      "    return lines\n",
      "\n",
      "# Attaching 3D axis to the figure\n",
      "fig = plt.figure()\n",
      "ax = p3.Axes3D(fig)\n",
      "\n",
      "# Fifty lines of random 3-D lines\n",
      "data = [Gen_RandLine(25, 3) for index in range(50)]\n",
      "\n",
      "# Creating fifty line objects.\n",
      "# NOTE: Can't pass empty arrays into 3d version of plot()\n",
      "lines = [ax.plot(dat[0, 0:1], dat[1, 0:1], dat[2, 0:1])[0] for dat in data]\n",
      "\n",
      "# Setting the axes properties\n",
      "ax.set_xlim3d([0.0, 1.0])\n",
      "ax.set_xlabel('X')\n",
      "\n",
      "ax.set_ylim3d([0.0, 1.0])\n",
      "ax.set_ylabel('Y')\n",
      "\n",
      "ax.set_zlim3d([0.0, 1.0])\n",
      "ax.set_zlabel('Z')\n",
      "\n",
      "ax.set_title('3D Test')\n",
      "\n",
      "# Creating the Animation object\n",
      "line_ani = animation.FuncAnimation(fig, update_lines, 25, fargs=(data, lines),\n",
      "                              interval=50, blit=False)\n",
      "\n",
      "plt.show()"
     ],
     "language": "python",
     "metadata": {},
     "outputs": [
      {
       "output_type": "stream",
       "stream": "stderr",
       "text": [
        "C:\\Python27\\lib\\site-packages\\mpl_toolkits\\mplot3d\\axes3d.py:1094: FutureWarning: comparison to `None` will result in an elementwise object comparison in the future.\n",
        "  if self.button_pressed in self._rotate_btn:\n"
       ]
      },
      {
       "ename": "AttributeError",
       "evalue": "'NoneType' object has no attribute 'tk'",
       "output_type": "pyerr",
       "traceback": [
        "\u001b[1;31m---------------------------------------------------------------------------\u001b[0m\n\u001b[1;31mAttributeError\u001b[0m                            Traceback (most recent call last)",
        "\u001b[1;32m<ipython-input-26-27dd12ee8a5e>\u001b[0m in \u001b[0;36m<module>\u001b[1;34m()\u001b[0m\n\u001b[0;32m     57\u001b[0m                               interval=50, blit=False)\n\u001b[0;32m     58\u001b[0m \u001b[1;33m\u001b[0m\u001b[0m\n\u001b[1;32m---> 59\u001b[1;33m \u001b[0mplt\u001b[0m\u001b[1;33m.\u001b[0m\u001b[0mshow\u001b[0m\u001b[1;33m(\u001b[0m\u001b[1;33m)\u001b[0m\u001b[1;33m\u001b[0m\u001b[0m\n\u001b[0m",
        "\u001b[1;32mC:\\Python27\\lib\\site-packages\\matplotlib\\pyplot.pyc\u001b[0m in \u001b[0;36mshow\u001b[1;34m(*args, **kw)\u001b[0m\n\u001b[0;32m    153\u001b[0m     \"\"\"\n\u001b[0;32m    154\u001b[0m     \u001b[1;32mglobal\u001b[0m \u001b[0m_show\u001b[0m\u001b[1;33m\u001b[0m\u001b[0m\n\u001b[1;32m--> 155\u001b[1;33m     \u001b[1;32mreturn\u001b[0m \u001b[0m_show\u001b[0m\u001b[1;33m(\u001b[0m\u001b[1;33m*\u001b[0m\u001b[0margs\u001b[0m\u001b[1;33m,\u001b[0m \u001b[1;33m**\u001b[0m\u001b[0mkw\u001b[0m\u001b[1;33m)\u001b[0m\u001b[1;33m\u001b[0m\u001b[0m\n\u001b[0m\u001b[0;32m    156\u001b[0m \u001b[1;33m\u001b[0m\u001b[0m\n\u001b[0;32m    157\u001b[0m \u001b[1;33m\u001b[0m\u001b[0m\n",
        "\u001b[1;32mC:\\Python27\\lib\\site-packages\\matplotlib\\backend_bases.pyc\u001b[0m in \u001b[0;36m__call__\u001b[1;34m(self, block)\u001b[0m\n\u001b[0;32m    182\u001b[0m \u001b[1;33m\u001b[0m\u001b[0m\n\u001b[0;32m    183\u001b[0m         \u001b[1;32mif\u001b[0m \u001b[1;32mnot\u001b[0m \u001b[0mis_interactive\u001b[0m\u001b[1;33m(\u001b[0m\u001b[1;33m)\u001b[0m \u001b[1;32mor\u001b[0m \u001b[0mget_backend\u001b[0m\u001b[1;33m(\u001b[0m\u001b[1;33m)\u001b[0m \u001b[1;33m==\u001b[0m \u001b[1;34m'WebAgg'\u001b[0m\u001b[1;33m:\u001b[0m\u001b[1;33m\u001b[0m\u001b[0m\n\u001b[1;32m--> 184\u001b[1;33m             \u001b[0mself\u001b[0m\u001b[1;33m.\u001b[0m\u001b[0mmainloop\u001b[0m\u001b[1;33m(\u001b[0m\u001b[1;33m)\u001b[0m\u001b[1;33m\u001b[0m\u001b[0m\n\u001b[0m\u001b[0;32m    185\u001b[0m \u001b[1;33m\u001b[0m\u001b[0m\n\u001b[0;32m    186\u001b[0m     \u001b[1;32mdef\u001b[0m \u001b[0mmainloop\u001b[0m\u001b[1;33m(\u001b[0m\u001b[0mself\u001b[0m\u001b[1;33m)\u001b[0m\u001b[1;33m:\u001b[0m\u001b[1;33m\u001b[0m\u001b[0m\n",
        "\u001b[1;32mC:\\Python27\\lib\\site-packages\\matplotlib\\backends\\backend_tkagg.pyc\u001b[0m in \u001b[0;36mmainloop\u001b[1;34m(self)\u001b[0m\n\u001b[0;32m     69\u001b[0m \u001b[1;32mclass\u001b[0m \u001b[0mShow\u001b[0m\u001b[1;33m(\u001b[0m\u001b[0mShowBase\u001b[0m\u001b[1;33m)\u001b[0m\u001b[1;33m:\u001b[0m\u001b[1;33m\u001b[0m\u001b[0m\n\u001b[0;32m     70\u001b[0m     \u001b[1;32mdef\u001b[0m \u001b[0mmainloop\u001b[0m\u001b[1;33m(\u001b[0m\u001b[0mself\u001b[0m\u001b[1;33m)\u001b[0m\u001b[1;33m:\u001b[0m\u001b[1;33m\u001b[0m\u001b[0m\n\u001b[1;32m---> 71\u001b[1;33m         \u001b[0mTk\u001b[0m\u001b[1;33m.\u001b[0m\u001b[0mmainloop\u001b[0m\u001b[1;33m(\u001b[0m\u001b[1;33m)\u001b[0m\u001b[1;33m\u001b[0m\u001b[0m\n\u001b[0m\u001b[0;32m     72\u001b[0m \u001b[1;33m\u001b[0m\u001b[0m\n\u001b[0;32m     73\u001b[0m \u001b[0mshow\u001b[0m \u001b[1;33m=\u001b[0m \u001b[0mShow\u001b[0m\u001b[1;33m(\u001b[0m\u001b[1;33m)\u001b[0m\u001b[1;33m\u001b[0m\u001b[0m\n",
        "\u001b[1;32mC:\\Python27\\lib\\lib-tk\\Tkinter.pyc\u001b[0m in \u001b[0;36mmainloop\u001b[1;34m(n)\u001b[0m\n\u001b[0;32m    408\u001b[0m \u001b[1;32mdef\u001b[0m \u001b[0mmainloop\u001b[0m\u001b[1;33m(\u001b[0m\u001b[0mn\u001b[0m\u001b[1;33m=\u001b[0m\u001b[1;36m0\u001b[0m\u001b[1;33m)\u001b[0m\u001b[1;33m:\u001b[0m\u001b[1;33m\u001b[0m\u001b[0m\n\u001b[0;32m    409\u001b[0m     \u001b[1;34m\"\"\"Run the main loop of Tcl.\"\"\"\u001b[0m\u001b[1;33m\u001b[0m\u001b[0m\n\u001b[1;32m--> 410\u001b[1;33m     \u001b[0m_default_root\u001b[0m\u001b[1;33m.\u001b[0m\u001b[0mtk\u001b[0m\u001b[1;33m.\u001b[0m\u001b[0mmainloop\u001b[0m\u001b[1;33m(\u001b[0m\u001b[0mn\u001b[0m\u001b[1;33m)\u001b[0m\u001b[1;33m\u001b[0m\u001b[0m\n\u001b[0m\u001b[0;32m    411\u001b[0m \u001b[1;33m\u001b[0m\u001b[0m\n\u001b[0;32m    412\u001b[0m \u001b[0mgetint\u001b[0m \u001b[1;33m=\u001b[0m \u001b[0mint\u001b[0m\u001b[1;33m\u001b[0m\u001b[0m\n",
        "\u001b[1;31mAttributeError\u001b[0m: 'NoneType' object has no attribute 'tk'"
       ]
      }
     ],
     "prompt_number": 26
    },
    {
     "cell_type": "code",
     "collapsed": false,
     "input": [],
     "language": "python",
     "metadata": {},
     "outputs": []
    }
   ],
   "metadata": {}
  }
 ]
}