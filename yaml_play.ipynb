{
 "metadata": {
  "name": "",
  "signature": "sha256:7d291141dba974d47d3ccc5e764b5ae89ed76d2ef97e9a64c115fa388708aa70"
 },
 "nbformat": 3,
 "nbformat_minor": 0,
 "worksheets": [
  {
   "cells": [
    {
     "cell_type": "code",
     "collapsed": false,
     "input": [
      "import yaml"
     ],
     "language": "python",
     "metadata": {},
     "outputs": [],
     "prompt_number": 7
    },
    {
     "cell_type": "code",
     "collapsed": false,
     "input": [
      "tdict = {'semak':'kuda', 1:2, 3:8, 'ancur':'kurang', 1:2, 'semak':'aih'}\n",
      "print tdict\n",
      "tdict"
     ],
     "language": "python",
     "metadata": {},
     "outputs": [
      {
       "output_type": "stream",
       "stream": "stdout",
       "text": [
        "{'semak': 'aih', 1: 2, 3: 8, 'ancur': 'kurang'}\n"
       ]
      },
      {
       "metadata": {},
       "output_type": "pyout",
       "prompt_number": 5,
       "text": [
        "{1: 2, 3: 8, 'ancur': 'kurang', 'semak': 'aih'}"
       ]
      }
     ],
     "prompt_number": 5
    },
    {
     "cell_type": "code",
     "collapsed": false,
     "input": [
      "print yaml.load(\"\"\"\n",
      "... name: Vorlin Laruknuzum\n",
      "... sex: Male\n",
      "... class: Priest\n",
      "... title: Acolyte\n",
      "... hp: [32, 71]\n",
      "... sp: [1, 13]\n",
      "... gold: 423\n",
      "... inventory:\n",
      "... - a Holy Book of Prayers (Words of Wisdom)\n",
      "... - an Azure Potion of Cure Light Wounds\n",
      "... - a Silver Wand of Wonder\n",
      "... \"\"\")"
     ],
     "language": "python",
     "metadata": {},
     "outputs": [
      {
       "output_type": "stream",
       "stream": "stdout",
       "text": [
        "{'name': 'Vorlin Laruknuzum', 'gold': 423, 'title': 'Acolyte', 'hp': [32, 71], 'sp': [1, 13], 'sex': 'Male', 'inventory': ['a Holy Book of Prayers (Words of Wisdom)', 'an Azure Potion of Cure Light Wounds', 'a Silver Wand of Wonder'], 'class': 'Priest'}\n"
       ]
      }
     ],
     "prompt_number": 8
    },
    {
     "cell_type": "code",
     "collapsed": false,
     "input": [
      "fo = open('expense_parsing_wordlist.yaml','w+')\n",
      "fo.write(\"\"\"\n",
      "... name: Vorlin Laruknuzum\n",
      "... sex: Male\n",
      "... class: Priest\n",
      "... title: Acolyte\n",
      "... hp: [32, 71]\n",
      "... sp: [1, 13]\n",
      "... gold: 423\n",
      "... inventory:\n",
      "... - a Holy Book of Prayers (Words of Wisdom)\n",
      "... - an Azure Potion of Cure Light Wounds\n",
      "... - a Silver Wand of Wonder\n",
      "... \"\"\")\n",
      "fo.close()"
     ],
     "language": "python",
     "metadata": {},
     "outputs": [],
     "prompt_number": 16
    },
    {
     "cell_type": "code",
     "collapsed": false,
     "input": [
      "from collections import namedtuple\n",
      "\n",
      "tuple_wlist = namedtuple('WList', ['word_list', 'description', 'category'])"
     ],
     "language": "python",
     "metadata": {},
     "outputs": [],
     "prompt_number": 28
    },
    {
     "cell_type": "code",
     "collapsed": false,
     "input": [
      "fo = open('expense_parsing_wordlist.yaml')\n",
      "fo_str = fo.read()\n",
      "#print fo_str\n",
      "fo.close()\n",
      "print yaml.load(fo_str)\n",
      "wlist = yaml.load(fo_str)\n",
      "wlist = wlist['DBS']\n",
      "#wlist = wlist['OCBC']\n",
      "wlist_tuple = []\n",
      "for mat in wlist:\n",
      "    print '-----------------'\n",
      "    mat_tupled = tuple_wlist(**mat)\n",
      "    wlist_tuple.append(mat_tupled)\n",
      "    print mat_tupled.word_list\n",
      "    print mat_tupled.description\n",
      "    print mat_tupled.category\n",
      "wlist_tuple"
     ],
     "language": "python",
     "metadata": {},
     "outputs": [
      {
       "output_type": "stream",
       "stream": "stdout",
       "text": [
        "{'DBS': [{'category': ['makan_atm'], 'word_list': ['AWL 70252266'], 'description': ['Ambil atm, selalu dianggap makan (cash) dulu']}, {'category': ['other'], 'word_list': ['CATHAYCINEP'], 'description': ['Nonton di cathay']}, {'category': ['income'], 'word_list': ['INT'], 'description': ['Interest Bank']}, {'category': ['comm'], 'word_list': ['DPAY AXS'], 'description': ['Axs station transaction, probably singtel/starhub']}, {'category': ['recurr'], 'word_list': ['NETFLIX.COM'], 'description': ['Bayar langganan netflix']}, {'category': ['recurr'], 'word_list': ['WWF-DONATION'], 'description': ['Donate to WWF monthly']}, {'category': ['dining'], 'word_list': ['ETERNAL HA'], 'description': ['Makan di Malioboro Jurong Point']}, {'category': ['recurr'], 'word_list': ['MICROSOFT'], 'description': ['Langganan Microsoft Office']}, {'category': ['groceries'], 'word_list': ['NTUC FAIRP', 'NTUC FP'], 'description': ['Belanja di Fairprice']}, {'category': ['transport'], 'word_list': ['TRANSIT LI'], 'description': ['EZLink']}, {'category': ['other'], 'word_list': ['COURTS'], 'description': ['Belanja apa nih di courts, usually electronics etc.']}], 'OCBC': [{'category': ['makan_atm'], 'word_list': ['CASH WITHDRAWAL'], 'description': ['Ambil atm, anggap makan (cash)']}, {'category': ['recurr'], 'word_list': ['PRUDENTIAL'], 'description': ['Asuransi Prudential SG']}, {'category': ['income'], 'word_list': ['INTEREST CREDIT'], 'description': ['Interest Bank']}, {'category': ['transport', 'taxi'], 'word_list': ['TRANSIT LI', 'SMRT', 'COMFORT TAXIS'], 'description': ['EZLink']}, {'category': ['income'], 'word_list': ['SALARY'], 'description': ['Gaji']}, {'category': ['groceries', 'other'], 'word_list': ['GUARDIAN'], 'description': ['Belanja Guardian']}, {'category': ['rent'], 'word_list': ['Uncle Jeff'], 'description': ['Bayar kos']}, {'category': ['indo'], 'word_list': ['ROBINSON SINGPOST'], 'description': ['Transfer Indo']}]}\n",
        "-----------------"
       ]
      },
      {
       "output_type": "stream",
       "stream": "stdout",
       "text": [
        "\n",
        "['AWL 70252266']\n",
        "['Ambil atm, selalu dianggap makan (cash) dulu']\n",
        "['makan_atm']\n",
        "-----------------\n",
        "['CATHAYCINEP']\n",
        "['Nonton di cathay']\n",
        "['other']\n",
        "-----------------\n",
        "['INT']\n",
        "['Interest Bank']\n",
        "['income']\n",
        "-----------------\n",
        "['DPAY AXS']\n",
        "['Axs station transaction, probably singtel/starhub']\n",
        "['comm']\n",
        "-----------------\n",
        "['NETFLIX.COM']\n",
        "['Bayar langganan netflix']\n",
        "['recurr']\n",
        "-----------------\n",
        "['WWF-DONATION']\n",
        "['Donate to WWF monthly']\n",
        "['recurr']\n",
        "-----------------\n",
        "['ETERNAL HA']\n",
        "['Makan di Malioboro Jurong Point']\n",
        "['dining']\n",
        "-----------------\n",
        "['MICROSOFT']\n",
        "['Langganan Microsoft Office']\n",
        "['recurr']\n",
        "-----------------\n",
        "['NTUC FAIRP', 'NTUC FP']\n",
        "['Belanja di Fairprice']\n",
        "['groceries']\n",
        "-----------------\n",
        "['TRANSIT LI']\n",
        "['EZLink']\n",
        "['transport']\n",
        "-----------------\n",
        "['COURTS']\n",
        "['Belanja apa nih di courts, usually electronics etc.']\n",
        "['other']\n"
       ]
      },
      {
       "metadata": {},
       "output_type": "pyout",
       "prompt_number": 35,
       "text": [
        "[WList(word_list=['AWL 70252266'], description=['Ambil atm, selalu dianggap makan (cash) dulu'], category=['makan_atm']),\n",
        " WList(word_list=['CATHAYCINEP'], description=['Nonton di cathay'], category=['other']),\n",
        " WList(word_list=['INT'], description=['Interest Bank'], category=['income']),\n",
        " WList(word_list=['DPAY AXS'], description=['Axs station transaction, probably singtel/starhub'], category=['comm']),\n",
        " WList(word_list=['NETFLIX.COM'], description=['Bayar langganan netflix'], category=['recurr']),\n",
        " WList(word_list=['WWF-DONATION'], description=['Donate to WWF monthly'], category=['recurr']),\n",
        " WList(word_list=['ETERNAL HA'], description=['Makan di Malioboro Jurong Point'], category=['dining']),\n",
        " WList(word_list=['MICROSOFT'], description=['Langganan Microsoft Office'], category=['recurr']),\n",
        " WList(word_list=['NTUC FAIRP', 'NTUC FP'], description=['Belanja di Fairprice'], category=['groceries']),\n",
        " WList(word_list=['TRANSIT LI'], description=['EZLink'], category=['transport']),\n",
        " WList(word_list=['COURTS'], description=['Belanja apa nih di courts, usually electronics etc.'], category=['other'])]"
       ]
      }
     ],
     "prompt_number": 35
    },
    {
     "cell_type": "code",
     "collapsed": false,
     "input": [],
     "language": "python",
     "metadata": {},
     "outputs": []
    }
   ],
   "metadata": {}
  }
 ]
}