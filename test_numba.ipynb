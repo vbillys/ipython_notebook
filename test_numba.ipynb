{
 "cells": [
  {
   "cell_type": "code",
   "execution_count": 8,
   "metadata": {
    "collapsed": false
   },
   "outputs": [],
   "source": [
    "from __future__ import print_function, division\n",
    "import numpy as np\n",
    "\n",
    "def nufftfreqs(M, df=1):\n",
    "    \"\"\"Compute the frequency range used in nufft for M frequency bins\"\"\"\n",
    "    return df * np.arange(-(M // 2), M - (M // 2))\n",
    "\n",
    "\n",
    "def nudft(x, y, M, df=1.0, iflag=1):\n",
    "    \"\"\"Non-Uniform Direct Fourier Transform\"\"\"\n",
    "    sign = -1 if iflag < 0 else 1\n",
    "    return (1 / len(x)) * np.dot(y, np.exp(sign * 1j * nufftfreqs(M, df) * x[:, np.newaxis]))"
   ]
  },
  {
   "cell_type": "markdown",
   "metadata": {},
   "source": [
    "# SEMAK\n",
    "\n",
    "Comeback to robotics"
   ]
  },
  {
   "cell_type": "code",
   "execution_count": 10,
   "metadata": {
    "collapsed": false
   },
   "outputs": [],
   "source": [
    "x = 100 * np.random.random(1000)\n",
    "y = np.sin(x)\n",
    "\n",
    "Y1 = nudft(x, y, 1000)"
   ]
  },
  {
   "cell_type": "code",
   "execution_count": 11,
   "metadata": {
    "collapsed": false
   },
   "outputs": [
    {
     "name": "stdout",
     "output_type": "stream",
     "text": [
      "1 loops, best of 3: 200 ms per loop\n"
     ]
    }
   ],
   "source": [
    "%timeit nudft(x, y, 1000)"
   ]
  },
  {
   "cell_type": "code",
   "execution_count": 13,
   "metadata": {
    "collapsed": false
   },
   "outputs": [],
   "source": [
    "def _compute_grid_params(M, eps):\n",
    "    # Choose Msp & tau from eps following Dutt & Rokhlin (1993)\n",
    "    if eps <= 1E-33 or eps >= 1E-1:\n",
    "        raise ValueError(\"eps = {0:.0e}; must satisfy \"\n",
    "                         \"1e-33 < eps < 1e-1.\".format(eps))\n",
    "    ratio = 2 if eps > 1E-11 else 3\n",
    "    Msp = int(-np.log(eps) / (np.pi * (ratio - 1) / (ratio - 0.5)) + 0.5)\n",
    "    Mr = max(ratio * M, 2 * Msp)\n",
    "    lambda_ = Msp / (ratio * (ratio - 0.5))\n",
    "    tau = np.pi * lambda_ / M ** 2\n",
    "    return Msp, Mr, tau\n",
    "\n",
    "\n",
    "def nufft_python(x, c, M, df=1.0, eps=1E-15, iflag=1):\n",
    "    \"\"\"Fast Non-Uniform Fourier Transform with Python\"\"\"\n",
    "    Msp, Mr, tau = _compute_grid_params(M, eps)\n",
    "    N = len(x)\n",
    "\n",
    "    # Construct the convolved grid\n",
    "    ftau = np.zeros(Mr, dtype=c.dtype)\n",
    "    Mr = ftau.shape[0]\n",
    "    hx = 2 * np.pi / Mr\n",
    "    mm = np.arange(-Msp, Msp)\n",
    "    for i in range(N):\n",
    "        xi = (x[i] * df) % (2 * np.pi)\n",
    "        m = 1 + int(xi // hx)\n",
    "        spread = np.exp(-0.25 * (xi - hx * (m + mm)) ** 2 / tau)\n",
    "        ftau[(m + mm) % Mr] += c[i] * spread\n",
    "\n",
    "    # Compute the FFT on the convolved grid\n",
    "    if iflag < 0:\n",
    "        Ftau = (1 / Mr) * np.fft.fft(ftau)\n",
    "    else:\n",
    "        Ftau = np.fft.ifft(ftau)\n",
    "    Ftau = np.concatenate([Ftau[-(M//2):], Ftau[:M//2 + M % 2]])\n",
    "\n",
    "    # Deconvolve the grid using convolution theorem\n",
    "    k = nufftfreqs(M)\n",
    "    return (1 / N) * np.sqrt(np.pi / tau) * np.exp(tau * k ** 2) * Ftau"
   ]
  },
  {
   "cell_type": "code",
   "execution_count": 14,
   "metadata": {
    "collapsed": false
   },
   "outputs": [],
   "source": [
    "from time import time\n",
    "\n",
    "def test_nufft(nufft_func, M=1000, Mtime=100000):\n",
    "    # Test vs the direct method\n",
    "    print(30 * '-')\n",
    "    name = {'nufft1':'nufft_fortran'}.get(nufft_func.__name__,\n",
    "                                          nufft_func.__name__)\n",
    "    print(\"testing {0}\".format(name))\n",
    "    rng = np.random.RandomState(0)\n",
    "    x = 100 * rng.rand(M + 1)\n",
    "    y = np.sin(x)\n",
    "    for df in [1, 2.0]:\n",
    "        for iflag in [1, -1]:\n",
    "            F1 = nudft(x, y, M, df=df, iflag=iflag)\n",
    "            F2 = nufft_func(x, y, M, df=df, iflag=iflag)\n",
    "            assert np.allclose(F1, F2)\n",
    "    print(\"- Results match the DFT\")\n",
    "    \n",
    "    # Time the nufft function\n",
    "    x = 100 * rng.rand(Mtime)\n",
    "    y = np.sin(x)\n",
    "    times = []\n",
    "    for i in range(5):\n",
    "        t0 = time()\n",
    "        F = nufft_func(x, y, Mtime)\n",
    "        t1 = time()\n",
    "        times.append(t1 - t0)\n",
    "    print(\"- Execution time (M={0}): {1:.2g} sec\".format(Mtime, np.median(times)))"
   ]
  },
  {
   "cell_type": "code",
   "execution_count": 15,
   "metadata": {
    "collapsed": false
   },
   "outputs": [
    {
     "name": "stdout",
     "output_type": "stream",
     "text": [
      "------------------------------\n",
      "testing nufft_python\n",
      "- Results match the DFT\n",
      "- Execution time (M=100000): 5.2 sec\n"
     ]
    }
   ],
   "source": [
    "test_nufft(nufft_python)"
   ]
  },
  {
   "cell_type": "code",
   "execution_count": 8,
   "metadata": {
    "collapsed": false
   },
   "outputs": [],
   "source": [
    "%load_ext line_profiler"
   ]
  },
  {
   "cell_type": "code",
   "execution_count": 9,
   "metadata": {
    "collapsed": false
   },
   "outputs": [
    {
     "name": "stdout",
     "output_type": "stream",
     "text": [
      "\n",
      "*** Profile printout saved to text file u'lp_results.txt'. \n"
     ]
    },
    {
     "name": "stderr",
     "output_type": "stream",
     "text": [
      "ERROR: Line magic function `%cat` not found.\n"
     ]
    }
   ],
   "source": [
    "%lprun -s -f nufft_python -T lp_results.txt nufft_python(x, y, 1000)\n",
    "%cat lp_results.txt"
   ]
  },
  {
   "cell_type": "code",
   "execution_count": 16,
   "metadata": {
    "collapsed": false
   },
   "outputs": [],
   "source": [
    "def nufft_numpy(x, y, M, df=1.0, iflag=1, eps=1E-15):\n",
    "    \"\"\"Fast Non-Uniform Fourier Transform\"\"\"\n",
    "    Msp, Mr, tau = _compute_grid_params(M, eps)\n",
    "    N = len(x)\n",
    "\n",
    "    # Construct the convolved grid ftau:\n",
    "    # this replaces the loop used above\n",
    "    ftau = np.zeros(Mr, dtype=y.dtype)\n",
    "    hx = 2 * np.pi / Mr\n",
    "    xmod = (x * df) % (2 * np.pi)\n",
    "    m = 1 + (xmod // hx).astype(int)\n",
    "    mm = np.arange(-Msp, Msp)\n",
    "    mpmm = m + mm[:, np.newaxis]\n",
    "    spread = y * np.exp(-0.25 * (xmod - hx * mpmm) ** 2 / tau)\n",
    "    np.add.at(ftau, mpmm % Mr, spread)\n",
    "\n",
    "    # Compute the FFT on the convolved grid\n",
    "    if iflag < 0:\n",
    "        Ftau = (1 / Mr) * np.fft.fft(ftau)\n",
    "    else:\n",
    "        Ftau = np.fft.ifft(ftau)\n",
    "    Ftau = np.concatenate([Ftau[-(M//2):], Ftau[:M//2 + M % 2]])\n",
    "\n",
    "    # Deconvolve the grid using convolution theorem\n",
    "    k = nufftfreqs(M)\n",
    "    return (1 / N) * np.sqrt(np.pi / tau) * np.exp(tau * k ** 2) * Ftau"
   ]
  },
  {
   "cell_type": "code",
   "execution_count": 17,
   "metadata": {
    "collapsed": false
   },
   "outputs": [
    {
     "name": "stdout",
     "output_type": "stream",
     "text": [
      "------------------------------\n",
      "testing nufft_numpy\n",
      "- Results match the DFT\n",
      "- Execution time (M=100000): 1.7 sec\n",
      "------------------------------\n",
      "testing nufft_python\n",
      "- Results match the DFT\n",
      "- Execution time (M=100000): 5.2 sec\n"
     ]
    }
   ],
   "source": [
    "test_nufft(nufft_numpy)\n",
    "test_nufft(nufft_python)"
   ]
  },
  {
   "cell_type": "code",
   "execution_count": 18,
   "metadata": {
    "collapsed": false
   },
   "outputs": [],
   "source": [
    "import numba\n",
    "\n",
    "\n",
    "# nopython=True means an error will be raised\n",
    "# if fast compilation is not possible.\n",
    "@numba.jit(nopython=True)\n",
    "def build_grid(x, c, tau, Msp, ftau):\n",
    "    Mr = ftau.shape[0]\n",
    "    hx = 2 * np.pi / Mr\n",
    "    for i in range(x.shape[0]):\n",
    "        xi = x[i] % (2 * np.pi)\n",
    "        m = 1 + int(xi // hx)\n",
    "        for mm in range(-Msp, Msp):\n",
    "            ftau[(m + mm) % Mr] += c[i] * np.exp(-0.25 * (xi - hx * (m + mm)) ** 2 / tau)\n",
    "    return ftau\n",
    "\n",
    "\n",
    "def nufft_numba(x, c, M, df=1.0, eps=1E-15, iflag=1):\n",
    "    \"\"\"Fast Non-Uniform Fourier Transform with Numba\"\"\"\n",
    "    Msp, Mr, tau = _compute_grid_params(M, eps)\n",
    "    N = len(x)\n",
    "\n",
    "    # Construct the convolved grid\n",
    "    ftau = build_grid(x * df, c, tau, Msp,\n",
    "                      np.zeros(Mr, dtype=c.dtype))\n",
    "\n",
    "    # Compute the FFT on the convolved grid\n",
    "    if iflag < 0:\n",
    "        Ftau = (1 / Mr) * np.fft.fft(ftau)\n",
    "    else:\n",
    "        Ftau = np.fft.ifft(ftau)\n",
    "    Ftau = np.concatenate([Ftau[-(M//2):], Ftau[:M//2 + M % 2]])\n",
    "\n",
    "    # Deconvolve the grid using convolution theorem\n",
    "    k = nufftfreqs(M)\n",
    "    return (1 / N) * np.sqrt(np.pi / tau) * np.exp(tau * k ** 2) * Ftau"
   ]
  },
  {
   "cell_type": "code",
   "execution_count": 19,
   "metadata": {
    "collapsed": false
   },
   "outputs": [
    {
     "name": "stdout",
     "output_type": "stream",
     "text": [
      "------------------------------\n",
      "testing nufft_numba\n",
      "- Results match the DFT\n",
      "- Execution time (M=100000): 0.35 sec\n",
      "------------------------------\n",
      "testing nufft_numpy\n",
      "- Results match the DFT\n",
      "- Execution time (M=100000): 1.7 sec\n"
     ]
    }
   ],
   "source": [
    "test_nufft(nufft_numba)\n",
    "test_nufft(nufft_numpy)"
   ]
  },
  {
   "cell_type": "code",
   "execution_count": 20,
   "metadata": {
    "collapsed": true
   },
   "outputs": [],
   "source": [
    "import numba\n",
    "\n",
    "@numba.jit(nopython=True)\n",
    "def build_grid_fast(x, c, tau, Msp, ftau, E3):\n",
    "    Mr = ftau.shape[0]\n",
    "    hx = 2 * np.pi / Mr\n",
    "    \n",
    "    # precompute some exponents\n",
    "    for j in range(Msp + 1):\n",
    "        E3[j] = np.exp(-(np.pi * j / Mr) ** 2 / tau)\n",
    "        \n",
    "    # spread values onto ftau\n",
    "    for i in range(x.shape[0]):\n",
    "        xi = x[i] % (2 * np.pi)\n",
    "        m = 1 + int(xi // hx)\n",
    "        xi = (xi - hx * m)\n",
    "        E1 = np.exp(-0.25 * xi ** 2 / tau)\n",
    "        E2 = np.exp((xi * np.pi) / (Mr * tau))\n",
    "        E2mm = 1\n",
    "        for mm in range(Msp):\n",
    "            ftau[(m + mm) % Mr] += c[i] * E1 * E2mm * E3[mm]\n",
    "            E2mm *= E2\n",
    "            ftau[(m - mm - 1) % Mr] += c[i] * E1 / E2mm * E3[mm + 1]\n",
    "    return ftau\n",
    "\n",
    "\n",
    "def nufft_numba_fast(x, c, M, df=1.0, eps=1E-15, iflag=1):\n",
    "    \"\"\"Fast Non-Uniform Fourier Transform with Numba\"\"\"\n",
    "    Msp, Mr, tau = _compute_grid_params(M, eps)\n",
    "    N = len(x)\n",
    "\n",
    "    # Construct the convolved grid\n",
    "    ftau = build_grid_fast(x * df, c, tau, Msp,\n",
    "                           np.zeros(Mr, dtype=c.dtype),\n",
    "                           np.zeros(Msp + 1, dtype=x.dtype))\n",
    "\n",
    "    # Compute the FFT on the convolved grid\n",
    "    if iflag < 0:\n",
    "        Ftau = (1 / Mr) * np.fft.fft(ftau)\n",
    "    else:\n",
    "        Ftau = np.fft.ifft(ftau)\n",
    "    Ftau = np.concatenate([Ftau[-(M//2):], Ftau[:M//2 + M % 2]])\n",
    "\n",
    "    # Deconvolve the grid using convolution theorem\n",
    "    k = nufftfreqs(M)\n",
    "    return (1 / N) * np.sqrt(np.pi / tau) * np.exp(tau * k ** 2) * Ftau"
   ]
  },
  {
   "cell_type": "code",
   "execution_count": 21,
   "metadata": {
    "collapsed": false
   },
   "outputs": [
    {
     "name": "stdout",
     "output_type": "stream",
     "text": [
      "------------------------------\n",
      "testing nufft_numba_fast\n",
      "- Results match the DFT\n",
      "- Execution time (M=100000): 0.19 sec\n",
      "------------------------------\n",
      "testing nufft_numba\n",
      "- Results match the DFT\n",
      "- Execution time (M=100000): 0.34 sec\n"
     ]
    }
   ],
   "source": [
    "test_nufft(nufft_numba_fast)\n",
    "test_nufft(nufft_numba)"
   ]
  },
  {
   "cell_type": "code",
   "execution_count": null,
   "metadata": {
    "collapsed": true
   },
   "outputs": [],
   "source": []
  }
 ],
 "metadata": {
  "kernelspec": {
   "display_name": "Python 2",
   "language": "python",
   "name": "python2"
  },
  "language_info": {
   "codemirror_mode": {
    "name": "ipython",
    "version": 2
   },
   "file_extension": ".py",
   "mimetype": "text/x-python",
   "name": "python",
   "nbconvert_exporter": "python",
   "pygments_lexer": "ipython2",
   "version": "2.7.10"
  }
 },
 "nbformat": 4,
 "nbformat_minor": 0
}
